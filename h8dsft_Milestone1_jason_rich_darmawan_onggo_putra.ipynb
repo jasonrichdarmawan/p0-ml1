{
 "cells": [
  {
   "cell_type": "markdown",
   "metadata": {},
   "source": [
    "URL dashboard: #TODO"
   ]
  },
  {
   "cell_type": "markdown",
   "metadata": {},
   "source": [
    "# Perkenalan\n",
    "\n",
    "Nama : Jason Rich Darmawan Onggo Putra\n",
    "\n",
    "Batch : 016 RMT"
   ]
  },
  {
   "cell_type": "markdown",
   "metadata": {},
   "source": [
    "# Identifikasi Masalah"
   ]
  },
  {
   "cell_type": "markdown",
   "metadata": {},
   "source": [
    "## Topik Permasalahan"
   ]
  },
  {
   "cell_type": "markdown",
   "metadata": {},
   "source": [
    "## Problem Statement"
   ]
  },
  {
   "cell_type": "markdown",
   "metadata": {},
   "source": [
    "## Latar Belakang"
   ]
  },
  {
   "cell_type": "markdown",
   "metadata": {},
   "source": [
    "## Penjabaran Masalah"
   ]
  },
  {
   "cell_type": "markdown",
   "metadata": {},
   "source": [
    "# Data Loading\n",
    "\n",
    "## Reference\n",
    "\n",
    "project: bigquery-public-data\n",
    "\n",
    "dataset: iowa_liquor_sales\n",
    "\n",
    "table: sales\n",
    "\n",
    "## Query\n",
    "\n",
    "```\n",
    "SELECT *,\n",
    "FROM (\n",
    "  SELECT *, \n",
    "         EXTRACT(YEAR FROM date) as year,\n",
    "         EXTRACT(MONTH FROM date) as month\n",
    "  FROM `bigquery-public-data.iowa_liquor_sales.sales`\n",
    "  WHERE date BETWEEN \"2018-01-01\" AND \"2022-01-31\"\n",
    ")\n",
    "WHERE year IN (2018, 2022) \n",
    " AND month=1\n",
    "```"
   ]
  },
  {
   "cell_type": "code",
   "execution_count": 1,
   "metadata": {},
   "outputs": [],
   "source": [
    "import pandas as pd"
   ]
  },
  {
   "cell_type": "code",
   "execution_count": 2,
   "metadata": {},
   "outputs": [
    {
     "data": {
      "text/html": [
       "<div>\n",
       "<style scoped>\n",
       "    .dataframe tbody tr th:only-of-type {\n",
       "        vertical-align: middle;\n",
       "    }\n",
       "\n",
       "    .dataframe tbody tr th {\n",
       "        vertical-align: top;\n",
       "    }\n",
       "\n",
       "    .dataframe thead th {\n",
       "        text-align: right;\n",
       "    }\n",
       "</style>\n",
       "<table border=\"1\" class=\"dataframe\">\n",
       "  <thead>\n",
       "    <tr style=\"text-align: right;\">\n",
       "      <th></th>\n",
       "      <th>invoice_and_item_number</th>\n",
       "      <th>date</th>\n",
       "      <th>store_number</th>\n",
       "      <th>store_name</th>\n",
       "      <th>address</th>\n",
       "      <th>city</th>\n",
       "      <th>zip_code</th>\n",
       "      <th>store_location</th>\n",
       "      <th>county_number</th>\n",
       "      <th>county</th>\n",
       "      <th>...</th>\n",
       "      <th>pack</th>\n",
       "      <th>bottle_volume_ml</th>\n",
       "      <th>state_bottle_cost</th>\n",
       "      <th>state_bottle_retail</th>\n",
       "      <th>bottles_sold</th>\n",
       "      <th>sale_dollars</th>\n",
       "      <th>volume_sold_liters</th>\n",
       "      <th>volume_sold_gallons</th>\n",
       "      <th>year</th>\n",
       "      <th>month</th>\n",
       "    </tr>\n",
       "  </thead>\n",
       "  <tbody>\n",
       "    <tr>\n",
       "      <th>0</th>\n",
       "      <td>INV-10095200050</td>\n",
       "      <td>2018-01-30</td>\n",
       "      <td>4167</td>\n",
       "      <td>Iowa Street Market, Inc.</td>\n",
       "      <td>1256 Iowa St</td>\n",
       "      <td>Dubuque</td>\n",
       "      <td>52001.0</td>\n",
       "      <td>POINT (-90.668138 42.504959)</td>\n",
       "      <td>31.0</td>\n",
       "      <td>DUBUQUE</td>\n",
       "      <td>...</td>\n",
       "      <td>12</td>\n",
       "      <td>1000</td>\n",
       "      <td>4.66</td>\n",
       "      <td>6.99</td>\n",
       "      <td>60</td>\n",
       "      <td>419.40</td>\n",
       "      <td>60.00</td>\n",
       "      <td>15.85</td>\n",
       "      <td>2018</td>\n",
       "      <td>1</td>\n",
       "    </tr>\n",
       "    <tr>\n",
       "      <th>1</th>\n",
       "      <td>INV-09780600017</td>\n",
       "      <td>2018-01-15</td>\n",
       "      <td>4669</td>\n",
       "      <td>Vom Fass / Des Moines</td>\n",
       "      <td>833, 42nd St</td>\n",
       "      <td>Des Moines</td>\n",
       "      <td>50312.0</td>\n",
       "      <td>POINT (-93.674384 41.59343100000001)</td>\n",
       "      <td>77.0</td>\n",
       "      <td>POLK</td>\n",
       "      <td>...</td>\n",
       "      <td>6</td>\n",
       "      <td>200</td>\n",
       "      <td>7.98</td>\n",
       "      <td>11.97</td>\n",
       "      <td>6</td>\n",
       "      <td>71.82</td>\n",
       "      <td>1.20</td>\n",
       "      <td>0.32</td>\n",
       "      <td>2018</td>\n",
       "      <td>1</td>\n",
       "    </tr>\n",
       "    <tr>\n",
       "      <th>2</th>\n",
       "      <td>INV-43674300036</td>\n",
       "      <td>2022-01-11</td>\n",
       "      <td>4843</td>\n",
       "      <td>Stewart Road Fast Break</td>\n",
       "      <td>2418 Stewart Rd</td>\n",
       "      <td>Muscatine</td>\n",
       "      <td>52761.0</td>\n",
       "      <td>POINT (-91.072733 41.390826)</td>\n",
       "      <td>70.0</td>\n",
       "      <td>MUSCATINE</td>\n",
       "      <td>...</td>\n",
       "      <td>8</td>\n",
       "      <td>50</td>\n",
       "      <td>8.75</td>\n",
       "      <td>13.13</td>\n",
       "      <td>3</td>\n",
       "      <td>39.39</td>\n",
       "      <td>0.15</td>\n",
       "      <td>0.03</td>\n",
       "      <td>2022</td>\n",
       "      <td>1</td>\n",
       "    </tr>\n",
       "    <tr>\n",
       "      <th>3</th>\n",
       "      <td>INV-43538900011</td>\n",
       "      <td>2022-01-05</td>\n",
       "      <td>5750</td>\n",
       "      <td>Casey's General Store #2920 / Ankeny</td>\n",
       "      <td>1010 SE National Dr</td>\n",
       "      <td>Ankeny</td>\n",
       "      <td>50021.0</td>\n",
       "      <td>POINT (-93.582179 41.70486400000001)</td>\n",
       "      <td>77.0</td>\n",
       "      <td>POLK</td>\n",
       "      <td>...</td>\n",
       "      <td>8</td>\n",
       "      <td>50</td>\n",
       "      <td>8.75</td>\n",
       "      <td>13.13</td>\n",
       "      <td>4</td>\n",
       "      <td>52.52</td>\n",
       "      <td>0.20</td>\n",
       "      <td>0.05</td>\n",
       "      <td>2022</td>\n",
       "      <td>1</td>\n",
       "    </tr>\n",
       "    <tr>\n",
       "      <th>4</th>\n",
       "      <td>INV-43515200004</td>\n",
       "      <td>2022-01-04</td>\n",
       "      <td>9047</td>\n",
       "      <td>Revelton Distilling Company</td>\n",
       "      <td>1400 W Clay St</td>\n",
       "      <td>Osceola</td>\n",
       "      <td>50213.0</td>\n",
       "      <td>POINT (-93.787233 41.041472)</td>\n",
       "      <td>20.0</td>\n",
       "      <td>CLARKE</td>\n",
       "      <td>...</td>\n",
       "      <td>6</td>\n",
       "      <td>50</td>\n",
       "      <td>14.40</td>\n",
       "      <td>21.60</td>\n",
       "      <td>6</td>\n",
       "      <td>129.60</td>\n",
       "      <td>0.30</td>\n",
       "      <td>0.07</td>\n",
       "      <td>2022</td>\n",
       "      <td>1</td>\n",
       "    </tr>\n",
       "  </tbody>\n",
       "</table>\n",
       "<p>5 rows × 26 columns</p>\n",
       "</div>"
      ],
      "text/plain": [
       "  invoice_and_item_number        date  store_number  \\\n",
       "0         INV-10095200050  2018-01-30          4167   \n",
       "1         INV-09780600017  2018-01-15          4669   \n",
       "2         INV-43674300036  2022-01-11          4843   \n",
       "3         INV-43538900011  2022-01-05          5750   \n",
       "4         INV-43515200004  2022-01-04          9047   \n",
       "\n",
       "                             store_name              address        city  \\\n",
       "0              Iowa Street Market, Inc.         1256 Iowa St     Dubuque   \n",
       "1                 Vom Fass / Des Moines         833, 42nd St  Des Moines   \n",
       "2               Stewart Road Fast Break      2418 Stewart Rd   Muscatine   \n",
       "3  Casey's General Store #2920 / Ankeny  1010 SE National Dr      Ankeny   \n",
       "4           Revelton Distilling Company       1400 W Clay St     Osceola   \n",
       "\n",
       "   zip_code                        store_location  county_number     county  \\\n",
       "0   52001.0          POINT (-90.668138 42.504959)           31.0    DUBUQUE   \n",
       "1   50312.0  POINT (-93.674384 41.59343100000001)           77.0       POLK   \n",
       "2   52761.0          POINT (-91.072733 41.390826)           70.0  MUSCATINE   \n",
       "3   50021.0  POINT (-93.582179 41.70486400000001)           77.0       POLK   \n",
       "4   50213.0          POINT (-93.787233 41.041472)           20.0     CLARKE   \n",
       "\n",
       "   ...  pack bottle_volume_ml  state_bottle_cost state_bottle_retail  \\\n",
       "0  ...    12             1000               4.66                6.99   \n",
       "1  ...     6              200               7.98               11.97   \n",
       "2  ...     8               50               8.75               13.13   \n",
       "3  ...     8               50               8.75               13.13   \n",
       "4  ...     6               50              14.40               21.60   \n",
       "\n",
       "   bottles_sold sale_dollars  volume_sold_liters  volume_sold_gallons  year  \\\n",
       "0            60       419.40               60.00                15.85  2018   \n",
       "1             6        71.82                1.20                 0.32  2018   \n",
       "2             3        39.39                0.15                 0.03  2022   \n",
       "3             4        52.52                0.20                 0.05  2022   \n",
       "4             6       129.60                0.30                 0.07  2022   \n",
       "\n",
       "   month  \n",
       "0      1  \n",
       "1      1  \n",
       "2      1  \n",
       "3      1  \n",
       "4      1  \n",
       "\n",
       "[5 rows x 26 columns]"
      ]
     },
     "execution_count": 2,
     "metadata": {},
     "output_type": "execute_result"
    }
   ],
   "source": [
    "df = pd.read_csv(\"./bigquery-public-data_iowa_liquor_sales_year_2018_and_year_2022_montth_1.csv\")\n",
    "df.head()"
   ]
  },
  {
   "cell_type": "markdown",
   "metadata": {},
   "source": [
    "# Data Cleaning"
   ]
  },
  {
   "cell_type": "markdown",
   "metadata": {},
   "source": [
    "# Analisis dan Perhitungan"
   ]
  },
  {
   "cell_type": "markdown",
   "metadata": {},
   "source": [
    "## Statistik Deskriptif"
   ]
  },
  {
   "cell_type": "markdown",
   "metadata": {},
   "source": [
    "## Statistik Inferensial"
   ]
  },
  {
   "cell_type": "markdown",
   "metadata": {},
   "source": [
    "# Pengambilan Keputusan"
   ]
  }
 ],
 "metadata": {
  "kernelspec": {
   "display_name": "Python 3.10.8 64-bit",
   "language": "python",
   "name": "python3"
  },
  "language_info": {
   "codemirror_mode": {
    "name": "ipython",
    "version": 3
   },
   "file_extension": ".py",
   "mimetype": "text/x-python",
   "name": "python",
   "nbconvert_exporter": "python",
   "pygments_lexer": "ipython3",
   "version": "3.10.8"
  },
  "orig_nbformat": 4,
  "vscode": {
   "interpreter": {
    "hash": "aee8b7b246df8f9039afb4144a1f6fd8d2ca17a180786b69acc140d282b71a49"
   }
  }
 },
 "nbformat": 4,
 "nbformat_minor": 2
}
