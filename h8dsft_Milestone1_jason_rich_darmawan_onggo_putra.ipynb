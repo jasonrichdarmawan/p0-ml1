{
 "cells": [
  {
   "cell_type": "markdown",
   "metadata": {},
   "source": [
    "[URL dashboard](https://public.tableau.com/app/profile/jason.rich.darmawan/viz/h8dsft_Milestone1_jason_rich_darmawan_onggo_putra/StorytellingTime?publish=yes)"
   ]
  },
  {
   "cell_type": "markdown",
   "metadata": {},
   "source": [
    "# Perkenalan\n",
    "\n",
    "Nama : Jason Rich Darmawan Onggo Putra\n",
    "\n",
    "Batch : 016 RMT"
   ]
  },
  {
   "cell_type": "markdown",
   "metadata": {},
   "source": [
    "# Identifikasi Masalah"
   ]
  },
  {
   "cell_type": "markdown",
   "metadata": {},
   "source": [
    "## Topik Permasalahan\n",
    "\n",
    "Perbandingan Pembelian Alkohol di Iowa, Amerika Serikat sebelum Pandemi Covid-19 dan puncak (kasus baru per hari) Pandemi Covid-19\n",
    "\n",
    "Data sebelum Pandemi Covid-19 yang digunakan adalah bulan Janauri 2018.\n",
    "\n",
    "Data Puncak Pandemi Covid-19 yang digunakan adalah bulan Januari 2021."
   ]
  },
  {
   "cell_type": "markdown",
   "metadata": {},
   "source": [
    "## Problem Statement\n",
    "\n",
    "Mengetahui Kota, Ukuran Botol, Kategori Minuman Beralkohol yang harus distok dan potensi nilai pasar yang dilayani ketika terjadi krisis."
   ]
  },
  {
   "cell_type": "markdown",
   "metadata": {},
   "source": [
    "## Latar Belakang\n",
    "\n",
    "Sebagai Data Analyst yang mungkin akan bekerja di e-commerce atau franchisor convenience store, saya perlu intuisi untuk \"apa yang harus dilakukan ketika terjadi krisis seperti Pandemi Covid-19\", \"berapa nilai GMV minuman beralkohol jika membuka toko di kota Top 1, dengan ukuran botol Top 1-5, dan kategori minuman beralkohol Top 1-5\""
   ]
  },
  {
   "cell_type": "markdown",
   "metadata": {},
   "source": [
    "## Penjabaran Masalah"
   ]
  },
  {
   "cell_type": "markdown",
   "metadata": {},
   "source": [
    "### Visualisasi\n",
    "\n",
    "Tujuan: mencari kota terbaik untuk menjual minuman beralkohol\n",
    "\n",
    "- [x] Di kota (column `city`) mana penjualan tertinggi (dalam volume / column `volume_sold_liters`) minuman beralkohol di Iowa, Amerika Serikat pada bulan Januari 2018 dan 2022?\n",
    "- [x] Di kota (column `city`) mana penjualan tertinggi (dalam total harga / column `sale_dollars`) di Iowa, Amerika Serikat pada bulan Januari 2018 dan 2022?\n",
    "\n",
    "Tujuan: menentukan ukuran botol dan kategori minuman beralkohol yang harus distok\n",
    "\n",
    "- [x] Apa ukuran botol (column `bottle_volume_ml`) minuman beralkohol yang paling banyak terjual (column `bottles_sold`) di Iowa, Amerika Serikat pada bulan Januari 2018 dan 2022?\n",
    "- [x] Apa kategori (column `category_name`) minuman beralkohol yang paling banyak terjual (column `bottles_sold`) di Iowa, Amerika Serikat pada bulan Januari 2018 dan 2022?"
   ]
  },
  {
   "cell_type": "markdown",
   "metadata": {},
   "source": [
    "### Statistik Deskriptif\n",
    "\n",
    "Tujuan: membuat promo **Min. Jumlah Volume** dan **Min. Belanja**\n",
    "\n",
    "- [x] Berapa rata-rata penjualan minuman beralkohol (dalam volume / column `volume_sold_liters`) di Iowa, Amerika Serikat pada bulan Januari 2018 dan 2022?\n",
    "- [x] Berapa rata-rata penjualan minuman beralkohol (dalam total harga / column `sale_dollars`) di Iowa, Amerika Serikat pada bulan Januari 2018 dan 2022?\n",
    "\n",
    "Tujuan: mengetahui nilai GMV minuman beralkohol di Iowa, Amerika Serikat\n",
    "\n",
    "- [x] Berapa GMV minuman beralkohol di Iowa, Amerika Serikat pada bulan Januari 2018 dan 2022?"
   ]
  },
  {
   "cell_type": "markdown",
   "metadata": {},
   "source": [
    "### Hypothesis Testing 1\n",
    "\n",
    "- [x] Apa rata-rata penjualan minuman beralkohol (dalam volume / column `volume_sold_liters`) di Iowa, Amerika Serikat pada bulan Januari 2018 dan 2022 sama/berbeda (lebih kecil/lebih besar)?\n",
    "- [x] Apa rata-rata penjualan minuman beralkohol (dalam total harga / column `sale_dollars`) di Iowa, Amerika Serikat pada bulan Januari 2018 dan 2022 sama/berbeda?"
   ]
  },
  {
   "cell_type": "markdown",
   "metadata": {},
   "source": [
    "### Hypothesis Testing 2\n",
    "\n",
    "- [x] Apa rata-rata harga minuman beralkohol (column `state_bottle_retail`) di Iowa, Amerika Serikat pada bulan Januari 2018 dan 2022 sama/berbeda?"
   ]
  },
  {
   "cell_type": "markdown",
   "metadata": {},
   "source": [
    "# Data Loading\n",
    "\n",
    "## Import Library"
   ]
  },
  {
   "cell_type": "code",
   "execution_count": 34,
   "metadata": {},
   "outputs": [
    {
     "data": {
      "text/html": [
       "        <script type=\"text/javascript\">\n",
       "        window.PlotlyConfig = {MathJaxConfig: 'local'};\n",
       "        if (window.MathJax && window.MathJax.Hub && window.MathJax.Hub.Config) {window.MathJax.Hub.Config({SVG: {font: \"STIX-Web\"}});}\n",
       "        if (typeof require !== 'undefined') {\n",
       "        require.undef(\"plotly\");\n",
       "        requirejs.config({\n",
       "            paths: {\n",
       "                'plotly': ['https://cdn.plot.ly/plotly-2.14.0.min']\n",
       "            }\n",
       "        });\n",
       "        require(['plotly'], function(Plotly) {\n",
       "            window._Plotly = Plotly;\n",
       "        });\n",
       "        }\n",
       "        </script>\n",
       "        "
      ]
     },
     "metadata": {},
     "output_type": "display_data"
    }
   ],
   "source": [
    "import pandas as pd\n",
    "import plotly.express as px\n",
    "from plotly.subplots import make_subplots\n",
    "import plotly.graph_objects as go\n",
    "\n",
    "# fix plotly is not showing in github.\n",
    "# if you want to have interactive plotly, use `fig.show(\"notebook_connected\")`\n",
    "# import plotly.io as pio\n",
    "# pio.renderers.default = \"svg\"\n",
    "\n",
    "from plotly.offline import download_plotlyjs, init_notebook_mode,  iplot\n",
    "init_notebook_mode(connected=True)\n",
    "\n",
    "from scipy import stats"
   ]
  },
  {
   "cell_type": "markdown",
   "metadata": {},
   "source": [
    "## Reference\n",
    "\n",
    "project: bigquery-public-data\n",
    "\n",
    "dataset: iowa_liquor_sales\n",
    "\n",
    "table: sales"
   ]
  },
  {
   "cell_type": "markdown",
   "metadata": {},
   "source": [
    "## Query\n",
    "\n",
    "advantage: sub-query agar lebih clean dan lebih mudah ganti tahun dan bulan.\n",
    "\n",
    "disadvantage: result sub-query-nya boros (diload hanya untuk difilter di query berikutnya).\n",
    "\n",
    "```\n",
    "SELECT *,\n",
    "FROM (\n",
    "  SELECT *, \n",
    "         EXTRACT(YEAR FROM date) as year,\n",
    "         EXTRACT(MONTH FROM date) as month\n",
    "  FROM `bigquery-public-data.iowa_liquor_sales.sales`\n",
    "  WHERE date BETWEEN \"2018-01-01\" AND \"2022-01-31\"\n",
    ")\n",
    "WHERE year IN (2018, 2022) \n",
    " AND month=1\n",
    "```"
   ]
  },
  {
   "cell_type": "code",
   "execution_count": 2,
   "metadata": {},
   "outputs": [],
   "source": [
    "df = pd.read_csv(\"./bigquery-public-data_iowa_liquor_sales_year_2018_and_year_2022_month_1.csv\")"
   ]
  },
  {
   "cell_type": "markdown",
   "metadata": {},
   "source": [
    "## DataFrame.head()\n",
    "\n",
    "drop columns\n",
    "- [x] can't be visualized nor answer 'Penjabaran Masalah'\n",
    "  `store_number`, `store_name`, `address`, `store_location`, `vendor_number`, `vendor_name`, `item_number`, `item_description`\n",
    "- too big to derive conclusion from\n",
    "  `county_number`, `county`\n",
    "- duplicated columns\n",
    "  `volume_sold_gallons`\n",
    "\n",
    "DataFrame.sort_values() \n",
    "- [x] by column `date`"
   ]
  },
  {
   "cell_type": "code",
   "execution_count": 3,
   "metadata": {},
   "outputs": [
    {
     "data": {
      "text/html": [
       "<div>\n",
       "<style scoped>\n",
       "    .dataframe tbody tr th:only-of-type {\n",
       "        vertical-align: middle;\n",
       "    }\n",
       "\n",
       "    .dataframe tbody tr th {\n",
       "        vertical-align: top;\n",
       "    }\n",
       "\n",
       "    .dataframe thead th {\n",
       "        text-align: right;\n",
       "    }\n",
       "</style>\n",
       "<table border=\"1\" class=\"dataframe\">\n",
       "  <thead>\n",
       "    <tr style=\"text-align: right;\">\n",
       "      <th></th>\n",
       "      <th>invoice_and_item_number</th>\n",
       "      <th>date</th>\n",
       "      <th>store_number</th>\n",
       "      <th>store_name</th>\n",
       "      <th>address</th>\n",
       "      <th>city</th>\n",
       "      <th>zip_code</th>\n",
       "      <th>store_location</th>\n",
       "      <th>county_number</th>\n",
       "      <th>county</th>\n",
       "      <th>category</th>\n",
       "      <th>category_name</th>\n",
       "      <th>vendor_number</th>\n",
       "      <th>vendor_name</th>\n",
       "      <th>item_number</th>\n",
       "      <th>item_description</th>\n",
       "      <th>pack</th>\n",
       "      <th>bottle_volume_ml</th>\n",
       "      <th>state_bottle_cost</th>\n",
       "      <th>state_bottle_retail</th>\n",
       "      <th>bottles_sold</th>\n",
       "      <th>sale_dollars</th>\n",
       "      <th>volume_sold_liters</th>\n",
       "      <th>volume_sold_gallons</th>\n",
       "      <th>year</th>\n",
       "      <th>month</th>\n",
       "    </tr>\n",
       "  </thead>\n",
       "  <tbody>\n",
       "    <tr>\n",
       "      <th>0</th>\n",
       "      <td>INV-10095200050</td>\n",
       "      <td>2018-01-30</td>\n",
       "      <td>4167</td>\n",
       "      <td>Iowa Street Market, Inc.</td>\n",
       "      <td>1256 Iowa St</td>\n",
       "      <td>Dubuque</td>\n",
       "      <td>52001.0</td>\n",
       "      <td>POINT (-90.668138 42.504959)</td>\n",
       "      <td>31.0</td>\n",
       "      <td>DUBUQUE</td>\n",
       "      <td>1092100.0</td>\n",
       "      <td>Imported Distilled Spirit Specialty</td>\n",
       "      <td>55.0</td>\n",
       "      <td>SAZERAC NORTH AMERICA</td>\n",
       "      <td>76227</td>\n",
       "      <td>Montezuma Blue</td>\n",
       "      <td>12</td>\n",
       "      <td>1000</td>\n",
       "      <td>4.66</td>\n",
       "      <td>6.99</td>\n",
       "      <td>60</td>\n",
       "      <td>419.40</td>\n",
       "      <td>60.00</td>\n",
       "      <td>15.85</td>\n",
       "      <td>2018</td>\n",
       "      <td>1</td>\n",
       "    </tr>\n",
       "    <tr>\n",
       "      <th>1</th>\n",
       "      <td>INV-09780600017</td>\n",
       "      <td>2018-01-15</td>\n",
       "      <td>4669</td>\n",
       "      <td>Vom Fass / Des Moines</td>\n",
       "      <td>833, 42nd St</td>\n",
       "      <td>Des Moines</td>\n",
       "      <td>50312.0</td>\n",
       "      <td>POINT (-93.674384 41.59343100000001)</td>\n",
       "      <td>77.0</td>\n",
       "      <td>POLK</td>\n",
       "      <td>1901200.0</td>\n",
       "      <td>Special Order Items</td>\n",
       "      <td>885.0</td>\n",
       "      <td>YAHARA BAY DISTILLERS INC</td>\n",
       "      <td>905081</td>\n",
       "      <td>Yahara Bay Apple Crisp(Apple Pie)</td>\n",
       "      <td>6</td>\n",
       "      <td>200</td>\n",
       "      <td>7.98</td>\n",
       "      <td>11.97</td>\n",
       "      <td>6</td>\n",
       "      <td>71.82</td>\n",
       "      <td>1.20</td>\n",
       "      <td>0.32</td>\n",
       "      <td>2018</td>\n",
       "      <td>1</td>\n",
       "    </tr>\n",
       "    <tr>\n",
       "      <th>2</th>\n",
       "      <td>INV-43674300036</td>\n",
       "      <td>2022-01-11</td>\n",
       "      <td>4843</td>\n",
       "      <td>Stewart Road Fast Break</td>\n",
       "      <td>2418 Stewart Rd</td>\n",
       "      <td>Muscatine</td>\n",
       "      <td>52761.0</td>\n",
       "      <td>POINT (-91.072733 41.390826)</td>\n",
       "      <td>70.0</td>\n",
       "      <td>MUSCATINE</td>\n",
       "      <td>1091300.0</td>\n",
       "      <td>Neutral Grain Spirits Flavored</td>\n",
       "      <td>346.0</td>\n",
       "      <td>OLE SMOKY DISTILLERY LLC</td>\n",
       "      <td>86739</td>\n",
       "      <td>Ole Smoky Apple Pie Moonshine 70prf Mini</td>\n",
       "      <td>8</td>\n",
       "      <td>50</td>\n",
       "      <td>8.75</td>\n",
       "      <td>13.13</td>\n",
       "      <td>3</td>\n",
       "      <td>39.39</td>\n",
       "      <td>0.15</td>\n",
       "      <td>0.03</td>\n",
       "      <td>2022</td>\n",
       "      <td>1</td>\n",
       "    </tr>\n",
       "    <tr>\n",
       "      <th>3</th>\n",
       "      <td>INV-43538900011</td>\n",
       "      <td>2022-01-05</td>\n",
       "      <td>5750</td>\n",
       "      <td>Casey's General Store #2920 / Ankeny</td>\n",
       "      <td>1010 SE National Dr</td>\n",
       "      <td>Ankeny</td>\n",
       "      <td>50021.0</td>\n",
       "      <td>POINT (-93.582179 41.70486400000001)</td>\n",
       "      <td>77.0</td>\n",
       "      <td>POLK</td>\n",
       "      <td>1091300.0</td>\n",
       "      <td>Neutral Grain Spirits Flavored</td>\n",
       "      <td>346.0</td>\n",
       "      <td>OLE SMOKY DISTILLERY LLC</td>\n",
       "      <td>986845</td>\n",
       "      <td>SOOH Ole Smoky Blackberry Moonshine Mini</td>\n",
       "      <td>8</td>\n",
       "      <td>50</td>\n",
       "      <td>8.75</td>\n",
       "      <td>13.13</td>\n",
       "      <td>4</td>\n",
       "      <td>52.52</td>\n",
       "      <td>0.20</td>\n",
       "      <td>0.05</td>\n",
       "      <td>2022</td>\n",
       "      <td>1</td>\n",
       "    </tr>\n",
       "    <tr>\n",
       "      <th>4</th>\n",
       "      <td>INV-43515200004</td>\n",
       "      <td>2022-01-04</td>\n",
       "      <td>9047</td>\n",
       "      <td>Revelton Distilling Company</td>\n",
       "      <td>1400 W Clay St</td>\n",
       "      <td>Osceola</td>\n",
       "      <td>50213.0</td>\n",
       "      <td>POINT (-93.787233 41.041472)</td>\n",
       "      <td>20.0</td>\n",
       "      <td>CLARKE</td>\n",
       "      <td>1011700.0</td>\n",
       "      <td>Corn Whiskies</td>\n",
       "      <td>654.0</td>\n",
       "      <td>Revelton Distilling Company</td>\n",
       "      <td>26294</td>\n",
       "      <td>Revelton Shine White Whiskey Mini</td>\n",
       "      <td>6</td>\n",
       "      <td>50</td>\n",
       "      <td>14.40</td>\n",
       "      <td>21.60</td>\n",
       "      <td>6</td>\n",
       "      <td>129.60</td>\n",
       "      <td>0.30</td>\n",
       "      <td>0.07</td>\n",
       "      <td>2022</td>\n",
       "      <td>1</td>\n",
       "    </tr>\n",
       "  </tbody>\n",
       "</table>\n",
       "</div>"
      ],
      "text/plain": [
       "  invoice_and_item_number        date  store_number  \\\n",
       "0         INV-10095200050  2018-01-30          4167   \n",
       "1         INV-09780600017  2018-01-15          4669   \n",
       "2         INV-43674300036  2022-01-11          4843   \n",
       "3         INV-43538900011  2022-01-05          5750   \n",
       "4         INV-43515200004  2022-01-04          9047   \n",
       "\n",
       "                             store_name              address        city  \\\n",
       "0              Iowa Street Market, Inc.         1256 Iowa St     Dubuque   \n",
       "1                 Vom Fass / Des Moines         833, 42nd St  Des Moines   \n",
       "2               Stewart Road Fast Break      2418 Stewart Rd   Muscatine   \n",
       "3  Casey's General Store #2920 / Ankeny  1010 SE National Dr      Ankeny   \n",
       "4           Revelton Distilling Company       1400 W Clay St     Osceola   \n",
       "\n",
       "   zip_code                        store_location  county_number     county  \\\n",
       "0   52001.0          POINT (-90.668138 42.504959)           31.0    DUBUQUE   \n",
       "1   50312.0  POINT (-93.674384 41.59343100000001)           77.0       POLK   \n",
       "2   52761.0          POINT (-91.072733 41.390826)           70.0  MUSCATINE   \n",
       "3   50021.0  POINT (-93.582179 41.70486400000001)           77.0       POLK   \n",
       "4   50213.0          POINT (-93.787233 41.041472)           20.0     CLARKE   \n",
       "\n",
       "    category                        category_name  vendor_number  \\\n",
       "0  1092100.0  Imported Distilled Spirit Specialty           55.0   \n",
       "1  1901200.0                  Special Order Items          885.0   \n",
       "2  1091300.0       Neutral Grain Spirits Flavored          346.0   \n",
       "3  1091300.0       Neutral Grain Spirits Flavored          346.0   \n",
       "4  1011700.0                        Corn Whiskies          654.0   \n",
       "\n",
       "                   vendor_name  item_number  \\\n",
       "0        SAZERAC NORTH AMERICA        76227   \n",
       "1    YAHARA BAY DISTILLERS INC       905081   \n",
       "2     OLE SMOKY DISTILLERY LLC        86739   \n",
       "3     OLE SMOKY DISTILLERY LLC       986845   \n",
       "4  Revelton Distilling Company        26294   \n",
       "\n",
       "                           item_description  pack  bottle_volume_ml  \\\n",
       "0                            Montezuma Blue    12              1000   \n",
       "1         Yahara Bay Apple Crisp(Apple Pie)     6               200   \n",
       "2  Ole Smoky Apple Pie Moonshine 70prf Mini     8                50   \n",
       "3  SOOH Ole Smoky Blackberry Moonshine Mini     8                50   \n",
       "4         Revelton Shine White Whiskey Mini     6                50   \n",
       "\n",
       "   state_bottle_cost  state_bottle_retail  bottles_sold  sale_dollars  \\\n",
       "0               4.66                 6.99            60        419.40   \n",
       "1               7.98                11.97             6         71.82   \n",
       "2               8.75                13.13             3         39.39   \n",
       "3               8.75                13.13             4         52.52   \n",
       "4              14.40                21.60             6        129.60   \n",
       "\n",
       "   volume_sold_liters  volume_sold_gallons  year  month  \n",
       "0               60.00                15.85  2018      1  \n",
       "1                1.20                 0.32  2018      1  \n",
       "2                0.15                 0.03  2022      1  \n",
       "3                0.20                 0.05  2022      1  \n",
       "4                0.30                 0.07  2022      1  "
      ]
     },
     "execution_count": 3,
     "metadata": {},
     "output_type": "execute_result"
    }
   ],
   "source": [
    "pd.options.display.max_columns = None\n",
    "df.head()"
   ]
  },
  {
   "cell_type": "code",
   "execution_count": 4,
   "metadata": {},
   "outputs": [
    {
     "data": {
      "text/html": [
       "<div>\n",
       "<style scoped>\n",
       "    .dataframe tbody tr th:only-of-type {\n",
       "        vertical-align: middle;\n",
       "    }\n",
       "\n",
       "    .dataframe tbody tr th {\n",
       "        vertical-align: top;\n",
       "    }\n",
       "\n",
       "    .dataframe thead th {\n",
       "        text-align: right;\n",
       "    }\n",
       "</style>\n",
       "<table border=\"1\" class=\"dataframe\">\n",
       "  <thead>\n",
       "    <tr style=\"text-align: right;\">\n",
       "      <th></th>\n",
       "      <th>invoice_and_item_number</th>\n",
       "      <th>date</th>\n",
       "      <th>store_number</th>\n",
       "      <th>store_name</th>\n",
       "      <th>address</th>\n",
       "      <th>city</th>\n",
       "      <th>zip_code</th>\n",
       "      <th>store_location</th>\n",
       "      <th>county_number</th>\n",
       "      <th>county</th>\n",
       "      <th>category</th>\n",
       "      <th>category_name</th>\n",
       "      <th>vendor_number</th>\n",
       "      <th>vendor_name</th>\n",
       "      <th>item_number</th>\n",
       "      <th>item_description</th>\n",
       "      <th>pack</th>\n",
       "      <th>bottle_volume_ml</th>\n",
       "      <th>state_bottle_cost</th>\n",
       "      <th>state_bottle_retail</th>\n",
       "      <th>bottles_sold</th>\n",
       "      <th>sale_dollars</th>\n",
       "      <th>volume_sold_liters</th>\n",
       "      <th>volume_sold_gallons</th>\n",
       "      <th>year</th>\n",
       "      <th>month</th>\n",
       "    </tr>\n",
       "  </thead>\n",
       "  <tbody>\n",
       "  </tbody>\n",
       "</table>\n",
       "</div>"
      ],
      "text/plain": [
       "Empty DataFrame\n",
       "Columns: [invoice_and_item_number, date, store_number, store_name, address, city, zip_code, store_location, county_number, county, category, category_name, vendor_number, vendor_name, item_number, item_description, pack, bottle_volume_ml, state_bottle_cost, state_bottle_retail, bottles_sold, sale_dollars, volume_sold_liters, volume_sold_gallons, year, month]\n",
       "Index: []"
      ]
     },
     "execution_count": 4,
     "metadata": {},
     "output_type": "execute_result"
    }
   ],
   "source": [
    "# Is column invoice_and_item_number value unique?\n",
    "df.loc[df['invoice_and_item_number'].map(df['invoice_and_item_number'].value_counts()) > 1]\n",
    "# alternative method:\n",
    "# df.loc[df['invoice_and_item_number'].duplicated()]"
   ]
  },
  {
   "cell_type": "markdown",
   "metadata": {},
   "source": [
    "## DataFrame.columns"
   ]
  },
  {
   "cell_type": "code",
   "execution_count": 5,
   "metadata": {},
   "outputs": [
    {
     "data": {
      "text/plain": [
       "Index(['invoice_and_item_number', 'date', 'store_number', 'store_name',\n",
       "       'address', 'city', 'zip_code', 'store_location', 'county_number',\n",
       "       'county', 'category', 'category_name', 'vendor_number', 'vendor_name',\n",
       "       'item_number', 'item_description', 'pack', 'bottle_volume_ml',\n",
       "       'state_bottle_cost', 'state_bottle_retail', 'bottles_sold',\n",
       "       'sale_dollars', 'volume_sold_liters', 'volume_sold_gallons', 'year',\n",
       "       'month'],\n",
       "      dtype='object')"
      ]
     },
     "execution_count": 5,
     "metadata": {},
     "output_type": "execute_result"
    }
   ],
   "source": [
    "df.columns"
   ]
  },
  {
   "cell_type": "markdown",
   "metadata": {},
   "source": [
    "## Column `category_name` Values"
   ]
  },
  {
   "cell_type": "code",
   "execution_count": 6,
   "metadata": {},
   "outputs": [
    {
     "data": {
      "text/plain": [
       "Float64Index([1031100.0, 1012100.0, 1011200.0, 1081600.0, 1062400.0, 1031200.0,\n",
       "              1011100.0, 1081400.0, 1051100.0, 1032100.0, 1022200.0, 1011400.0,\n",
       "              1081200.0, 1081300.0, 1071100.0, 1062200.0, 1062500.0, 1082000.0,\n",
       "              1022100.0, 1032200.0, 1082200.0, 1041100.0, 1012200.0, 1052100.0,\n",
       "              1701100.0, 1012400.0, 1042100.0, 1012300.0, 1011600.0, 1081100.0,\n",
       "              1062100.0, 1091300.0, 1062300.0, 1081500.0, 1091100.0, 1011300.0,\n",
       "              1091200.0, 1011500.0, 1901200.0, 1092100.0, 1082100.0, 1011700.0,\n",
       "              1700000.0, 1041200.0, 1022300.0, 1041300.0, 1091400.0, 1031000.0,\n",
       "              1090000.0, 1091000.0, 1092000.0, 1042000.0, 1032000.0, 1070000.0,\n",
       "              1081000.0],\n",
       "             dtype='float64')"
      ]
     },
     "execution_count": 6,
     "metadata": {},
     "output_type": "execute_result"
    }
   ],
   "source": [
    "df['category'].value_counts().index"
   ]
  },
  {
   "cell_type": "markdown",
   "metadata": {},
   "source": [
    "## Column `city` Values"
   ]
  },
  {
   "cell_type": "code",
   "execution_count": 7,
   "metadata": {},
   "outputs": [
    {
     "data": {
      "text/plain": [
       "Index(['Des Moines', 'Cedar Rapids', 'Davenport', 'Waterloo', 'Sioux City',\n",
       "       'West Des Moines', 'Ames', 'Council Bluffs', 'Dubuque', 'Iowa City',\n",
       "       ...\n",
       "       'Casey', 'Roland', 'Ossian', 'Melbourne', 'Bussey', 'Stanwood',\n",
       "       'Fontanelle', 'Blairstown', 'Earling', 'Colorado Springs'],\n",
       "      dtype='object', length=444)"
      ]
     },
     "execution_count": 7,
     "metadata": {},
     "output_type": "execute_result"
    }
   ],
   "source": [
    "df['city'].value_counts().index"
   ]
  },
  {
   "cell_type": "markdown",
   "metadata": {},
   "source": [
    "## Column `bottle_volume_ml` Values"
   ]
  },
  {
   "cell_type": "code",
   "execution_count": 8,
   "metadata": {},
   "outputs": [
    {
     "data": {
      "text/plain": [
       "Int64Index([  20,   50,  100,  200,  300,  375,  400,  500,  600,  700,  750,\n",
       "             800,  850,  900,  950, 1000, 1200, 1750, 1800, 1950, 2250, 2400,\n",
       "            3000, 3500, 4500, 5250, 6000],\n",
       "           dtype='int64')"
      ]
     },
     "execution_count": 8,
     "metadata": {},
     "output_type": "execute_result"
    }
   ],
   "source": [
    "df['bottle_volume_ml'].value_counts().index.sort_values()"
   ]
  },
  {
   "cell_type": "markdown",
   "metadata": {},
   "source": [
    "## DataFrame.describe()\n",
    "\n",
    "detecting and treating outliers on columns\n",
    "\n",
    "- [x] year 2018\n",
    "  - columns 'pack', 'bottle_volume_ml', 'state_bottle_cost', 'state_bottle_retail', 'bottles_sold', 'sale_dollars', 'volume_sold_liters'\n",
    "- [x] year 2022\n",
    "  - columns 'pack', 'bottle_volume_ml', 'state_bottle_cost', 'state_bottle_retail', 'bottles_sold', 'sale_dollars', 'volume_sold_liters'"
   ]
  },
  {
   "cell_type": "code",
   "execution_count": 9,
   "metadata": {},
   "outputs": [
    {
     "name": "stdout",
     "output_type": "stream",
     "text": [
      "year 2018, column pack, lower limit -12.0, min 1, upper limit 30.0, max 48\n",
      "year 2018, column bottle_volume_ml, lower limit 0.0, min 50, upper limit 1750.0, max 6000\n",
      "year 2018, column state_bottle_cost, lower limit -15.069999999999997, min 0.89, upper limit 32.879999999999995, max 1599.19\n",
      "year 2018, column state_bottle_retail, lower limit -22.619999999999997, min 1.34, upper limit 49.339999999999996, max 2398.79\n",
      "year 2018, column bottles_sold, lower limit -28.0, min 1, upper limit 42.0, max 1980\n",
      "year 2018, column sale_dollars, lower limit -285.0, min 0.0, upper limit 450.0, max 36154.8\n",
      "year 2018, column volume_sold_liters, lower limit -25.5, min 0.05, upper limit 37.5, max 2100.0\n",
      "year 2022, column pack, lower limit -12.0, min 1, upper limit 30.0, max 60\n",
      "year 2022, column bottle_volume_ml, lower limit -562.5, min 20, upper limit 1937.5, max 5250\n",
      "year 2022, column state_bottle_cost, lower limit -18.28, min 0.89, upper limit 38.21, max 1949.02\n",
      "year 2022, column state_bottle_retail, lower limit -27.4, min 1.34, upper limit 57.3, max 2923.53\n",
      "year 2022, column bottles_sold, lower limit -24.0, min 1, upper limit 39.0, max 13200\n",
      "year 2022, column sale_dollars, lower limit -321.24, min 1.34, upper limit 526.32, max 250932.0\n",
      "year 2022, column volume_sold_liters, lower limit -22.799999999999997, min 0.02, upper limit 33.9, max 13200.0\n"
     ]
    }
   ],
   "source": [
    "def calculateLowerLimitUpperLimit(series: pd.Series):\n",
    "    skew = series.skew()\n",
    "\n",
    "    # extreme skewed distribution\n",
    "    if skew < -1 or skew > 1:\n",
    "        q1, q3 = series.quantile([.25,.75])\n",
    "        iqr = q3 - q1\n",
    "        return q1 - iqr * 3, q3 + iqr * 3\n",
    "        \n",
    "    # skewed distribution\n",
    "    elif skew < -0.5 or skew > 0.5:\n",
    "        q1, q3 = series.quantile([.25,.75])\n",
    "        iqr = q3 - q1\n",
    "        return q1 - iqr * 1.5, q3 + iqr * 1.5\n",
    "\n",
    "    # normal distribution\n",
    "    else:\n",
    "        mean, std = series.agg(['mean', 'std'])\n",
    "        return mean - 3 * std, mean + 3 * std\n",
    "\n",
    "def detect_lower_limit_min_upper_limit_max():\n",
    "    for year in [2018, 2022]:\n",
    "        for index, value in df.loc[(df['year'] == year) & (df['month'] == 1), \n",
    "                                   ['pack', 'bottle_volume_ml', 'state_bottle_cost', \n",
    "                                    'state_bottle_retail', 'bottles_sold', 'sale_dollars', \n",
    "                                    'volume_sold_liters']] \\\n",
    "                              .items():\n",
    "            lowerLimit, upperLimit = calculateLowerLimitUpperLimit(value)\n",
    "\n",
    "            min, max = value.agg(['min', 'max'])\n",
    "            if lowerLimit > min or upperLimit < max:\n",
    "                print(\"year {0}, column {1}, lower limit {2}, min {3}, upper limit {4}, max {5}\" \\\n",
    "                      .format(year, index, lowerLimit, min, upperLimit, max))\n",
    "\n",
    "detect_lower_limit_min_upper_limit_max()"
   ]
  },
  {
   "cell_type": "markdown",
   "metadata": {},
   "source": [
    "## DataFrame.info()\n",
    "\n",
    "handle null rows on columns\n",
    "\n",
    "range index: 373231 entries\n",
    "- [x] remove null due to categorical data\n",
    "  - `city`            372256\n",
    "  - `zip_code`        372256\n",
    "  - `category`        373094\n",
    "  - `category_name`   373094"
   ]
  },
  {
   "cell_type": "code",
   "execution_count": 10,
   "metadata": {},
   "outputs": [
    {
     "name": "stdout",
     "output_type": "stream",
     "text": [
      "<class 'pandas.core.frame.DataFrame'>\n",
      "RangeIndex: 373231 entries, 0 to 373230\n",
      "Data columns (total 26 columns):\n",
      " #   Column                   Non-Null Count   Dtype  \n",
      "---  ------                   --------------   -----  \n",
      " 0   invoice_and_item_number  373231 non-null  object \n",
      " 1   date                     373231 non-null  object \n",
      " 2   store_number             373231 non-null  int64  \n",
      " 3   store_name               373231 non-null  object \n",
      " 4   address                  372256 non-null  object \n",
      " 5   city                     372256 non-null  object \n",
      " 6   zip_code                 372256 non-null  float64\n",
      " 7   store_location           335493 non-null  object \n",
      " 8   county_number            372254 non-null  float64\n",
      " 9   county                   372256 non-null  object \n",
      " 10  category                 373094 non-null  float64\n",
      " 11  category_name            373094 non-null  object \n",
      " 12  vendor_number            373231 non-null  float64\n",
      " 13  vendor_name              373231 non-null  object \n",
      " 14  item_number              373231 non-null  int64  \n",
      " 15  item_description         373231 non-null  object \n",
      " 16  pack                     373231 non-null  int64  \n",
      " 17  bottle_volume_ml         373231 non-null  int64  \n",
      " 18  state_bottle_cost        373231 non-null  float64\n",
      " 19  state_bottle_retail      373231 non-null  float64\n",
      " 20  bottles_sold             373231 non-null  int64  \n",
      " 21  sale_dollars             373231 non-null  float64\n",
      " 22  volume_sold_liters       373231 non-null  float64\n",
      " 23  volume_sold_gallons      373231 non-null  float64\n",
      " 24  year                     373231 non-null  int64  \n",
      " 25  month                    373231 non-null  int64  \n",
      "dtypes: float64(9), int64(7), object(10)\n",
      "memory usage: 74.0+ MB\n"
     ]
    }
   ],
   "source": [
    "df.info()"
   ]
  },
  {
   "cell_type": "markdown",
   "metadata": {},
   "source": [
    "# Data Cleaning"
   ]
  },
  {
   "cell_type": "code",
   "execution_count": 11,
   "metadata": {},
   "outputs": [],
   "source": [
    "df2 = df.sort_values('date').reset_index(drop=True).copy()"
   ]
  },
  {
   "cell_type": "code",
   "execution_count": 12,
   "metadata": {},
   "outputs": [],
   "source": [
    "df3 = df2.drop(['store_number', 'store_name', 'address', 'store_location', \n",
    "                'vendor_number', 'vendor_name', 'item_number', 'item_description', \n",
    "                'county_number', 'county', 'volume_sold_gallons'], \n",
    "                axis='columns') \\\n",
    "         .copy()"
   ]
  },
  {
   "cell_type": "markdown",
   "metadata": {},
   "source": [
    "## Outliers Detection and Treatment"
   ]
  },
  {
   "cell_type": "code",
   "execution_count": 13,
   "metadata": {},
   "outputs": [],
   "source": [
    "def detectOutliers(series: pd.Series, year: int):\n",
    "    lowerLimit, upperLimit = calculateLowerLimitUpperLimit(series)\n",
    "    outliersPercentage = len(series.loc[(series < lowerLimit) | (series > upperLimit)]) \\\n",
    "                        / len(series)\n",
    "    print(\"year {0}, column {1}, skew {2:.2f}, outliers percentage {3:.2f}%\".format(year, series.name, series.skew(), outliersPercentage * 100))\n",
    "    print(\"lower limit {0[0]}, upper limit {0[1]}\".format(calculateLowerLimitUpperLimit(series)))\n",
    "    display(series.value_counts().sort_index(ascending=False))"
   ]
  },
  {
   "cell_type": "markdown",
   "metadata": {},
   "source": [
    "- [x] year 2018\n",
    "  - natural outliers\n",
    "    - under 5%\n",
    "      - 'pack', 'bottle_volume'\n",
    "  - not natural outliers\n",
    "    - under 5%\n",
    "      - 'state_bottle_cost', 'state_bottle_retail', 'bottles_sold', 'sale_dollars', 'volume_sold_liters'\n",
    "- [x] year 2022\n",
    "  - natural outliers\n",
    "    - under 5%\n",
    "      - 'pack', 'bottle_volume_ml'\n",
    "  - not natural outliers\n",
    "    - under 5%\n",
    "      - 'state_bottle_cost', 'state_bottle_retail', 'bottles_sold', 'sale_dollars', 'volume_sold_liters'"
   ]
  },
  {
   "cell_type": "code",
   "execution_count": 14,
   "metadata": {},
   "outputs": [
    {
     "name": "stdout",
     "output_type": "stream",
     "text": [
      "year 2018, column pack, skew 2.71, outliers percentage 3.02%\n",
      "lower limit -12.0, upper limit 30.0\n"
     ]
    },
    {
     "data": {
      "text/plain": [
       "48      5318\n",
       "44       438\n",
       "24     19538\n",
       "20         1\n",
       "15        34\n",
       "12    109625\n",
       "10      4312\n",
       "8        112\n",
       "6      48771\n",
       "5        399\n",
       "4        246\n",
       "3        151\n",
       "2          1\n",
       "1       1690\n",
       "Name: pack, dtype: int64"
      ]
     },
     "metadata": {},
     "output_type": "display_data"
    },
    {
     "name": "stdout",
     "output_type": "stream",
     "text": [
      "year 2018, column bottle_volume_ml, skew 1.29, outliers percentage 0.94%\n",
      "lower limit 0.0, upper limit 1750.0\n"
     ]
    },
    {
     "data": {
      "text/plain": [
       "6000       16\n",
       "3500       21\n",
       "3000     1643\n",
       "2400       80\n",
       "2250        3\n",
       "1950        8\n",
       "1800       12\n",
       "1750    35698\n",
       "1200      172\n",
       "1000    24205\n",
       "900         2\n",
       "850         2\n",
       "800       175\n",
       "750     84797\n",
       "600      3197\n",
       "500      9092\n",
       "400        34\n",
       "375     21225\n",
       "300      1301\n",
       "200      7311\n",
       "100      1359\n",
       "50        283\n",
       "Name: bottle_volume_ml, dtype: int64"
      ]
     },
     "metadata": {},
     "output_type": "display_data"
    },
    {
     "name": "stdout",
     "output_type": "stream",
     "text": [
      "year 2018, column state_bottle_cost, skew 66.67, outliers percentage 0.75%\n",
      "lower limit -15.069999999999997, upper limit 32.879999999999995\n"
     ]
    },
    {
     "data": {
      "text/plain": [
       "1599.19      3\n",
       "419.99       1\n",
       "390.00       7\n",
       "314.99       2\n",
       "262.46       3\n",
       "          ... \n",
       "1.12         1\n",
       "1.00        98\n",
       "0.97        73\n",
       "0.90       740\n",
       "0.89       158\n",
       "Name: state_bottle_cost, Length: 837, dtype: int64"
      ]
     },
     "metadata": {},
     "output_type": "display_data"
    },
    {
     "name": "stdout",
     "output_type": "stream",
     "text": [
      "year 2018, column state_bottle_retail, skew 66.67, outliers percentage 0.75%\n",
      "lower limit -22.619999999999997, upper limit 49.339999999999996\n"
     ]
    },
    {
     "data": {
      "text/plain": [
       "2398.79      3\n",
       "629.99       1\n",
       "585.00       7\n",
       "472.49       2\n",
       "393.69       3\n",
       "          ... \n",
       "1.68         1\n",
       "1.50        98\n",
       "1.46        73\n",
       "1.35       740\n",
       "1.34       158\n",
       "Name: state_bottle_retail, Length: 838, dtype: int64"
      ]
     },
     "metadata": {},
     "output_type": "display_data"
    },
    {
     "name": "stdout",
     "output_type": "stream",
     "text": [
      "year 2018, column bottles_sold, skew 21.18, outliers percentage 2.88%\n",
      "lower limit -28.0, upper limit 42.0\n"
     ]
    },
    {
     "data": {
      "text/plain": [
       "1980        1\n",
       "1320        1\n",
       "1200        1\n",
       "960         1\n",
       "900         3\n",
       "        ...  \n",
       "5        2573\n",
       "4       10183\n",
       "3       19603\n",
       "2       28011\n",
       "1       23132\n",
       "Name: bottles_sold, Length: 110, dtype: int64"
      ]
     },
     "metadata": {},
     "output_type": "display_data"
    },
    {
     "name": "stdout",
     "output_type": "stream",
     "text": [
      "year 2018, column sale_dollars, skew 30.04, outliers percentage 2.53%\n",
      "lower limit -285.0, upper limit 450.0\n"
     ]
    },
    {
     "data": {
      "text/plain": [
       "36154.80     1\n",
       "20498.40     1\n",
       "18816.00     1\n",
       "17529.60     1\n",
       "17496.00     1\n",
       "            ..\n",
       "1.70         9\n",
       "1.50         3\n",
       "1.46         4\n",
       "1.35         6\n",
       "0.00        79\n",
       "Name: sale_dollars, Length: 4797, dtype: int64"
      ]
     },
     "metadata": {},
     "output_type": "display_data"
    },
    {
     "name": "stdout",
     "output_type": "stream",
     "text": [
      "year 2018, column volume_sold_liters, skew 31.56, outliers percentage 1.59%\n",
      "lower limit -25.5, upper limit 37.5\n"
     ]
    },
    {
     "data": {
      "text/plain": [
       "2100.00      1\n",
       "1980.00      1\n",
       "1417.50      1\n",
       "1320.00      1\n",
       "1260.00      1\n",
       "          ... \n",
       "0.25         3\n",
       "0.20       442\n",
       "0.15        12\n",
       "0.10        73\n",
       "0.05       158\n",
       "Name: volume_sold_liters, Length: 212, dtype: int64"
      ]
     },
     "metadata": {},
     "output_type": "display_data"
    },
    {
     "name": "stdout",
     "output_type": "stream",
     "text": [
      "year 2022, column pack, skew 2.73, outliers percentage 2.72%\n",
      "lower limit -12.0, upper limit 30.0\n"
     ]
    },
    {
     "data": {
      "text/plain": [
       "60       18\n",
       "48     4575\n",
       "44      369\n",
       "30        6\n",
       "28        1\n",
       "24    17167\n",
       "20        3\n",
       "15       20\n",
       "12    95173\n",
       "10     3788\n",
       "9        33\n",
       "8      1525\n",
       "6     56455\n",
       "5       203\n",
       "4       454\n",
       "3       297\n",
       "1      2508\n",
       "Name: pack, dtype: int64"
      ]
     },
     "metadata": {},
     "output_type": "display_data"
    },
    {
     "name": "stdout",
     "output_type": "stream",
     "text": [
      "year 2022, column bottle_volume_ml, skew 0.64, outliers percentage 0.08%\n",
      "lower limit -562.5, upper limit 1937.5\n"
     ]
    },
    {
     "data": {
      "text/plain": [
       "5250        1\n",
       "4500       26\n",
       "3500       24\n",
       "2400       52\n",
       "2250       35\n",
       "1800       95\n",
       "1750    33970\n",
       "1200       22\n",
       "1000    17199\n",
       "950        14\n",
       "900        39\n",
       "850         4\n",
       "800        88\n",
       "750     83668\n",
       "700         1\n",
       "600        16\n",
       "375     20221\n",
       "200      5568\n",
       "100      2464\n",
       "50      19058\n",
       "20         30\n",
       "Name: bottle_volume_ml, dtype: int64"
      ]
     },
     "metadata": {},
     "output_type": "display_data"
    },
    {
     "name": "stdout",
     "output_type": "stream",
     "text": [
      "year 2022, column state_bottle_cost, skew 35.20, outliers percentage 1.60%\n",
      "lower limit -18.28, upper limit 38.21\n"
     ]
    },
    {
     "data": {
      "text/plain": [
       "1949.02       1\n",
       "228.66        1\n",
       "200.00       12\n",
       "175.27       16\n",
       "150.00        2\n",
       "           ... \n",
       "1.13        559\n",
       "1.00        129\n",
       "0.95        245\n",
       "0.90       1316\n",
       "0.89        211\n",
       "Name: state_bottle_cost, Length: 764, dtype: int64"
      ]
     },
     "metadata": {},
     "output_type": "display_data"
    },
    {
     "name": "stdout",
     "output_type": "stream",
     "text": [
      "year 2022, column state_bottle_retail, skew 35.20, outliers percentage 1.60%\n",
      "lower limit -27.4, upper limit 57.3\n"
     ]
    },
    {
     "data": {
      "text/plain": [
       "2923.53       1\n",
       "342.99        1\n",
       "300.00       12\n",
       "262.91       16\n",
       "225.00        2\n",
       "           ... \n",
       "1.70        559\n",
       "1.50        129\n",
       "1.43        245\n",
       "1.35       1316\n",
       "1.34        211\n",
       "Name: state_bottle_retail, Length: 765, dtype: int64"
      ]
     },
     "metadata": {},
     "output_type": "display_data"
    },
    {
     "name": "stdout",
     "output_type": "stream",
     "text": [
      "year 2022, column bottles_sold, skew 189.68, outliers percentage 4.00%\n",
      "lower limit -24.0, upper limit 39.0\n"
     ]
    },
    {
     "data": {
      "text/plain": [
       "13200        1\n",
       "2430         1\n",
       "2304         1\n",
       "2100         1\n",
       "1536         1\n",
       "         ...  \n",
       "5         2460\n",
       "4         9598\n",
       "3        15259\n",
       "2        20094\n",
       "1        19262\n",
       "Name: bottles_sold, Length: 136, dtype: int64"
      ]
     },
     "metadata": {},
     "output_type": "display_data"
    },
    {
     "name": "stdout",
     "output_type": "stream",
     "text": [
      "year 2022, column sale_dollars, skew 239.69, outliers percentage 2.94%\n",
      "lower limit -321.24, upper limit 526.32\n"
     ]
    },
    {
     "data": {
      "text/plain": [
       "250932.00     1\n",
       "30399.30      1\n",
       "27181.44      2\n",
       "26271.00      1\n",
       "25067.52      1\n",
       "             ..\n",
       "1.80          1\n",
       "1.70         10\n",
       "1.50          1\n",
       "1.35          7\n",
       "1.34          3\n",
       "Name: sale_dollars, Length: 4579, dtype: int64"
      ]
     },
     "metadata": {},
     "output_type": "display_data"
    },
    {
     "name": "stdout",
     "output_type": "stream",
     "text": [
      "year 2022, column volume_sold_liters, skew 167.35, outliers percentage 2.36%\n",
      "lower limit -22.799999999999997, upper limit 33.9\n"
     ]
    },
    {
     "data": {
      "text/plain": [
       "13200.00       1\n",
       "4252.50        1\n",
       "4032.00        1\n",
       "3675.00        1\n",
       "2688.00        1\n",
       "            ... \n",
       "0.08           1\n",
       "0.06           2\n",
       "0.05        6378\n",
       "0.04           8\n",
       "0.02           6\n",
       "Name: volume_sold_liters, Length: 266, dtype: int64"
      ]
     },
     "metadata": {},
     "output_type": "display_data"
    }
   ],
   "source": [
    "def detect_outliers():\n",
    "    for year in [2018, 2022]:\n",
    "        for index, value in df3.loc[(df3['year'] == year) & (df3['month'] == 1), \n",
    "                                    ['pack', 'bottle_volume_ml', 'state_bottle_cost', \n",
    "                                    'state_bottle_retail', 'bottles_sold', 'sale_dollars', \n",
    "                                    'volume_sold_liters']] \\\n",
    "                            .items():\n",
    "            detectOutliers(value, year)\n",
    "\n",
    "detect_outliers()"
   ]
  },
  {
   "cell_type": "markdown",
   "metadata": {},
   "source": [
    "### Ask Instructor\n",
    "\n",
    "reference: https://www.quora.com/Is-it-bad-to-delete-statistical-outliers\n",
    "\n",
    "- [x] Is it true in Machine Learning, it is always a requirement to remove the outliers? If so, should we remove natural outliers or do mean/median imputation in column `bottle_volume_ml`?\n",
    "  - do not alter natural outliers."
   ]
  },
  {
   "cell_type": "code",
   "execution_count": 15,
   "metadata": {},
   "outputs": [],
   "source": [
    "df4 = df3.copy()\n",
    "\n",
    "def treat_outliers(dataframe: pd.DataFrame):\n",
    "    # outliers percentage under 5% and not natural outliers\n",
    "    for year in [2018, 2022]:\n",
    "        #WARNING: do not edit the DataFrame per column. \n",
    "        # gather all outliers index. Then drop it with one move.\n",
    "        index = pd.Index([])\n",
    "        \n",
    "        for column in ['state_bottle_cost', 'state_bottle_retail', \n",
    "                    'bottles_sold', 'sale_dollars', 'volume_sold_liters']:\n",
    "            value = dataframe.loc[(dataframe['year'] == year) & (dataframe['month'] == 1), column]\n",
    "            lowerLimit, upperLimit = calculateLowerLimitUpperLimit(value)\n",
    "            index = index.append(value[(value < lowerLimit) | (value > upperLimit)].index)\n",
    "        \n",
    "        dataframe = dataframe.drop(index)\n",
    "    \n",
    "    return dataframe\n",
    "\n",
    "df4 = treat_outliers(df4)"
   ]
  },
  {
   "cell_type": "markdown",
   "metadata": {},
   "source": [
    "### Ask Instructor\n",
    "\n",
    "- [x] after 1st outliers treatment, what should we do if the outliers percentage still above 0.3%?\n",
    "  - it's okay."
   ]
  },
  {
   "cell_type": "code",
   "execution_count": 16,
   "metadata": {},
   "outputs": [
    {
     "name": "stdout",
     "output_type": "stream",
     "text": [
      "year 2018, column pack, skew 2.66, outliers percentage 1.80%\n",
      "lower limit -12.0, upper limit 30.0\n"
     ]
    },
    {
     "data": {
      "text/plain": [
       "48      2892\n",
       "44       369\n",
       "24     18885\n",
       "20         1\n",
       "15        31\n",
       "12    105914\n",
       "10      4304\n",
       "8         68\n",
       "6      45950\n",
       "5        399\n",
       "4        231\n",
       "3         80\n",
       "1       1616\n",
       "Name: pack, dtype: int64"
      ]
     },
     "metadata": {},
     "output_type": "display_data"
    },
    {
     "name": "stdout",
     "output_type": "stream",
     "text": [
      "year 2018, column bottle_volume_ml, skew 1.27, outliers percentage 0.95%\n",
      "lower limit 0.0, upper limit 1750.0\n"
     ]
    },
    {
     "data": {
      "text/plain": [
       "3500       15\n",
       "3000     1607\n",
       "2400       71\n",
       "2250        3\n",
       "1950        7\n",
       "1800       12\n",
       "1750    33913\n",
       "1200      128\n",
       "1000    22022\n",
       "900         2\n",
       "850         2\n",
       "800       174\n",
       "750     82327\n",
       "600      3193\n",
       "500      9082\n",
       "400        31\n",
       "375     20598\n",
       "300      1297\n",
       "200      5711\n",
       "100       263\n",
       "50        282\n",
       "Name: bottle_volume_ml, dtype: int64"
      ]
     },
     "metadata": {},
     "output_type": "display_data"
    },
    {
     "name": "stdout",
     "output_type": "stream",
     "text": [
      "year 2018, column state_bottle_cost, skew 1.45, outliers percentage 0.53%\n",
      "lower limit -13.880000000000003, upper limit 31.340000000000003\n"
     ]
    },
    {
     "data": {
      "text/plain": [
       "32.67      1\n",
       "32.66      1\n",
       "32.51     37\n",
       "32.50     92\n",
       "32.49     49\n",
       "        ... \n",
       "1.13     281\n",
       "1.00      19\n",
       "0.97      16\n",
       "0.90      35\n",
       "0.89      35\n",
       "Name: state_bottle_cost, Length: 721, dtype: int64"
      ]
     },
     "metadata": {},
     "output_type": "display_data"
    },
    {
     "name": "stdout",
     "output_type": "stream",
     "text": [
      "year 2018, column state_bottle_retail, skew 1.45, outliers percentage 0.53%\n",
      "lower limit -20.820000000000004, upper limit 47.010000000000005\n"
     ]
    },
    {
     "data": {
      "text/plain": [
       "49.01      1\n",
       "48.99      1\n",
       "48.77     37\n",
       "48.75     92\n",
       "48.74     49\n",
       "        ... \n",
       "1.70     281\n",
       "1.50      19\n",
       "1.46      16\n",
       "1.35      35\n",
       "1.34      35\n",
       "Name: state_bottle_retail, Length: 722, dtype: int64"
      ]
     },
     "metadata": {},
     "output_type": "display_data"
    },
    {
     "name": "stdout",
     "output_type": "stream",
     "text": [
      "year 2018, column bottles_sold, skew 1.44, outliers percentage 0.00%\n",
      "lower limit -28.0, upper limit 42.0\n"
     ]
    },
    {
     "data": {
      "text/plain": [
       "40        6\n",
       "36      536\n",
       "35        1\n",
       "34        1\n",
       "31        1\n",
       "30        9\n",
       "27        1\n",
       "25        3\n",
       "24     9612\n",
       "22        2\n",
       "21        2\n",
       "20       64\n",
       "19        1\n",
       "18      867\n",
       "17        4\n",
       "16       43\n",
       "15       71\n",
       "14       18\n",
       "13        6\n",
       "12    48036\n",
       "11       16\n",
       "10     1530\n",
       "9       148\n",
       "8      1084\n",
       "7       297\n",
       "6     36054\n",
       "5      2572\n",
       "4     10153\n",
       "3     19484\n",
       "2     27629\n",
       "1     22489\n",
       "Name: bottles_sold, dtype: int64"
      ]
     },
     "metadata": {},
     "output_type": "display_data"
    },
    {
     "name": "stdout",
     "output_type": "stream",
     "text": [
      "year 2018, column sale_dollars, skew 1.49, outliers percentage 0.26%\n",
      "lower limit -261.84, upper limit 416.88\n"
     ]
    },
    {
     "data": {
      "text/plain": [
       "450.00    99\n",
       "449.88    25\n",
       "449.76     7\n",
       "447.12     1\n",
       "446.04     2\n",
       "          ..\n",
       "1.70       9\n",
       "1.50       3\n",
       "1.46       4\n",
       "1.35       6\n",
       "0.00      79\n",
       "Name: sale_dollars, Length: 3573, dtype: int64"
      ]
     },
     "metadata": {},
     "output_type": "display_data"
    },
    {
     "name": "stdout",
     "output_type": "stream",
     "text": [
      "year 2018, column volume_sold_liters, skew 1.47, outliers percentage 0.18%\n",
      "lower limit -21.0, upper limit 31.5\n"
     ]
    },
    {
     "data": {
      "text/plain": [
       "36.00    324\n",
       "33.25      1\n",
       "31.50    797\n",
       "30.00     45\n",
       "27.00    186\n",
       "        ... \n",
       "0.25       3\n",
       "0.20     442\n",
       "0.15      12\n",
       "0.10      73\n",
       "0.05     157\n",
       "Name: volume_sold_liters, Length: 90, dtype: int64"
      ]
     },
     "metadata": {},
     "output_type": "display_data"
    },
    {
     "name": "stdout",
     "output_type": "stream",
     "text": [
      "year 2022, column pack, skew 2.49, outliers percentage 0.99%\n",
      "lower limit -12.0, upper limit 30.0\n"
     ]
    },
    {
     "data": {
      "text/plain": [
       "60       10\n",
       "48     1478\n",
       "44      182\n",
       "30        6\n",
       "28        1\n",
       "24    16335\n",
       "20        2\n",
       "15       20\n",
       "12    91177\n",
       "10     3776\n",
       "9        33\n",
       "8      1487\n",
       "6     52947\n",
       "5       203\n",
       "4       333\n",
       "3       167\n",
       "1      1249\n",
       "Name: pack, dtype: int64"
      ]
     },
     "metadata": {},
     "output_type": "display_data"
    },
    {
     "name": "stdout",
     "output_type": "stream",
     "text": [
      "year 2022, column bottle_volume_ml, skew 0.60, outliers percentage 32.13%\n",
      "lower limit 375.0, upper limit 1375.0\n"
     ]
    },
    {
     "data": {
      "text/plain": [
       "3500       24\n",
       "1750    32103\n",
       "1000    15007\n",
       "950        11\n",
       "900        39\n",
       "850         4\n",
       "800        88\n",
       "750     80362\n",
       "700         1\n",
       "600        14\n",
       "375     19445\n",
       "200      4035\n",
       "100       500\n",
       "50      17743\n",
       "20         30\n",
       "Name: bottle_volume_ml, dtype: int64"
      ]
     },
     "metadata": {},
     "output_type": "display_data"
    },
    {
     "name": "stdout",
     "output_type": "stream",
     "text": [
      "year 2022, column state_bottle_cost, skew 1.40, outliers percentage 0.20%\n",
      "lower limit -16.5, upper limit 36.0\n"
     ]
    },
    {
     "data": {
      "text/plain": [
       "38.16      1\n",
       "38.00    144\n",
       "37.50    130\n",
       "36.83      5\n",
       "36.57      1\n",
       "        ... \n",
       "1.13     208\n",
       "1.00      18\n",
       "0.95      30\n",
       "0.90      50\n",
       "0.89      23\n",
       "Name: state_bottle_cost, Length: 656, dtype: int64"
      ]
     },
     "metadata": {},
     "output_type": "display_data"
    },
    {
     "name": "stdout",
     "output_type": "stream",
     "text": [
      "year 2022, column state_bottle_retail, skew 1.40, outliers percentage 0.20%\n",
      "lower limit -24.75, upper limit 54.0\n"
     ]
    },
    {
     "data": {
      "text/plain": [
       "57.24      1\n",
       "57.00    144\n",
       "56.25    130\n",
       "55.25      5\n",
       "54.86      1\n",
       "        ... \n",
       "1.70     208\n",
       "1.50      18\n",
       "1.43      30\n",
       "1.35      50\n",
       "1.34      23\n",
       "Name: state_bottle_retail, Length: 657, dtype: int64"
      ]
     },
     "metadata": {},
     "output_type": "display_data"
    },
    {
     "name": "stdout",
     "output_type": "stream",
     "text": [
      "year 2022, column bottles_sold, skew 1.33, outliers percentage 0.00%\n",
      "lower limit -24.0, upper limit 39.0\n"
     ]
    },
    {
     "data": {
      "text/plain": [
       "36      393\n",
       "32       10\n",
       "31        1\n",
       "30       45\n",
       "28        2\n",
       "24    10795\n",
       "23        3\n",
       "22        4\n",
       "21        3\n",
       "20      115\n",
       "19        3\n",
       "18      967\n",
       "17        5\n",
       "16      107\n",
       "15       69\n",
       "14       22\n",
       "13       10\n",
       "12    47243\n",
       "11       35\n",
       "10     1861\n",
       "9       152\n",
       "8      1607\n",
       "7       266\n",
       "6     41407\n",
       "5      2445\n",
       "4      9508\n",
       "3     15051\n",
       "2     19681\n",
       "1     17596\n",
       "Name: bottles_sold, dtype: int64"
      ]
     },
     "metadata": {},
     "output_type": "display_data"
    },
    {
     "name": "stdout",
     "output_type": "stream",
     "text": [
      "year 2022, column sale_dollars, skew 1.38, outliers percentage 0.28%\n",
      "lower limit -298.44000000000005, upper limit 488.22\n"
     ]
    },
    {
     "data": {
      "text/plain": [
       "522.48    11\n",
       "522.00    20\n",
       "521.76     3\n",
       "519.84     1\n",
       "513.72     1\n",
       "          ..\n",
       "1.80       1\n",
       "1.70      10\n",
       "1.50       1\n",
       "1.35       7\n",
       "1.34       3\n",
       "Name: sale_dollars, Length: 3293, dtype: int64"
      ]
     },
     "metadata": {},
     "output_type": "display_data"
    },
    {
     "name": "stdout",
     "output_type": "stream",
     "text": [
      "year 2022, column volume_sold_liters, skew 1.24, outliers percentage 0.00%\n",
      "lower limit -21.0, upper limit 31.5\n"
     ]
    },
    {
     "data": {
      "text/plain": [
       "31.50     739\n",
       "27.00     223\n",
       "24.00    1112\n",
       "22.80       1\n",
       "22.50      24\n",
       "         ... \n",
       "0.08        1\n",
       "0.06        2\n",
       "0.05     5633\n",
       "0.04        8\n",
       "0.02        6\n",
       "Name: volume_sold_liters, Length: 106, dtype: int64"
      ]
     },
     "metadata": {},
     "output_type": "display_data"
    }
   ],
   "source": [
    "def detect_outliers_again():\n",
    "    for year in [2018, 2022]:\n",
    "        for index, value in df4.loc[(df4['year'] == year) & (df4['month'] == 1), \n",
    "                                    ['pack', 'bottle_volume_ml', 'state_bottle_cost', \n",
    "                                    'state_bottle_retail', 'bottles_sold', 'sale_dollars', \n",
    "                                    'volume_sold_liters']] \\\n",
    "                            .items():\n",
    "            detectOutliers(value, year)\n",
    "\n",
    "detect_outliers_again()"
   ]
  },
  {
   "cell_type": "markdown",
   "metadata": {},
   "source": [
    "## Null Treatment"
   ]
  },
  {
   "cell_type": "markdown",
   "metadata": {},
   "source": [
    "### Ask Instructor\n",
    "\n",
    "- [x] should we remove rows based on condition (a column with categorical data is null)?\n",
    "  - it's okay to drop it."
   ]
  },
  {
   "cell_type": "code",
   "execution_count": 17,
   "metadata": {},
   "outputs": [
    {
     "name": "stdout",
     "output_type": "stream",
     "text": [
      "column city, null percentage 0.25%\n",
      "column zip_code, null percentage 0.25%\n",
      "column category, null percentage 0.03%\n",
      "column category_name, null percentage 0.03%\n"
     ]
    }
   ],
   "source": [
    "def detect_null_percentage():\n",
    "    for index, value in df4.loc[:,['city','zip_code','category','category_name']].items():\n",
    "        print(\"column {0}, null percentage {1:.2f}%\".format(index, len(value.loc[value.isna()]) / len(value) * 100))\n",
    "\n",
    "detect_null_percentage()"
   ]
  },
  {
   "cell_type": "code",
   "execution_count": 18,
   "metadata": {},
   "outputs": [],
   "source": [
    "df5 = df4.copy()\n",
    "\n",
    "def treat_null(dataframe: pd.DataFrame):\n",
    "    # categorical data, we will drop them.\n",
    "    for column in ['city', 'zip_code', 'category', 'category_name']:\n",
    "        series = dataframe.loc[dataframe[column].isna(), column]\n",
    "        dataframe = dataframe.drop(series.index)\n",
    "    \n",
    "    return dataframe\n",
    "\n",
    "df5 = treat_null(df5)"
   ]
  },
  {
   "cell_type": "code",
   "execution_count": 19,
   "metadata": {},
   "outputs": [
    {
     "name": "stdout",
     "output_type": "stream",
     "text": [
      "<class 'pandas.core.frame.DataFrame'>\n",
      "Int64Index: 349153 entries, 0 to 373229\n",
      "Data columns (total 15 columns):\n",
      " #   Column                   Non-Null Count   Dtype  \n",
      "---  ------                   --------------   -----  \n",
      " 0   invoice_and_item_number  349153 non-null  object \n",
      " 1   date                     349153 non-null  object \n",
      " 2   city                     349153 non-null  object \n",
      " 3   zip_code                 349153 non-null  float64\n",
      " 4   category                 349153 non-null  float64\n",
      " 5   category_name            349153 non-null  object \n",
      " 6   pack                     349153 non-null  int64  \n",
      " 7   bottle_volume_ml         349153 non-null  int64  \n",
      " 8   state_bottle_cost        349153 non-null  float64\n",
      " 9   state_bottle_retail      349153 non-null  float64\n",
      " 10  bottles_sold             349153 non-null  int64  \n",
      " 11  sale_dollars             349153 non-null  float64\n",
      " 12  volume_sold_liters       349153 non-null  float64\n",
      " 13  year                     349153 non-null  int64  \n",
      " 14  month                    349153 non-null  int64  \n",
      "dtypes: float64(6), int64(5), object(4)\n",
      "memory usage: 42.6+ MB\n"
     ]
    }
   ],
   "source": [
    "df5.info()"
   ]
  },
  {
   "cell_type": "code",
   "execution_count": 20,
   "metadata": {},
   "outputs": [],
   "source": [
    "df6 = df5.reset_index()"
   ]
  },
  {
   "cell_type": "code",
   "execution_count": 21,
   "metadata": {},
   "outputs": [],
   "source": [
    "df6.to_csv(\"bigquery-public-data_iowa_liquor_sales_year_2018_and_year_2022_month_1_cleaned.csv\")"
   ]
  },
  {
   "cell_type": "markdown",
   "metadata": {},
   "source": [
    "# Analisis dan Perhitungan"
   ]
  },
  {
   "cell_type": "markdown",
   "metadata": {},
   "source": [
    "## Visualisasi Data"
   ]
  },
  {
   "cell_type": "markdown",
   "metadata": {},
   "source": [
    "### Des Mones adalah kota dengan penjualan tertinggi minuman beralkohol di Iowa, Amerika Serikat pada bulan Januari 2018 dan 2022"
   ]
  },
  {
   "cell_type": "code",
   "execution_count": 35,
   "metadata": {},
   "outputs": [
    {
     "data": {
      "application/vnd.plotly.v1+json": {
       "config": {
        "linkText": "Export to plot.ly",
        "plotlyServerURL": "https://plot.ly",
        "showLink": false
       },
       "data": [
        {
         "domain": {
          "x": [
           0,
           0.45
          ],
          "y": [
           0,
           1
          ]
         },
         "labels": [
          "Cedar Rapids",
          "Davenport",
          "Des Moines",
          "Other",
          "Sioux City",
          "Waterloo"
         ],
         "title": {
          "text": "Top 5 cities by volume_sold_liters in January 2018"
         },
         "type": "pie",
         "values": [
          71244.73,
          41973.37,
          90568.05,
          826627.86,
          38500.12,
          37394.87
         ]
        },
        {
         "domain": {
          "x": [
           0.55,
           1
          ],
          "y": [
           0,
           1
          ]
         },
         "labels": [
          "Cedar Rapids",
          "Davenport",
          "Des Moines",
          "Other",
          "Sioux City",
          "West Des Moines"
         ],
         "title": {
          "text": "Top 5 cities by volume_sold_liters in January 2022"
         },
         "type": "pie",
         "values": [
          63065.64,
          40233.11,
          81432.71,
          781570.83,
          31164.92,
          33251.1
         ]
        }
       ],
       "layout": {
        "template": {
         "data": {
          "bar": [
           {
            "error_x": {
             "color": "#2a3f5f"
            },
            "error_y": {
             "color": "#2a3f5f"
            },
            "marker": {
             "line": {
              "color": "#E5ECF6",
              "width": 0.5
             },
             "pattern": {
              "fillmode": "overlay",
              "size": 10,
              "solidity": 0.2
             }
            },
            "type": "bar"
           }
          ],
          "barpolar": [
           {
            "marker": {
             "line": {
              "color": "#E5ECF6",
              "width": 0.5
             },
             "pattern": {
              "fillmode": "overlay",
              "size": 10,
              "solidity": 0.2
             }
            },
            "type": "barpolar"
           }
          ],
          "carpet": [
           {
            "aaxis": {
             "endlinecolor": "#2a3f5f",
             "gridcolor": "white",
             "linecolor": "white",
             "minorgridcolor": "white",
             "startlinecolor": "#2a3f5f"
            },
            "baxis": {
             "endlinecolor": "#2a3f5f",
             "gridcolor": "white",
             "linecolor": "white",
             "minorgridcolor": "white",
             "startlinecolor": "#2a3f5f"
            },
            "type": "carpet"
           }
          ],
          "choropleth": [
           {
            "colorbar": {
             "outlinewidth": 0,
             "ticks": ""
            },
            "type": "choropleth"
           }
          ],
          "contour": [
           {
            "colorbar": {
             "outlinewidth": 0,
             "ticks": ""
            },
            "colorscale": [
             [
              0,
              "#0d0887"
             ],
             [
              0.1111111111111111,
              "#46039f"
             ],
             [
              0.2222222222222222,
              "#7201a8"
             ],
             [
              0.3333333333333333,
              "#9c179e"
             ],
             [
              0.4444444444444444,
              "#bd3786"
             ],
             [
              0.5555555555555556,
              "#d8576b"
             ],
             [
              0.6666666666666666,
              "#ed7953"
             ],
             [
              0.7777777777777778,
              "#fb9f3a"
             ],
             [
              0.8888888888888888,
              "#fdca26"
             ],
             [
              1,
              "#f0f921"
             ]
            ],
            "type": "contour"
           }
          ],
          "contourcarpet": [
           {
            "colorbar": {
             "outlinewidth": 0,
             "ticks": ""
            },
            "type": "contourcarpet"
           }
          ],
          "heatmap": [
           {
            "colorbar": {
             "outlinewidth": 0,
             "ticks": ""
            },
            "colorscale": [
             [
              0,
              "#0d0887"
             ],
             [
              0.1111111111111111,
              "#46039f"
             ],
             [
              0.2222222222222222,
              "#7201a8"
             ],
             [
              0.3333333333333333,
              "#9c179e"
             ],
             [
              0.4444444444444444,
              "#bd3786"
             ],
             [
              0.5555555555555556,
              "#d8576b"
             ],
             [
              0.6666666666666666,
              "#ed7953"
             ],
             [
              0.7777777777777778,
              "#fb9f3a"
             ],
             [
              0.8888888888888888,
              "#fdca26"
             ],
             [
              1,
              "#f0f921"
             ]
            ],
            "type": "heatmap"
           }
          ],
          "heatmapgl": [
           {
            "colorbar": {
             "outlinewidth": 0,
             "ticks": ""
            },
            "colorscale": [
             [
              0,
              "#0d0887"
             ],
             [
              0.1111111111111111,
              "#46039f"
             ],
             [
              0.2222222222222222,
              "#7201a8"
             ],
             [
              0.3333333333333333,
              "#9c179e"
             ],
             [
              0.4444444444444444,
              "#bd3786"
             ],
             [
              0.5555555555555556,
              "#d8576b"
             ],
             [
              0.6666666666666666,
              "#ed7953"
             ],
             [
              0.7777777777777778,
              "#fb9f3a"
             ],
             [
              0.8888888888888888,
              "#fdca26"
             ],
             [
              1,
              "#f0f921"
             ]
            ],
            "type": "heatmapgl"
           }
          ],
          "histogram": [
           {
            "marker": {
             "pattern": {
              "fillmode": "overlay",
              "size": 10,
              "solidity": 0.2
             }
            },
            "type": "histogram"
           }
          ],
          "histogram2d": [
           {
            "colorbar": {
             "outlinewidth": 0,
             "ticks": ""
            },
            "colorscale": [
             [
              0,
              "#0d0887"
             ],
             [
              0.1111111111111111,
              "#46039f"
             ],
             [
              0.2222222222222222,
              "#7201a8"
             ],
             [
              0.3333333333333333,
              "#9c179e"
             ],
             [
              0.4444444444444444,
              "#bd3786"
             ],
             [
              0.5555555555555556,
              "#d8576b"
             ],
             [
              0.6666666666666666,
              "#ed7953"
             ],
             [
              0.7777777777777778,
              "#fb9f3a"
             ],
             [
              0.8888888888888888,
              "#fdca26"
             ],
             [
              1,
              "#f0f921"
             ]
            ],
            "type": "histogram2d"
           }
          ],
          "histogram2dcontour": [
           {
            "colorbar": {
             "outlinewidth": 0,
             "ticks": ""
            },
            "colorscale": [
             [
              0,
              "#0d0887"
             ],
             [
              0.1111111111111111,
              "#46039f"
             ],
             [
              0.2222222222222222,
              "#7201a8"
             ],
             [
              0.3333333333333333,
              "#9c179e"
             ],
             [
              0.4444444444444444,
              "#bd3786"
             ],
             [
              0.5555555555555556,
              "#d8576b"
             ],
             [
              0.6666666666666666,
              "#ed7953"
             ],
             [
              0.7777777777777778,
              "#fb9f3a"
             ],
             [
              0.8888888888888888,
              "#fdca26"
             ],
             [
              1,
              "#f0f921"
             ]
            ],
            "type": "histogram2dcontour"
           }
          ],
          "mesh3d": [
           {
            "colorbar": {
             "outlinewidth": 0,
             "ticks": ""
            },
            "type": "mesh3d"
           }
          ],
          "parcoords": [
           {
            "line": {
             "colorbar": {
              "outlinewidth": 0,
              "ticks": ""
             }
            },
            "type": "parcoords"
           }
          ],
          "pie": [
           {
            "automargin": true,
            "type": "pie"
           }
          ],
          "scatter": [
           {
            "fillpattern": {
             "fillmode": "overlay",
             "size": 10,
             "solidity": 0.2
            },
            "type": "scatter"
           }
          ],
          "scatter3d": [
           {
            "line": {
             "colorbar": {
              "outlinewidth": 0,
              "ticks": ""
             }
            },
            "marker": {
             "colorbar": {
              "outlinewidth": 0,
              "ticks": ""
             }
            },
            "type": "scatter3d"
           }
          ],
          "scattercarpet": [
           {
            "marker": {
             "colorbar": {
              "outlinewidth": 0,
              "ticks": ""
             }
            },
            "type": "scattercarpet"
           }
          ],
          "scattergeo": [
           {
            "marker": {
             "colorbar": {
              "outlinewidth": 0,
              "ticks": ""
             }
            },
            "type": "scattergeo"
           }
          ],
          "scattergl": [
           {
            "marker": {
             "colorbar": {
              "outlinewidth": 0,
              "ticks": ""
             }
            },
            "type": "scattergl"
           }
          ],
          "scattermapbox": [
           {
            "marker": {
             "colorbar": {
              "outlinewidth": 0,
              "ticks": ""
             }
            },
            "type": "scattermapbox"
           }
          ],
          "scatterpolar": [
           {
            "marker": {
             "colorbar": {
              "outlinewidth": 0,
              "ticks": ""
             }
            },
            "type": "scatterpolar"
           }
          ],
          "scatterpolargl": [
           {
            "marker": {
             "colorbar": {
              "outlinewidth": 0,
              "ticks": ""
             }
            },
            "type": "scatterpolargl"
           }
          ],
          "scatterternary": [
           {
            "marker": {
             "colorbar": {
              "outlinewidth": 0,
              "ticks": ""
             }
            },
            "type": "scatterternary"
           }
          ],
          "surface": [
           {
            "colorbar": {
             "outlinewidth": 0,
             "ticks": ""
            },
            "colorscale": [
             [
              0,
              "#0d0887"
             ],
             [
              0.1111111111111111,
              "#46039f"
             ],
             [
              0.2222222222222222,
              "#7201a8"
             ],
             [
              0.3333333333333333,
              "#9c179e"
             ],
             [
              0.4444444444444444,
              "#bd3786"
             ],
             [
              0.5555555555555556,
              "#d8576b"
             ],
             [
              0.6666666666666666,
              "#ed7953"
             ],
             [
              0.7777777777777778,
              "#fb9f3a"
             ],
             [
              0.8888888888888888,
              "#fdca26"
             ],
             [
              1,
              "#f0f921"
             ]
            ],
            "type": "surface"
           }
          ],
          "table": [
           {
            "cells": {
             "fill": {
              "color": "#EBF0F8"
             },
             "line": {
              "color": "white"
             }
            },
            "header": {
             "fill": {
              "color": "#C8D4E3"
             },
             "line": {
              "color": "white"
             }
            },
            "type": "table"
           }
          ]
         },
         "layout": {
          "annotationdefaults": {
           "arrowcolor": "#2a3f5f",
           "arrowhead": 0,
           "arrowwidth": 1
          },
          "autotypenumbers": "strict",
          "coloraxis": {
           "colorbar": {
            "outlinewidth": 0,
            "ticks": ""
           }
          },
          "colorscale": {
           "diverging": [
            [
             0,
             "#8e0152"
            ],
            [
             0.1,
             "#c51b7d"
            ],
            [
             0.2,
             "#de77ae"
            ],
            [
             0.3,
             "#f1b6da"
            ],
            [
             0.4,
             "#fde0ef"
            ],
            [
             0.5,
             "#f7f7f7"
            ],
            [
             0.6,
             "#e6f5d0"
            ],
            [
             0.7,
             "#b8e186"
            ],
            [
             0.8,
             "#7fbc41"
            ],
            [
             0.9,
             "#4d9221"
            ],
            [
             1,
             "#276419"
            ]
           ],
           "sequential": [
            [
             0,
             "#0d0887"
            ],
            [
             0.1111111111111111,
             "#46039f"
            ],
            [
             0.2222222222222222,
             "#7201a8"
            ],
            [
             0.3333333333333333,
             "#9c179e"
            ],
            [
             0.4444444444444444,
             "#bd3786"
            ],
            [
             0.5555555555555556,
             "#d8576b"
            ],
            [
             0.6666666666666666,
             "#ed7953"
            ],
            [
             0.7777777777777778,
             "#fb9f3a"
            ],
            [
             0.8888888888888888,
             "#fdca26"
            ],
            [
             1,
             "#f0f921"
            ]
           ],
           "sequentialminus": [
            [
             0,
             "#0d0887"
            ],
            [
             0.1111111111111111,
             "#46039f"
            ],
            [
             0.2222222222222222,
             "#7201a8"
            ],
            [
             0.3333333333333333,
             "#9c179e"
            ],
            [
             0.4444444444444444,
             "#bd3786"
            ],
            [
             0.5555555555555556,
             "#d8576b"
            ],
            [
             0.6666666666666666,
             "#ed7953"
            ],
            [
             0.7777777777777778,
             "#fb9f3a"
            ],
            [
             0.8888888888888888,
             "#fdca26"
            ],
            [
             1,
             "#f0f921"
            ]
           ]
          },
          "colorway": [
           "#636efa",
           "#EF553B",
           "#00cc96",
           "#ab63fa",
           "#FFA15A",
           "#19d3f3",
           "#FF6692",
           "#B6E880",
           "#FF97FF",
           "#FECB52"
          ],
          "font": {
           "color": "#2a3f5f"
          },
          "geo": {
           "bgcolor": "white",
           "lakecolor": "white",
           "landcolor": "#E5ECF6",
           "showlakes": true,
           "showland": true,
           "subunitcolor": "white"
          },
          "hoverlabel": {
           "align": "left"
          },
          "hovermode": "closest",
          "mapbox": {
           "style": "light"
          },
          "paper_bgcolor": "white",
          "plot_bgcolor": "#E5ECF6",
          "polar": {
           "angularaxis": {
            "gridcolor": "white",
            "linecolor": "white",
            "ticks": ""
           },
           "bgcolor": "#E5ECF6",
           "radialaxis": {
            "gridcolor": "white",
            "linecolor": "white",
            "ticks": ""
           }
          },
          "scene": {
           "xaxis": {
            "backgroundcolor": "#E5ECF6",
            "gridcolor": "white",
            "gridwidth": 2,
            "linecolor": "white",
            "showbackground": true,
            "ticks": "",
            "zerolinecolor": "white"
           },
           "yaxis": {
            "backgroundcolor": "#E5ECF6",
            "gridcolor": "white",
            "gridwidth": 2,
            "linecolor": "white",
            "showbackground": true,
            "ticks": "",
            "zerolinecolor": "white"
           },
           "zaxis": {
            "backgroundcolor": "#E5ECF6",
            "gridcolor": "white",
            "gridwidth": 2,
            "linecolor": "white",
            "showbackground": true,
            "ticks": "",
            "zerolinecolor": "white"
           }
          },
          "shapedefaults": {
           "line": {
            "color": "#2a3f5f"
           }
          },
          "ternary": {
           "aaxis": {
            "gridcolor": "white",
            "linecolor": "white",
            "ticks": ""
           },
           "baxis": {
            "gridcolor": "white",
            "linecolor": "white",
            "ticks": ""
           },
           "bgcolor": "#E5ECF6",
           "caxis": {
            "gridcolor": "white",
            "linecolor": "white",
            "ticks": ""
           }
          },
          "title": {
           "x": 0.05
          },
          "xaxis": {
           "automargin": true,
           "gridcolor": "white",
           "linecolor": "white",
           "ticks": "",
           "title": {
            "standoff": 15
           },
           "zerolinecolor": "white",
           "zerolinewidth": 2
          },
          "yaxis": {
           "automargin": true,
           "gridcolor": "white",
           "linecolor": "white",
           "ticks": "",
           "title": {
            "standoff": 15
           },
           "zerolinecolor": "white",
           "zerolinewidth": 2
          }
         }
        }
       }
      },
      "text/html": [
       "<div>                            <div id=\"41240156-01ab-4305-a72c-9b84700032a6\" class=\"plotly-graph-div\" style=\"height:525px; width:100%;\"></div>            <script type=\"text/javascript\">                require([\"plotly\"], function(Plotly) {                    window.PLOTLYENV=window.PLOTLYENV || {};                                    if (document.getElementById(\"41240156-01ab-4305-a72c-9b84700032a6\")) {                    Plotly.newPlot(                        \"41240156-01ab-4305-a72c-9b84700032a6\",                        [{\"domain\":{\"x\":[0.0,0.45],\"y\":[0.0,1.0]},\"labels\":[\"Cedar Rapids\",\"Davenport\",\"Des Moines\",\"Other\",\"Sioux City\",\"Waterloo\"],\"title\":{\"text\":\"Top 5 cities by volume_sold_liters in January 2018\"},\"values\":[71244.73,41973.37,90568.05,826627.86,38500.12,37394.87],\"type\":\"pie\"},{\"domain\":{\"x\":[0.55,1.0],\"y\":[0.0,1.0]},\"labels\":[\"Cedar Rapids\",\"Davenport\",\"Des Moines\",\"Other\",\"Sioux City\",\"West Des Moines\"],\"title\":{\"text\":\"Top 5 cities by volume_sold_liters in January 2022\"},\"values\":[63065.64,40233.11,81432.71,781570.83,31164.92,33251.1],\"type\":\"pie\"}],                        {\"template\":{\"data\":{\"barpolar\":[{\"marker\":{\"line\":{\"color\":\"#E5ECF6\",\"width\":0.5},\"pattern\":{\"fillmode\":\"overlay\",\"size\":10,\"solidity\":0.2}},\"type\":\"barpolar\"}],\"bar\":[{\"error_x\":{\"color\":\"#2a3f5f\"},\"error_y\":{\"color\":\"#2a3f5f\"},\"marker\":{\"line\":{\"color\":\"#E5ECF6\",\"width\":0.5},\"pattern\":{\"fillmode\":\"overlay\",\"size\":10,\"solidity\":0.2}},\"type\":\"bar\"}],\"carpet\":[{\"aaxis\":{\"endlinecolor\":\"#2a3f5f\",\"gridcolor\":\"white\",\"linecolor\":\"white\",\"minorgridcolor\":\"white\",\"startlinecolor\":\"#2a3f5f\"},\"baxis\":{\"endlinecolor\":\"#2a3f5f\",\"gridcolor\":\"white\",\"linecolor\":\"white\",\"minorgridcolor\":\"white\",\"startlinecolor\":\"#2a3f5f\"},\"type\":\"carpet\"}],\"choropleth\":[{\"colorbar\":{\"outlinewidth\":0,\"ticks\":\"\"},\"type\":\"choropleth\"}],\"contourcarpet\":[{\"colorbar\":{\"outlinewidth\":0,\"ticks\":\"\"},\"type\":\"contourcarpet\"}],\"contour\":[{\"colorbar\":{\"outlinewidth\":0,\"ticks\":\"\"},\"colorscale\":[[0.0,\"#0d0887\"],[0.1111111111111111,\"#46039f\"],[0.2222222222222222,\"#7201a8\"],[0.3333333333333333,\"#9c179e\"],[0.4444444444444444,\"#bd3786\"],[0.5555555555555556,\"#d8576b\"],[0.6666666666666666,\"#ed7953\"],[0.7777777777777778,\"#fb9f3a\"],[0.8888888888888888,\"#fdca26\"],[1.0,\"#f0f921\"]],\"type\":\"contour\"}],\"heatmapgl\":[{\"colorbar\":{\"outlinewidth\":0,\"ticks\":\"\"},\"colorscale\":[[0.0,\"#0d0887\"],[0.1111111111111111,\"#46039f\"],[0.2222222222222222,\"#7201a8\"],[0.3333333333333333,\"#9c179e\"],[0.4444444444444444,\"#bd3786\"],[0.5555555555555556,\"#d8576b\"],[0.6666666666666666,\"#ed7953\"],[0.7777777777777778,\"#fb9f3a\"],[0.8888888888888888,\"#fdca26\"],[1.0,\"#f0f921\"]],\"type\":\"heatmapgl\"}],\"heatmap\":[{\"colorbar\":{\"outlinewidth\":0,\"ticks\":\"\"},\"colorscale\":[[0.0,\"#0d0887\"],[0.1111111111111111,\"#46039f\"],[0.2222222222222222,\"#7201a8\"],[0.3333333333333333,\"#9c179e\"],[0.4444444444444444,\"#bd3786\"],[0.5555555555555556,\"#d8576b\"],[0.6666666666666666,\"#ed7953\"],[0.7777777777777778,\"#fb9f3a\"],[0.8888888888888888,\"#fdca26\"],[1.0,\"#f0f921\"]],\"type\":\"heatmap\"}],\"histogram2dcontour\":[{\"colorbar\":{\"outlinewidth\":0,\"ticks\":\"\"},\"colorscale\":[[0.0,\"#0d0887\"],[0.1111111111111111,\"#46039f\"],[0.2222222222222222,\"#7201a8\"],[0.3333333333333333,\"#9c179e\"],[0.4444444444444444,\"#bd3786\"],[0.5555555555555556,\"#d8576b\"],[0.6666666666666666,\"#ed7953\"],[0.7777777777777778,\"#fb9f3a\"],[0.8888888888888888,\"#fdca26\"],[1.0,\"#f0f921\"]],\"type\":\"histogram2dcontour\"}],\"histogram2d\":[{\"colorbar\":{\"outlinewidth\":0,\"ticks\":\"\"},\"colorscale\":[[0.0,\"#0d0887\"],[0.1111111111111111,\"#46039f\"],[0.2222222222222222,\"#7201a8\"],[0.3333333333333333,\"#9c179e\"],[0.4444444444444444,\"#bd3786\"],[0.5555555555555556,\"#d8576b\"],[0.6666666666666666,\"#ed7953\"],[0.7777777777777778,\"#fb9f3a\"],[0.8888888888888888,\"#fdca26\"],[1.0,\"#f0f921\"]],\"type\":\"histogram2d\"}],\"histogram\":[{\"marker\":{\"pattern\":{\"fillmode\":\"overlay\",\"size\":10,\"solidity\":0.2}},\"type\":\"histogram\"}],\"mesh3d\":[{\"colorbar\":{\"outlinewidth\":0,\"ticks\":\"\"},\"type\":\"mesh3d\"}],\"parcoords\":[{\"line\":{\"colorbar\":{\"outlinewidth\":0,\"ticks\":\"\"}},\"type\":\"parcoords\"}],\"pie\":[{\"automargin\":true,\"type\":\"pie\"}],\"scatter3d\":[{\"line\":{\"colorbar\":{\"outlinewidth\":0,\"ticks\":\"\"}},\"marker\":{\"colorbar\":{\"outlinewidth\":0,\"ticks\":\"\"}},\"type\":\"scatter3d\"}],\"scattercarpet\":[{\"marker\":{\"colorbar\":{\"outlinewidth\":0,\"ticks\":\"\"}},\"type\":\"scattercarpet\"}],\"scattergeo\":[{\"marker\":{\"colorbar\":{\"outlinewidth\":0,\"ticks\":\"\"}},\"type\":\"scattergeo\"}],\"scattergl\":[{\"marker\":{\"colorbar\":{\"outlinewidth\":0,\"ticks\":\"\"}},\"type\":\"scattergl\"}],\"scattermapbox\":[{\"marker\":{\"colorbar\":{\"outlinewidth\":0,\"ticks\":\"\"}},\"type\":\"scattermapbox\"}],\"scatterpolargl\":[{\"marker\":{\"colorbar\":{\"outlinewidth\":0,\"ticks\":\"\"}},\"type\":\"scatterpolargl\"}],\"scatterpolar\":[{\"marker\":{\"colorbar\":{\"outlinewidth\":0,\"ticks\":\"\"}},\"type\":\"scatterpolar\"}],\"scatter\":[{\"fillpattern\":{\"fillmode\":\"overlay\",\"size\":10,\"solidity\":0.2},\"type\":\"scatter\"}],\"scatterternary\":[{\"marker\":{\"colorbar\":{\"outlinewidth\":0,\"ticks\":\"\"}},\"type\":\"scatterternary\"}],\"surface\":[{\"colorbar\":{\"outlinewidth\":0,\"ticks\":\"\"},\"colorscale\":[[0.0,\"#0d0887\"],[0.1111111111111111,\"#46039f\"],[0.2222222222222222,\"#7201a8\"],[0.3333333333333333,\"#9c179e\"],[0.4444444444444444,\"#bd3786\"],[0.5555555555555556,\"#d8576b\"],[0.6666666666666666,\"#ed7953\"],[0.7777777777777778,\"#fb9f3a\"],[0.8888888888888888,\"#fdca26\"],[1.0,\"#f0f921\"]],\"type\":\"surface\"}],\"table\":[{\"cells\":{\"fill\":{\"color\":\"#EBF0F8\"},\"line\":{\"color\":\"white\"}},\"header\":{\"fill\":{\"color\":\"#C8D4E3\"},\"line\":{\"color\":\"white\"}},\"type\":\"table\"}]},\"layout\":{\"annotationdefaults\":{\"arrowcolor\":\"#2a3f5f\",\"arrowhead\":0,\"arrowwidth\":1},\"autotypenumbers\":\"strict\",\"coloraxis\":{\"colorbar\":{\"outlinewidth\":0,\"ticks\":\"\"}},\"colorscale\":{\"diverging\":[[0,\"#8e0152\"],[0.1,\"#c51b7d\"],[0.2,\"#de77ae\"],[0.3,\"#f1b6da\"],[0.4,\"#fde0ef\"],[0.5,\"#f7f7f7\"],[0.6,\"#e6f5d0\"],[0.7,\"#b8e186\"],[0.8,\"#7fbc41\"],[0.9,\"#4d9221\"],[1,\"#276419\"]],\"sequential\":[[0.0,\"#0d0887\"],[0.1111111111111111,\"#46039f\"],[0.2222222222222222,\"#7201a8\"],[0.3333333333333333,\"#9c179e\"],[0.4444444444444444,\"#bd3786\"],[0.5555555555555556,\"#d8576b\"],[0.6666666666666666,\"#ed7953\"],[0.7777777777777778,\"#fb9f3a\"],[0.8888888888888888,\"#fdca26\"],[1.0,\"#f0f921\"]],\"sequentialminus\":[[0.0,\"#0d0887\"],[0.1111111111111111,\"#46039f\"],[0.2222222222222222,\"#7201a8\"],[0.3333333333333333,\"#9c179e\"],[0.4444444444444444,\"#bd3786\"],[0.5555555555555556,\"#d8576b\"],[0.6666666666666666,\"#ed7953\"],[0.7777777777777778,\"#fb9f3a\"],[0.8888888888888888,\"#fdca26\"],[1.0,\"#f0f921\"]]},\"colorway\":[\"#636efa\",\"#EF553B\",\"#00cc96\",\"#ab63fa\",\"#FFA15A\",\"#19d3f3\",\"#FF6692\",\"#B6E880\",\"#FF97FF\",\"#FECB52\"],\"font\":{\"color\":\"#2a3f5f\"},\"geo\":{\"bgcolor\":\"white\",\"lakecolor\":\"white\",\"landcolor\":\"#E5ECF6\",\"showlakes\":true,\"showland\":true,\"subunitcolor\":\"white\"},\"hoverlabel\":{\"align\":\"left\"},\"hovermode\":\"closest\",\"mapbox\":{\"style\":\"light\"},\"paper_bgcolor\":\"white\",\"plot_bgcolor\":\"#E5ECF6\",\"polar\":{\"angularaxis\":{\"gridcolor\":\"white\",\"linecolor\":\"white\",\"ticks\":\"\"},\"bgcolor\":\"#E5ECF6\",\"radialaxis\":{\"gridcolor\":\"white\",\"linecolor\":\"white\",\"ticks\":\"\"}},\"scene\":{\"xaxis\":{\"backgroundcolor\":\"#E5ECF6\",\"gridcolor\":\"white\",\"gridwidth\":2,\"linecolor\":\"white\",\"showbackground\":true,\"ticks\":\"\",\"zerolinecolor\":\"white\"},\"yaxis\":{\"backgroundcolor\":\"#E5ECF6\",\"gridcolor\":\"white\",\"gridwidth\":2,\"linecolor\":\"white\",\"showbackground\":true,\"ticks\":\"\",\"zerolinecolor\":\"white\"},\"zaxis\":{\"backgroundcolor\":\"#E5ECF6\",\"gridcolor\":\"white\",\"gridwidth\":2,\"linecolor\":\"white\",\"showbackground\":true,\"ticks\":\"\",\"zerolinecolor\":\"white\"}},\"shapedefaults\":{\"line\":{\"color\":\"#2a3f5f\"}},\"ternary\":{\"aaxis\":{\"gridcolor\":\"white\",\"linecolor\":\"white\",\"ticks\":\"\"},\"baxis\":{\"gridcolor\":\"white\",\"linecolor\":\"white\",\"ticks\":\"\"},\"bgcolor\":\"#E5ECF6\",\"caxis\":{\"gridcolor\":\"white\",\"linecolor\":\"white\",\"ticks\":\"\"}},\"title\":{\"x\":0.05},\"xaxis\":{\"automargin\":true,\"gridcolor\":\"white\",\"linecolor\":\"white\",\"ticks\":\"\",\"title\":{\"standoff\":15},\"zerolinecolor\":\"white\",\"zerolinewidth\":2},\"yaxis\":{\"automargin\":true,\"gridcolor\":\"white\",\"linecolor\":\"white\",\"ticks\":\"\",\"title\":{\"standoff\":15},\"zerolinecolor\":\"white\",\"zerolinewidth\":2}}}},                        {\"responsive\": true}                    ).then(function(){\n",
       "                            \n",
       "var gd = document.getElementById('41240156-01ab-4305-a72c-9b84700032a6');\n",
       "var x = new MutationObserver(function (mutations, observer) {{\n",
       "        var display = window.getComputedStyle(gd).display;\n",
       "        if (!display || display === 'none') {{\n",
       "            console.log([gd, 'removed!']);\n",
       "            Plotly.purge(gd);\n",
       "            observer.disconnect();\n",
       "        }}\n",
       "}});\n",
       "\n",
       "// Listen for the removal of the full notebook cells\n",
       "var notebookContainer = gd.closest('#notebook-container');\n",
       "if (notebookContainer) {{\n",
       "    x.observe(notebookContainer, {childList: true});\n",
       "}}\n",
       "\n",
       "// Listen for the clearing of the current output cell\n",
       "var outputEl = gd.closest('.output');\n",
       "if (outputEl) {{\n",
       "    x.observe(outputEl, {childList: true});\n",
       "}}\n",
       "\n",
       "                        })                };                });            </script>        </div>"
      ]
     },
     "metadata": {},
     "output_type": "display_data"
    },
    {
     "data": {
      "application/vnd.plotly.v1+json": {
       "config": {
        "linkText": "Export to plot.ly",
        "plotlyServerURL": "https://plot.ly",
        "showLink": false
       },
       "data": [
        {
         "domain": {
          "x": [
           0,
           0.45
          ],
          "y": [
           0,
           1
          ]
         },
         "labels": [
          "Cedar Rapids",
          "Davenport",
          "Des Moines",
          "Other",
          "Sioux City",
          "Waterloo"
         ],
         "title": {
          "text": "Top 5 cities by sale_dollars in January 2018"
         },
         "type": "pie",
         "values": [
          1042309.91,
          604944.92,
          1408889.06,
          11853370.06,
          580010.3,
          554839.38
         ]
        },
        {
         "domain": {
          "x": [
           0.55,
           1
          ],
          "y": [
           0,
           1
          ]
         },
         "labels": [
          "Cedar Rapids",
          "Davenport",
          "Des Moines",
          "Other",
          "Sioux City",
          "West Des Moines"
         ],
         "title": {
          "text": "Top 5 cities by sale_dollars in January 2022"
         },
         "type": "pie",
         "values": [
          1158455.01,
          745652.85,
          1547556.91,
          13392044.95,
          561632.42,
          693374.84
         ]
        }
       ],
       "layout": {
        "template": {
         "data": {
          "bar": [
           {
            "error_x": {
             "color": "#2a3f5f"
            },
            "error_y": {
             "color": "#2a3f5f"
            },
            "marker": {
             "line": {
              "color": "#E5ECF6",
              "width": 0.5
             },
             "pattern": {
              "fillmode": "overlay",
              "size": 10,
              "solidity": 0.2
             }
            },
            "type": "bar"
           }
          ],
          "barpolar": [
           {
            "marker": {
             "line": {
              "color": "#E5ECF6",
              "width": 0.5
             },
             "pattern": {
              "fillmode": "overlay",
              "size": 10,
              "solidity": 0.2
             }
            },
            "type": "barpolar"
           }
          ],
          "carpet": [
           {
            "aaxis": {
             "endlinecolor": "#2a3f5f",
             "gridcolor": "white",
             "linecolor": "white",
             "minorgridcolor": "white",
             "startlinecolor": "#2a3f5f"
            },
            "baxis": {
             "endlinecolor": "#2a3f5f",
             "gridcolor": "white",
             "linecolor": "white",
             "minorgridcolor": "white",
             "startlinecolor": "#2a3f5f"
            },
            "type": "carpet"
           }
          ],
          "choropleth": [
           {
            "colorbar": {
             "outlinewidth": 0,
             "ticks": ""
            },
            "type": "choropleth"
           }
          ],
          "contour": [
           {
            "colorbar": {
             "outlinewidth": 0,
             "ticks": ""
            },
            "colorscale": [
             [
              0,
              "#0d0887"
             ],
             [
              0.1111111111111111,
              "#46039f"
             ],
             [
              0.2222222222222222,
              "#7201a8"
             ],
             [
              0.3333333333333333,
              "#9c179e"
             ],
             [
              0.4444444444444444,
              "#bd3786"
             ],
             [
              0.5555555555555556,
              "#d8576b"
             ],
             [
              0.6666666666666666,
              "#ed7953"
             ],
             [
              0.7777777777777778,
              "#fb9f3a"
             ],
             [
              0.8888888888888888,
              "#fdca26"
             ],
             [
              1,
              "#f0f921"
             ]
            ],
            "type": "contour"
           }
          ],
          "contourcarpet": [
           {
            "colorbar": {
             "outlinewidth": 0,
             "ticks": ""
            },
            "type": "contourcarpet"
           }
          ],
          "heatmap": [
           {
            "colorbar": {
             "outlinewidth": 0,
             "ticks": ""
            },
            "colorscale": [
             [
              0,
              "#0d0887"
             ],
             [
              0.1111111111111111,
              "#46039f"
             ],
             [
              0.2222222222222222,
              "#7201a8"
             ],
             [
              0.3333333333333333,
              "#9c179e"
             ],
             [
              0.4444444444444444,
              "#bd3786"
             ],
             [
              0.5555555555555556,
              "#d8576b"
             ],
             [
              0.6666666666666666,
              "#ed7953"
             ],
             [
              0.7777777777777778,
              "#fb9f3a"
             ],
             [
              0.8888888888888888,
              "#fdca26"
             ],
             [
              1,
              "#f0f921"
             ]
            ],
            "type": "heatmap"
           }
          ],
          "heatmapgl": [
           {
            "colorbar": {
             "outlinewidth": 0,
             "ticks": ""
            },
            "colorscale": [
             [
              0,
              "#0d0887"
             ],
             [
              0.1111111111111111,
              "#46039f"
             ],
             [
              0.2222222222222222,
              "#7201a8"
             ],
             [
              0.3333333333333333,
              "#9c179e"
             ],
             [
              0.4444444444444444,
              "#bd3786"
             ],
             [
              0.5555555555555556,
              "#d8576b"
             ],
             [
              0.6666666666666666,
              "#ed7953"
             ],
             [
              0.7777777777777778,
              "#fb9f3a"
             ],
             [
              0.8888888888888888,
              "#fdca26"
             ],
             [
              1,
              "#f0f921"
             ]
            ],
            "type": "heatmapgl"
           }
          ],
          "histogram": [
           {
            "marker": {
             "pattern": {
              "fillmode": "overlay",
              "size": 10,
              "solidity": 0.2
             }
            },
            "type": "histogram"
           }
          ],
          "histogram2d": [
           {
            "colorbar": {
             "outlinewidth": 0,
             "ticks": ""
            },
            "colorscale": [
             [
              0,
              "#0d0887"
             ],
             [
              0.1111111111111111,
              "#46039f"
             ],
             [
              0.2222222222222222,
              "#7201a8"
             ],
             [
              0.3333333333333333,
              "#9c179e"
             ],
             [
              0.4444444444444444,
              "#bd3786"
             ],
             [
              0.5555555555555556,
              "#d8576b"
             ],
             [
              0.6666666666666666,
              "#ed7953"
             ],
             [
              0.7777777777777778,
              "#fb9f3a"
             ],
             [
              0.8888888888888888,
              "#fdca26"
             ],
             [
              1,
              "#f0f921"
             ]
            ],
            "type": "histogram2d"
           }
          ],
          "histogram2dcontour": [
           {
            "colorbar": {
             "outlinewidth": 0,
             "ticks": ""
            },
            "colorscale": [
             [
              0,
              "#0d0887"
             ],
             [
              0.1111111111111111,
              "#46039f"
             ],
             [
              0.2222222222222222,
              "#7201a8"
             ],
             [
              0.3333333333333333,
              "#9c179e"
             ],
             [
              0.4444444444444444,
              "#bd3786"
             ],
             [
              0.5555555555555556,
              "#d8576b"
             ],
             [
              0.6666666666666666,
              "#ed7953"
             ],
             [
              0.7777777777777778,
              "#fb9f3a"
             ],
             [
              0.8888888888888888,
              "#fdca26"
             ],
             [
              1,
              "#f0f921"
             ]
            ],
            "type": "histogram2dcontour"
           }
          ],
          "mesh3d": [
           {
            "colorbar": {
             "outlinewidth": 0,
             "ticks": ""
            },
            "type": "mesh3d"
           }
          ],
          "parcoords": [
           {
            "line": {
             "colorbar": {
              "outlinewidth": 0,
              "ticks": ""
             }
            },
            "type": "parcoords"
           }
          ],
          "pie": [
           {
            "automargin": true,
            "type": "pie"
           }
          ],
          "scatter": [
           {
            "fillpattern": {
             "fillmode": "overlay",
             "size": 10,
             "solidity": 0.2
            },
            "type": "scatter"
           }
          ],
          "scatter3d": [
           {
            "line": {
             "colorbar": {
              "outlinewidth": 0,
              "ticks": ""
             }
            },
            "marker": {
             "colorbar": {
              "outlinewidth": 0,
              "ticks": ""
             }
            },
            "type": "scatter3d"
           }
          ],
          "scattercarpet": [
           {
            "marker": {
             "colorbar": {
              "outlinewidth": 0,
              "ticks": ""
             }
            },
            "type": "scattercarpet"
           }
          ],
          "scattergeo": [
           {
            "marker": {
             "colorbar": {
              "outlinewidth": 0,
              "ticks": ""
             }
            },
            "type": "scattergeo"
           }
          ],
          "scattergl": [
           {
            "marker": {
             "colorbar": {
              "outlinewidth": 0,
              "ticks": ""
             }
            },
            "type": "scattergl"
           }
          ],
          "scattermapbox": [
           {
            "marker": {
             "colorbar": {
              "outlinewidth": 0,
              "ticks": ""
             }
            },
            "type": "scattermapbox"
           }
          ],
          "scatterpolar": [
           {
            "marker": {
             "colorbar": {
              "outlinewidth": 0,
              "ticks": ""
             }
            },
            "type": "scatterpolar"
           }
          ],
          "scatterpolargl": [
           {
            "marker": {
             "colorbar": {
              "outlinewidth": 0,
              "ticks": ""
             }
            },
            "type": "scatterpolargl"
           }
          ],
          "scatterternary": [
           {
            "marker": {
             "colorbar": {
              "outlinewidth": 0,
              "ticks": ""
             }
            },
            "type": "scatterternary"
           }
          ],
          "surface": [
           {
            "colorbar": {
             "outlinewidth": 0,
             "ticks": ""
            },
            "colorscale": [
             [
              0,
              "#0d0887"
             ],
             [
              0.1111111111111111,
              "#46039f"
             ],
             [
              0.2222222222222222,
              "#7201a8"
             ],
             [
              0.3333333333333333,
              "#9c179e"
             ],
             [
              0.4444444444444444,
              "#bd3786"
             ],
             [
              0.5555555555555556,
              "#d8576b"
             ],
             [
              0.6666666666666666,
              "#ed7953"
             ],
             [
              0.7777777777777778,
              "#fb9f3a"
             ],
             [
              0.8888888888888888,
              "#fdca26"
             ],
             [
              1,
              "#f0f921"
             ]
            ],
            "type": "surface"
           }
          ],
          "table": [
           {
            "cells": {
             "fill": {
              "color": "#EBF0F8"
             },
             "line": {
              "color": "white"
             }
            },
            "header": {
             "fill": {
              "color": "#C8D4E3"
             },
             "line": {
              "color": "white"
             }
            },
            "type": "table"
           }
          ]
         },
         "layout": {
          "annotationdefaults": {
           "arrowcolor": "#2a3f5f",
           "arrowhead": 0,
           "arrowwidth": 1
          },
          "autotypenumbers": "strict",
          "coloraxis": {
           "colorbar": {
            "outlinewidth": 0,
            "ticks": ""
           }
          },
          "colorscale": {
           "diverging": [
            [
             0,
             "#8e0152"
            ],
            [
             0.1,
             "#c51b7d"
            ],
            [
             0.2,
             "#de77ae"
            ],
            [
             0.3,
             "#f1b6da"
            ],
            [
             0.4,
             "#fde0ef"
            ],
            [
             0.5,
             "#f7f7f7"
            ],
            [
             0.6,
             "#e6f5d0"
            ],
            [
             0.7,
             "#b8e186"
            ],
            [
             0.8,
             "#7fbc41"
            ],
            [
             0.9,
             "#4d9221"
            ],
            [
             1,
             "#276419"
            ]
           ],
           "sequential": [
            [
             0,
             "#0d0887"
            ],
            [
             0.1111111111111111,
             "#46039f"
            ],
            [
             0.2222222222222222,
             "#7201a8"
            ],
            [
             0.3333333333333333,
             "#9c179e"
            ],
            [
             0.4444444444444444,
             "#bd3786"
            ],
            [
             0.5555555555555556,
             "#d8576b"
            ],
            [
             0.6666666666666666,
             "#ed7953"
            ],
            [
             0.7777777777777778,
             "#fb9f3a"
            ],
            [
             0.8888888888888888,
             "#fdca26"
            ],
            [
             1,
             "#f0f921"
            ]
           ],
           "sequentialminus": [
            [
             0,
             "#0d0887"
            ],
            [
             0.1111111111111111,
             "#46039f"
            ],
            [
             0.2222222222222222,
             "#7201a8"
            ],
            [
             0.3333333333333333,
             "#9c179e"
            ],
            [
             0.4444444444444444,
             "#bd3786"
            ],
            [
             0.5555555555555556,
             "#d8576b"
            ],
            [
             0.6666666666666666,
             "#ed7953"
            ],
            [
             0.7777777777777778,
             "#fb9f3a"
            ],
            [
             0.8888888888888888,
             "#fdca26"
            ],
            [
             1,
             "#f0f921"
            ]
           ]
          },
          "colorway": [
           "#636efa",
           "#EF553B",
           "#00cc96",
           "#ab63fa",
           "#FFA15A",
           "#19d3f3",
           "#FF6692",
           "#B6E880",
           "#FF97FF",
           "#FECB52"
          ],
          "font": {
           "color": "#2a3f5f"
          },
          "geo": {
           "bgcolor": "white",
           "lakecolor": "white",
           "landcolor": "#E5ECF6",
           "showlakes": true,
           "showland": true,
           "subunitcolor": "white"
          },
          "hoverlabel": {
           "align": "left"
          },
          "hovermode": "closest",
          "mapbox": {
           "style": "light"
          },
          "paper_bgcolor": "white",
          "plot_bgcolor": "#E5ECF6",
          "polar": {
           "angularaxis": {
            "gridcolor": "white",
            "linecolor": "white",
            "ticks": ""
           },
           "bgcolor": "#E5ECF6",
           "radialaxis": {
            "gridcolor": "white",
            "linecolor": "white",
            "ticks": ""
           }
          },
          "scene": {
           "xaxis": {
            "backgroundcolor": "#E5ECF6",
            "gridcolor": "white",
            "gridwidth": 2,
            "linecolor": "white",
            "showbackground": true,
            "ticks": "",
            "zerolinecolor": "white"
           },
           "yaxis": {
            "backgroundcolor": "#E5ECF6",
            "gridcolor": "white",
            "gridwidth": 2,
            "linecolor": "white",
            "showbackground": true,
            "ticks": "",
            "zerolinecolor": "white"
           },
           "zaxis": {
            "backgroundcolor": "#E5ECF6",
            "gridcolor": "white",
            "gridwidth": 2,
            "linecolor": "white",
            "showbackground": true,
            "ticks": "",
            "zerolinecolor": "white"
           }
          },
          "shapedefaults": {
           "line": {
            "color": "#2a3f5f"
           }
          },
          "ternary": {
           "aaxis": {
            "gridcolor": "white",
            "linecolor": "white",
            "ticks": ""
           },
           "baxis": {
            "gridcolor": "white",
            "linecolor": "white",
            "ticks": ""
           },
           "bgcolor": "#E5ECF6",
           "caxis": {
            "gridcolor": "white",
            "linecolor": "white",
            "ticks": ""
           }
          },
          "title": {
           "x": 0.05
          },
          "xaxis": {
           "automargin": true,
           "gridcolor": "white",
           "linecolor": "white",
           "ticks": "",
           "title": {
            "standoff": 15
           },
           "zerolinecolor": "white",
           "zerolinewidth": 2
          },
          "yaxis": {
           "automargin": true,
           "gridcolor": "white",
           "linecolor": "white",
           "ticks": "",
           "title": {
            "standoff": 15
           },
           "zerolinecolor": "white",
           "zerolinewidth": 2
          }
         }
        }
       }
      },
      "text/html": [
       "<div>                            <div id=\"40d7ad86-e17f-4e91-8c34-5ae1ed9fff19\" class=\"plotly-graph-div\" style=\"height:525px; width:100%;\"></div>            <script type=\"text/javascript\">                require([\"plotly\"], function(Plotly) {                    window.PLOTLYENV=window.PLOTLYENV || {};                                    if (document.getElementById(\"40d7ad86-e17f-4e91-8c34-5ae1ed9fff19\")) {                    Plotly.newPlot(                        \"40d7ad86-e17f-4e91-8c34-5ae1ed9fff19\",                        [{\"domain\":{\"x\":[0.0,0.45],\"y\":[0.0,1.0]},\"labels\":[\"Cedar Rapids\",\"Davenport\",\"Des Moines\",\"Other\",\"Sioux City\",\"Waterloo\"],\"title\":{\"text\":\"Top 5 cities by sale_dollars in January 2018\"},\"values\":[1042309.91,604944.92,1408889.06,11853370.06,580010.3,554839.38],\"type\":\"pie\"},{\"domain\":{\"x\":[0.55,1.0],\"y\":[0.0,1.0]},\"labels\":[\"Cedar Rapids\",\"Davenport\",\"Des Moines\",\"Other\",\"Sioux City\",\"West Des Moines\"],\"title\":{\"text\":\"Top 5 cities by sale_dollars in January 2022\"},\"values\":[1158455.01,745652.85,1547556.91,13392044.95,561632.42,693374.84],\"type\":\"pie\"}],                        {\"template\":{\"data\":{\"barpolar\":[{\"marker\":{\"line\":{\"color\":\"#E5ECF6\",\"width\":0.5},\"pattern\":{\"fillmode\":\"overlay\",\"size\":10,\"solidity\":0.2}},\"type\":\"barpolar\"}],\"bar\":[{\"error_x\":{\"color\":\"#2a3f5f\"},\"error_y\":{\"color\":\"#2a3f5f\"},\"marker\":{\"line\":{\"color\":\"#E5ECF6\",\"width\":0.5},\"pattern\":{\"fillmode\":\"overlay\",\"size\":10,\"solidity\":0.2}},\"type\":\"bar\"}],\"carpet\":[{\"aaxis\":{\"endlinecolor\":\"#2a3f5f\",\"gridcolor\":\"white\",\"linecolor\":\"white\",\"minorgridcolor\":\"white\",\"startlinecolor\":\"#2a3f5f\"},\"baxis\":{\"endlinecolor\":\"#2a3f5f\",\"gridcolor\":\"white\",\"linecolor\":\"white\",\"minorgridcolor\":\"white\",\"startlinecolor\":\"#2a3f5f\"},\"type\":\"carpet\"}],\"choropleth\":[{\"colorbar\":{\"outlinewidth\":0,\"ticks\":\"\"},\"type\":\"choropleth\"}],\"contourcarpet\":[{\"colorbar\":{\"outlinewidth\":0,\"ticks\":\"\"},\"type\":\"contourcarpet\"}],\"contour\":[{\"colorbar\":{\"outlinewidth\":0,\"ticks\":\"\"},\"colorscale\":[[0.0,\"#0d0887\"],[0.1111111111111111,\"#46039f\"],[0.2222222222222222,\"#7201a8\"],[0.3333333333333333,\"#9c179e\"],[0.4444444444444444,\"#bd3786\"],[0.5555555555555556,\"#d8576b\"],[0.6666666666666666,\"#ed7953\"],[0.7777777777777778,\"#fb9f3a\"],[0.8888888888888888,\"#fdca26\"],[1.0,\"#f0f921\"]],\"type\":\"contour\"}],\"heatmapgl\":[{\"colorbar\":{\"outlinewidth\":0,\"ticks\":\"\"},\"colorscale\":[[0.0,\"#0d0887\"],[0.1111111111111111,\"#46039f\"],[0.2222222222222222,\"#7201a8\"],[0.3333333333333333,\"#9c179e\"],[0.4444444444444444,\"#bd3786\"],[0.5555555555555556,\"#d8576b\"],[0.6666666666666666,\"#ed7953\"],[0.7777777777777778,\"#fb9f3a\"],[0.8888888888888888,\"#fdca26\"],[1.0,\"#f0f921\"]],\"type\":\"heatmapgl\"}],\"heatmap\":[{\"colorbar\":{\"outlinewidth\":0,\"ticks\":\"\"},\"colorscale\":[[0.0,\"#0d0887\"],[0.1111111111111111,\"#46039f\"],[0.2222222222222222,\"#7201a8\"],[0.3333333333333333,\"#9c179e\"],[0.4444444444444444,\"#bd3786\"],[0.5555555555555556,\"#d8576b\"],[0.6666666666666666,\"#ed7953\"],[0.7777777777777778,\"#fb9f3a\"],[0.8888888888888888,\"#fdca26\"],[1.0,\"#f0f921\"]],\"type\":\"heatmap\"}],\"histogram2dcontour\":[{\"colorbar\":{\"outlinewidth\":0,\"ticks\":\"\"},\"colorscale\":[[0.0,\"#0d0887\"],[0.1111111111111111,\"#46039f\"],[0.2222222222222222,\"#7201a8\"],[0.3333333333333333,\"#9c179e\"],[0.4444444444444444,\"#bd3786\"],[0.5555555555555556,\"#d8576b\"],[0.6666666666666666,\"#ed7953\"],[0.7777777777777778,\"#fb9f3a\"],[0.8888888888888888,\"#fdca26\"],[1.0,\"#f0f921\"]],\"type\":\"histogram2dcontour\"}],\"histogram2d\":[{\"colorbar\":{\"outlinewidth\":0,\"ticks\":\"\"},\"colorscale\":[[0.0,\"#0d0887\"],[0.1111111111111111,\"#46039f\"],[0.2222222222222222,\"#7201a8\"],[0.3333333333333333,\"#9c179e\"],[0.4444444444444444,\"#bd3786\"],[0.5555555555555556,\"#d8576b\"],[0.6666666666666666,\"#ed7953\"],[0.7777777777777778,\"#fb9f3a\"],[0.8888888888888888,\"#fdca26\"],[1.0,\"#f0f921\"]],\"type\":\"histogram2d\"}],\"histogram\":[{\"marker\":{\"pattern\":{\"fillmode\":\"overlay\",\"size\":10,\"solidity\":0.2}},\"type\":\"histogram\"}],\"mesh3d\":[{\"colorbar\":{\"outlinewidth\":0,\"ticks\":\"\"},\"type\":\"mesh3d\"}],\"parcoords\":[{\"line\":{\"colorbar\":{\"outlinewidth\":0,\"ticks\":\"\"}},\"type\":\"parcoords\"}],\"pie\":[{\"automargin\":true,\"type\":\"pie\"}],\"scatter3d\":[{\"line\":{\"colorbar\":{\"outlinewidth\":0,\"ticks\":\"\"}},\"marker\":{\"colorbar\":{\"outlinewidth\":0,\"ticks\":\"\"}},\"type\":\"scatter3d\"}],\"scattercarpet\":[{\"marker\":{\"colorbar\":{\"outlinewidth\":0,\"ticks\":\"\"}},\"type\":\"scattercarpet\"}],\"scattergeo\":[{\"marker\":{\"colorbar\":{\"outlinewidth\":0,\"ticks\":\"\"}},\"type\":\"scattergeo\"}],\"scattergl\":[{\"marker\":{\"colorbar\":{\"outlinewidth\":0,\"ticks\":\"\"}},\"type\":\"scattergl\"}],\"scattermapbox\":[{\"marker\":{\"colorbar\":{\"outlinewidth\":0,\"ticks\":\"\"}},\"type\":\"scattermapbox\"}],\"scatterpolargl\":[{\"marker\":{\"colorbar\":{\"outlinewidth\":0,\"ticks\":\"\"}},\"type\":\"scatterpolargl\"}],\"scatterpolar\":[{\"marker\":{\"colorbar\":{\"outlinewidth\":0,\"ticks\":\"\"}},\"type\":\"scatterpolar\"}],\"scatter\":[{\"fillpattern\":{\"fillmode\":\"overlay\",\"size\":10,\"solidity\":0.2},\"type\":\"scatter\"}],\"scatterternary\":[{\"marker\":{\"colorbar\":{\"outlinewidth\":0,\"ticks\":\"\"}},\"type\":\"scatterternary\"}],\"surface\":[{\"colorbar\":{\"outlinewidth\":0,\"ticks\":\"\"},\"colorscale\":[[0.0,\"#0d0887\"],[0.1111111111111111,\"#46039f\"],[0.2222222222222222,\"#7201a8\"],[0.3333333333333333,\"#9c179e\"],[0.4444444444444444,\"#bd3786\"],[0.5555555555555556,\"#d8576b\"],[0.6666666666666666,\"#ed7953\"],[0.7777777777777778,\"#fb9f3a\"],[0.8888888888888888,\"#fdca26\"],[1.0,\"#f0f921\"]],\"type\":\"surface\"}],\"table\":[{\"cells\":{\"fill\":{\"color\":\"#EBF0F8\"},\"line\":{\"color\":\"white\"}},\"header\":{\"fill\":{\"color\":\"#C8D4E3\"},\"line\":{\"color\":\"white\"}},\"type\":\"table\"}]},\"layout\":{\"annotationdefaults\":{\"arrowcolor\":\"#2a3f5f\",\"arrowhead\":0,\"arrowwidth\":1},\"autotypenumbers\":\"strict\",\"coloraxis\":{\"colorbar\":{\"outlinewidth\":0,\"ticks\":\"\"}},\"colorscale\":{\"diverging\":[[0,\"#8e0152\"],[0.1,\"#c51b7d\"],[0.2,\"#de77ae\"],[0.3,\"#f1b6da\"],[0.4,\"#fde0ef\"],[0.5,\"#f7f7f7\"],[0.6,\"#e6f5d0\"],[0.7,\"#b8e186\"],[0.8,\"#7fbc41\"],[0.9,\"#4d9221\"],[1,\"#276419\"]],\"sequential\":[[0.0,\"#0d0887\"],[0.1111111111111111,\"#46039f\"],[0.2222222222222222,\"#7201a8\"],[0.3333333333333333,\"#9c179e\"],[0.4444444444444444,\"#bd3786\"],[0.5555555555555556,\"#d8576b\"],[0.6666666666666666,\"#ed7953\"],[0.7777777777777778,\"#fb9f3a\"],[0.8888888888888888,\"#fdca26\"],[1.0,\"#f0f921\"]],\"sequentialminus\":[[0.0,\"#0d0887\"],[0.1111111111111111,\"#46039f\"],[0.2222222222222222,\"#7201a8\"],[0.3333333333333333,\"#9c179e\"],[0.4444444444444444,\"#bd3786\"],[0.5555555555555556,\"#d8576b\"],[0.6666666666666666,\"#ed7953\"],[0.7777777777777778,\"#fb9f3a\"],[0.8888888888888888,\"#fdca26\"],[1.0,\"#f0f921\"]]},\"colorway\":[\"#636efa\",\"#EF553B\",\"#00cc96\",\"#ab63fa\",\"#FFA15A\",\"#19d3f3\",\"#FF6692\",\"#B6E880\",\"#FF97FF\",\"#FECB52\"],\"font\":{\"color\":\"#2a3f5f\"},\"geo\":{\"bgcolor\":\"white\",\"lakecolor\":\"white\",\"landcolor\":\"#E5ECF6\",\"showlakes\":true,\"showland\":true,\"subunitcolor\":\"white\"},\"hoverlabel\":{\"align\":\"left\"},\"hovermode\":\"closest\",\"mapbox\":{\"style\":\"light\"},\"paper_bgcolor\":\"white\",\"plot_bgcolor\":\"#E5ECF6\",\"polar\":{\"angularaxis\":{\"gridcolor\":\"white\",\"linecolor\":\"white\",\"ticks\":\"\"},\"bgcolor\":\"#E5ECF6\",\"radialaxis\":{\"gridcolor\":\"white\",\"linecolor\":\"white\",\"ticks\":\"\"}},\"scene\":{\"xaxis\":{\"backgroundcolor\":\"#E5ECF6\",\"gridcolor\":\"white\",\"gridwidth\":2,\"linecolor\":\"white\",\"showbackground\":true,\"ticks\":\"\",\"zerolinecolor\":\"white\"},\"yaxis\":{\"backgroundcolor\":\"#E5ECF6\",\"gridcolor\":\"white\",\"gridwidth\":2,\"linecolor\":\"white\",\"showbackground\":true,\"ticks\":\"\",\"zerolinecolor\":\"white\"},\"zaxis\":{\"backgroundcolor\":\"#E5ECF6\",\"gridcolor\":\"white\",\"gridwidth\":2,\"linecolor\":\"white\",\"showbackground\":true,\"ticks\":\"\",\"zerolinecolor\":\"white\"}},\"shapedefaults\":{\"line\":{\"color\":\"#2a3f5f\"}},\"ternary\":{\"aaxis\":{\"gridcolor\":\"white\",\"linecolor\":\"white\",\"ticks\":\"\"},\"baxis\":{\"gridcolor\":\"white\",\"linecolor\":\"white\",\"ticks\":\"\"},\"bgcolor\":\"#E5ECF6\",\"caxis\":{\"gridcolor\":\"white\",\"linecolor\":\"white\",\"ticks\":\"\"}},\"title\":{\"x\":0.05},\"xaxis\":{\"automargin\":true,\"gridcolor\":\"white\",\"linecolor\":\"white\",\"ticks\":\"\",\"title\":{\"standoff\":15},\"zerolinecolor\":\"white\",\"zerolinewidth\":2},\"yaxis\":{\"automargin\":true,\"gridcolor\":\"white\",\"linecolor\":\"white\",\"ticks\":\"\",\"title\":{\"standoff\":15},\"zerolinecolor\":\"white\",\"zerolinewidth\":2}}}},                        {\"responsive\": true}                    ).then(function(){\n",
       "                            \n",
       "var gd = document.getElementById('40d7ad86-e17f-4e91-8c34-5ae1ed9fff19');\n",
       "var x = new MutationObserver(function (mutations, observer) {{\n",
       "        var display = window.getComputedStyle(gd).display;\n",
       "        if (!display || display === 'none') {{\n",
       "            console.log([gd, 'removed!']);\n",
       "            Plotly.purge(gd);\n",
       "            observer.disconnect();\n",
       "        }}\n",
       "}});\n",
       "\n",
       "// Listen for the removal of the full notebook cells\n",
       "var notebookContainer = gd.closest('#notebook-container');\n",
       "if (notebookContainer) {{\n",
       "    x.observe(notebookContainer, {childList: true});\n",
       "}}\n",
       "\n",
       "// Listen for the clearing of the current output cell\n",
       "var outputEl = gd.closest('.output');\n",
       "if (outputEl) {{\n",
       "    x.observe(outputEl, {childList: true});\n",
       "}}\n",
       "\n",
       "                        })                };                });            </script>        </div>"
      ]
     },
     "metadata": {},
     "output_type": "display_data"
    }
   ],
   "source": [
    "def visual_top_5_cities_by_volume_sold_liters_or_sale_dollars():\n",
    "    for column in [\"volume_sold_liters\", \"sale_dollars\"]:\n",
    "        fig = make_subplots(rows=1, cols=2,\n",
    "                            specs=[[{\"type\": \"pie\"}, {\"type\": \"pie\"}]])\n",
    "\n",
    "        for index, year in enumerate([2018, 2022]):\n",
    "            dataframe = df6.loc[(df6['year'] == year) & (df6['month'] == 1)]\n",
    "            series_other = dataframe.groupby('city')[column] \\\n",
    "                                    .sum() \\\n",
    "                                    .sort_values(ascending=False) \\\n",
    "                                    .index[5:]\n",
    "            series = dataframe.replace(series_other, 'Other') \\\n",
    "                            .groupby('city')[column] \\\n",
    "                            .sum()\n",
    "            fig.add_trace(go.Pie(values=series,\n",
    "                                labels=series.index,\n",
    "                                title=\"Top 5 cities by {0} in January {1}\".format(column, year)),\n",
    "                        row=1, col=index+1)\n",
    "        \n",
    "        iplot(fig)\n",
    "\n",
    "visual_top_5_cities_by_volume_sold_liters_or_sale_dollars()"
   ]
  },
  {
   "cell_type": "markdown",
   "metadata": {},
   "source": [
    "### 750 ml (Januari 2018 & 2022) adalah ukuran botol minuman beralkohol yang paling banyak terjual.\n",
    "\n",
    "Dengan menyediakan ukuran botol minuman beralkohol 750ml, perusahaan dapat melayani 43.8% (Januari 2018) dan 44.3% (Januari 2022) pasar.\n",
    "\n",
    "Untuk menciptakan \"illusion of choice\" dalam convenience store, perusahaan dapat menyediakan ukuran botol minuman beralkohol 750 ml, 1750 ml, 375 ml, 1000 ml untuk melayani 91.95% (2018) dan 89.23% (2022) pasar."
   ]
  },
  {
   "cell_type": "code",
   "execution_count": 23,
   "metadata": {},
   "outputs": [
    {
     "data": {
      "image/svg+xml": "<svg class=\"main-svg\" xmlns=\"http://www.w3.org/2000/svg\" xmlns:xlink=\"http://www.w3.org/1999/xlink\" width=\"700\" height=\"500\" style=\"\" viewBox=\"0 0 700 500\"><rect x=\"0\" y=\"0\" width=\"700\" height=\"500\" style=\"fill: rgb(255, 255, 255); fill-opacity: 1;\"/><defs id=\"defs-44c83b\"><g class=\"clips\"/><g class=\"gradients\"/><g class=\"patterns\"/></defs><g class=\"bglayer\"/><g class=\"layer-below\"><g class=\"imagelayer\"/><g class=\"shapelayer\"/></g><g class=\"cartesianlayer\"/><g class=\"polarlayer\"/><g class=\"smithlayer\"/><g class=\"ternarylayer\"/><g class=\"geolayer\"/><g class=\"funnelarealayer\"/><g class=\"pielayer\"><g class=\"trace\" stroke-linejoin=\"round\" style=\"opacity: 1;\"><g class=\"slice\"><path class=\"surface\" d=\"M196.55,267.5l0,-116.55a116.55,116.55 0 0 1 44.02507525818213,224.46522250596252Z\" style=\"pointer-events: all; stroke-width: 0; fill: rgb(99, 110, 250); fill-opacity: 1; stroke: rgb(68, 68, 68); stroke-opacity: 1;\"/><g class=\"slicetext\"><text data-notex=\"1\" class=\"slicetext\" transform=\"translate(254.275093187991,260.67819458393217)\" text-anchor=\"middle\" x=\"0\" y=\"0\" style=\"font-family: 'Open Sans', verdana, arial, sans-serif; font-size: 12px; fill: rgb(255, 255, 255); fill-opacity: 1; white-space: pre;\">43.8%</text></g></g><g class=\"slice\"><path class=\"surface\" d=\"M196.55,267.5l-99.80940850617093,-60.182925100465944a116.55,116.55 0 0 1 99.80940850617093,-56.36707489953405Z\" style=\"pointer-events: all; stroke-width: 0; fill: rgb(239, 85, 59); fill-opacity: 1; stroke: rgb(68, 68, 68); stroke-opacity: 1;\"/><g class=\"slicetext\"><text data-notex=\"1\" class=\"slicetext\" transform=\"translate(158.1298768782952,203.9693319132422)\" text-anchor=\"middle\" x=\"0\" y=\"0\" style=\"font-family: 'Open Sans', verdana, arial, sans-serif; font-size: 12px; fill: rgb(68, 68, 68); fill-opacity: 1; white-space: pre;\">16.4%</text></g></g><g class=\"slice\"><path class=\"surface\" d=\"M196.55,267.5l-104.03016324689405,52.55119061281651a116.55,116.55 0 0 1 4.220754740723123,-112.73411571328245Z\" style=\"pointer-events: all; stroke-width: 0; fill: rgb(0, 204, 150); fill-opacity: 1; stroke: rgb(68, 68, 68); stroke-opacity: 1;\"/><g class=\"slicetext\"><text data-notex=\"1\" class=\"slicetext\" transform=\"translate(118.06559517008596,269.06155122907785)\" text-anchor=\"middle\" x=\"0\" y=\"0\" style=\"font-family: 'Open Sans', verdana, arial, sans-serif; font-size: 12px; fill: rgb(68, 68, 68); fill-opacity: 1; white-space: pre;\">16.1%</text></g></g><g class=\"slice\"><path class=\"surface\" d=\"M196.55,267.5l-13.78361667314194,115.73208030363872a116.55,116.55 0 0 1 -90.24654657375211,-63.18088969082221Z\" style=\"pointer-events: all; stroke-width: 0; fill: rgb(171, 99, 250); fill-opacity: 1; stroke: rgb(68, 68, 68); stroke-opacity: 1;\"/><g class=\"slicetext\"><text data-notex=\"1\" class=\"slicetext\" transform=\"translate(151.15911815911758,336.83559114350237)\" text-anchor=\"middle\" x=\"0\" y=\"0\" style=\"font-family: 'Open Sans', verdana, arial, sans-serif; font-size: 12px; fill: rgb(68, 68, 68); fill-opacity: 1; white-space: pre;\">15.7%</text></g></g><g class=\"slice\"><path class=\"surface\" d=\"M196.55,267.5l18.025753043624114,115.14762145702478a116.55,116.55 0 0 1 -31.809369716766057,0.5844588466139413Z\" style=\"pointer-events: all; stroke-width: 0; fill: rgb(255, 161, 90); fill-opacity: 1; stroke: rgb(68, 68, 68); stroke-opacity: 1;\"/><g class=\"slicetext\"><text data-notex=\"1\" class=\"slicetext\" transform=\"translate(193.73193276990884,359.08109544260896)rotate(88.94737752097967)\" text-anchor=\"middle\" x=\"0\" y=\"0\" style=\"font-family: 'Open Sans', verdana, arial, sans-serif; font-size: 12px; fill: rgb(68, 68, 68); fill-opacity: 1; white-space: pre;\">4.36%</text></g></g><g class=\"slice\"><path class=\"surface\" d=\"M196.55,267.5l44.02507525818214,107.91522250596252a116.55,116.55 0 0 1 -25.999322214558028,7.232398951062265Z\" style=\"pointer-events: all; stroke-width: 0; fill: rgb(25, 211, 243); fill-opacity: 1; stroke: rgb(68, 68, 68); stroke-opacity: 1;\"/><g class=\"slicetext\"><text data-notex=\"1\" class=\"slicetext\" transform=\"translate(217.38135758518033,359.1764312765853)rotate(74.45468563102486)\" text-anchor=\"middle\" x=\"0\" y=\"0\" style=\"font-family: 'Open Sans', verdana, arial, sans-serif; font-size: 12px; fill: rgb(68, 68, 68); fill-opacity: 1; white-space: pre;\">3.69%</text></g></g><g class=\"titletext\"><text data-notex=\"1\" class=\"titletext\" transform=\"translate(196.55,150.95)scale(0.6836090363378087)translate(0,-3)\" text-anchor=\"middle\" x=\"0\" y=\"0\" style=\"font-family: 'Open Sans', verdana, arial, sans-serif; font-size: 12px; fill: rgb(42, 63, 95); fill-opacity: 1; white-space: pre;\">Top 5 bottles sold by bottle_volume_ml in January 2018</text></g></g><g class=\"trace\" stroke-linejoin=\"round\" style=\"opacity: 1;\"><g class=\"slice\"><path class=\"surface\" d=\"M481.45,267.5l0,-116.54999999999998a116.54999999999998,116.54999999999998 0 0 1 40.660159167300925,225.7775329598254Z\" style=\"pointer-events: all; stroke-width: 0; fill: rgb(99, 110, 250); fill-opacity: 1; stroke: rgb(68, 68, 68); stroke-opacity: 1;\"/><g class=\"slicetext\"><text data-notex=\"1\" class=\"slicetext\" transform=\"translate(539.2600132616794,261.58902460369285)\" text-anchor=\"middle\" x=\"0\" y=\"0\" style=\"font-family: 'Open Sans', verdana, arial, sans-serif; font-size: 12px; fill: rgb(255, 255, 255); fill-opacity: 1; white-space: pre;\">44.3%</text></g></g><g class=\"slice\"><path class=\"surface\" d=\"M481.45,267.5l-107.20839085365868,-45.719398843041986a116.54999999999998,116.54999999999998 0 0 1 107.20839085365868,-70.830601156958Z\" style=\"pointer-events: all; stroke-width: 0; fill: rgb(0, 204, 150); fill-opacity: 1; stroke: rgb(68, 68, 68); stroke-opacity: 1;\"/><g class=\"slicetext\"><text data-notex=\"1\" class=\"slicetext\" transform=\"translate(440.03352751162925,209.31249914886718)\" text-anchor=\"middle\" x=\"0\" y=\"0\" style=\"font-family: 'Open Sans', verdana, arial, sans-serif; font-size: 12px; fill: rgb(68, 68, 68); fill-opacity: 1; white-space: pre;\">18.6%</text></g></g><g class=\"slice\"><path class=\"surface\" d=\"M481.45,267.5l-98.58945511856007,62.16125673943074a116.54999999999998,116.54999999999998 0 0 1 -8.618935735098617,-107.88065558247273Z\" style=\"pointer-events: all; stroke-width: 0; fill: rgb(239, 85, 59); fill-opacity: 1; stroke: rgb(68, 68, 68); stroke-opacity: 1;\"/><g class=\"slicetext\"><text data-notex=\"1\" class=\"slicetext\" transform=\"translate(402.10755524672265,278.3389254422107)\" text-anchor=\"middle\" x=\"0\" y=\"0\" style=\"font-family: 'Open Sans', verdana, arial, sans-serif; font-size: 12px; fill: rgb(68, 68, 68); fill-opacity: 1; white-space: pre;\">15.4%</text></g></g><g class=\"slice\"><path class=\"surface\" d=\"M481.45,267.5l-36.67759735216261,110.62846086099466a116.54999999999998,116.54999999999998 0 0 1 -61.91185776639746,-48.467204121563924Z\" style=\"pointer-events: all; stroke-width: 0; fill: rgb(171, 99, 250); fill-opacity: 1; stroke: rgb(68, 68, 68); stroke-opacity: 1;\"/><g class=\"slicetext\"><text data-notex=\"1\" class=\"slicetext\" transform=\"translate(427.7271670625983,340.6253818826845)\" text-anchor=\"middle\" x=\"0\" y=\"0\" style=\"font-family: 'Open Sans', verdana, arial, sans-serif; font-size: 12px; fill: rgb(68, 68, 68); fill-opacity: 1; white-space: pre;\">11%</text></g></g><g class=\"slice\"><path class=\"surface\" d=\"M481.45,267.5l12.354303650027443,115.8933720336194a116.54999999999998,116.54999999999998 0 0 1 -49.031901002190054,-5.2649111726247355Z\" style=\"pointer-events: all; stroke-width: 0; fill: rgb(255, 102, 146); fill-opacity: 1; stroke: rgb(68, 68, 68); stroke-opacity: 1;\"/><g class=\"slicetext\"><text data-notex=\"1\" class=\"slicetext\" transform=\"translate(476.86723665973415,352.3283074836319)rotate(-83.87121890480353)\" text-anchor=\"middle\" x=\"0\" y=\"0\" style=\"font-family: 'Open Sans', verdana, arial, sans-serif; font-size: 12px; fill: rgb(68, 68, 68); fill-opacity: 1; white-space: pre;\">6.79%</text></g></g><g class=\"slice\"><path class=\"surface\" d=\"M481.45,267.5l40.660159167300996,109.22753295982541a116.54999999999998,116.54999999999998 0 0 1 -28.305855517273553,6.66583907379399Z\" style=\"pointer-events: all; stroke-width: 0; fill: rgb(255, 161, 90); fill-opacity: 1; stroke: rgb(68, 68, 68); stroke-opacity: 1;\"/><g class=\"slicetext\"><text data-notex=\"1\" class=\"slicetext\" transform=\"translate(498.348877193575,358.8910198887809)rotate(76.74866741734525)\" text-anchor=\"middle\" x=\"0\" y=\"0\" style=\"font-family: 'Open Sans', verdana, arial, sans-serif; font-size: 12px; fill: rgb(68, 68, 68); fill-opacity: 1; white-space: pre;\">3.98%</text></g></g><g class=\"titletext\"><text data-notex=\"1\" class=\"titletext\" transform=\"translate(481.45,150.95000000000002)scale(0.6836090363378087)translate(0,-3)\" text-anchor=\"middle\" x=\"0\" y=\"0\" style=\"font-family: 'Open Sans', verdana, arial, sans-serif; font-size: 12px; fill: rgb(42, 63, 95); fill-opacity: 1; white-space: pre;\">Top 5 bottles sold by bottle_volume_ml in January 2022</text></g></g></g><g class=\"iciclelayer\"/><g class=\"treemaplayer\"/><g class=\"sunburstlayer\"/><g class=\"glimages\"/><defs id=\"topdefs-44c83b\"><g class=\"clips\"/><clipPath id=\"legend44c83b\"><rect width=\"80\" height=\"143\" x=\"0\" y=\"0\"/></clipPath></defs><g class=\"layer-above\"><g class=\"imagelayer\"/><g class=\"shapelayer\"/></g><g class=\"infolayer\"><g class=\"legend\" pointer-events=\"all\" transform=\"translate(608.36,100)\"><rect class=\"bg\" shape-rendering=\"crispEdges\" style=\"stroke: rgb(68, 68, 68); stroke-opacity: 1; fill: rgb(255, 255, 255); fill-opacity: 1; stroke-width: 0px;\" width=\"80\" height=\"143\" x=\"0\" y=\"0\"/><g class=\"scrollbox\" transform=\"\" clip-path=\"url(#legend44c83b)\"><g class=\"groups\"><g class=\"traces\" transform=\"translate(0,14.5)\" style=\"opacity: 1;\"><text class=\"legendtext\" text-anchor=\"start\" x=\"40\" y=\"4.680000000000001\" style=\"font-family: 'Open Sans', verdana, arial, sans-serif; font-size: 12px; fill: rgb(42, 63, 95); fill-opacity: 1; white-space: pre;\">750</text><g class=\"layers\" style=\"opacity: 1;\"><g class=\"legendfill\"/><g class=\"legendlines\"/><g class=\"legendsymbols\"><g class=\"legendpoints\"><path class=\"legendpie\" d=\"M6,6H-6V-6H6Z\" transform=\"translate(20,0)\" style=\"stroke-width: 0; fill: rgb(99, 110, 250); fill-opacity: 1; stroke: rgb(68, 68, 68); stroke-opacity: 1;\"/></g></g></g><rect class=\"legendtoggle\" x=\"0\" y=\"-9.5\" width=\"74.09375\" height=\"19\" style=\"fill: rgb(0, 0, 0); fill-opacity: 0;\"/></g><g class=\"traces\" transform=\"translate(0,33.5)\" style=\"opacity: 1;\"><text class=\"legendtext\" text-anchor=\"start\" x=\"40\" y=\"4.680000000000001\" style=\"font-family: 'Open Sans', verdana, arial, sans-serif; font-size: 12px; fill: rgb(42, 63, 95); fill-opacity: 1; white-space: pre;\">1750</text><g class=\"layers\" style=\"opacity: 1;\"><g class=\"legendfill\"/><g class=\"legendlines\"/><g class=\"legendsymbols\"><g class=\"legendpoints\"><path class=\"legendpie\" d=\"M6,6H-6V-6H6Z\" transform=\"translate(20,0)\" style=\"stroke-width: 0; fill: rgb(239, 85, 59); fill-opacity: 1; stroke: rgb(68, 68, 68); stroke-opacity: 1;\"/></g></g></g><rect class=\"legendtoggle\" x=\"0\" y=\"-9.5\" width=\"74.09375\" height=\"19\" style=\"fill: rgb(0, 0, 0); fill-opacity: 0;\"/></g><g class=\"traces\" transform=\"translate(0,52.5)\" style=\"opacity: 1;\"><text class=\"legendtext\" text-anchor=\"start\" x=\"40\" y=\"4.680000000000001\" style=\"font-family: 'Open Sans', verdana, arial, sans-serif; font-size: 12px; fill: rgb(42, 63, 95); fill-opacity: 1; white-space: pre;\">375</text><g class=\"layers\" style=\"opacity: 1;\"><g class=\"legendfill\"/><g class=\"legendlines\"/><g class=\"legendsymbols\"><g class=\"legendpoints\"><path class=\"legendpie\" d=\"M6,6H-6V-6H6Z\" transform=\"translate(20,0)\" style=\"stroke-width: 0; fill: rgb(0, 204, 150); fill-opacity: 1; stroke: rgb(68, 68, 68); stroke-opacity: 1;\"/></g></g></g><rect class=\"legendtoggle\" x=\"0\" y=\"-9.5\" width=\"74.09375\" height=\"19\" style=\"fill: rgb(0, 0, 0); fill-opacity: 0;\"/></g><g class=\"traces\" transform=\"translate(0,71.5)\" style=\"opacity: 1;\"><text class=\"legendtext\" text-anchor=\"start\" x=\"40\" y=\"4.680000000000001\" style=\"font-family: 'Open Sans', verdana, arial, sans-serif; font-size: 12px; fill: rgb(42, 63, 95); fill-opacity: 1; white-space: pre;\">1000</text><g class=\"layers\" style=\"opacity: 1;\"><g class=\"legendfill\"/><g class=\"legendlines\"/><g class=\"legendsymbols\"><g class=\"legendpoints\"><path class=\"legendpie\" d=\"M6,6H-6V-6H6Z\" transform=\"translate(20,0)\" style=\"stroke-width: 0; fill: rgb(171, 99, 250); fill-opacity: 1; stroke: rgb(68, 68, 68); stroke-opacity: 1;\"/></g></g></g><rect class=\"legendtoggle\" x=\"0\" y=\"-9.5\" width=\"74.09375\" height=\"19\" style=\"fill: rgb(0, 0, 0); fill-opacity: 0;\"/></g><g class=\"traces\" transform=\"translate(0,90.5)\" style=\"opacity: 1;\"><text class=\"legendtext\" text-anchor=\"start\" x=\"40\" y=\"4.680000000000001\" style=\"font-family: 'Open Sans', verdana, arial, sans-serif; font-size: 12px; fill: rgb(42, 63, 95); fill-opacity: 1; white-space: pre;\">Other</text><g class=\"layers\" style=\"opacity: 1;\"><g class=\"legendfill\"/><g class=\"legendlines\"/><g class=\"legendsymbols\"><g class=\"legendpoints\"><path class=\"legendpie\" d=\"M6,6H-6V-6H6Z\" transform=\"translate(20,0)\" style=\"stroke-width: 0; fill: rgb(255, 161, 90); fill-opacity: 1; stroke: rgb(68, 68, 68); stroke-opacity: 1;\"/></g></g></g><rect class=\"legendtoggle\" x=\"0\" y=\"-9.5\" width=\"74.09375\" height=\"19\" style=\"fill: rgb(0, 0, 0); fill-opacity: 0;\"/></g><g class=\"traces\" transform=\"translate(0,109.5)\" style=\"opacity: 1;\"><text class=\"legendtext\" text-anchor=\"start\" x=\"40\" y=\"4.680000000000001\" style=\"font-family: 'Open Sans', verdana, arial, sans-serif; font-size: 12px; fill: rgb(42, 63, 95); fill-opacity: 1; white-space: pre;\">200</text><g class=\"layers\" style=\"opacity: 1;\"><g class=\"legendfill\"/><g class=\"legendlines\"/><g class=\"legendsymbols\"><g class=\"legendpoints\"><path class=\"legendpie\" d=\"M6,6H-6V-6H6Z\" transform=\"translate(20,0)\" style=\"stroke-width: 0; fill: rgb(25, 211, 243); fill-opacity: 1; stroke: rgb(68, 68, 68); stroke-opacity: 1;\"/></g></g></g><rect class=\"legendtoggle\" x=\"0\" y=\"-9.5\" width=\"74.09375\" height=\"19\" style=\"fill: rgb(0, 0, 0); fill-opacity: 0;\"/></g><g class=\"traces\" transform=\"translate(0,128.5)\" style=\"opacity: 1;\"><text class=\"legendtext\" text-anchor=\"start\" x=\"40\" y=\"4.680000000000001\" style=\"font-family: 'Open Sans', verdana, arial, sans-serif; font-size: 12px; fill: rgb(42, 63, 95); fill-opacity: 1; white-space: pre;\">50</text><g class=\"layers\" style=\"opacity: 1;\"><g class=\"legendfill\"/><g class=\"legendlines\"/><g class=\"legendsymbols\"><g class=\"legendpoints\"><path class=\"legendpie\" d=\"M6,6H-6V-6H6Z\" transform=\"translate(20,0)\" style=\"stroke-width: 0; fill: rgb(255, 102, 146); fill-opacity: 1; stroke: rgb(68, 68, 68); stroke-opacity: 1;\"/></g></g></g><rect class=\"legendtoggle\" x=\"0\" y=\"-9.5\" width=\"74.09375\" height=\"19\" style=\"fill: rgb(0, 0, 0); fill-opacity: 0;\"/></g></g></g><rect class=\"scrollbar\" rx=\"20\" ry=\"3\" width=\"0\" height=\"0\" style=\"fill: rgb(128, 139, 164); fill-opacity: 1;\" x=\"0\" y=\"0\"/></g><g class=\"g-gtitle\"/></g></svg>"
     },
     "metadata": {},
     "output_type": "display_data"
    }
   ],
   "source": [
    "def visual_top_5_bottles_sold_by_bottle_volume_ml():\n",
    "    for group in ['bottle_volume_ml']:\n",
    "        fig = make_subplots(rows=1, cols=2,\n",
    "                            specs=[[{\"type\": \"pie\"}, {\"type\": \"pie\"}]])\n",
    "        for index, year in enumerate([2018, 2022]):\n",
    "            # .copy() because we are going to change column type.\n",
    "            dataframe = df6.loc[(df6['year'] == year) & (df6['month'] == 1)].copy()\n",
    "            dataframe['bottle_volume_ml'] = dataframe[group].astype(str)\n",
    "\n",
    "            series_other = dataframe.groupby(group)['bottles_sold'] \\\n",
    "                                    .sum() \\\n",
    "                                    .sort_values(ascending=False) \\\n",
    "                                    .index[5:]\n",
    "\n",
    "            series = dataframe.replace(series_other, 'Other') \\\n",
    "                            .groupby(group)['bottles_sold'] \\\n",
    "                            .sum()\n",
    "                            \n",
    "            fig.add_trace(go.Pie(values=series,\n",
    "                                labels=series.index,\n",
    "                                title=\"Top 5 bottles sold by {0} in January {1}\".format(group, year)),\n",
    "                        row=1, col=index+1)\n",
    "\n",
    "        fig.show()\n",
    "\n",
    "visual_top_5_bottles_sold_by_bottle_volume_ml()"
   ]
  },
  {
   "cell_type": "markdown",
   "metadata": {},
   "source": [
    "### American Vodkas (Janauri 2018 & 22) adalah kategori minuman beralkohol paling banyak terjual.\n",
    "\n",
    "Dengan hanya menyediakan kategori minuman beralkohol American Vodkas, perusahana dapat melayani 20.6% (2018) dan 20.3% (2022) pasar pada masing-masing tahun.\n",
    "\n",
    "Untuk menciptakan \"illusion of choice\" dalam convenience store, perusahaan dapat menyediakan kategori minuman beralkohol American Vodkas, Canadian Whiskies, Spiced Rum, Straight Bourbon Whiskies, Whiskey Liquer untuk melayani 48.5% (Januari 2018) dan 49.2% (Januari 2022) pasar."
   ]
  },
  {
   "cell_type": "code",
   "execution_count": 24,
   "metadata": {},
   "outputs": [
    {
     "data": {
      "image/svg+xml": "<svg class=\"main-svg\" xmlns=\"http://www.w3.org/2000/svg\" xmlns:xlink=\"http://www.w3.org/1999/xlink\" width=\"700\" height=\"500\" style=\"\" viewBox=\"0 0 700 500\"><rect x=\"0\" y=\"0\" width=\"700\" height=\"500\" style=\"fill: rgb(255, 255, 255); fill-opacity: 1;\"/><defs id=\"defs-84c1af\"><g class=\"clips\"/><g class=\"gradients\"/><g class=\"patterns\"/></defs><g class=\"bglayer\"/><g class=\"layer-below\"><g class=\"imagelayer\"/><g class=\"shapelayer\"/></g><g class=\"cartesianlayer\"/><g class=\"polarlayer\"/><g class=\"smithlayer\"/><g class=\"ternarylayer\"/><g class=\"geolayer\"/><g class=\"funnelarealayer\"/><g class=\"pielayer\"><g class=\"trace\" stroke-linejoin=\"round\" style=\"opacity: 1;\"><g class=\"slice\"><path class=\"surface\" d=\"M168.65,264l0,-88.65a88.65,88.65 0 1 1 -8.508150644840933,176.89077216686564Z\" style=\"pointer-events: all; stroke-width: 0; fill: rgb(99, 110, 250); fill-opacity: 1; stroke: rgb(68, 68, 68); stroke-opacity: 1;\"/><g class=\"slicetext\"><text data-notex=\"1\" class=\"slicetext\" transform=\"translate(212.92381696978566,270.6294966367477)\" text-anchor=\"middle\" x=\"0\" y=\"0\" style=\"font-family: 'Open Sans', verdana, arial, sans-serif; font-size: 12px; fill: rgb(255, 255, 255); fill-opacity: 1; white-space: pre;\">51.5%</text></g></g><g class=\"slice\"><path class=\"surface\" d=\"M168.65,264l-85.28734482293747,-24.18452631443012a88.65,88.65 0 0 1 85.28734482293747,-64.46547368556989Z\" style=\"pointer-events: all; stroke-width: 0; fill: rgb(239, 85, 59); fill-opacity: 1; stroke: rgb(68, 68, 68); stroke-opacity: 1;\"/><g class=\"slicetext\"><text data-notex=\"1\" class=\"slicetext\" transform=\"translate(135.302945263774,224.382093258325)\" text-anchor=\"middle\" x=\"0\" y=\"0\" style=\"font-family: 'Open Sans', verdana, arial, sans-serif; font-size: 12px; fill: rgb(68, 68, 68); fill-opacity: 1; white-space: pre;\">20.6%</text></g></g><g class=\"slice\"><path class=\"surface\" d=\"M168.65,264l-80.92866238390627,36.18527469498768a88.65,88.65 0 0 1 -4.358682439031199,-60.3698010094178Z\" style=\"pointer-events: all; stroke-width: 0; fill: rgb(0, 204, 150); fill-opacity: 1; stroke: rgb(68, 68, 68); stroke-opacity: 1;\"/><g class=\"slicetext\"><text data-notex=\"1\" class=\"slicetext\" transform=\"translate(102.73300285404095,273.2591884201994)\" text-anchor=\"middle\" x=\"0\" y=\"0\" style=\"font-family: 'Open Sans', verdana, arial, sans-serif; font-size: 12px; fill: rgb(68, 68, 68); fill-opacity: 1; white-space: pre;\">11.1%</text></g></g><g class=\"slice\"><path class=\"surface\" d=\"M168.65,264l-61.23188348302175,64.10521776830377a88.65,88.65 0 0 1 -19.696778900884524,-27.91994307331609Z\" style=\"pointer-events: all; stroke-width: 0; fill: rgb(171, 99, 250); fill-opacity: 1; stroke: rgb(68, 68, 68); stroke-opacity: 1;\"/><g class=\"slicetext\"><text data-notex=\"1\" class=\"slicetext\" transform=\"translate(117.62163808851278,305.50626684528214)rotate(-35.201953439975114)\" text-anchor=\"middle\" x=\"0\" y=\"0\" style=\"font-family: 'Open Sans', verdana, arial, sans-serif; font-size: 12px; fill: rgb(68, 68, 68); fill-opacity: 1; white-space: pre;\">6.17%</text></g></g><g class=\"slice\"><path class=\"surface\" d=\"M168.65,264l-35.589462962578246,81.19244192679065a88.65,88.65 0 0 1 -25.6424205204435,-17.087224158486876Z\" style=\"pointer-events: all; stroke-width: 0; fill: rgb(255, 161, 90); fill-opacity: 1; stroke: rgb(68, 68, 68); stroke-opacity: 1;\"/><g class=\"slicetext\"><text data-notex=\"1\" class=\"slicetext\" transform=\"translate(95.64746045789147,347.4652627807305)\" text-anchor=\"middle\" x=\"0\" y=\"0\" style=\"font-family: 'Open Sans', verdana, arial, sans-serif; font-size: 12px; fill: rgb(42, 63, 95); fill-opacity: 1; white-space: pre;\">5.56%</text></g></g><g class=\"slice\"><path class=\"surface\" d=\"M168.65,264l-8.508150644840915,88.24077216686567a88.65,88.65 0 0 1 -27.08131231773733,-7.048330240075018Z\" style=\"pointer-events: all; stroke-width: 0; fill: rgb(25, 211, 243); fill-opacity: 1; stroke: rgb(68, 68, 68); stroke-opacity: 1;\"/><g class=\"slicetext\"><text data-notex=\"1\" class=\"slicetext\" transform=\"translate(122.47757737351819,362.4652627807305)\" text-anchor=\"middle\" x=\"0\" y=\"0\" style=\"font-family: 'Open Sans', verdana, arial, sans-serif; font-size: 12px; fill: rgb(42, 63, 95); fill-opacity: 1; white-space: pre;\">5.05%</text></g><path class=\"textline\" stroke-width=\"1.5\" d=\"M146.3213273735182,349.79191616195203V357.9652627807305h-3.75\" fill=\"none\" style=\"stroke: rgb(42, 63, 95); stroke-opacity: 1;\"/></g><g class=\"titletext\"><text data-notex=\"1\" class=\"titletext\" transform=\"translate(168.65,175.35)scale(0.5445697557229928)translate(0,-3)\" text-anchor=\"middle\" x=\"0\" y=\"0\" style=\"font-family: 'Open Sans', verdana, arial, sans-serif; font-size: 12px; fill: rgb(42, 63, 95); fill-opacity: 1; white-space: pre;\">Top 5 bottles sold by category_name in January 2018</text></g></g><g class=\"trace\" stroke-linejoin=\"round\" style=\"opacity: 1;\"><g class=\"slice\"><path class=\"surface\" d=\"M385.35,264l0,-88.64999999999999a88.64999999999999,88.64999999999999 0 1 1 -4.179263686154922,177.20143282319933Z\" style=\"pointer-events: all; stroke-width: 0; fill: rgb(99, 110, 250); fill-opacity: 1; stroke: rgb(68, 68, 68); stroke-opacity: 1;\"/><g class=\"slicetext\"><text data-notex=\"1\" class=\"slicetext\" transform=\"translate(429.66267739002103,269.54510646726646)\" text-anchor=\"middle\" x=\"0\" y=\"0\" style=\"font-family: 'Open Sans', verdana, arial, sans-serif; font-size: 12px; fill: rgb(255, 255, 255); fill-opacity: 1; white-space: pre;\">50.8%</text></g></g><g class=\"slice\"><path class=\"surface\" d=\"M385.35,264l-84.87418784338826,-25.596772021589814a88.64999999999999,88.64999999999999 0 0 1 84.87418784338826,-63.05322797841018Z\" style=\"pointer-events: all; stroke-width: 0; fill: rgb(239, 85, 59); fill-opacity: 1; stroke: rgb(68, 68, 68); stroke-opacity: 1;\"/><g class=\"slicetext\"><text data-notex=\"1\" class=\"slicetext\" transform=\"translate(352.2330266473217,223.92216778969464)\" text-anchor=\"middle\" x=\"0\" y=\"0\" style=\"font-family: 'Open Sans', verdana, arial, sans-serif; font-size: 12px; fill: rgb(68, 68, 68); fill-opacity: 1; white-space: pre;\">20.3%</text></g></g><g class=\"slice\"><path class=\"surface\" d=\"M385.35,264l-82.95769345500352,31.254497222410482a88.64999999999999,88.64999999999999 0 0 1 -1.9164943883847343,-56.85126924400029Z\" style=\"pointer-events: all; stroke-width: 0; fill: rgb(0, 204, 150); fill-opacity: 1; stroke: rgb(68, 68, 68); stroke-opacity: 1;\"/><g class=\"slicetext\"><text data-notex=\"1\" class=\"slicetext\" transform=\"translate(318.2713308172003,270.76126689480583)\" text-anchor=\"middle\" x=\"0\" y=\"0\" style=\"font-family: 'Open Sans', verdana, arial, sans-serif; font-size: 12px; fill: rgb(68, 68, 68); fill-opacity: 1; white-space: pre;\">10.4%</text></g></g><g class=\"slice\"><path class=\"surface\" d=\"M385.35,264l-62.56498375249252,62.80481914670518a88.64999999999999,88.64999999999999 0 0 1 -20.392709702511,-31.550321924294696Z\" style=\"pointer-events: all; stroke-width: 0; fill: rgb(255, 161, 90); fill-opacity: 1; stroke: rgb(68, 68, 68); stroke-opacity: 1;\"/><g class=\"slicetext\"><text data-notex=\"1\" class=\"slicetext\" transform=\"translate(331.7380912073948,304.01049342732665)rotate(-32.87681056381598)\" text-anchor=\"middle\" x=\"0\" y=\"0\" style=\"font-family: 'Open Sans', verdana, arial, sans-serif; font-size: 12px; fill: rgb(68, 68, 68); fill-opacity: 1; white-space: pre;\">6.8%</text></g></g><g class=\"slice\"><path class=\"surface\" d=\"M385.35,264l-32.23572620671492,82.58135658806842a88.64999999999999,88.64999999999999 0 0 1 -30.3292575457776,-19.77653744136324Z\" style=\"pointer-events: all; stroke-width: 0; fill: rgb(25, 211, 243); fill-opacity: 1; stroke: rgb(68, 68, 68); stroke-opacity: 1;\"/><g class=\"slicetext\"><text data-notex=\"1\" class=\"slicetext\" transform=\"translate(353.64832888216984,320.85633387993846)rotate(-56.893182019069286)\" text-anchor=\"middle\" x=\"0\" y=\"0\" style=\"font-family: 'Open Sans', verdana, arial, sans-serif; font-size: 12px; fill: rgb(68, 68, 68); fill-opacity: 1; white-space: pre;\">6.55%</text></g></g><g class=\"slice\"><path class=\"surface\" d=\"M385.35,264l-4.179263686154904,88.55143282319933a88.64999999999999,88.64999999999999 0 0 1 -28.056462520560018,-5.970076235130918Z\" style=\"pointer-events: all; stroke-width: 0; fill: rgb(171, 99, 250); fill-opacity: 1; stroke: rgb(68, 68, 68); stroke-opacity: 1;\"/><g class=\"slicetext\"><text data-notex=\"1\" class=\"slicetext\" transform=\"translate(343.055685651239,362.3838229089954)\" text-anchor=\"middle\" x=\"0\" y=\"0\" style=\"font-family: 'Open Sans', verdana, arial, sans-serif; font-size: 12px; fill: rgb(42, 63, 95); fill-opacity: 1; white-space: pre;\">5.17%</text></g></g><g class=\"titletext\"><text data-notex=\"1\" class=\"titletext\" transform=\"translate(385.35,175.35000000000002)scale(0.5445697557229927)translate(0,-3)\" text-anchor=\"middle\" x=\"0\" y=\"0\" style=\"font-family: 'Open Sans', verdana, arial, sans-serif; font-size: 12px; fill: rgb(42, 63, 95); fill-opacity: 1; white-space: pre;\">Top 5 bottles sold by category_name in January 2022</text></g></g></g><g class=\"iciclelayer\"/><g class=\"treemaplayer\"/><g class=\"sunburstlayer\"/><g class=\"glimages\"/><defs id=\"topdefs-84c1af\"><g class=\"clips\"/><clipPath id=\"legend84c1af\"><rect width=\"206\" height=\"124\" x=\"0\" y=\"0\"/></clipPath></defs><g class=\"layer-above\"><g class=\"imagelayer\"/><g class=\"shapelayer\"/></g><g class=\"infolayer\"><g class=\"legend\" pointer-events=\"all\" transform=\"translate(481.88,100)\"><rect class=\"bg\" shape-rendering=\"crispEdges\" style=\"stroke: rgb(68, 68, 68); stroke-opacity: 1; fill: rgb(255, 255, 255); fill-opacity: 1; stroke-width: 0px;\" width=\"206\" height=\"124\" x=\"0\" y=\"0\"/><g class=\"scrollbox\" transform=\"\" clip-path=\"url(#legend84c1af)\"><g class=\"groups\"><g class=\"traces\" transform=\"translate(0,14.5)\" style=\"opacity: 1;\"><text class=\"legendtext\" text-anchor=\"start\" x=\"40\" y=\"4.680000000000001\" style=\"font-family: 'Open Sans', verdana, arial, sans-serif; font-size: 12px; fill: rgb(42, 63, 95); fill-opacity: 1; white-space: pre;\">Other</text><g class=\"layers\" style=\"opacity: 1;\"><g class=\"legendfill\"/><g class=\"legendlines\"/><g class=\"legendsymbols\"><g class=\"legendpoints\"><path class=\"legendpie\" d=\"M6,6H-6V-6H6Z\" transform=\"translate(20,0)\" style=\"stroke-width: 0; fill: rgb(99, 110, 250); fill-opacity: 1; stroke: rgb(68, 68, 68); stroke-opacity: 1;\"/></g></g></g><rect class=\"legendtoggle\" x=\"0\" y=\"-9.5\" width=\"200.171875\" height=\"19\" style=\"fill: rgb(0, 0, 0); fill-opacity: 0;\"/></g><g class=\"traces\" transform=\"translate(0,33.5)\" style=\"opacity: 1;\"><text class=\"legendtext\" text-anchor=\"start\" x=\"40\" y=\"4.680000000000001\" style=\"font-family: 'Open Sans', verdana, arial, sans-serif; font-size: 12px; fill: rgb(42, 63, 95); fill-opacity: 1; white-space: pre;\">American Vodkas</text><g class=\"layers\" style=\"opacity: 1;\"><g class=\"legendfill\"/><g class=\"legendlines\"/><g class=\"legendsymbols\"><g class=\"legendpoints\"><path class=\"legendpie\" d=\"M6,6H-6V-6H6Z\" transform=\"translate(20,0)\" style=\"stroke-width: 0; fill: rgb(239, 85, 59); fill-opacity: 1; stroke: rgb(68, 68, 68); stroke-opacity: 1;\"/></g></g></g><rect class=\"legendtoggle\" x=\"0\" y=\"-9.5\" width=\"200.171875\" height=\"19\" style=\"fill: rgb(0, 0, 0); fill-opacity: 0;\"/></g><g class=\"traces\" transform=\"translate(0,52.5)\" style=\"opacity: 1;\"><text class=\"legendtext\" text-anchor=\"start\" x=\"40\" y=\"4.680000000000001\" style=\"font-family: 'Open Sans', verdana, arial, sans-serif; font-size: 12px; fill: rgb(42, 63, 95); fill-opacity: 1; white-space: pre;\">Canadian Whiskies</text><g class=\"layers\" style=\"opacity: 1;\"><g class=\"legendfill\"/><g class=\"legendlines\"/><g class=\"legendsymbols\"><g class=\"legendpoints\"><path class=\"legendpie\" d=\"M6,6H-6V-6H6Z\" transform=\"translate(20,0)\" style=\"stroke-width: 0; fill: rgb(0, 204, 150); fill-opacity: 1; stroke: rgb(68, 68, 68); stroke-opacity: 1;\"/></g></g></g><rect class=\"legendtoggle\" x=\"0\" y=\"-9.5\" width=\"200.171875\" height=\"19\" style=\"fill: rgb(0, 0, 0); fill-opacity: 0;\"/></g><g class=\"traces\" transform=\"translate(0,71.5)\" style=\"opacity: 1;\"><text class=\"legendtext\" text-anchor=\"start\" x=\"40\" y=\"4.680000000000001\" style=\"font-family: 'Open Sans', verdana, arial, sans-serif; font-size: 12px; fill: rgb(42, 63, 95); fill-opacity: 1; white-space: pre;\">Spiced Rum</text><g class=\"layers\" style=\"opacity: 1;\"><g class=\"legendfill\"/><g class=\"legendlines\"/><g class=\"legendsymbols\"><g class=\"legendpoints\"><path class=\"legendpie\" d=\"M6,6H-6V-6H6Z\" transform=\"translate(20,0)\" style=\"stroke-width: 0; fill: rgb(171, 99, 250); fill-opacity: 1; stroke: rgb(68, 68, 68); stroke-opacity: 1;\"/></g></g></g><rect class=\"legendtoggle\" x=\"0\" y=\"-9.5\" width=\"200.171875\" height=\"19\" style=\"fill: rgb(0, 0, 0); fill-opacity: 0;\"/></g><g class=\"traces\" transform=\"translate(0,90.5)\" style=\"opacity: 1;\"><text class=\"legendtext\" text-anchor=\"start\" x=\"40\" y=\"4.680000000000001\" style=\"font-family: 'Open Sans', verdana, arial, sans-serif; font-size: 12px; fill: rgb(42, 63, 95); fill-opacity: 1; white-space: pre;\">Straight Bourbon Whiskies</text><g class=\"layers\" style=\"opacity: 1;\"><g class=\"legendfill\"/><g class=\"legendlines\"/><g class=\"legendsymbols\"><g class=\"legendpoints\"><path class=\"legendpie\" d=\"M6,6H-6V-6H6Z\" transform=\"translate(20,0)\" style=\"stroke-width: 0; fill: rgb(255, 161, 90); fill-opacity: 1; stroke: rgb(68, 68, 68); stroke-opacity: 1;\"/></g></g></g><rect class=\"legendtoggle\" x=\"0\" y=\"-9.5\" width=\"200.171875\" height=\"19\" style=\"fill: rgb(0, 0, 0); fill-opacity: 0;\"/></g><g class=\"traces\" transform=\"translate(0,109.5)\" style=\"opacity: 1;\"><text class=\"legendtext\" text-anchor=\"start\" x=\"40\" y=\"4.680000000000001\" style=\"font-family: 'Open Sans', verdana, arial, sans-serif; font-size: 12px; fill: rgb(42, 63, 95); fill-opacity: 1; white-space: pre;\">Whiskey Liqueur</text><g class=\"layers\" style=\"opacity: 1;\"><g class=\"legendfill\"/><g class=\"legendlines\"/><g class=\"legendsymbols\"><g class=\"legendpoints\"><path class=\"legendpie\" d=\"M6,6H-6V-6H6Z\" transform=\"translate(20,0)\" style=\"stroke-width: 0; fill: rgb(25, 211, 243); fill-opacity: 1; stroke: rgb(68, 68, 68); stroke-opacity: 1;\"/></g></g></g><rect class=\"legendtoggle\" x=\"0\" y=\"-9.5\" width=\"200.171875\" height=\"19\" style=\"fill: rgb(0, 0, 0); fill-opacity: 0;\"/></g></g></g><rect class=\"scrollbar\" rx=\"20\" ry=\"3\" width=\"0\" height=\"0\" style=\"fill: rgb(128, 139, 164); fill-opacity: 1;\" x=\"0\" y=\"0\"/></g><g class=\"g-gtitle\"/></g></svg>"
     },
     "metadata": {},
     "output_type": "display_data"
    }
   ],
   "source": [
    "def visual_top_5_bottles_sold_by_category_name():\n",
    "    for group in ['category_name']:\n",
    "        fig = make_subplots(rows=1, cols=2,\n",
    "                            specs=[[{\"type\": \"pie\"}, {\"type\": \"pie\"}]])\n",
    "        for index, year in enumerate([2018, 2022]):\n",
    "            # .copy() because we are going to change column type.\n",
    "            dataframe = df6.loc[(df6['year'] == year) & (df6['month'] == 1)].copy()\n",
    "            dataframe['bottle_volume_ml'] = dataframe[group].astype(str)\n",
    "\n",
    "            series_other = dataframe.groupby(group)['bottles_sold'] \\\n",
    "                                    .sum() \\\n",
    "                                    .sort_values(ascending=False) \\\n",
    "                                    .index[5:]\n",
    "\n",
    "            series = dataframe.replace(series_other, 'Other') \\\n",
    "                            .groupby(group)['bottles_sold'] \\\n",
    "                            .sum()\n",
    "                            \n",
    "            fig.add_trace(go.Pie(values=series,\n",
    "                                labels=series.index,\n",
    "                                title=\"Top 5 bottles sold by {0} in January {1}\".format(group, year)),\n",
    "                        row=1, col=index+1)\n",
    "\n",
    "        fig.show()\n",
    "\n",
    "visual_top_5_bottles_sold_by_category_name()"
   ]
  },
  {
   "cell_type": "markdown",
   "metadata": {},
   "source": [
    "## Statistik Deskriptif\n",
    "\n",
    "sub-bab sebelumnya termasuk Statistik Deskriptif. sub-bab ini dipisah untuk memudahkan penilaian sesuai assignment rubics."
   ]
  },
  {
   "cell_type": "markdown",
   "metadata": {},
   "source": [
    "### 6.15L (Januari 2018) dan 6.08L (Januari 2022) adalah rata-rata penjualan minuman beralkohol per transaksi di Iowa, Amerika Serikat."
   ]
  },
  {
   "cell_type": "code",
   "execution_count": 25,
   "metadata": {},
   "outputs": [
    {
     "data": {
      "image/svg+xml": "<svg class=\"main-svg\" xmlns=\"http://www.w3.org/2000/svg\" xmlns:xlink=\"http://www.w3.org/1999/xlink\" width=\"700\" height=\"500\" style=\"\" viewBox=\"0 0 700 500\"><rect x=\"0\" y=\"0\" width=\"700\" height=\"500\" style=\"fill: rgb(255, 255, 255); fill-opacity: 1;\"/><defs id=\"defs-01d210\"><g class=\"clips\"><clipPath id=\"clip01d210xyplot\" class=\"plotclip\"><rect width=\"440\" height=\"360\"/></clipPath><clipPath class=\"axesclip\" id=\"clip01d210x\"><rect x=\"80\" y=\"0\" width=\"440\" height=\"500\"/></clipPath><clipPath class=\"axesclip\" id=\"clip01d210y\"><rect x=\"0\" y=\"60\" width=\"700\" height=\"360\"/></clipPath><clipPath class=\"axesclip\" id=\"clip01d210xy\"><rect x=\"80\" y=\"60\" width=\"440\" height=\"360\"/></clipPath></g><g class=\"gradients\"/><g class=\"patterns\"/></defs><g class=\"bglayer\"><rect class=\"bg\" x=\"80\" y=\"60\" width=\"440\" height=\"360\" style=\"fill: rgb(229, 236, 246); fill-opacity: 1; stroke-width: 0;\"/></g><g class=\"layer-below\"><g class=\"imagelayer\"/><g class=\"shapelayer\"/></g><g class=\"cartesianlayer\"><g class=\"subplot xy\"><g class=\"layer-subplot\"><g class=\"shapelayer\"/><g class=\"imagelayer\"/></g><g class=\"minor-gridlayer\"><g class=\"x\"/><g class=\"y\"/></g><g class=\"gridlayer\"><g class=\"x\"/><g class=\"y\"><path class=\"ygrid crisp\" transform=\"translate(0,364.43)\" d=\"M80,0h440\" style=\"stroke: rgb(255, 255, 255); stroke-opacity: 1; stroke-width: 1px;\"/><path class=\"ygrid crisp\" transform=\"translate(0,308.87)\" d=\"M80,0h440\" style=\"stroke: rgb(255, 255, 255); stroke-opacity: 1; stroke-width: 1px;\"/><path class=\"ygrid crisp\" transform=\"translate(0,253.3)\" d=\"M80,0h440\" style=\"stroke: rgb(255, 255, 255); stroke-opacity: 1; stroke-width: 1px;\"/><path class=\"ygrid crisp\" transform=\"translate(0,197.73)\" d=\"M80,0h440\" style=\"stroke: rgb(255, 255, 255); stroke-opacity: 1; stroke-width: 1px;\"/><path class=\"ygrid crisp\" transform=\"translate(0,142.17000000000002)\" d=\"M80,0h440\" style=\"stroke: rgb(255, 255, 255); stroke-opacity: 1; stroke-width: 1px;\"/><path class=\"ygrid crisp\" transform=\"translate(0,86.6)\" d=\"M80,0h440\" style=\"stroke: rgb(255, 255, 255); stroke-opacity: 1; stroke-width: 1px;\"/></g></g><g class=\"zerolinelayer\"><path class=\"yzl zl crisp\" transform=\"translate(0,420)\" d=\"M80,0h440\" style=\"stroke: rgb(255, 255, 255); stroke-opacity: 1; stroke-width: 2px;\"/></g><path class=\"xlines-below\"/><path class=\"ylines-below\"/><g class=\"overlines-below\"/><g class=\"xaxislayer-below\"/><g class=\"yaxislayer-below\"/><g class=\"overaxes-below\"/><g class=\"plot\" transform=\"translate(80,60)\" clip-path=\"url(#clip01d210xyplot)\"><g class=\"barlayer mlayer\"><g class=\"trace bars\" style=\"opacity: 1;\"><g class=\"points\"><g class=\"point\"><path d=\"M22,360V18H198V360Z\" style=\"vector-effect: non-scaling-stroke; opacity: 1; stroke-width: 0.5px; fill: rgb(99, 110, 250); fill-opacity: 1; stroke: rgb(229, 236, 246); stroke-opacity: 1;\"/></g><g class=\"point\"><path d=\"M242,360V21.92H418V360Z\" style=\"vector-effect: non-scaling-stroke; opacity: 1; stroke-width: 0.5px; fill: rgb(99, 110, 250); fill-opacity: 1; stroke: rgb(229, 236, 246); stroke-opacity: 1;\"/></g></g></g></g></g><g class=\"overplot\"/><path class=\"xlines-above crisp\" d=\"M0,0\" style=\"fill: none;\"/><path class=\"ylines-above crisp\" d=\"M0,0\" style=\"fill: none;\"/><g class=\"overlines-above\"/><g class=\"xaxislayer-above\"><g class=\"xtick\"><text text-anchor=\"middle\" x=\"0\" y=\"433\" transform=\"translate(190,0)\" style=\"font-family: 'Open Sans', verdana, arial, sans-serif; font-size: 12px; fill: rgb(42, 63, 95); fill-opacity: 1; white-space: pre; opacity: 1;\">1 2018</text></g><g class=\"xtick\"><text text-anchor=\"middle\" x=\"0\" y=\"433\" transform=\"translate(410,0)\" style=\"font-family: 'Open Sans', verdana, arial, sans-serif; font-size: 12px; fill: rgb(42, 63, 95); fill-opacity: 1; white-space: pre; opacity: 1;\">1 2022</text></g></g><g class=\"yaxislayer-above\"><g class=\"ytick\"><text text-anchor=\"end\" x=\"79\" y=\"4.199999999999999\" transform=\"translate(0,420)\" style=\"font-family: 'Open Sans', verdana, arial, sans-serif; font-size: 12px; fill: rgb(42, 63, 95); fill-opacity: 1; white-space: pre; opacity: 1;\">0</text></g><g class=\"ytick\"><text text-anchor=\"end\" x=\"79\" y=\"4.199999999999999\" style=\"font-family: 'Open Sans', verdana, arial, sans-serif; font-size: 12px; fill: rgb(42, 63, 95); fill-opacity: 1; white-space: pre; opacity: 1;\" transform=\"translate(0,364.43)\">1</text></g><g class=\"ytick\"><text text-anchor=\"end\" x=\"79\" y=\"4.199999999999999\" style=\"font-family: 'Open Sans', verdana, arial, sans-serif; font-size: 12px; fill: rgb(42, 63, 95); fill-opacity: 1; white-space: pre; opacity: 1;\" transform=\"translate(0,308.87)\">2</text></g><g class=\"ytick\"><text text-anchor=\"end\" x=\"79\" y=\"4.199999999999999\" style=\"font-family: 'Open Sans', verdana, arial, sans-serif; font-size: 12px; fill: rgb(42, 63, 95); fill-opacity: 1; white-space: pre; opacity: 1;\" transform=\"translate(0,253.3)\">3</text></g><g class=\"ytick\"><text text-anchor=\"end\" x=\"79\" y=\"4.199999999999999\" style=\"font-family: 'Open Sans', verdana, arial, sans-serif; font-size: 12px; fill: rgb(42, 63, 95); fill-opacity: 1; white-space: pre; opacity: 1;\" transform=\"translate(0,197.73)\">4</text></g><g class=\"ytick\"><text text-anchor=\"end\" x=\"79\" y=\"4.199999999999999\" style=\"font-family: 'Open Sans', verdana, arial, sans-serif; font-size: 12px; fill: rgb(42, 63, 95); fill-opacity: 1; white-space: pre; opacity: 1;\" transform=\"translate(0,142.17000000000002)\">5</text></g><g class=\"ytick\"><text text-anchor=\"end\" x=\"79\" y=\"4.199999999999999\" style=\"font-family: 'Open Sans', verdana, arial, sans-serif; font-size: 12px; fill: rgb(42, 63, 95); fill-opacity: 1; white-space: pre; opacity: 1;\" transform=\"translate(0,86.6)\">6</text></g></g><g class=\"overaxes-above\"/></g></g><g class=\"polarlayer\"/><g class=\"smithlayer\"/><g class=\"ternarylayer\"/><g class=\"geolayer\"/><g class=\"funnelarealayer\"/><g class=\"pielayer\"/><g class=\"iciclelayer\"/><g class=\"treemaplayer\"/><g class=\"sunburstlayer\"/><g class=\"glimages\"/><defs id=\"topdefs-01d210\"><g class=\"clips\"/><clipPath id=\"legend01d210\"><rect width=\"159\" height=\"48\" x=\"0\" y=\"0\"/></clipPath></defs><g class=\"layer-above\"><g class=\"imagelayer\"/><g class=\"shapelayer\"/></g><g class=\"infolayer\"><g class=\"legend\" pointer-events=\"all\" transform=\"translate(528.8,60)\"><rect class=\"bg\" shape-rendering=\"crispEdges\" style=\"stroke: rgb(68, 68, 68); stroke-opacity: 1; fill: rgb(255, 255, 255); fill-opacity: 1; stroke-width: 0px;\" width=\"159\" height=\"48\" x=\"0\" y=\"0\"/><g class=\"scrollbox\" transform=\"\" clip-path=\"url(#legend01d210)\"><text class=\"legendtitletext\" text-anchor=\"start\" x=\"2\" y=\"18.2\" style=\"font-family: 'Open Sans', verdana, arial, sans-serif; font-size: 14px; fill: rgb(42, 63, 95); fill-opacity: 1; white-space: pre;\">variable</text><g class=\"groups\" transform=\"\"><g class=\"traces\" transform=\"translate(0,32.7)\" style=\"opacity: 1;\"><text class=\"legendtext\" text-anchor=\"start\" x=\"40\" y=\"4.680000000000001\" style=\"font-family: 'Open Sans', verdana, arial, sans-serif; font-size: 12px; fill: rgb(42, 63, 95); fill-opacity: 1; white-space: pre;\">volume_sold_liters</text><g class=\"layers\" style=\"opacity: 1;\"><g class=\"legendfill\"/><g class=\"legendlines\"/><g class=\"legendsymbols\"><g class=\"legendpoints\"><path class=\"legendundefined\" d=\"M6,6H-6V-6H6Z\" transform=\"translate(20,0)\" style=\"stroke-width: 0.5px; fill: rgb(99, 110, 250); fill-opacity: 1; stroke: rgb(229, 236, 246); stroke-opacity: 1;\"/></g></g></g><rect class=\"legendtoggle\" x=\"0\" y=\"-9.5\" width=\"153.5\" height=\"19\" style=\"fill: rgb(0, 0, 0); fill-opacity: 0;\"/></g></g></g><rect class=\"scrollbar\" rx=\"20\" ry=\"3\" width=\"0\" height=\"0\" style=\"fill: rgb(128, 139, 164); fill-opacity: 1;\" x=\"0\" y=\"0\"/></g><g class=\"g-gtitle\"/><g class=\"g-xtitle\"><text class=\"xtitle\" x=\"300\" y=\"460.8\" text-anchor=\"middle\" style=\"font-family: 'Open Sans', verdana, arial, sans-serif; font-size: 14px; fill: rgb(42, 63, 95); opacity: 1; font-weight: normal; white-space: pre;\">index</text></g><g class=\"g-ytitle\"><text class=\"ytitle\" transform=\"rotate(-90,46.559375,240)\" x=\"46.559375\" y=\"240\" text-anchor=\"middle\" style=\"font-family: 'Open Sans', verdana, arial, sans-serif; font-size: 14px; fill: rgb(42, 63, 95); opacity: 1; font-weight: normal; white-space: pre;\">value</text></g></g></svg>"
     },
     "metadata": {},
     "output_type": "display_data"
    }
   ],
   "source": [
    "def visual_volume_sold_liters_mean():\n",
    "    series = df6.groupby(['year', 'month'])['volume_sold_liters'].mean()\n",
    "    series.index = ['{1} {0}'.format(i, j) for i, j in series.index]\n",
    "    px.bar(series).show()\n",
    "\n",
    "visual_volume_sold_liters_mean()"
   ]
  },
  {
   "cell_type": "markdown",
   "metadata": {},
   "source": [
    "### \\$89.26 (Januari 2018) dan \\$106.83 (Januari 2022) adalah rata-rata penjualan minuman beralkohol per transaksi di Iowa, Amerika Serikat."
   ]
  },
  {
   "cell_type": "code",
   "execution_count": 26,
   "metadata": {},
   "outputs": [
    {
     "data": {
      "image/svg+xml": "<svg class=\"main-svg\" xmlns=\"http://www.w3.org/2000/svg\" xmlns:xlink=\"http://www.w3.org/1999/xlink\" width=\"700\" height=\"500\" style=\"\" viewBox=\"0 0 700 500\"><rect x=\"0\" y=\"0\" width=\"700\" height=\"500\" style=\"fill: rgb(255, 255, 255); fill-opacity: 1;\"/><defs id=\"defs-a1df9f\"><g class=\"clips\"><clipPath id=\"clipa1df9fxyplot\" class=\"plotclip\"><rect width=\"481\" height=\"360\"/></clipPath><clipPath class=\"axesclip\" id=\"clipa1df9fx\"><rect x=\"80\" y=\"0\" width=\"481\" height=\"500\"/></clipPath><clipPath class=\"axesclip\" id=\"clipa1df9fy\"><rect x=\"0\" y=\"60\" width=\"700\" height=\"360\"/></clipPath><clipPath class=\"axesclip\" id=\"clipa1df9fxy\"><rect x=\"80\" y=\"60\" width=\"481\" height=\"360\"/></clipPath></g><g class=\"gradients\"/><g class=\"patterns\"/></defs><g class=\"bglayer\"><rect class=\"bg\" x=\"80\" y=\"60\" width=\"481\" height=\"360\" style=\"fill: rgb(229, 236, 246); fill-opacity: 1; stroke-width: 0;\"/></g><g class=\"layer-below\"><g class=\"imagelayer\"/><g class=\"shapelayer\"/></g><g class=\"cartesianlayer\"><g class=\"subplot xy\"><g class=\"layer-subplot\"><g class=\"shapelayer\"/><g class=\"imagelayer\"/></g><g class=\"minor-gridlayer\"><g class=\"x\"/><g class=\"y\"/></g><g class=\"gridlayer\"><g class=\"x\"/><g class=\"y\"><path class=\"ygrid crisp\" transform=\"translate(0,355.98)\" d=\"M80,0h481\" style=\"stroke: rgb(255, 255, 255); stroke-opacity: 1; stroke-width: 1px;\"/><path class=\"ygrid crisp\" transform=\"translate(0,291.95)\" d=\"M80,0h481\" style=\"stroke: rgb(255, 255, 255); stroke-opacity: 1; stroke-width: 1px;\"/><path class=\"ygrid crisp\" transform=\"translate(0,227.93)\" d=\"M80,0h481\" style=\"stroke: rgb(255, 255, 255); stroke-opacity: 1; stroke-width: 1px;\"/><path class=\"ygrid crisp\" transform=\"translate(0,163.91)\" d=\"M80,0h481\" style=\"stroke: rgb(255, 255, 255); stroke-opacity: 1; stroke-width: 1px;\"/><path class=\"ygrid crisp\" transform=\"translate(0,99.88)\" d=\"M80,0h481\" style=\"stroke: rgb(255, 255, 255); stroke-opacity: 1; stroke-width: 1px;\"/></g></g><g class=\"zerolinelayer\"><path class=\"yzl zl crisp\" transform=\"translate(0,420)\" d=\"M80,0h481\" style=\"stroke: rgb(255, 255, 255); stroke-opacity: 1; stroke-width: 2px;\"/></g><path class=\"xlines-below\"/><path class=\"ylines-below\"/><g class=\"overlines-below\"/><g class=\"xaxislayer-below\"/><g class=\"yaxislayer-below\"/><g class=\"overaxes-below\"/><g class=\"plot\" transform=\"translate(80,60)\" clip-path=\"url(#clipa1df9fxyplot)\"><g class=\"barlayer mlayer\"><g class=\"trace bars\" style=\"opacity: 1;\"><g class=\"points\"><g class=\"point\"><path d=\"M24.05,360V74.26H216.45V360Z\" style=\"vector-effect: non-scaling-stroke; opacity: 1; stroke-width: 0.5px; fill: rgb(99, 110, 250); fill-opacity: 1; stroke: rgb(229, 236, 246); stroke-opacity: 1;\"/></g><g class=\"point\"><path d=\"M264.55,360V18H456.95V360Z\" style=\"vector-effect: non-scaling-stroke; opacity: 1; stroke-width: 0.5px; fill: rgb(99, 110, 250); fill-opacity: 1; stroke: rgb(229, 236, 246); stroke-opacity: 1;\"/></g></g></g></g></g><g class=\"overplot\"/><path class=\"xlines-above crisp\" d=\"M0,0\" style=\"fill: none;\"/><path class=\"ylines-above crisp\" d=\"M0,0\" style=\"fill: none;\"/><g class=\"overlines-above\"/><g class=\"xaxislayer-above\"><g class=\"xtick\"><text text-anchor=\"middle\" x=\"0\" y=\"433\" transform=\"translate(200.25,0)\" style=\"font-family: 'Open Sans', verdana, arial, sans-serif; font-size: 12px; fill: rgb(42, 63, 95); fill-opacity: 1; white-space: pre; opacity: 1;\">1 2018</text></g><g class=\"xtick\"><text text-anchor=\"middle\" x=\"0\" y=\"433\" transform=\"translate(440.75,0)\" style=\"font-family: 'Open Sans', verdana, arial, sans-serif; font-size: 12px; fill: rgb(42, 63, 95); fill-opacity: 1; white-space: pre; opacity: 1;\">1 2022</text></g></g><g class=\"yaxislayer-above\"><g class=\"ytick\"><text text-anchor=\"end\" x=\"79\" y=\"4.199999999999999\" transform=\"translate(0,420)\" style=\"font-family: 'Open Sans', verdana, arial, sans-serif; font-size: 12px; fill: rgb(42, 63, 95); fill-opacity: 1; white-space: pre; opacity: 1;\">0</text></g><g class=\"ytick\"><text text-anchor=\"end\" x=\"79\" y=\"4.199999999999999\" style=\"font-family: 'Open Sans', verdana, arial, sans-serif; font-size: 12px; fill: rgb(42, 63, 95); fill-opacity: 1; white-space: pre; opacity: 1;\" transform=\"translate(0,355.98)\">20</text></g><g class=\"ytick\"><text text-anchor=\"end\" x=\"79\" y=\"4.199999999999999\" style=\"font-family: 'Open Sans', verdana, arial, sans-serif; font-size: 12px; fill: rgb(42, 63, 95); fill-opacity: 1; white-space: pre; opacity: 1;\" transform=\"translate(0,291.95)\">40</text></g><g class=\"ytick\"><text text-anchor=\"end\" x=\"79\" y=\"4.199999999999999\" style=\"font-family: 'Open Sans', verdana, arial, sans-serif; font-size: 12px; fill: rgb(42, 63, 95); fill-opacity: 1; white-space: pre; opacity: 1;\" transform=\"translate(0,227.93)\">60</text></g><g class=\"ytick\"><text text-anchor=\"end\" x=\"79\" y=\"4.199999999999999\" style=\"font-family: 'Open Sans', verdana, arial, sans-serif; font-size: 12px; fill: rgb(42, 63, 95); fill-opacity: 1; white-space: pre; opacity: 1;\" transform=\"translate(0,163.91)\">80</text></g><g class=\"ytick\"><text text-anchor=\"end\" x=\"79\" y=\"4.199999999999999\" style=\"font-family: 'Open Sans', verdana, arial, sans-serif; font-size: 12px; fill: rgb(42, 63, 95); fill-opacity: 1; white-space: pre; opacity: 1;\" transform=\"translate(0,99.88)\">100</text></g></g><g class=\"overaxes-above\"/></g></g><g class=\"polarlayer\"/><g class=\"smithlayer\"/><g class=\"ternarylayer\"/><g class=\"geolayer\"/><g class=\"funnelarealayer\"/><g class=\"pielayer\"/><g class=\"iciclelayer\"/><g class=\"treemaplayer\"/><g class=\"sunburstlayer\"/><g class=\"glimages\"/><defs id=\"topdefs-a1df9f\"><g class=\"clips\"/><clipPath id=\"legenda1df9f\"><rect width=\"117\" height=\"48\" x=\"0\" y=\"0\"/></clipPath></defs><g class=\"layer-above\"><g class=\"imagelayer\"/><g class=\"shapelayer\"/></g><g class=\"infolayer\"><g class=\"legend\" pointer-events=\"all\" transform=\"translate(570.62,60)\"><rect class=\"bg\" shape-rendering=\"crispEdges\" style=\"stroke: rgb(68, 68, 68); stroke-opacity: 1; fill: rgb(255, 255, 255); fill-opacity: 1; stroke-width: 0px;\" width=\"117\" height=\"48\" x=\"0\" y=\"0\"/><g class=\"scrollbox\" transform=\"\" clip-path=\"url(#legenda1df9f)\"><text class=\"legendtitletext\" text-anchor=\"start\" x=\"2\" y=\"18.2\" style=\"font-family: 'Open Sans', verdana, arial, sans-serif; font-size: 14px; fill: rgb(42, 63, 95); fill-opacity: 1; white-space: pre;\">variable</text><g class=\"groups\" transform=\"\"><g class=\"traces\" transform=\"translate(0,32.7)\" style=\"opacity: 1;\"><text class=\"legendtext\" text-anchor=\"start\" x=\"40\" y=\"4.680000000000001\" style=\"font-family: 'Open Sans', verdana, arial, sans-serif; font-size: 12px; fill: rgb(42, 63, 95); fill-opacity: 1; white-space: pre;\">sale_dollars</text><g class=\"layers\" style=\"opacity: 1;\"><g class=\"legendfill\"/><g class=\"legendlines\"/><g class=\"legendsymbols\"><g class=\"legendpoints\"><path class=\"legendundefined\" d=\"M6,6H-6V-6H6Z\" transform=\"translate(20,0)\" style=\"stroke-width: 0.5px; fill: rgb(99, 110, 250); fill-opacity: 1; stroke: rgb(229, 236, 246); stroke-opacity: 1;\"/></g></g></g><rect class=\"legendtoggle\" x=\"0\" y=\"-9.5\" width=\"111.46875\" height=\"19\" style=\"fill: rgb(0, 0, 0); fill-opacity: 0;\"/></g></g></g><rect class=\"scrollbar\" rx=\"20\" ry=\"3\" width=\"0\" height=\"0\" style=\"fill: rgb(128, 139, 164); fill-opacity: 1;\" x=\"0\" y=\"0\"/></g><g class=\"g-gtitle\"/><g class=\"g-xtitle\"><text class=\"xtitle\" x=\"320.5\" y=\"460.8\" text-anchor=\"middle\" style=\"font-family: 'Open Sans', verdana, arial, sans-serif; font-size: 14px; fill: rgb(42, 63, 95); opacity: 1; font-weight: normal; white-space: pre;\">index</text></g><g class=\"g-ytitle\"><text class=\"ytitle\" transform=\"rotate(-90,31.309375000000003,240)\" x=\"31.309375000000003\" y=\"240\" text-anchor=\"middle\" style=\"font-family: 'Open Sans', verdana, arial, sans-serif; font-size: 14px; fill: rgb(42, 63, 95); opacity: 1; font-weight: normal; white-space: pre;\">value</text></g></g></svg>"
     },
     "metadata": {},
     "output_type": "display_data"
    }
   ],
   "source": [
    "def visual_sale_dollars_mean():\n",
    "    series = df6.groupby(['year', 'month'])['sale_dollars'].mean()\n",
    "    series.index = ['{1} {0}'.format(i, j) for i, j in series.index]\n",
    "    px.bar(series).show()\n",
    "\n",
    "visual_sale_dollars_mean()"
   ]
  },
  {
   "cell_type": "markdown",
   "metadata": {},
   "source": [
    "### \\$16.04 million (Januari 2018) dan \\$18.09 million (Januari 2022) adalah GMV minuman beralkohol."
   ]
  },
  {
   "cell_type": "code",
   "execution_count": 27,
   "metadata": {},
   "outputs": [
    {
     "data": {
      "image/svg+xml": "<svg class=\"main-svg\" xmlns=\"http://www.w3.org/2000/svg\" xmlns:xlink=\"http://www.w3.org/1999/xlink\" width=\"700\" height=\"500\" style=\"\" viewBox=\"0 0 700 500\"><rect x=\"0\" y=\"0\" width=\"700\" height=\"500\" style=\"fill: rgb(255, 255, 255); fill-opacity: 1;\"/><defs id=\"defs-d85595\"><g class=\"clips\"><clipPath id=\"clipd85595xyplot\" class=\"plotclip\"><rect width=\"481\" height=\"360\"/></clipPath><clipPath class=\"axesclip\" id=\"clipd85595x\"><rect x=\"80\" y=\"0\" width=\"481\" height=\"500\"/></clipPath><clipPath class=\"axesclip\" id=\"clipd85595y\"><rect x=\"0\" y=\"60\" width=\"700\" height=\"360\"/></clipPath><clipPath class=\"axesclip\" id=\"clipd85595xy\"><rect x=\"80\" y=\"60\" width=\"481\" height=\"360\"/></clipPath></g><g class=\"gradients\"/><g class=\"patterns\"/></defs><g class=\"bglayer\"><rect class=\"bg\" x=\"80\" y=\"60\" width=\"481\" height=\"360\" style=\"fill: rgb(229, 236, 246); fill-opacity: 1; stroke-width: 0;\"/></g><g class=\"layer-below\"><g class=\"imagelayer\"/><g class=\"shapelayer\"/></g><g class=\"cartesianlayer\"><g class=\"subplot xy\"><g class=\"layer-subplot\"><g class=\"shapelayer\"/><g class=\"imagelayer\"/></g><g class=\"minor-gridlayer\"><g class=\"x\"/><g class=\"y\"/></g><g class=\"gridlayer\"><g class=\"x\"/><g class=\"y\"><path class=\"ygrid crisp\" transform=\"translate(0,382.21)\" d=\"M80,0h481\" style=\"stroke: rgb(255, 255, 255); stroke-opacity: 1; stroke-width: 1px;\"/><path class=\"ygrid crisp\" transform=\"translate(0,344.41)\" d=\"M80,0h481\" style=\"stroke: rgb(255, 255, 255); stroke-opacity: 1; stroke-width: 1px;\"/><path class=\"ygrid crisp\" transform=\"translate(0,306.62)\" d=\"M80,0h481\" style=\"stroke: rgb(255, 255, 255); stroke-opacity: 1; stroke-width: 1px;\"/><path class=\"ygrid crisp\" transform=\"translate(0,268.83000000000004)\" d=\"M80,0h481\" style=\"stroke: rgb(255, 255, 255); stroke-opacity: 1; stroke-width: 1px;\"/><path class=\"ygrid crisp\" transform=\"translate(0,231.04)\" d=\"M80,0h481\" style=\"stroke: rgb(255, 255, 255); stroke-opacity: 1; stroke-width: 1px;\"/><path class=\"ygrid crisp\" transform=\"translate(0,193.24)\" d=\"M80,0h481\" style=\"stroke: rgb(255, 255, 255); stroke-opacity: 1; stroke-width: 1px;\"/><path class=\"ygrid crisp\" transform=\"translate(0,155.45)\" d=\"M80,0h481\" style=\"stroke: rgb(255, 255, 255); stroke-opacity: 1; stroke-width: 1px;\"/><path class=\"ygrid crisp\" transform=\"translate(0,117.66)\" d=\"M80,0h481\" style=\"stroke: rgb(255, 255, 255); stroke-opacity: 1; stroke-width: 1px;\"/><path class=\"ygrid crisp\" transform=\"translate(0,79.87)\" d=\"M80,0h481\" style=\"stroke: rgb(255, 255, 255); stroke-opacity: 1; stroke-width: 1px;\"/></g></g><g class=\"zerolinelayer\"><path class=\"yzl zl crisp\" transform=\"translate(0,420)\" d=\"M80,0h481\" style=\"stroke: rgb(255, 255, 255); stroke-opacity: 1; stroke-width: 2px;\"/></g><path class=\"xlines-below\"/><path class=\"ylines-below\"/><g class=\"overlines-below\"/><g class=\"xaxislayer-below\"/><g class=\"yaxislayer-below\"/><g class=\"overaxes-below\"/><g class=\"plot\" transform=\"translate(80,60)\" clip-path=\"url(#clipd85595xyplot)\"><g class=\"barlayer mlayer\"><g class=\"trace bars\" style=\"opacity: 1;\"><g class=\"points\"><g class=\"point\"><path d=\"M24.05,360V56.82H216.45V360Z\" style=\"vector-effect: non-scaling-stroke; opacity: 1; stroke-width: 0.5px; fill: rgb(99, 110, 250); fill-opacity: 1; stroke: rgb(229, 236, 246); stroke-opacity: 1;\"/></g><g class=\"point\"><path d=\"M264.55,360V18H456.95V360Z\" style=\"vector-effect: non-scaling-stroke; opacity: 1; stroke-width: 0.5px; fill: rgb(99, 110, 250); fill-opacity: 1; stroke: rgb(229, 236, 246); stroke-opacity: 1;\"/></g></g></g></g></g><g class=\"overplot\"/><path class=\"xlines-above crisp\" d=\"M0,0\" style=\"fill: none;\"/><path class=\"ylines-above crisp\" d=\"M0,0\" style=\"fill: none;\"/><g class=\"overlines-above\"/><g class=\"xaxislayer-above\"><g class=\"xtick\"><text text-anchor=\"middle\" x=\"0\" y=\"433\" transform=\"translate(200.25,0)\" style=\"font-family: 'Open Sans', verdana, arial, sans-serif; font-size: 12px; fill: rgb(42, 63, 95); fill-opacity: 1; white-space: pre; opacity: 1;\">1 2018</text></g><g class=\"xtick\"><text text-anchor=\"middle\" x=\"0\" y=\"433\" transform=\"translate(440.75,0)\" style=\"font-family: 'Open Sans', verdana, arial, sans-serif; font-size: 12px; fill: rgb(42, 63, 95); fill-opacity: 1; white-space: pre; opacity: 1;\">1 2022</text></g></g><g class=\"yaxislayer-above\"><g class=\"ytick\"><text text-anchor=\"end\" x=\"79\" y=\"4.199999999999999\" transform=\"translate(0,420)\" style=\"font-family: 'Open Sans', verdana, arial, sans-serif; font-size: 12px; fill: rgb(42, 63, 95); fill-opacity: 1; white-space: pre; opacity: 1;\">0</text></g><g class=\"ytick\"><text text-anchor=\"end\" x=\"79\" y=\"4.199999999999999\" style=\"font-family: 'Open Sans', verdana, arial, sans-serif; font-size: 12px; fill: rgb(42, 63, 95); fill-opacity: 1; white-space: pre; opacity: 1;\" transform=\"translate(0,382.21)\">2M</text></g><g class=\"ytick\"><text text-anchor=\"end\" x=\"79\" y=\"4.199999999999999\" style=\"font-family: 'Open Sans', verdana, arial, sans-serif; font-size: 12px; fill: rgb(42, 63, 95); fill-opacity: 1; white-space: pre; opacity: 1;\" transform=\"translate(0,344.41)\">4M</text></g><g class=\"ytick\"><text text-anchor=\"end\" x=\"79\" y=\"4.199999999999999\" style=\"font-family: 'Open Sans', verdana, arial, sans-serif; font-size: 12px; fill: rgb(42, 63, 95); fill-opacity: 1; white-space: pre; opacity: 1;\" transform=\"translate(0,306.62)\">6M</text></g><g class=\"ytick\"><text text-anchor=\"end\" x=\"79\" y=\"4.199999999999999\" style=\"font-family: 'Open Sans', verdana, arial, sans-serif; font-size: 12px; fill: rgb(42, 63, 95); fill-opacity: 1; white-space: pre; opacity: 1;\" transform=\"translate(0,268.83000000000004)\">8M</text></g><g class=\"ytick\"><text text-anchor=\"end\" x=\"79\" y=\"4.199999999999999\" style=\"font-family: 'Open Sans', verdana, arial, sans-serif; font-size: 12px; fill: rgb(42, 63, 95); fill-opacity: 1; white-space: pre; opacity: 1;\" transform=\"translate(0,231.04)\">10M</text></g><g class=\"ytick\"><text text-anchor=\"end\" x=\"79\" y=\"4.199999999999999\" style=\"font-family: 'Open Sans', verdana, arial, sans-serif; font-size: 12px; fill: rgb(42, 63, 95); fill-opacity: 1; white-space: pre; opacity: 1;\" transform=\"translate(0,193.24)\">12M</text></g><g class=\"ytick\"><text text-anchor=\"end\" x=\"79\" y=\"4.199999999999999\" style=\"font-family: 'Open Sans', verdana, arial, sans-serif; font-size: 12px; fill: rgb(42, 63, 95); fill-opacity: 1; white-space: pre; opacity: 1;\" transform=\"translate(0,155.45)\">14M</text></g><g class=\"ytick\"><text text-anchor=\"end\" x=\"79\" y=\"4.199999999999999\" style=\"font-family: 'Open Sans', verdana, arial, sans-serif; font-size: 12px; fill: rgb(42, 63, 95); fill-opacity: 1; white-space: pre; opacity: 1;\" transform=\"translate(0,117.66)\">16M</text></g><g class=\"ytick\"><text text-anchor=\"end\" x=\"79\" y=\"4.199999999999999\" style=\"font-family: 'Open Sans', verdana, arial, sans-serif; font-size: 12px; fill: rgb(42, 63, 95); fill-opacity: 1; white-space: pre; opacity: 1;\" transform=\"translate(0,79.87)\">18M</text></g></g><g class=\"overaxes-above\"/></g></g><g class=\"polarlayer\"/><g class=\"smithlayer\"/><g class=\"ternarylayer\"/><g class=\"geolayer\"/><g class=\"funnelarealayer\"/><g class=\"pielayer\"/><g class=\"iciclelayer\"/><g class=\"treemaplayer\"/><g class=\"sunburstlayer\"/><g class=\"glimages\"/><defs id=\"topdefs-d85595\"><g class=\"clips\"/><clipPath id=\"legendd85595\"><rect width=\"117\" height=\"48\" x=\"0\" y=\"0\"/></clipPath></defs><g class=\"layer-above\"><g class=\"imagelayer\"/><g class=\"shapelayer\"/></g><g class=\"infolayer\"><g class=\"legend\" pointer-events=\"all\" transform=\"translate(570.62,60)\"><rect class=\"bg\" shape-rendering=\"crispEdges\" width=\"117\" height=\"48\" x=\"0\" y=\"0\" style=\"stroke: rgb(68, 68, 68); stroke-opacity: 1; fill: rgb(255, 255, 255); fill-opacity: 1; stroke-width: 0px;\"/><g class=\"scrollbox\" transform=\"\" clip-path=\"url(#legendd85595)\"><text class=\"legendtitletext\" text-anchor=\"start\" x=\"2\" y=\"18.2\" style=\"font-family: 'Open Sans', verdana, arial, sans-serif; font-size: 14px; fill: rgb(42, 63, 95); fill-opacity: 1; white-space: pre;\">variable</text><g class=\"groups\" transform=\"\"><g class=\"traces\" transform=\"translate(0,32.7)\" style=\"opacity: 1;\"><text class=\"legendtext\" text-anchor=\"start\" x=\"40\" y=\"4.680000000000001\" style=\"font-family: 'Open Sans', verdana, arial, sans-serif; font-size: 12px; fill: rgb(42, 63, 95); fill-opacity: 1; white-space: pre;\">sale_dollars</text><g class=\"layers\" style=\"opacity: 1;\"><g class=\"legendfill\"/><g class=\"legendlines\"/><g class=\"legendsymbols\"><g class=\"legendpoints\"><path class=\"legendundefined\" d=\"M6,6H-6V-6H6Z\" transform=\"translate(20,0)\" style=\"stroke-width: 0.5px; fill: rgb(99, 110, 250); fill-opacity: 1; stroke: rgb(229, 236, 246); stroke-opacity: 1;\"/></g></g></g><rect class=\"legendtoggle\" x=\"0\" y=\"-9.5\" width=\"111.46875\" height=\"19\" style=\"fill: rgb(0, 0, 0); fill-opacity: 0;\"/></g></g></g><rect class=\"scrollbar\" rx=\"20\" ry=\"3\" width=\"0\" height=\"0\" x=\"0\" y=\"0\" style=\"fill: rgb(128, 139, 164); fill-opacity: 1;\"/></g><g class=\"g-gtitle\"/><g class=\"g-xtitle\"><text class=\"xtitle\" x=\"320.5\" y=\"460.8\" text-anchor=\"middle\" style=\"font-family: 'Open Sans', verdana, arial, sans-serif; font-size: 14px; fill: rgb(42, 63, 95); opacity: 1; font-weight: normal; white-space: pre;\">index</text></g><g class=\"g-ytitle\"><text class=\"ytitle\" transform=\"rotate(-90,28.825000000000003,240)\" x=\"28.825000000000003\" y=\"240\" text-anchor=\"middle\" style=\"font-family: 'Open Sans', verdana, arial, sans-serif; font-size: 14px; fill: rgb(42, 63, 95); opacity: 1; font-weight: normal; white-space: pre;\">value</text></g></g></svg>"
     },
     "metadata": {},
     "output_type": "display_data"
    }
   ],
   "source": [
    "def visual_sale_dollars_sum():\n",
    "    series = df6.groupby(['year', 'month'])['sale_dollars'].sum()\n",
    "    series.index = ['{1} {0}'.format(i, j) for i, j in series.index]\n",
    "    px.bar(series).show()\n",
    "\n",
    "visual_sale_dollars_sum()"
   ]
  },
  {
   "cell_type": "markdown",
   "metadata": {},
   "source": [
    "## Statistik Inferensial\n",
    "\n",
    "Terdapat banyak faktor yang berbeda (hari libur, pandemi, dan lain-lain) dalam masing-masing data (2018 dan 2022). Faktor ini menyebabkan kita tidak dapat membandingkan kedua data secara adil.\n",
    "\n",
    "Oleh karena itu, kita menggunakan hypothesis testing two sample untuk menguji apakah kedua data tersebut sama atau berbeda dari sisi:\n",
    "\n",
    "1. rata-rata penjualan dalam volume, total harga pada bulan Januari 2018 dan 2021.\n",
    "2. rata-rata harga minuman pada bulan Januari 2018 dan 2021."
   ]
  },
  {
   "cell_type": "markdown",
   "metadata": {},
   "source": [
    "### Rata-rata penjualan minuman beralkohol dalam volume pada bulan Januari 2018 dan 2022 berbeda.\n",
    "\n",
    "H0: μ(2018, volume_sold_liters) = μ(2022, volume_sold_liters)\n",
    "\n",
    "H1: μ(2018, volume_sold_liters) != μ(2022, volume_sold_liters)\n",
    "\n",
    "We will reject null hypothesis if p-value is below 1%.\n",
    "\n",
    "Since our p-value is less than 0.5%, so we reject the null hypothesis and we can conclude with 99% confidence that, the average sales in terms of volume sold liters in January 2018 and January 2022 is different."
   ]
  },
  {
   "cell_type": "code",
   "execution_count": 28,
   "metadata": {},
   "outputs": [
    {
     "name": "stdout",
     "output_type": "stream",
     "text": [
      "p-value 0.00\n"
     ]
    }
   ],
   "source": [
    "def hypothesis_testing_two_sample_volume_sold_liters_unequal():\n",
    "    series_1_2018 = df6.loc[(df6['year'] == 2018) & (df6['month'] == 1),'volume_sold_liters']\n",
    "    series_1_2022 = df6.loc[(df6['year'] == 2022) & (df6['month'] == 1),'volume_sold_liters']\n",
    "\n",
    "    t_stat, p_val = stats.ttest_ind(series_1_2018, series_1_2022)\n",
    "    print(\"p-value {:.2f}\".format(p_val))\n",
    "\n",
    "hypothesis_testing_two_sample_volume_sold_liters_unequal()"
   ]
  },
  {
   "cell_type": "markdown",
   "metadata": {},
   "source": [
    "#### Rata-rata penjualan minuman beralkohol dalam volume pada bulan Januari 2018 lebih besar daripada Januari 2022\n",
    "\n",
    "H0: μ(2018, volume_sold_liters) >= μ(2022, volume_sold_liters)\n",
    "\n",
    "H1: μ(2018, volume_sold_liters) < μ(2022, volume_sold_liters)\n",
    "\n",
    "We will reject null hypothesis if p-value is below 0.5%.\n",
    "\n",
    "Based on the result below, we can conclude with 99% confidence that we fail to reject the null hypothesis which means the average sales in terms of volume sold liters in January 2018 is more than equal compared to January 2022."
   ]
  },
  {
   "cell_type": "code",
   "execution_count": 29,
   "metadata": {},
   "outputs": [
    {
     "name": "stdout",
     "output_type": "stream",
     "text": [
      "p-value 1.00\n"
     ]
    }
   ],
   "source": [
    "def hypothesis_testing_two_sample_volume_sold_liters_less():\n",
    "    series_1_2018 = df6.loc[(df6['year'] == 2018) & (df6['month'] == 1),'volume_sold_liters']\n",
    "    series_1_2022 = df6.loc[(df6['year'] == 2022) & (df6['month'] == 1),'volume_sold_liters']\n",
    "\n",
    "    t_stat, p_val = stats.ttest_ind(series_1_2018, series_1_2022, alternative=\"less\")\n",
    "    print(\"p-value {:.2f}\".format(p_val))\n",
    "\n",
    "hypothesis_testing_two_sample_volume_sold_liters_less()"
   ]
  },
  {
   "cell_type": "markdown",
   "metadata": {},
   "source": [
    "### Rata-rata penjualan minuman beralkohol per transaksi pada bulan Januari 2018 dan 2022 berbeda\n",
    "\n",
    "H0: μ(2018, sale_dollars) = μ(2022, sale_dollars)\n",
    "\n",
    "H1: μ(2018, sale_dollars) != μ(2022, sale_dollars)\n",
    "\n",
    "We will reject null hypothesis if p-value is below 0.5%.\n",
    "\n",
    "Since our p-value is less than 0.5%, so we reject the null hypothesis and we can conclude with 99% confidence that, the average sales in terms of dollars in January 2018 and January 2022 is different."
   ]
  },
  {
   "cell_type": "code",
   "execution_count": 30,
   "metadata": {},
   "outputs": [
    {
     "name": "stdout",
     "output_type": "stream",
     "text": [
      "p-value 0.00\n"
     ]
    }
   ],
   "source": [
    "def hypothesis_testing_two_sample_sale_dollars_unequal():\n",
    "    series_1_2018 = df6.loc[(df6['year'] == 2018) & (df6['month'] == 1),'sale_dollars']\n",
    "    series_1_2022 = df6.loc[(df6['year'] == 2022) & (df6['month'] == 1),'sale_dollars']\n",
    "\n",
    "    t_stat, p_val = stats.ttest_ind(series_1_2018, series_1_2022)\n",
    "    print(\"p-value {:.2f}\".format(p_val))\n",
    "\n",
    "hypothesis_testing_two_sample_sale_dollars_unequal()"
   ]
  },
  {
   "cell_type": "markdown",
   "metadata": {},
   "source": [
    "#### Rata-rata penjualan minuman beralkohol per transaksi pada bulan Januari 2018 lebih kecil daripada 2022.\n",
    "\n",
    "H0: μ(2018, sale_dollars) <= μ(2022, sale_dollars)\n",
    "\n",
    "H1: μ(2018, sale_dollars) > μ(2022, sale_dollars)\n",
    "\n",
    "We will reject null hypothesis if p-value is below 0.5%.\n",
    "\n",
    "Based on the result below, we can conclude with 99% confidence that we fail to reject the null hypothesis which means the average sales in terms of dollars in January 2018 is less than equal compared to January 2022."
   ]
  },
  {
   "cell_type": "code",
   "execution_count": 31,
   "metadata": {},
   "outputs": [
    {
     "name": "stdout",
     "output_type": "stream",
     "text": [
      "p-value 1.00\n"
     ]
    }
   ],
   "source": [
    "def hypothesis_testing_two_sample_sale_dollars_greater():\n",
    "    series_1_2018 = df6.loc[(df6['year'] == 2018) & (df6['month'] == 1),'sale_dollars']\n",
    "    series_1_2022 = df6.loc[(df6['year'] == 2022) & (df6['month'] == 1),'sale_dollars']\n",
    "\n",
    "    t_stat, p_val = stats.ttest_ind(series_1_2018, series_1_2022, alternative=\"greater\")\n",
    "    print(\"p-value {:.2f}\".format(p_val))\n",
    "\n",
    "hypothesis_testing_two_sample_sale_dollars_greater()"
   ]
  },
  {
   "cell_type": "markdown",
   "metadata": {},
   "source": [
    "### Rata-rata harga minuman beralkohol pada bulan Januari 2018 dan 2022 berbeda\n",
    "\n",
    "H0: μ(2018, state_bottle_retail) = μ(2022, state_bottle_retail)\n",
    "\n",
    "H1: μ(2018, state_bottle_retail) != μ(2022, state_bottle_retail)\n",
    "\n",
    "We will reject null hypothesis if p-value is below 1%.\n",
    "\n",
    "Since our p-value is less than 1%, so we reject the null hypothesis and we can conclude with 99% confidence that, the average bottle retail price in January 2018 and January 2022 is different."
   ]
  },
  {
   "cell_type": "code",
   "execution_count": 32,
   "metadata": {},
   "outputs": [
    {
     "name": "stdout",
     "output_type": "stream",
     "text": [
      "p-value 0.00\n"
     ]
    }
   ],
   "source": [
    "def hypothesis_testing_two_sample_state_bottle_retail_unequal():\n",
    "    series_1_2018 = df6.loc[(df6['year'] == 2018) & (df6['month'] == 1), 'state_bottle_retail']\n",
    "    series_1_2022 = df6.loc[(df6['year'] == 2022) & (df6['month'] == 1), 'state_bottle_retail']\n",
    "\n",
    "    t_stat, p_val = stats.ttest_ind(series_1_2018, series_1_2022)\n",
    "    print(\"p-value {:.2f}\".format(p_val))\n",
    "\n",
    "hypothesis_testing_two_sample_state_bottle_retail_unequal()"
   ]
  },
  {
   "cell_type": "markdown",
   "metadata": {},
   "source": [
    "#### Rata-rata harga minuman beralkohol pada bulan Januari 2018 lebih rendah daripada 2022\n",
    "\n",
    "H0: μ(2018, state_bottle_retail) >= μ(2022, state_bottle_retail)\n",
    "\n",
    "H1: μ(2018, state_bottle_retail) < μ(2022, state_bottle_retail)\n",
    "\n",
    "We will reject null hypothesis if p-value is below 0.5%.\n",
    "\n",
    "Since our p-value is less than 0.5, so we reject the null hypothesis and we can conclude with 99% confidence that, the average bottle retail price in January 2018 is less than equal compared to January 2022."
   ]
  },
  {
   "cell_type": "code",
   "execution_count": 33,
   "metadata": {},
   "outputs": [
    {
     "name": "stdout",
     "output_type": "stream",
     "text": [
      "p-value 0.00\n"
     ]
    }
   ],
   "source": [
    "def hypothesis_testing_two_sample_state_bottle_retail_less():\n",
    "    series_1_2018 = df6.loc[(df6['year'] == 2018) & (df6['month'] == 1), 'state_bottle_retail']\n",
    "    series_1_2022 = df6.loc[(df6['year'] == 2022) & (df6['month'] == 1), 'state_bottle_retail']\n",
    "\n",
    "    t_stat, p_val = stats.ttest_ind(series_1_2018, series_1_2022, alternative='less')\n",
    "    print(\"p-value {:.2f}\".format(p_val))\n",
    "\n",
    "hypothesis_testing_two_sample_state_bottle_retail_unequal()"
   ]
  },
  {
   "cell_type": "markdown",
   "metadata": {},
   "source": [
    "# Pengambilan Keputusan"
   ]
  },
  {
   "cell_type": "markdown",
   "metadata": {},
   "source": [
    "## The Insights\n",
    "\n",
    "1. Des Mones adalah kota dengan penjualan tertinggi minuman beralkohol di Iowa, Amerika Serikat pada bulan Januari 2018 dan 2022\n",
    "2. 750 ml (2018, 2022) adalah ukuran botol minuman beralkohol yang paling banyak terjual pada masing-masing tahun.\n",
    "   1. 91.95% (Januari 2018) dan 89.23% (Januari 2022) pasar dapat dilayani dengan hanya menyediakan ukuran botol minuman beralkohol 750 ml, 1750 ml, 375 ml, dan 1000 ml.\n",
    "3. American Vodkas (Januari 2018 & 2022) adalah kategori minuman beralkohol yang paling banyak terjual.\n",
    "   1. 48.5% (Januari 2018) dan 49.2% (Januari 2022) pasar dapat dilayani dengan hanya 5 kategori minuman, yaitu American Vodkas, Canadian Whiskies, Spiced Rum, Straight Bourbon Whiskies, dan Whiskey Liquer.\n",
    "4. 6.15L (Januari 2018) dan 6.08L (Januari 2022) adalah rata-rata penjualan minuman beralkohol per transaksi di Iowa, Amerika Serikat (teruji dengan hypothesis testing two sample independent).\n",
    "5. \\$89.26 (Januari 2018) dan \\$106.83 (Januari 2022) adalah rata-rata penjualan minuman beralkohol per transaksi di Iowa, Amerika Serikat (teruji dengan hypothesis testing two sample independent).\n",
    "6. \\$16.04 million (Januari 2018) dan \\$18.09 million (Januari 2022) adalah GMV minuman beralkohol di Iowa, Amerika Serikat.\n",
    "7. Rata-rata harga minuman beralkohol pada bulan Januari 2018 lebih rendah daripada 2022 di Iowa, Amerika Serikat (teruji dengan hypothesis testing two sample independent)."
   ]
  },
  {
   "cell_type": "markdown",
   "metadata": {},
   "source": [
    "## Benang merah\n",
    "\n",
    "Seandainya terjadi krisis, perusahaan tidak perlu khawatir terjadi perubahan permintaan dalam pasar. Baik pangsa pasar yang dilayani per kota (Top 1-3), per ukuran botol (Top 1-5), per kategori minuman beralkohol (Top 1-5) tidak berubah. Bahkan, rata-rata nilai transaksi meningkat pada puncak krisis.\n",
    "\n",
    "Selain itu, jika keadaan mengharuskan perusahaan melakukan downsizing inventory, hanya dengan fokus pada Top 1-5 ukuran botol, Top 1-5 kategori minuman beralkohol, perusahaan dapat melayani 43% pasar (Januari 2022)."
   ]
  },
  {
   "cell_type": "markdown",
   "metadata": {},
   "source": [
    "## Rekomendasi\n",
    "\n",
    "Jika perusahaan mengikuti rekomendasi Data Analyst, maka perusahaan dapat melayani pasar dengan nilai sebesar \\$679,000 pada bulan Januari 2022.\n",
    "\n",
    "Nilai pasar dihitung sebagai berikut:\n",
    "```\n",
    "GMV minuman beralkohol di Iowa, Amerika Serikat \n",
    "* pangsa pasar yang dilayani, yaitu kota Des Moines \n",
    "* pangsa pasar yang dilayani berdasarkan ukuran botol minuman beralkohol \n",
    "* pangsa pasar yang dilayani berdasarkan kategori minuman beralkohol\n",
    "```\n",
    "\n",
    "Rekomendasi Data Analyst adalah sebagai berikut:\n",
    "\n",
    "Disclaimer: perusahaan membuka toko pada tahun 2022 (bukan tahun 2023, prediksi bukan scope dari Data Analyst saat ini)\n",
    "\n",
    "1. Kota yang perusahaan harus pilih adalah Des Moines jika ingin berada pada 8.55% pasar.\n",
    "2. Ukuran botol minuman beralkohol yang harus disediakan perusahaan adalah 750 ml, 1750 ml, 375 ml dan 1000 ml jika ingin melayani 89.23% pasar.\n",
    "3. Kategori minuman beralkohol yang harus disediakan perusahaan adalah American Vodkas, Canadian Whiskies, Spiced Rum, Straight Bourbon Whiskies, dan Whiskey Liquer jika ingin melayani 49.2% pasar.\n",
    "4. Promo yang harus dijalankan untuk menarik pelanggan dari kompetitor adalah \"Min. Belanja \\$100\" atau \"Min. Volume 6 Liter\""
   ]
  }
 ],
 "metadata": {
  "kernelspec": {
   "display_name": "Python 3.10.8 64-bit",
   "language": "python",
   "name": "python3"
  },
  "language_info": {
   "codemirror_mode": {
    "name": "ipython",
    "version": 3
   },
   "file_extension": ".py",
   "mimetype": "text/x-python",
   "name": "python",
   "nbconvert_exporter": "python",
   "pygments_lexer": "ipython3",
   "version": "3.10.8"
  },
  "orig_nbformat": 4,
  "vscode": {
   "interpreter": {
    "hash": "aee8b7b246df8f9039afb4144a1f6fd8d2ca17a180786b69acc140d282b71a49"
   }
  }
 },
 "nbformat": 4,
 "nbformat_minor": 2
}
