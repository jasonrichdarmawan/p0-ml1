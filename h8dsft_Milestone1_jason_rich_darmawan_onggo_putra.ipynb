{
 "cells": [
  {
   "cell_type": "markdown",
   "metadata": {},
   "source": [
    "#TODO URL dashboard:"
   ]
  },
  {
   "cell_type": "markdown",
   "metadata": {},
   "source": [
    "# Perkenalan\n",
    "\n",
    "Nama : Jason Rich Darmawan Onggo Putra\n",
    "\n",
    "Batch : 016 RMT"
   ]
  },
  {
   "cell_type": "markdown",
   "metadata": {},
   "source": [
    "# Identifikasi Masalah"
   ]
  },
  {
   "cell_type": "markdown",
   "metadata": {},
   "source": [
    "## Topik Permasalahan\n",
    "\n",
    "Perbandingan Pembelian Alkohol di Iowa, Amerika Serikat sebelum Pandemi Covid-19 dan puncak (kasus baru per hari) Pandemi Covid-19\n",
    "\n",
    "Data sebelum Pandemi Covid-19 yang digunakan adalah bulan Janauri 2018.\n",
    "\n",
    "Data Puncak Pandemi Covid-19 yang digunakan adalah bulan Januari 2021."
   ]
  },
  {
   "cell_type": "markdown",
   "metadata": {},
   "source": [
    "## Problem Statement\n",
    "\n",
    "Membuktikan Dampak (Meningkat/Berkurang/Tidak Berdampak) Pandemi Covid-19 terhadap Konsumsi Alkohol di Iowa, Amerika Serikat."
   ]
  },
  {
   "cell_type": "markdown",
   "metadata": {},
   "source": [
    "## Latar Belakang\n",
    "\n",
    "Sebagai Data Analyst yang mungkin akan bekerja di e-commerce atau franchisor convenience store, saya perlu intuisi untuk \"apa perlu menambah stok minuman beralkohol ketika terjadi krisis seperti Pandemi Covid-19\""
   ]
  },
  {
   "cell_type": "markdown",
   "metadata": {},
   "source": [
    "## Penjabaran Masalah\n",
    "\n",
    "#TODO penjabaran masalah\n",
    "\n",
    "### Hypothesis Testing 1\n",
    "\n",
    "- [ ] Apa rata-rata penjualan minuman beralkohol (dalam volume / column `volume_sold_liters`) di Iowa, Amerika Serikat pada bulan Januari 2018 dan 2021 sama/berbeda (lebih kecil/lebih besar)?\n",
    "- [ ] Apa rata-rata penjualan minuman beralkohol (dalam total harga / column `sale_dollars`) di Iowa, Amerika Serikat pada bulan Januari 2018 dan 2021 sama/berbeda?\n",
    "\n",
    "### Visualisasi\n",
    "\n",
    "- [ ] Di kota (column `city`) mana penjualan tertinggi (dalam volume / column `volume_sold_liters`) minuman beralkohol di Iowa, Amerika Serikat pada bulan Januari 2018 dan 2021?\n",
    "- [ ] Di kota (column `city`) mana penjualan tertinggi (dalam total harga / column `sale_dollars`) di Iowa, Amerika Serikat pada bulan Januari 2018 dan 2021?\n",
    "\n",
    "### Hypothesis Testing 2\n",
    "\n",
    "- [ ] Apa rata-rata harga minuman beralkohol (column `state_bottle_retail`) di Iowa, Amerika Serikat pada bulan Januari 2018 dan 2021 sama/berbeda?\n",
    "\n",
    "### Dugaan Penyebab Perbedaan Rata-rata Penjualan Minuman Beralkohol pada bulan Januari 2018 dan 2021\n",
    "\n",
    "- [ ] Apa korelasi harga minimuman beralkohol (column `state_bottle_retail`) dengan jumlah botol terjual (column `bottles_sold`) di Iowa Amerika Serikat pada bulan Januari 2018 dan 2021?\n",
    "- [ ] Apa minuman beralkohol dijual (column `state_bottle_retail`) dibawah biaya produksi (`state_bottle_cost`) di Iowa Amerika Serikat pada bulan Januari 2018 dan 2021?\n",
    "\n",
    "### Informasi Lainnya\n",
    "\n",
    "- [ ] Apa ukuran botol (column `bottle_volume_ml`) yang paling banyak terjual (column `bottles_sold`) di Iowa, Amerika Serikat pada bulan Januari 2018 dan 2021?\n",
    "- [ ] Apa kategori minuman beralkohol yang paling banyak terjual (column `bottles_sold`) di Iowa, Amerika Serikat pada bulan Januari 2018 dan 2021?"
   ]
  },
  {
   "cell_type": "markdown",
   "metadata": {},
   "source": [
    "# Data Loading\n",
    "\n",
    "## Import Library"
   ]
  },
  {
   "cell_type": "code",
   "execution_count": 13,
   "metadata": {},
   "outputs": [],
   "source": [
    "import pandas as pd"
   ]
  },
  {
   "cell_type": "markdown",
   "metadata": {},
   "source": [
    "## Reference\n",
    "\n",
    "project: bigquery-public-data\n",
    "\n",
    "dataset: iowa_liquor_sales\n",
    "\n",
    "table: sales\n",
    "\n",
    "## Query\n",
    "\n",
    "advantage: sub-query agar lebih clean dan lebih mudah ganti tahun dan bulan.\n",
    "\n",
    "disadvantage: result sub-query-nya boros (diload hanya untuk difilter di query berikutnya).\n",
    "\n",
    "```\n",
    "SELECT *,\n",
    "FROM (\n",
    "  SELECT *, \n",
    "         EXTRACT(YEAR FROM date) as year,\n",
    "         EXTRACT(MONTH FROM date) as month\n",
    "  FROM `bigquery-public-data.iowa_liquor_sales.sales`\n",
    "  WHERE date BETWEEN \"2018-01-01\" AND \"2022-01-31\"\n",
    ")\n",
    "WHERE year IN (2018, 2022) \n",
    " AND month=1\n",
    "```"
   ]
  },
  {
   "cell_type": "code",
   "execution_count": 14,
   "metadata": {},
   "outputs": [],
   "source": [
    "df = pd.read_csv(\"./bigquery-public-data_iowa_liquor_sales_year_2018_and_year_2022_month_1.csv\")"
   ]
  },
  {
   "cell_type": "markdown",
   "metadata": {},
   "source": [
    "## DataFrame.head()\n",
    "\n",
    "#TODO drop columns\n",
    "- [x] can't be visualized nor answer 'Penjabaran Masalah'\n",
    "  `store_number`, `store_name`, `address`, `store_location`, `vendor_number`, `vendor_name`, `item_number`, `item_description`\n",
    "- too big to derive conclusion from\n",
    "  `county_number`, `county`\n",
    "- duplicated columns\n",
    "  `volume_sold_gallons`, `year`, `month`\n",
    "\n",
    "#TODO DataFrame.sort_values() \n",
    "- [x] by column `date`"
   ]
  },
  {
   "cell_type": "code",
   "execution_count": 15,
   "metadata": {},
   "outputs": [
    {
     "data": {
      "text/html": [
       "<div>\n",
       "<style scoped>\n",
       "    .dataframe tbody tr th:only-of-type {\n",
       "        vertical-align: middle;\n",
       "    }\n",
       "\n",
       "    .dataframe tbody tr th {\n",
       "        vertical-align: top;\n",
       "    }\n",
       "\n",
       "    .dataframe thead th {\n",
       "        text-align: right;\n",
       "    }\n",
       "</style>\n",
       "<table border=\"1\" class=\"dataframe\">\n",
       "  <thead>\n",
       "    <tr style=\"text-align: right;\">\n",
       "      <th></th>\n",
       "      <th>invoice_and_item_number</th>\n",
       "      <th>date</th>\n",
       "      <th>store_number</th>\n",
       "      <th>store_name</th>\n",
       "      <th>address</th>\n",
       "      <th>city</th>\n",
       "      <th>zip_code</th>\n",
       "      <th>store_location</th>\n",
       "      <th>county_number</th>\n",
       "      <th>county</th>\n",
       "      <th>category</th>\n",
       "      <th>category_name</th>\n",
       "      <th>vendor_number</th>\n",
       "      <th>vendor_name</th>\n",
       "      <th>item_number</th>\n",
       "      <th>item_description</th>\n",
       "      <th>pack</th>\n",
       "      <th>bottle_volume_ml</th>\n",
       "      <th>state_bottle_cost</th>\n",
       "      <th>state_bottle_retail</th>\n",
       "      <th>bottles_sold</th>\n",
       "      <th>sale_dollars</th>\n",
       "      <th>volume_sold_liters</th>\n",
       "      <th>volume_sold_gallons</th>\n",
       "      <th>year</th>\n",
       "      <th>month</th>\n",
       "    </tr>\n",
       "  </thead>\n",
       "  <tbody>\n",
       "    <tr>\n",
       "      <th>0</th>\n",
       "      <td>INV-10095200050</td>\n",
       "      <td>2018-01-30</td>\n",
       "      <td>4167</td>\n",
       "      <td>Iowa Street Market, Inc.</td>\n",
       "      <td>1256 Iowa St</td>\n",
       "      <td>Dubuque</td>\n",
       "      <td>52001.0</td>\n",
       "      <td>POINT (-90.668138 42.504959)</td>\n",
       "      <td>31.0</td>\n",
       "      <td>DUBUQUE</td>\n",
       "      <td>1092100.0</td>\n",
       "      <td>Imported Distilled Spirit Specialty</td>\n",
       "      <td>55.0</td>\n",
       "      <td>SAZERAC NORTH AMERICA</td>\n",
       "      <td>76227</td>\n",
       "      <td>Montezuma Blue</td>\n",
       "      <td>12</td>\n",
       "      <td>1000</td>\n",
       "      <td>4.66</td>\n",
       "      <td>6.99</td>\n",
       "      <td>60</td>\n",
       "      <td>419.40</td>\n",
       "      <td>60.00</td>\n",
       "      <td>15.85</td>\n",
       "      <td>2018</td>\n",
       "      <td>1</td>\n",
       "    </tr>\n",
       "    <tr>\n",
       "      <th>1</th>\n",
       "      <td>INV-09780600017</td>\n",
       "      <td>2018-01-15</td>\n",
       "      <td>4669</td>\n",
       "      <td>Vom Fass / Des Moines</td>\n",
       "      <td>833, 42nd St</td>\n",
       "      <td>Des Moines</td>\n",
       "      <td>50312.0</td>\n",
       "      <td>POINT (-93.674384 41.59343100000001)</td>\n",
       "      <td>77.0</td>\n",
       "      <td>POLK</td>\n",
       "      <td>1901200.0</td>\n",
       "      <td>Special Order Items</td>\n",
       "      <td>885.0</td>\n",
       "      <td>YAHARA BAY DISTILLERS INC</td>\n",
       "      <td>905081</td>\n",
       "      <td>Yahara Bay Apple Crisp(Apple Pie)</td>\n",
       "      <td>6</td>\n",
       "      <td>200</td>\n",
       "      <td>7.98</td>\n",
       "      <td>11.97</td>\n",
       "      <td>6</td>\n",
       "      <td>71.82</td>\n",
       "      <td>1.20</td>\n",
       "      <td>0.32</td>\n",
       "      <td>2018</td>\n",
       "      <td>1</td>\n",
       "    </tr>\n",
       "    <tr>\n",
       "      <th>2</th>\n",
       "      <td>INV-43674300036</td>\n",
       "      <td>2022-01-11</td>\n",
       "      <td>4843</td>\n",
       "      <td>Stewart Road Fast Break</td>\n",
       "      <td>2418 Stewart Rd</td>\n",
       "      <td>Muscatine</td>\n",
       "      <td>52761.0</td>\n",
       "      <td>POINT (-91.072733 41.390826)</td>\n",
       "      <td>70.0</td>\n",
       "      <td>MUSCATINE</td>\n",
       "      <td>1091300.0</td>\n",
       "      <td>Neutral Grain Spirits Flavored</td>\n",
       "      <td>346.0</td>\n",
       "      <td>OLE SMOKY DISTILLERY LLC</td>\n",
       "      <td>86739</td>\n",
       "      <td>Ole Smoky Apple Pie Moonshine 70prf Mini</td>\n",
       "      <td>8</td>\n",
       "      <td>50</td>\n",
       "      <td>8.75</td>\n",
       "      <td>13.13</td>\n",
       "      <td>3</td>\n",
       "      <td>39.39</td>\n",
       "      <td>0.15</td>\n",
       "      <td>0.03</td>\n",
       "      <td>2022</td>\n",
       "      <td>1</td>\n",
       "    </tr>\n",
       "    <tr>\n",
       "      <th>3</th>\n",
       "      <td>INV-43538900011</td>\n",
       "      <td>2022-01-05</td>\n",
       "      <td>5750</td>\n",
       "      <td>Casey's General Store #2920 / Ankeny</td>\n",
       "      <td>1010 SE National Dr</td>\n",
       "      <td>Ankeny</td>\n",
       "      <td>50021.0</td>\n",
       "      <td>POINT (-93.582179 41.70486400000001)</td>\n",
       "      <td>77.0</td>\n",
       "      <td>POLK</td>\n",
       "      <td>1091300.0</td>\n",
       "      <td>Neutral Grain Spirits Flavored</td>\n",
       "      <td>346.0</td>\n",
       "      <td>OLE SMOKY DISTILLERY LLC</td>\n",
       "      <td>986845</td>\n",
       "      <td>SOOH Ole Smoky Blackberry Moonshine Mini</td>\n",
       "      <td>8</td>\n",
       "      <td>50</td>\n",
       "      <td>8.75</td>\n",
       "      <td>13.13</td>\n",
       "      <td>4</td>\n",
       "      <td>52.52</td>\n",
       "      <td>0.20</td>\n",
       "      <td>0.05</td>\n",
       "      <td>2022</td>\n",
       "      <td>1</td>\n",
       "    </tr>\n",
       "    <tr>\n",
       "      <th>4</th>\n",
       "      <td>INV-43515200004</td>\n",
       "      <td>2022-01-04</td>\n",
       "      <td>9047</td>\n",
       "      <td>Revelton Distilling Company</td>\n",
       "      <td>1400 W Clay St</td>\n",
       "      <td>Osceola</td>\n",
       "      <td>50213.0</td>\n",
       "      <td>POINT (-93.787233 41.041472)</td>\n",
       "      <td>20.0</td>\n",
       "      <td>CLARKE</td>\n",
       "      <td>1011700.0</td>\n",
       "      <td>Corn Whiskies</td>\n",
       "      <td>654.0</td>\n",
       "      <td>Revelton Distilling Company</td>\n",
       "      <td>26294</td>\n",
       "      <td>Revelton Shine White Whiskey Mini</td>\n",
       "      <td>6</td>\n",
       "      <td>50</td>\n",
       "      <td>14.40</td>\n",
       "      <td>21.60</td>\n",
       "      <td>6</td>\n",
       "      <td>129.60</td>\n",
       "      <td>0.30</td>\n",
       "      <td>0.07</td>\n",
       "      <td>2022</td>\n",
       "      <td>1</td>\n",
       "    </tr>\n",
       "  </tbody>\n",
       "</table>\n",
       "</div>"
      ],
      "text/plain": [
       "  invoice_and_item_number        date  store_number  \\\n",
       "0         INV-10095200050  2018-01-30          4167   \n",
       "1         INV-09780600017  2018-01-15          4669   \n",
       "2         INV-43674300036  2022-01-11          4843   \n",
       "3         INV-43538900011  2022-01-05          5750   \n",
       "4         INV-43515200004  2022-01-04          9047   \n",
       "\n",
       "                             store_name              address        city  \\\n",
       "0              Iowa Street Market, Inc.         1256 Iowa St     Dubuque   \n",
       "1                 Vom Fass / Des Moines         833, 42nd St  Des Moines   \n",
       "2               Stewart Road Fast Break      2418 Stewart Rd   Muscatine   \n",
       "3  Casey's General Store #2920 / Ankeny  1010 SE National Dr      Ankeny   \n",
       "4           Revelton Distilling Company       1400 W Clay St     Osceola   \n",
       "\n",
       "   zip_code                        store_location  county_number     county  \\\n",
       "0   52001.0          POINT (-90.668138 42.504959)           31.0    DUBUQUE   \n",
       "1   50312.0  POINT (-93.674384 41.59343100000001)           77.0       POLK   \n",
       "2   52761.0          POINT (-91.072733 41.390826)           70.0  MUSCATINE   \n",
       "3   50021.0  POINT (-93.582179 41.70486400000001)           77.0       POLK   \n",
       "4   50213.0          POINT (-93.787233 41.041472)           20.0     CLARKE   \n",
       "\n",
       "    category                        category_name  vendor_number  \\\n",
       "0  1092100.0  Imported Distilled Spirit Specialty           55.0   \n",
       "1  1901200.0                  Special Order Items          885.0   \n",
       "2  1091300.0       Neutral Grain Spirits Flavored          346.0   \n",
       "3  1091300.0       Neutral Grain Spirits Flavored          346.0   \n",
       "4  1011700.0                        Corn Whiskies          654.0   \n",
       "\n",
       "                   vendor_name  item_number  \\\n",
       "0        SAZERAC NORTH AMERICA        76227   \n",
       "1    YAHARA BAY DISTILLERS INC       905081   \n",
       "2     OLE SMOKY DISTILLERY LLC        86739   \n",
       "3     OLE SMOKY DISTILLERY LLC       986845   \n",
       "4  Revelton Distilling Company        26294   \n",
       "\n",
       "                           item_description  pack  bottle_volume_ml  \\\n",
       "0                            Montezuma Blue    12              1000   \n",
       "1         Yahara Bay Apple Crisp(Apple Pie)     6               200   \n",
       "2  Ole Smoky Apple Pie Moonshine 70prf Mini     8                50   \n",
       "3  SOOH Ole Smoky Blackberry Moonshine Mini     8                50   \n",
       "4         Revelton Shine White Whiskey Mini     6                50   \n",
       "\n",
       "   state_bottle_cost  state_bottle_retail  bottles_sold  sale_dollars  \\\n",
       "0               4.66                 6.99            60        419.40   \n",
       "1               7.98                11.97             6         71.82   \n",
       "2               8.75                13.13             3         39.39   \n",
       "3               8.75                13.13             4         52.52   \n",
       "4              14.40                21.60             6        129.60   \n",
       "\n",
       "   volume_sold_liters  volume_sold_gallons  year  month  \n",
       "0               60.00                15.85  2018      1  \n",
       "1                1.20                 0.32  2018      1  \n",
       "2                0.15                 0.03  2022      1  \n",
       "3                0.20                 0.05  2022      1  \n",
       "4                0.30                 0.07  2022      1  "
      ]
     },
     "execution_count": 15,
     "metadata": {},
     "output_type": "execute_result"
    }
   ],
   "source": [
    "pd.options.display.max_columns = None\n",
    "df.head()"
   ]
  },
  {
   "cell_type": "code",
   "execution_count": 16,
   "metadata": {},
   "outputs": [
    {
     "data": {
      "text/html": [
       "<div>\n",
       "<style scoped>\n",
       "    .dataframe tbody tr th:only-of-type {\n",
       "        vertical-align: middle;\n",
       "    }\n",
       "\n",
       "    .dataframe tbody tr th {\n",
       "        vertical-align: top;\n",
       "    }\n",
       "\n",
       "    .dataframe thead th {\n",
       "        text-align: right;\n",
       "    }\n",
       "</style>\n",
       "<table border=\"1\" class=\"dataframe\">\n",
       "  <thead>\n",
       "    <tr style=\"text-align: right;\">\n",
       "      <th></th>\n",
       "      <th>invoice_and_item_number</th>\n",
       "      <th>date</th>\n",
       "      <th>store_number</th>\n",
       "      <th>store_name</th>\n",
       "      <th>address</th>\n",
       "      <th>city</th>\n",
       "      <th>zip_code</th>\n",
       "      <th>store_location</th>\n",
       "      <th>county_number</th>\n",
       "      <th>county</th>\n",
       "      <th>category</th>\n",
       "      <th>category_name</th>\n",
       "      <th>vendor_number</th>\n",
       "      <th>vendor_name</th>\n",
       "      <th>item_number</th>\n",
       "      <th>item_description</th>\n",
       "      <th>pack</th>\n",
       "      <th>bottle_volume_ml</th>\n",
       "      <th>state_bottle_cost</th>\n",
       "      <th>state_bottle_retail</th>\n",
       "      <th>bottles_sold</th>\n",
       "      <th>sale_dollars</th>\n",
       "      <th>volume_sold_liters</th>\n",
       "      <th>volume_sold_gallons</th>\n",
       "      <th>year</th>\n",
       "      <th>month</th>\n",
       "    </tr>\n",
       "  </thead>\n",
       "  <tbody>\n",
       "  </tbody>\n",
       "</table>\n",
       "</div>"
      ],
      "text/plain": [
       "Empty DataFrame\n",
       "Columns: [invoice_and_item_number, date, store_number, store_name, address, city, zip_code, store_location, county_number, county, category, category_name, vendor_number, vendor_name, item_number, item_description, pack, bottle_volume_ml, state_bottle_cost, state_bottle_retail, bottles_sold, sale_dollars, volume_sold_liters, volume_sold_gallons, year, month]\n",
       "Index: []"
      ]
     },
     "execution_count": 16,
     "metadata": {},
     "output_type": "execute_result"
    }
   ],
   "source": [
    "# Is column invoice_and_item_number value unique?\n",
    "df.loc[df['invoice_and_item_number'].map(df['invoice_and_item_number'].value_counts()) > 1]\n",
    "# alternative method:\n",
    "# df.loc[df['invoice_and_item_number'].duplicated()]"
   ]
  },
  {
   "cell_type": "markdown",
   "metadata": {},
   "source": [
    "## DataFrame.columns"
   ]
  },
  {
   "cell_type": "code",
   "execution_count": 17,
   "metadata": {},
   "outputs": [
    {
     "data": {
      "text/plain": [
       "Index(['invoice_and_item_number', 'date', 'store_number', 'store_name',\n",
       "       'address', 'city', 'zip_code', 'store_location', 'county_number',\n",
       "       'county', 'category', 'category_name', 'vendor_number', 'vendor_name',\n",
       "       'item_number', 'item_description', 'pack', 'bottle_volume_ml',\n",
       "       'state_bottle_cost', 'state_bottle_retail', 'bottles_sold',\n",
       "       'sale_dollars', 'volume_sold_liters', 'volume_sold_gallons', 'year',\n",
       "       'month'],\n",
       "      dtype='object')"
      ]
     },
     "execution_count": 17,
     "metadata": {},
     "output_type": "execute_result"
    }
   ],
   "source": [
    "df.columns"
   ]
  },
  {
   "cell_type": "markdown",
   "metadata": {},
   "source": [
    "## Column `category_name` Values"
   ]
  },
  {
   "cell_type": "code",
   "execution_count": 32,
   "metadata": {},
   "outputs": [
    {
     "data": {
      "text/plain": [
       "Float64Index([1031100.0, 1012100.0, 1011200.0, 1081600.0, 1062400.0, 1031200.0,\n",
       "              1011100.0, 1081400.0, 1051100.0, 1032100.0, 1022200.0, 1011400.0,\n",
       "              1081200.0, 1081300.0, 1071100.0, 1062200.0, 1062500.0, 1082000.0,\n",
       "              1022100.0, 1032200.0, 1082200.0, 1041100.0, 1012200.0, 1052100.0,\n",
       "              1701100.0, 1012400.0, 1042100.0, 1012300.0, 1011600.0, 1081100.0,\n",
       "              1062100.0, 1091300.0, 1062300.0, 1081500.0, 1091100.0, 1011300.0,\n",
       "              1091200.0, 1011500.0, 1901200.0, 1092100.0, 1082100.0, 1011700.0,\n",
       "              1700000.0, 1041200.0, 1022300.0, 1041300.0, 1091400.0, 1031000.0,\n",
       "              1090000.0, 1091000.0, 1092000.0, 1042000.0, 1032000.0, 1070000.0,\n",
       "              1081000.0],\n",
       "             dtype='float64')"
      ]
     },
     "execution_count": 32,
     "metadata": {},
     "output_type": "execute_result"
    }
   ],
   "source": [
    "df['category'].value_counts().index"
   ]
  },
  {
   "cell_type": "markdown",
   "metadata": {},
   "source": [
    "## Column `city` Values"
   ]
  },
  {
   "cell_type": "code",
   "execution_count": 51,
   "metadata": {},
   "outputs": [
    {
     "data": {
      "text/plain": [
       "Index(['Des Moines', 'Cedar Rapids', 'Davenport', 'Waterloo', 'Sioux City',\n",
       "       'West Des Moines', 'Ames', 'Council Bluffs', 'Dubuque', 'Iowa City',\n",
       "       ...\n",
       "       'Casey', 'Roland', 'Ossian', 'Melbourne', 'Bussey', 'Stanwood',\n",
       "       'Fontanelle', 'Blairstown', 'Earling', 'Colorado Springs'],\n",
       "      dtype='object', length=444)"
      ]
     },
     "execution_count": 51,
     "metadata": {},
     "output_type": "execute_result"
    }
   ],
   "source": [
    "df['city'].value_counts().index"
   ]
  },
  {
   "cell_type": "markdown",
   "metadata": {},
   "source": [
    "## Column `bottle_volume_ml` Values"
   ]
  },
  {
   "cell_type": "code",
   "execution_count": 19,
   "metadata": {},
   "outputs": [
    {
     "data": {
      "text/plain": [
       "Int64Index([  20,   50,  100,  200,  300,  375,  400,  500,  600,  700,  750,\n",
       "             800,  850,  900,  950, 1000, 1200, 1750, 1800, 1950, 2250, 2400,\n",
       "            3000, 3500, 4500, 5250, 6000],\n",
       "           dtype='int64')"
      ]
     },
     "execution_count": 19,
     "metadata": {},
     "output_type": "execute_result"
    }
   ],
   "source": [
    "df['bottle_volume_ml'].value_counts().index.sort_values()"
   ]
  },
  {
   "cell_type": "markdown",
   "metadata": {},
   "source": [
    "## DataFrame.describe()\n",
    "\n",
    "#TODO detecting and treating outliers on columns\n",
    "\n",
    "- [x] removed due to under 5% outliers\n",
    "  `pack`, `state_bottle_cost`, `state_bottle_retail`, `bottles_sold`, `sale_dollars`, `volume_sold_liters`\n",
    "- [x] not removed due to over 5% outliers and are natural outliers\n",
    "  `bottle_volume_ml`"
   ]
  },
  {
   "cell_type": "code",
   "execution_count": 92,
   "metadata": {},
   "outputs": [
    {
     "name": "stdout",
     "output_type": "stream",
     "text": [
      "column pack, lower limit -12.0 > min 1, upper limit 30.0 < max 60\n",
      "column bottle_volume_ml, lower limit 375.0 > min 20, upper limit 1375.0 < max 6000\n",
      "column state_bottle_cost, lower limit -17.0 > min 0.89, upper limit 35.5 < max 1949.02\n",
      "column state_bottle_retail, lower limit -25.5 > min 1.34, upper limit 53.25 < max 2923.53\n",
      "column bottles_sold, lower limit -24.0 > min 1, upper limit 39.0 < max 13200\n",
      "column sale_dollars, lower limit -307.68 > min 0.0, upper limit 490.74 < max 250932.0\n",
      "column volume_sold_liters, lower limit -25.5 > min 0.02, upper limit 37.5 < max 13200.0\n"
     ]
    }
   ],
   "source": [
    "def calculateLowerLimitUpperLimit(series: pd.Series):\n",
    "    skew = series.skew()\n",
    "\n",
    "    # extreme skewed distribution\n",
    "    if skew < -1 or skew > 1:\n",
    "        q1, q3 = series.quantile([.25,.75])\n",
    "        iqr = q3 - q1\n",
    "        return q1 - iqr * 3, q3 + iqr * 3\n",
    "    # skewed distribution\n",
    "    elif skew < -0.5 or skew > 0.5:\n",
    "        q1, q3 = series.quantile([.25,.75])\n",
    "        iqr = q3 - q1\n",
    "        return q1 - iqr * 1.5, q3 + iqr * 1.5\n",
    "    # normal distribution\n",
    "    else:\n",
    "        mean, std = series.agg(['mean', 'std'])\n",
    "        return mean - 3 * std, mean + 3 * std\n",
    "\n",
    "for index, value in df.loc[:,['pack', 'bottle_volume_ml', 'state_bottle_cost', 'state_bottle_retail', \n",
    "    'bottles_sold', 'sale_dollars', 'volume_sold_liters']].skew().items():\n",
    "    lowerLimit, upperLimit = calculateLowerLimitUpperLimit(df.loc[:, str(index)])\n",
    "\n",
    "    min, max = df.loc[:, str(index)].agg(['min', 'max'])\n",
    "    if lowerLimit > min or upperLimit < max:\n",
    "        print(\"column {0}, lower limit {1} > min {2}, upper limit {3} < max {4}\" \\\n",
    "                .format(index, lowerLimit, min, upperLimit, max))"
   ]
  },
  {
   "cell_type": "code",
   "execution_count": 57,
   "metadata": {},
   "outputs": [
    {
     "data": {
      "text/html": [
       "<div>\n",
       "<style scoped>\n",
       "    .dataframe tbody tr th:only-of-type {\n",
       "        vertical-align: middle;\n",
       "    }\n",
       "\n",
       "    .dataframe tbody tr th {\n",
       "        vertical-align: top;\n",
       "    }\n",
       "\n",
       "    .dataframe thead th {\n",
       "        text-align: right;\n",
       "    }\n",
       "</style>\n",
       "<table border=\"1\" class=\"dataframe\">\n",
       "  <thead>\n",
       "    <tr style=\"text-align: right;\">\n",
       "      <th></th>\n",
       "      <th>pack</th>\n",
       "      <th>bottle_volume_ml</th>\n",
       "      <th>state_bottle_cost</th>\n",
       "      <th>state_bottle_retail</th>\n",
       "      <th>bottles_sold</th>\n",
       "      <th>sale_dollars</th>\n",
       "      <th>volume_sold_liters</th>\n",
       "    </tr>\n",
       "  </thead>\n",
       "  <tbody>\n",
       "    <tr>\n",
       "      <th>count</th>\n",
       "      <td>373231.000000</td>\n",
       "      <td>373231.000000</td>\n",
       "      <td>373231.000000</td>\n",
       "      <td>373231.000000</td>\n",
       "      <td>373231.000000</td>\n",
       "      <td>373231.000000</td>\n",
       "      <td>373231.000000</td>\n",
       "    </tr>\n",
       "    <tr>\n",
       "      <th>mean</th>\n",
       "      <td>12.293054</td>\n",
       "      <td>863.893674</td>\n",
       "      <td>10.675001</td>\n",
       "      <td>16.014474</td>\n",
       "      <td>10.418441</td>\n",
       "      <td>134.513251</td>\n",
       "      <td>8.260086</td>\n",
       "    </tr>\n",
       "    <tr>\n",
       "      <th>std</th>\n",
       "      <td>7.919978</td>\n",
       "      <td>515.690884</td>\n",
       "      <td>10.460707</td>\n",
       "      <td>15.691036</td>\n",
       "      <td>32.321439</td>\n",
       "      <td>546.079015</td>\n",
       "      <td>34.168744</td>\n",
       "    </tr>\n",
       "    <tr>\n",
       "      <th>min</th>\n",
       "      <td>1.000000</td>\n",
       "      <td>20.000000</td>\n",
       "      <td>0.890000</td>\n",
       "      <td>1.340000</td>\n",
       "      <td>1.000000</td>\n",
       "      <td>0.000000</td>\n",
       "      <td>0.020000</td>\n",
       "    </tr>\n",
       "    <tr>\n",
       "      <th>25%</th>\n",
       "      <td>6.000000</td>\n",
       "      <td>750.000000</td>\n",
       "      <td>5.500000</td>\n",
       "      <td>8.250000</td>\n",
       "      <td>3.000000</td>\n",
       "      <td>34.500000</td>\n",
       "      <td>1.500000</td>\n",
       "    </tr>\n",
       "    <tr>\n",
       "      <th>50%</th>\n",
       "      <td>12.000000</td>\n",
       "      <td>750.000000</td>\n",
       "      <td>8.500000</td>\n",
       "      <td>12.750000</td>\n",
       "      <td>6.000000</td>\n",
       "      <td>76.560000</td>\n",
       "      <td>4.500000</td>\n",
       "    </tr>\n",
       "    <tr>\n",
       "      <th>75%</th>\n",
       "      <td>12.000000</td>\n",
       "      <td>1000.000000</td>\n",
       "      <td>13.000000</td>\n",
       "      <td>19.500000</td>\n",
       "      <td>12.000000</td>\n",
       "      <td>148.560000</td>\n",
       "      <td>10.500000</td>\n",
       "    </tr>\n",
       "    <tr>\n",
       "      <th>max</th>\n",
       "      <td>60.000000</td>\n",
       "      <td>6000.000000</td>\n",
       "      <td>1949.020000</td>\n",
       "      <td>2923.530000</td>\n",
       "      <td>13200.000000</td>\n",
       "      <td>250932.000000</td>\n",
       "      <td>13200.000000</td>\n",
       "    </tr>\n",
       "  </tbody>\n",
       "</table>\n",
       "</div>"
      ],
      "text/plain": [
       "                pack  bottle_volume_ml  state_bottle_cost  \\\n",
       "count  373231.000000     373231.000000      373231.000000   \n",
       "mean       12.293054        863.893674          10.675001   \n",
       "std         7.919978        515.690884          10.460707   \n",
       "min         1.000000         20.000000           0.890000   \n",
       "25%         6.000000        750.000000           5.500000   \n",
       "50%        12.000000        750.000000           8.500000   \n",
       "75%        12.000000       1000.000000          13.000000   \n",
       "max        60.000000       6000.000000        1949.020000   \n",
       "\n",
       "       state_bottle_retail   bottles_sold   sale_dollars  volume_sold_liters  \n",
       "count        373231.000000  373231.000000  373231.000000       373231.000000  \n",
       "mean             16.014474      10.418441     134.513251            8.260086  \n",
       "std              15.691036      32.321439     546.079015           34.168744  \n",
       "min               1.340000       1.000000       0.000000            0.020000  \n",
       "25%               8.250000       3.000000      34.500000            1.500000  \n",
       "50%              12.750000       6.000000      76.560000            4.500000  \n",
       "75%              19.500000      12.000000     148.560000           10.500000  \n",
       "max            2923.530000   13200.000000  250932.000000        13200.000000  "
      ]
     },
     "execution_count": 57,
     "metadata": {},
     "output_type": "execute_result"
    }
   ],
   "source": [
    "df[['pack','bottle_volume_ml', 'state_bottle_cost', 'state_bottle_retail', 'bottles_sold', 'sale_dollars', 'volume_sold_liters']].describe()"
   ]
  },
  {
   "cell_type": "markdown",
   "metadata": {},
   "source": [
    "## DataFrame.info()\n",
    "\n",
    "#TODO handle null rows on columns\n",
    "\n",
    "range index: 373231 entries\n",
    "- [x] remove null due to categorical data\n",
    "  - `city`            372256\n",
    "  - `zip_code`        372256\n",
    "  - `category`        373094\n",
    "  - `category_name`   373094"
   ]
  },
  {
   "cell_type": "code",
   "execution_count": 21,
   "metadata": {},
   "outputs": [
    {
     "name": "stdout",
     "output_type": "stream",
     "text": [
      "<class 'pandas.core.frame.DataFrame'>\n",
      "RangeIndex: 373231 entries, 0 to 373230\n",
      "Data columns (total 26 columns):\n",
      " #   Column                   Non-Null Count   Dtype  \n",
      "---  ------                   --------------   -----  \n",
      " 0   invoice_and_item_number  373231 non-null  object \n",
      " 1   date                     373231 non-null  object \n",
      " 2   store_number             373231 non-null  int64  \n",
      " 3   store_name               373231 non-null  object \n",
      " 4   address                  372256 non-null  object \n",
      " 5   city                     372256 non-null  object \n",
      " 6   zip_code                 372256 non-null  float64\n",
      " 7   store_location           335493 non-null  object \n",
      " 8   county_number            372254 non-null  float64\n",
      " 9   county                   372256 non-null  object \n",
      " 10  category                 373094 non-null  float64\n",
      " 11  category_name            373094 non-null  object \n",
      " 12  vendor_number            373231 non-null  float64\n",
      " 13  vendor_name              373231 non-null  object \n",
      " 14  item_number              373231 non-null  int64  \n",
      " 15  item_description         373231 non-null  object \n",
      " 16  pack                     373231 non-null  int64  \n",
      " 17  bottle_volume_ml         373231 non-null  int64  \n",
      " 18  state_bottle_cost        373231 non-null  float64\n",
      " 19  state_bottle_retail      373231 non-null  float64\n",
      " 20  bottles_sold             373231 non-null  int64  \n",
      " 21  sale_dollars             373231 non-null  float64\n",
      " 22  volume_sold_liters       373231 non-null  float64\n",
      " 23  volume_sold_gallons      373231 non-null  float64\n",
      " 24  year                     373231 non-null  int64  \n",
      " 25  month                    373231 non-null  int64  \n",
      "dtypes: float64(9), int64(7), object(10)\n",
      "memory usage: 74.0+ MB\n"
     ]
    }
   ],
   "source": [
    "df.info()"
   ]
  },
  {
   "cell_type": "markdown",
   "metadata": {},
   "source": [
    "# Data Cleaning"
   ]
  },
  {
   "cell_type": "code",
   "execution_count": 47,
   "metadata": {},
   "outputs": [],
   "source": [
    "df2 = df.sort_values('date').reset_index(drop=True).copy()"
   ]
  },
  {
   "cell_type": "code",
   "execution_count": 48,
   "metadata": {},
   "outputs": [],
   "source": [
    "df3 = df2.drop(['store_number', 'store_name', 'address', 'store_location', \n",
    "                'vendor_number', 'vendor_name', 'item_number', 'item_description', \n",
    "                'county_number', 'county', 'volume_sold_gallons', 'year', 'month'], \n",
    "                axis='columns') \\\n",
    "         .copy()"
   ]
  },
  {
   "cell_type": "markdown",
   "metadata": {},
   "source": [
    "## Outliers Detection and Treatment\n",
    "\n",
    "- natural outliers on columns\n",
    "\n",
    "  outliers under 5%\n",
    "  \n",
    "  `pack`\n",
    "  \n",
    "  outliers over 5%\n",
    "\n",
    "  `bottle_volume_ml`\n",
    "\n",
    "- not natural outliers on columns\n",
    "\n",
    "  outliers under 5%\n",
    "\n",
    "  `state_bottle_cost`, `state_bottle_retail`, `bottles_sold`, `sale_dollars`, `volume_sold_liters`"
   ]
  },
  {
   "cell_type": "code",
   "execution_count": 236,
   "metadata": {},
   "outputs": [
    {
     "name": "stdout",
     "output_type": "stream",
     "text": [
      "column pack, skew 2.72, outliers percentage 2.87%\n",
      "lower limit -12.0, upper limit 30.0\n"
     ]
    },
    {
     "data": {
      "text/plain": [
       "60        18\n",
       "48      9893\n",
       "44       807\n",
       "30         6\n",
       "28         1\n",
       "24     36705\n",
       "20         4\n",
       "15        54\n",
       "12    204798\n",
       "10      8100\n",
       "9         33\n",
       "8       1637\n",
       "6     105226\n",
       "5        602\n",
       "4        700\n",
       "3        448\n",
       "2          1\n",
       "1       4198\n",
       "Name: pack, dtype: int64"
      ]
     },
     "metadata": {},
     "output_type": "display_data"
    },
    {
     "name": "stdout",
     "output_type": "stream",
     "text": [
      "column bottle_volume_ml, skew 0.93, outliers percentage 29.22%\n",
      "lower limit 375.0, upper limit 1375.0\n"
     ]
    },
    {
     "data": {
      "text/plain": [
       "6000        16\n",
       "5250         1\n",
       "4500        26\n",
       "3500        45\n",
       "3000      1643\n",
       "2400       132\n",
       "2250        38\n",
       "1950         8\n",
       "1800       107\n",
       "1750     69668\n",
       "1200       194\n",
       "1000     41404\n",
       "950         14\n",
       "900         41\n",
       "850          6\n",
       "800        263\n",
       "750     168465\n",
       "700          1\n",
       "600       3213\n",
       "500       9092\n",
       "400         34\n",
       "375      41446\n",
       "300       1301\n",
       "200      12879\n",
       "100       3823\n",
       "50       19341\n",
       "20          30\n",
       "Name: bottle_volume_ml, dtype: int64"
      ]
     },
     "metadata": {},
     "output_type": "display_data"
    },
    {
     "name": "stdout",
     "output_type": "stream",
     "text": [
      "column state_bottle_cost, skew 49.36, outliers percentage 1.12%\n",
      "lower limit -17.0, upper limit 35.5\n"
     ]
    },
    {
     "data": {
      "text/plain": [
       "1949.02       1\n",
       "1599.19       3\n",
       "419.99        1\n",
       "390.00        7\n",
       "314.99        2\n",
       "           ... \n",
       "1.00        227\n",
       "0.97         73\n",
       "0.95        245\n",
       "0.90       2056\n",
       "0.89        369\n",
       "Name: state_bottle_cost, Length: 1133, dtype: int64"
      ]
     },
     "metadata": {},
     "output_type": "display_data"
    },
    {
     "name": "stdout",
     "output_type": "stream",
     "text": [
      "column state_bottle_retail, skew 49.36, outliers percentage 1.12%\n",
      "lower limit -25.5, upper limit 53.25\n"
     ]
    },
    {
     "data": {
      "text/plain": [
       "2923.53       1\n",
       "2398.79       3\n",
       "629.99        1\n",
       "585.00        7\n",
       "472.49        2\n",
       "           ... \n",
       "1.50        227\n",
       "1.46         73\n",
       "1.43        245\n",
       "1.35       2056\n",
       "1.34        369\n",
       "Name: state_bottle_retail, Length: 1135, dtype: int64"
      ]
     },
     "metadata": {},
     "output_type": "display_data"
    },
    {
     "name": "stdout",
     "output_type": "stream",
     "text": [
      "column bottles_sold, skew 191.71, outliers percentage 3.45%\n",
      "lower limit -24.0, upper limit 39.0\n"
     ]
    },
    {
     "data": {
      "text/plain": [
       "13200        1\n",
       "2430         1\n",
       "2304         1\n",
       "2100         1\n",
       "1980         1\n",
       "         ...  \n",
       "5         5033\n",
       "4        19781\n",
       "3        34862\n",
       "2        48105\n",
       "1        42394\n",
       "Name: bottles_sold, Length: 157, dtype: int64"
      ]
     },
     "metadata": {},
     "output_type": "display_data"
    },
    {
     "name": "stdout",
     "output_type": "stream",
     "text": [
      "column sale_dollars, skew 267.76, outliers percentage 2.73%\n",
      "lower limit -307.68, upper limit 490.74\n"
     ]
    },
    {
     "data": {
      "text/plain": [
       "250932.00     1\n",
       "36154.80      1\n",
       "30399.30      1\n",
       "27181.44      2\n",
       "26271.00      1\n",
       "             ..\n",
       "1.50          4\n",
       "1.46          4\n",
       "1.35         13\n",
       "1.34          3\n",
       "0.00         79\n",
       "Name: sale_dollars, Length: 6644, dtype: int64"
      ]
     },
     "metadata": {},
     "output_type": "display_data"
    },
    {
     "name": "stdout",
     "output_type": "stream",
     "text": [
      "column volume_sold_liters, skew 178.64, outliers percentage 1.76%\n",
      "lower limit -25.5, upper limit 37.5\n"
     ]
    },
    {
     "data": {
      "text/plain": [
       "13200.00       1\n",
       "4252.50        1\n",
       "4032.00        1\n",
       "3675.00        1\n",
       "2688.00        1\n",
       "            ... \n",
       "0.08           1\n",
       "0.06           2\n",
       "0.05        6536\n",
       "0.04           8\n",
       "0.02           6\n",
       "Name: volume_sold_liters, Length: 313, dtype: int64"
      ]
     },
     "metadata": {},
     "output_type": "display_data"
    }
   ],
   "source": [
    "for index, value in df3.loc[:, ['pack', 'bottle_volume_ml', 'state_bottle_cost', 'state_bottle_retail', \n",
    "    'bottles_sold', 'sale_dollars', 'volume_sold_liters']].items():\n",
    "    lowerLimit, upperLimit = calculateLowerLimitUpperLimit(value)\n",
    "    outliersPercentage = len(value.loc[(value < lowerLimit) | (value > upperLimit)]) \\\n",
    "                         / len(value)\n",
    "    print(\"column {0}, skew {1:.2f}, outliers percentage {2:.2f}%\".format(str(index), value.skew(), outliersPercentage * 100))\n",
    "    print(\"lower limit {0[0]}, upper limit {0[1]}\".format(calculateLowerLimitUpperLimit(value)))\n",
    "    display(value.value_counts().sort_index(ascending=False))"
   ]
  },
  {
   "cell_type": "markdown",
   "metadata": {},
   "source": [
    "### Ask Instructor\n",
    "\n",
    "#TODO ask instructor\n",
    "\n",
    "reference: https://www.quora.com/Is-it-bad-to-delete-statistical-outliers\n",
    "\n",
    "- [ ] Is it true in Machine Learning, it is always a requirement to remove the outliers?\n",
    "  - If so, should we remove natural outliers or do mean/median imputation in column `bottle_volume_ml`?"
   ]
  },
  {
   "cell_type": "code",
   "execution_count": 232,
   "metadata": {},
   "outputs": [],
   "source": [
    "df4 = df3.copy()\n",
    "\n",
    "# outliers percentage under 5% and not natural outliers\n",
    "for index, value in df4.loc[:, ['state_bottle_cost', 'state_bottle_retail', \n",
    "                                'bottles_sold', 'sale_dollars', 'volume_sold_liters']] \\\n",
    "                        .items():\n",
    "    lowerLimit, upperLimit = calculateLowerLimitUpperLimit(value)\n",
    "    df4 = df4.drop(df4.loc[(value < lowerLimit) | (value > upperLimit),str(index)].index)"
   ]
  },
  {
   "cell_type": "markdown",
   "metadata": {},
   "source": [
    "## Null Treatment"
   ]
  },
  {
   "cell_type": "markdown",
   "metadata": {},
   "source": [
    "### Ask Instructor\n",
    "\n",
    "#TODO ask instructor\n",
    "\n",
    "- [ ] should we remove rows based on condition (a column with categorical data is null)?"
   ]
  },
  {
   "cell_type": "code",
   "execution_count": 181,
   "metadata": {},
   "outputs": [
    {
     "name": "stdout",
     "output_type": "stream",
     "text": [
      "column city, null percentage 0.25%\n",
      "column zip_code, null percentage 0.25%\n",
      "column category, null percentage 0.03%\n",
      "column category_name, null percentage 0.03%\n"
     ]
    }
   ],
   "source": [
    "for index, value in df4.loc[:,['city','zip_code','category','category_name']].items():\n",
    "    print(\"column {0}, null percentage {1:.2f}%\".format(index, len(value.loc[value.isna()]) / len(value) * 100))"
   ]
  },
  {
   "cell_type": "code",
   "execution_count": 183,
   "metadata": {},
   "outputs": [],
   "source": [
    "df5 = df4.copy()\n",
    "\n",
    "# categorical data, we will drop them.\n",
    "for index, value in df5.loc[:, ['city', 'zip_code', 'category', 'category_name']].items():\n",
    "    df5 = df5.drop(df5.loc[value.isna()].index)"
   ]
  },
  {
   "cell_type": "code",
   "execution_count": 238,
   "metadata": {},
   "outputs": [
    {
     "name": "stdout",
     "output_type": "stream",
     "text": [
      "<class 'pandas.core.frame.DataFrame'>\n",
      "Int64Index: 349528 entries, 0 to 373229\n",
      "Data columns (total 13 columns):\n",
      " #   Column                   Non-Null Count   Dtype  \n",
      "---  ------                   --------------   -----  \n",
      " 0   invoice_and_item_number  349528 non-null  object \n",
      " 1   date                     349528 non-null  object \n",
      " 2   city                     349528 non-null  object \n",
      " 3   zip_code                 349528 non-null  float64\n",
      " 4   category                 349528 non-null  float64\n",
      " 5   category_name            349528 non-null  object \n",
      " 6   pack                     349528 non-null  int64  \n",
      " 7   bottle_volume_ml         349528 non-null  int64  \n",
      " 8   state_bottle_cost        349528 non-null  float64\n",
      " 9   state_bottle_retail      349528 non-null  float64\n",
      " 10  bottles_sold             349528 non-null  int64  \n",
      " 11  sale_dollars             349528 non-null  float64\n",
      " 12  volume_sold_liters       349528 non-null  float64\n",
      "dtypes: float64(6), int64(3), object(4)\n",
      "memory usage: 37.3+ MB\n"
     ]
    }
   ],
   "source": [
    "df5.info()"
   ]
  },
  {
   "cell_type": "code",
   "execution_count": 240,
   "metadata": {},
   "outputs": [],
   "source": [
    "df6 = df5.reset_index()"
   ]
  },
  {
   "cell_type": "markdown",
   "metadata": {},
   "source": [
    "# Analisis dan Perhitungan"
   ]
  },
  {
   "cell_type": "markdown",
   "metadata": {},
   "source": [
    "## Statistik Deskriptif"
   ]
  },
  {
   "cell_type": "markdown",
   "metadata": {},
   "source": [
    "## Statistik Inferensial"
   ]
  },
  {
   "cell_type": "markdown",
   "metadata": {},
   "source": [
    "# Pengambilan Keputusan"
   ]
  }
 ],
 "metadata": {
  "kernelspec": {
   "display_name": "Python 3.10.8 64-bit",
   "language": "python",
   "name": "python3"
  },
  "language_info": {
   "codemirror_mode": {
    "name": "ipython",
    "version": 3
   },
   "file_extension": ".py",
   "mimetype": "text/x-python",
   "name": "python",
   "nbconvert_exporter": "python",
   "pygments_lexer": "ipython3",
   "version": "3.10.8"
  },
  "orig_nbformat": 4,
  "vscode": {
   "interpreter": {
    "hash": "aee8b7b246df8f9039afb4144a1f6fd8d2ca17a180786b69acc140d282b71a49"
   }
  }
 },
 "nbformat": 4,
 "nbformat_minor": 2
}
