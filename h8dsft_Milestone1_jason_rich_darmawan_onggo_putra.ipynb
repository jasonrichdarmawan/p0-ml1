{
 "cells": [
  {
   "cell_type": "markdown",
   "metadata": {},
   "source": [
    "[URL dashboard](https://public.tableau.com/app/profile/jason.rich.darmawan/viz/h8dsft_Milestone1_jason_rich_darmawan_onggo_putra/StorytellingTime?publish=yes)"
   ]
  },
  {
   "cell_type": "markdown",
   "metadata": {},
   "source": [
    "# Perkenalan\n",
    "\n",
    "Nama : Jason Rich Darmawan Onggo Putra\n",
    "\n",
    "Batch : 016 RMT"
   ]
  },
  {
   "cell_type": "markdown",
   "metadata": {},
   "source": [
    "# Identifikasi Masalah"
   ]
  },
  {
   "cell_type": "markdown",
   "metadata": {},
   "source": [
    "## Topik Permasalahan\n",
    "\n",
    "Perbandingan Pembelian Alkohol di Iowa, Amerika Serikat sebelum Pandemi Covid-19 dan puncak (kasus baru per hari) Pandemi Covid-19\n",
    "\n",
    "Data sebelum Pandemi Covid-19 yang digunakan adalah bulan Januari 2018.\n",
    "\n",
    "Data Puncak Pandemi Covid-19 yang digunakan adalah bulan Januari 2021."
   ]
  },
  {
   "cell_type": "markdown",
   "metadata": {},
   "source": [
    "## Problem Statement\n",
    "\n",
    "Mengetahui Kota, Ukuran Botol, Kategori Minuman Beralkohol yang harus distok dan potensi nilai pasar yang dilayani ketika terjadi krisis."
   ]
  },
  {
   "cell_type": "markdown",
   "metadata": {},
   "source": [
    "## Latar Belakang\n",
    "\n",
    "Sebagai Data Analyst yang mungkin akan bekerja di e-commerce atau franchisor convenience store, saya perlu intuisi untuk \"apa yang harus dilakukan ketika terjadi krisis seperti Pandemi Covid-19\", \"berapa nilai GMV minuman beralkohol jika membuka toko di kota Top 1, dengan ukuran botol Top 1-5, dan kategori minuman beralkohol Top 1-5\""
   ]
  },
  {
   "cell_type": "markdown",
   "metadata": {},
   "source": [
    "## Penjabaran Masalah"
   ]
  },
  {
   "cell_type": "markdown",
   "metadata": {},
   "source": [
    "### Visualisasi\n",
    "\n",
    "Tujuan: mencari kota terbaik untuk menjual minuman beralkohol\n",
    "\n",
    "- [x] Di kota (column `city`) mana penjualan tertinggi (dalam volume / column `volume_sold_liters`) minuman beralkohol di Iowa, Amerika Serikat pada bulan Januari 2018 dan 2022?\n",
    "- [x] Di kota (column `city`) mana penjualan tertinggi (dalam total harga / column `sale_dollars`) di Iowa, Amerika Serikat pada bulan Januari 2018 dan 2022?\n",
    "\n",
    "Tujuan: menentukan ukuran botol dan kategori minuman beralkohol yang harus distok\n",
    "\n",
    "- [x] Apa ukuran botol (column `bottle_volume_ml`) minuman beralkohol yang paling banyak terjual (column `bottles_sold`) di Iowa, Amerika Serikat pada bulan Januari 2018 dan 2022?\n",
    "- [x] Apa kategori (column `category_name`) minuman beralkohol yang paling banyak terjual (column `bottles_sold`) di Iowa, Amerika Serikat pada bulan Januari 2018 dan 2022?"
   ]
  },
  {
   "cell_type": "markdown",
   "metadata": {},
   "source": [
    "### Statistik Deskriptif\n",
    "\n",
    "Tujuan: membuat promo **Min. Jumlah Volume** dan **Min. Belanja**\n",
    "\n",
    "- [x] Berapa rata-rata penjualan minuman beralkohol (dalam volume / column `volume_sold_liters`) di Iowa, Amerika Serikat pada bulan Januari 2018 dan 2022?\n",
    "- [x] Berapa rata-rata penjualan minuman beralkohol (dalam total harga / column `sale_dollars`) di Iowa, Amerika Serikat pada bulan Januari 2018 dan 2022?\n",
    "\n",
    "Tujuan: mengetahui nilai GMV minuman beralkohol di Iowa, Amerika Serikat\n",
    "\n",
    "- [x] Berapa GMV minuman beralkohol di Iowa, Amerika Serikat pada bulan Januari 2018 dan 2022?"
   ]
  },
  {
   "cell_type": "markdown",
   "metadata": {},
   "source": [
    "### Hypothesis Testing 1\n",
    "\n",
    "- [x] Apa rata-rata penjualan minuman beralkohol (dalam volume / column `volume_sold_liters`) di Iowa, Amerika Serikat pada bulan Januari 2018 dan 2022 sama/berbeda (lebih kecil/lebih besar)?\n",
    "- [x] Apa rata-rata penjualan minuman beralkohol (dalam total harga / column `sale_dollars`) di Iowa, Amerika Serikat pada bulan Januari 2018 dan 2022 sama/berbeda?"
   ]
  },
  {
   "cell_type": "markdown",
   "metadata": {},
   "source": [
    "### Hypothesis Testing 2\n",
    "\n",
    "- [x] Apa rata-rata harga minuman beralkohol (column `state_bottle_retail`) di Iowa, Amerika Serikat pada bulan Januari 2018 dan 2022 sama/berbeda?"
   ]
  },
  {
   "cell_type": "markdown",
   "metadata": {},
   "source": [
    "# Data Loading\n",
    "\n",
    "## Import Library"
   ]
  },
  {
   "cell_type": "code",
   "execution_count": null,
   "metadata": {},
   "outputs": [],
   "source": [
    "import pandas as pd\n",
    "import plotly.express as px\n",
    "from plotly.subplots import make_subplots\n",
    "import plotly.graph_objects as go\n",
    "\n",
    "# fix plotly is not showing in github.\n",
    "# if you want to have interactive plotly, use `fig.show(\"notebook_connected\")`\n",
    "import plotly.io as pio\n",
    "pio.renderers.default = \"svg\"\n",
    "\n",
    "from scipy import stats"
   ]
  },
  {
   "cell_type": "markdown",
   "metadata": {},
   "source": [
    "## Reference\n",
    "\n",
    "project: bigquery-public-data\n",
    "\n",
    "dataset: iowa_liquor_sales\n",
    "\n",
    "table: sales"
   ]
  },
  {
   "cell_type": "markdown",
   "metadata": {},
   "source": [
    "## Query\n",
    "\n",
    "advantage: sub-query agar lebih clean dan lebih mudah ganti tahun dan bulan.\n",
    "\n",
    "disadvantage: result sub-query-nya boros (diload hanya untuk difilter di query berikutnya).\n",
    "\n",
    "```\n",
    "SELECT *,\n",
    "FROM (\n",
    "  SELECT *, \n",
    "         EXTRACT(YEAR FROM date) as year,\n",
    "         EXTRACT(MONTH FROM date) as month\n",
    "  FROM `bigquery-public-data.iowa_liquor_sales.sales`\n",
    "  WHERE date BETWEEN \"2018-01-01\" AND \"2022-01-31\"\n",
    ")\n",
    "WHERE year IN (2018, 2022) \n",
    " AND month=1\n",
    "```"
   ]
  },
  {
   "cell_type": "code",
   "execution_count": null,
   "metadata": {},
   "outputs": [],
   "source": [
    "df = pd.read_csv(\"./bigquery-public-data_iowa_liquor_sales_year_2018_and_year_2022_month_1.csv\")"
   ]
  },
  {
   "cell_type": "markdown",
   "metadata": {},
   "source": [
    "## DataFrame.head()\n",
    "\n",
    "drop columns\n",
    "- [x] can't be visualized nor answer 'Penjabaran Masalah'\n",
    "  `store_number`, `store_name`, `address`, `store_location`, `vendor_number`, `vendor_name`, `item_number`, `item_description`\n",
    "- too big to derive conclusion from\n",
    "  `county_number`, `county`\n",
    "- duplicated columns\n",
    "  `volume_sold_gallons`\n",
    "\n",
    "DataFrame.sort_values() \n",
    "- [x] by column `date`"
   ]
  },
  {
   "cell_type": "code",
   "execution_count": null,
   "metadata": {},
   "outputs": [],
   "source": [
    "pd.options.display.max_columns = None\n",
    "df.head()"
   ]
  },
  {
   "cell_type": "code",
   "execution_count": null,
   "metadata": {},
   "outputs": [],
   "source": [
    "# Is column invoice_and_item_number value unique?\n",
    "df.loc[df['invoice_and_item_number'].map(df['invoice_and_item_number'].value_counts()) > 1]\n",
    "# alternative method:\n",
    "# df.loc[df['invoice_and_item_number'].duplicated()]"
   ]
  },
  {
   "cell_type": "markdown",
   "metadata": {},
   "source": [
    "## DataFrame.columns"
   ]
  },
  {
   "cell_type": "code",
   "execution_count": null,
   "metadata": {},
   "outputs": [],
   "source": [
    "df.columns"
   ]
  },
  {
   "cell_type": "markdown",
   "metadata": {},
   "source": [
    "## Column `category_name` Values"
   ]
  },
  {
   "cell_type": "code",
   "execution_count": null,
   "metadata": {},
   "outputs": [],
   "source": [
    "df['category'].value_counts().index"
   ]
  },
  {
   "cell_type": "markdown",
   "metadata": {},
   "source": [
    "## Column `city` Values"
   ]
  },
  {
   "cell_type": "code",
   "execution_count": null,
   "metadata": {},
   "outputs": [],
   "source": [
    "df['city'].value_counts().index"
   ]
  },
  {
   "cell_type": "markdown",
   "metadata": {},
   "source": [
    "## Column `bottle_volume_ml` Values"
   ]
  },
  {
   "cell_type": "code",
   "execution_count": null,
   "metadata": {},
   "outputs": [],
   "source": [
    "df['bottle_volume_ml'].value_counts().index.sort_values()"
   ]
  },
  {
   "cell_type": "markdown",
   "metadata": {},
   "source": [
    "## DataFrame.describe()\n",
    "\n",
    "detecting and treating outliers on columns\n",
    "\n",
    "- [x] year 2018\n",
    "  - columns 'pack', 'bottle_volume_ml', 'state_bottle_cost', 'state_bottle_retail', 'bottles_sold', 'sale_dollars', 'volume_sold_liters'\n",
    "- [x] year 2022\n",
    "  - columns 'pack', 'bottle_volume_ml', 'state_bottle_cost', 'state_bottle_retail', 'bottles_sold', 'sale_dollars', 'volume_sold_liters'"
   ]
  },
  {
   "cell_type": "code",
   "execution_count": null,
   "metadata": {},
   "outputs": [],
   "source": [
    "def calculateLowerLimitUpperLimit(series: pd.Series):\n",
    "    skew = series.skew()\n",
    "\n",
    "    # extreme skewed distribution\n",
    "    if skew < -1 or skew > 1:\n",
    "        q1, q3 = series.quantile([.25,.75])\n",
    "        iqr = q3 - q1\n",
    "        return q1 - iqr * 3, q3 + iqr * 3\n",
    "        \n",
    "    # skewed distribution\n",
    "    elif skew < -0.5 or skew > 0.5:\n",
    "        q1, q3 = series.quantile([.25,.75])\n",
    "        iqr = q3 - q1\n",
    "        return q1 - iqr * 1.5, q3 + iqr * 1.5\n",
    "\n",
    "    # normal distribution\n",
    "    else:\n",
    "        mean, std = series.agg(['mean', 'std'])\n",
    "        return mean - 3 * std, mean + 3 * std\n",
    "\n",
    "def detect_lower_limit_min_upper_limit_max():\n",
    "    for year in [2018, 2022]:\n",
    "        for index, value in df.loc[(df['year'] == year) & (df['month'] == 1), \n",
    "                                   ['pack', 'bottle_volume_ml', 'state_bottle_cost', \n",
    "                                    'state_bottle_retail', 'bottles_sold', 'sale_dollars', \n",
    "                                    'volume_sold_liters']] \\\n",
    "                              .items():\n",
    "            lowerLimit, upperLimit = calculateLowerLimitUpperLimit(value)\n",
    "\n",
    "            min, max = value.agg(['min', 'max'])\n",
    "            if lowerLimit > min or upperLimit < max:\n",
    "                print(\"year {0}, column {1}, lower limit {2}, min {3}, upper limit {4}, max {5}\" \\\n",
    "                      .format(year, index, lowerLimit, min, upperLimit, max))\n",
    "\n",
    "detect_lower_limit_min_upper_limit_max()"
   ]
  },
  {
   "cell_type": "markdown",
   "metadata": {},
   "source": [
    "## DataFrame.info()\n",
    "\n",
    "handle null rows on columns\n",
    "\n",
    "range index: 373231 entries\n",
    "- [x] remove null due to categorical data\n",
    "  - `city`            372256\n",
    "  - `zip_code`        372256\n",
    "  - `category`        373094\n",
    "  - `category_name`   373094"
   ]
  },
  {
   "cell_type": "code",
   "execution_count": null,
   "metadata": {},
   "outputs": [],
   "source": [
    "df.info()"
   ]
  },
  {
   "cell_type": "markdown",
   "metadata": {},
   "source": [
    "# Data Cleaning"
   ]
  },
  {
   "cell_type": "code",
   "execution_count": null,
   "metadata": {},
   "outputs": [],
   "source": [
    "df2 = df.sort_values('date').reset_index(drop=True).copy()"
   ]
  },
  {
   "cell_type": "code",
   "execution_count": null,
   "metadata": {},
   "outputs": [],
   "source": [
    "df3 = df2.drop(['store_number', 'store_name', 'address', 'store_location', \n",
    "                'vendor_number', 'vendor_name', 'item_number', 'item_description', \n",
    "                'county_number', 'county', 'volume_sold_gallons'], \n",
    "                axis='columns') \\\n",
    "         .copy()"
   ]
  },
  {
   "cell_type": "markdown",
   "metadata": {},
   "source": [
    "## Outliers Detection and Treatment"
   ]
  },
  {
   "cell_type": "code",
   "execution_count": null,
   "metadata": {},
   "outputs": [],
   "source": [
    "def detectOutliers(series: pd.Series, year: int):\n",
    "    lowerLimit, upperLimit = calculateLowerLimitUpperLimit(series)\n",
    "    outliersPercentage = len(series.loc[(series < lowerLimit) | (series > upperLimit)]) \\\n",
    "                        / len(series)\n",
    "    print(\"year {0}, column {1}, skew {2:.2f}, outliers percentage {3:.2f}%\".format(year, series.name, series.skew(), outliersPercentage * 100))\n",
    "    print(\"lower limit {0[0]}, upper limit {0[1]}\".format(calculateLowerLimitUpperLimit(series)))\n",
    "    display(series.value_counts().sort_index(ascending=False))"
   ]
  },
  {
   "cell_type": "markdown",
   "metadata": {},
   "source": [
    "- [x] year 2018\n",
    "  - natural outliers\n",
    "    - under 5%\n",
    "      - 'pack', 'bottle_volume'\n",
    "  - not natural outliers\n",
    "    - under 5%\n",
    "      - 'state_bottle_cost', 'state_bottle_retail', 'bottles_sold', 'sale_dollars', 'volume_sold_liters'\n",
    "- [x] year 2022\n",
    "  - natural outliers\n",
    "    - under 5%\n",
    "      - 'pack', 'bottle_volume_ml'\n",
    "  - not natural outliers\n",
    "    - under 5%\n",
    "      - 'state_bottle_cost', 'state_bottle_retail', 'bottles_sold', 'sale_dollars', 'volume_sold_liters'"
   ]
  },
  {
   "cell_type": "code",
   "execution_count": null,
   "metadata": {},
   "outputs": [],
   "source": [
    "def detect_outliers():\n",
    "    for year in [2018, 2022]:\n",
    "        for index, value in df3.loc[(df3['year'] == year) & (df3['month'] == 1), \n",
    "                                    ['pack', 'bottle_volume_ml', 'state_bottle_cost', \n",
    "                                    'state_bottle_retail', 'bottles_sold', 'sale_dollars', \n",
    "                                    'volume_sold_liters']] \\\n",
    "                            .items():\n",
    "            detectOutliers(value, year)\n",
    "\n",
    "detect_outliers()"
   ]
  },
  {
   "cell_type": "markdown",
   "metadata": {},
   "source": [
    "### Ask Instructor\n",
    "\n",
    "reference: https://www.quora.com/Is-it-bad-to-delete-statistical-outliers\n",
    "\n",
    "- [x] Is it true in Machine Learning, it is always a requirement to remove the outliers? If so, should we remove natural outliers or do mean/median imputation in column `bottle_volume_ml`?\n",
    "  - do not alter natural outliers."
   ]
  },
  {
   "cell_type": "code",
   "execution_count": null,
   "metadata": {},
   "outputs": [],
   "source": [
    "df4 = df3.copy()\n",
    "\n",
    "def treat_outliers(dataframe: pd.DataFrame):\n",
    "    # outliers percentage under 5% and not natural outliers\n",
    "    for year in [2018, 2022]:\n",
    "        #WARNING: do not edit the DataFrame per column. \n",
    "        # gather all outliers index. Then drop it with one move.\n",
    "        index = pd.Index([])\n",
    "        \n",
    "        for column in ['state_bottle_cost', 'state_bottle_retail', \n",
    "                    'bottles_sold', 'sale_dollars', 'volume_sold_liters']:\n",
    "            value = dataframe.loc[(dataframe['year'] == year) & (dataframe['month'] == 1), column]\n",
    "            lowerLimit, upperLimit = calculateLowerLimitUpperLimit(value)\n",
    "            index = index.append(value[(value < lowerLimit) | (value > upperLimit)].index)\n",
    "        \n",
    "        dataframe = dataframe.drop(index)\n",
    "    \n",
    "    return dataframe\n",
    "\n",
    "df4 = treat_outliers(df4)"
   ]
  },
  {
   "cell_type": "markdown",
   "metadata": {},
   "source": [
    "### Ask Instructor\n",
    "\n",
    "- [x] after 1st outliers treatment, what should we do if the outliers percentage still above 0.3%?\n",
    "  - it's okay."
   ]
  },
  {
   "cell_type": "code",
   "execution_count": null,
   "metadata": {},
   "outputs": [],
   "source": [
    "def detect_outliers_again():\n",
    "    for year in [2018, 2022]:\n",
    "        for index, value in df4.loc[(df4['year'] == year) & (df4['month'] == 1), \n",
    "                                    ['pack', 'bottle_volume_ml', 'state_bottle_cost', \n",
    "                                    'state_bottle_retail', 'bottles_sold', 'sale_dollars', \n",
    "                                    'volume_sold_liters']] \\\n",
    "                            .items():\n",
    "            detectOutliers(value, year)\n",
    "\n",
    "detect_outliers_again()"
   ]
  },
  {
   "cell_type": "markdown",
   "metadata": {},
   "source": [
    "## Null Treatment"
   ]
  },
  {
   "cell_type": "markdown",
   "metadata": {},
   "source": [
    "### Ask Instructor\n",
    "\n",
    "- [x] should we remove rows based on condition (a column with categorical data is null)?\n",
    "  - it's okay to drop it."
   ]
  },
  {
   "cell_type": "code",
   "execution_count": null,
   "metadata": {},
   "outputs": [],
   "source": [
    "def detect_null_percentage():\n",
    "    for index, value in df4.loc[:,['city','zip_code','category','category_name']].items():\n",
    "        print(\"column {0}, null percentage {1:.2f}%\".format(index, len(value.loc[value.isna()]) / len(value) * 100))\n",
    "\n",
    "detect_null_percentage()"
   ]
  },
  {
   "cell_type": "code",
   "execution_count": null,
   "metadata": {},
   "outputs": [],
   "source": [
    "df5 = df4.copy()\n",
    "\n",
    "def treat_null(dataframe: pd.DataFrame):\n",
    "    # categorical data, we will drop them.\n",
    "    for column in ['city', 'zip_code', 'category', 'category_name']:\n",
    "        series = dataframe.loc[dataframe[column].isna(), column]\n",
    "        dataframe = dataframe.drop(series.index)\n",
    "    \n",
    "    return dataframe\n",
    "\n",
    "df5 = treat_null(df5)"
   ]
  },
  {
   "cell_type": "code",
   "execution_count": null,
   "metadata": {},
   "outputs": [],
   "source": [
    "df5.info()"
   ]
  },
  {
   "cell_type": "code",
   "execution_count": null,
   "metadata": {},
   "outputs": [],
   "source": [
    "df6 = df5.reset_index()"
   ]
  },
  {
   "cell_type": "code",
   "execution_count": null,
   "metadata": {},
   "outputs": [],
   "source": [
    "df6.to_csv(\"bigquery-public-data_iowa_liquor_sales_year_2018_and_year_2022_month_1_cleaned.csv\")"
   ]
  },
  {
   "cell_type": "markdown",
   "metadata": {},
   "source": [
    "# Analisis dan Perhitungan"
   ]
  },
  {
   "cell_type": "markdown",
   "metadata": {},
   "source": [
    "## Visualisasi Data"
   ]
  },
  {
   "cell_type": "markdown",
   "metadata": {},
   "source": [
    "### Des Mones adalah kota dengan penjualan tertinggi minuman beralkohol di Iowa, Amerika Serikat pada bulan Januari 2018 dan 2022"
   ]
  },
  {
   "cell_type": "code",
   "execution_count": null,
   "metadata": {},
   "outputs": [],
   "source": [
    "def visual_top_5_cities_by_volume_sold_liters_or_sale_dollars():\n",
    "    for column in [\"volume_sold_liters\", \"sale_dollars\"]:\n",
    "        fig = make_subplots(rows=1, cols=2,\n",
    "                            specs=[[{\"type\": \"pie\"}, {\"type\": \"pie\"}]])\n",
    "\n",
    "        for index, year in enumerate([2018, 2022]):\n",
    "            dataframe = df6.loc[(df6['year'] == year) & (df6['month'] == 1)]\n",
    "            series_other = dataframe.groupby('city')[column] \\\n",
    "                                    .sum() \\\n",
    "                                    .sort_values(ascending=False) \\\n",
    "                                    .index[5:]\n",
    "            series = dataframe.replace(series_other, 'Other') \\\n",
    "                            .groupby('city')[column] \\\n",
    "                            .sum()\n",
    "            fig.add_trace(go.Pie(values=series,\n",
    "                                labels=series.index,\n",
    "                                title=\"Top 5 cities by {0} in January {1}\".format(column, year)),\n",
    "                        row=1, col=index+1)\n",
    "        \n",
    "        fig.show()\n",
    "\n",
    "visual_top_5_cities_by_volume_sold_liters_or_sale_dollars()"
   ]
  },
  {
   "cell_type": "markdown",
   "metadata": {},
   "source": [
    "### 750 ml (Januari 2018 & 2022) adalah ukuran botol minuman beralkohol yang paling banyak terjual.\n",
    "\n",
    "Dengan menyediakan ukuran botol minuman beralkohol 750ml, perusahaan dapat melayani 43.8% (Januari 2018) dan 44.3% (Januari 2022) pasar.\n",
    "\n",
    "Untuk menciptakan \"illusion of choice\" dalam convenience store, perusahaan dapat menyediakan ukuran botol minuman beralkohol 750 ml, 1750 ml, 375 ml, 1000 ml untuk melayani 91.95% (2018) dan 89.23% (2022) pasar."
   ]
  },
  {
   "cell_type": "code",
   "execution_count": null,
   "metadata": {},
   "outputs": [],
   "source": [
    "def visual_top_5_bottles_sold_by_bottle_volume_ml():\n",
    "    for group in ['bottle_volume_ml']:\n",
    "        fig = make_subplots(rows=1, cols=2,\n",
    "                            specs=[[{\"type\": \"pie\"}, {\"type\": \"pie\"}]])\n",
    "        for index, year in enumerate([2018, 2022]):\n",
    "            # .copy() because we are going to change column type.\n",
    "            dataframe = df6.loc[(df6['year'] == year) & (df6['month'] == 1)].copy()\n",
    "            dataframe['bottle_volume_ml'] = dataframe[group].astype(str)\n",
    "\n",
    "            series_other = dataframe.groupby(group)['bottles_sold'] \\\n",
    "                                    .sum() \\\n",
    "                                    .sort_values(ascending=False) \\\n",
    "                                    .index[5:]\n",
    "\n",
    "            series = dataframe.replace(series_other, 'Other') \\\n",
    "                            .groupby(group)['bottles_sold'] \\\n",
    "                            .sum()\n",
    "                            \n",
    "            fig.add_trace(go.Pie(values=series,\n",
    "                                labels=series.index,\n",
    "                                title=\"Top 5 bottles sold by {0} in January {1}\".format(group, year)),\n",
    "                        row=1, col=index+1)\n",
    "\n",
    "        fig.show()\n",
    "\n",
    "visual_top_5_bottles_sold_by_bottle_volume_ml()"
   ]
  },
  {
   "cell_type": "markdown",
   "metadata": {},
   "source": [
    "### American Vodkas (Januari 2018 & 22) adalah kategori minuman beralkohol paling banyak terjual.\n",
    "\n",
    "Dengan hanya menyediakan kategori minuman beralkohol American Vodkas, perusahana dapat melayani 20.6% (2018) dan 20.3% (2022) pasar pada masing-masing tahun.\n",
    "\n",
    "Untuk menciptakan \"illusion of choice\" dalam convenience store, perusahaan dapat menyediakan kategori minuman beralkohol American Vodkas, Canadian Whiskies, Spiced Rum, Straight Bourbon Whiskies, Whiskey Liquer untuk melayani 48.5% (Januari 2018) dan 49.2% (Januari 2022) pasar."
   ]
  },
  {
   "cell_type": "code",
   "execution_count": null,
   "metadata": {},
   "outputs": [],
   "source": [
    "def visual_top_5_bottles_sold_by_category_name():\n",
    "    for group in ['category_name']:\n",
    "        fig = make_subplots(rows=1, cols=2,\n",
    "                            specs=[[{\"type\": \"pie\"}, {\"type\": \"pie\"}]])\n",
    "        for index, year in enumerate([2018, 2022]):\n",
    "            # .copy() because we are going to change column type.\n",
    "            dataframe = df6.loc[(df6['year'] == year) & (df6['month'] == 1)].copy()\n",
    "            dataframe['bottle_volume_ml'] = dataframe[group].astype(str)\n",
    "\n",
    "            series_other = dataframe.groupby(group)['bottles_sold'] \\\n",
    "                                    .sum() \\\n",
    "                                    .sort_values(ascending=False) \\\n",
    "                                    .index[5:]\n",
    "\n",
    "            series = dataframe.replace(series_other, 'Other') \\\n",
    "                            .groupby(group)['bottles_sold'] \\\n",
    "                            .sum()\n",
    "                            \n",
    "            fig.add_trace(go.Pie(values=series,\n",
    "                                labels=series.index,\n",
    "                                title=\"Top 5 bottles sold by {0} in January {1}\".format(group, year)),\n",
    "                        row=1, col=index+1)\n",
    "\n",
    "        fig.show()\n",
    "\n",
    "visual_top_5_bottles_sold_by_category_name()"
   ]
  },
  {
   "cell_type": "markdown",
   "metadata": {},
   "source": [
    "## Statistik Deskriptif\n",
    "\n",
    "sub-bab sebelumnya termasuk Statistik Deskriptif. sub-bab ini dipisah untuk memudahkan penilaian sesuai assignment rubics."
   ]
  },
  {
   "cell_type": "markdown",
   "metadata": {},
   "source": [
    "### 6.15L (Januari 2018) dan 6.08L (Januari 2022) adalah rata-rata penjualan minuman beralkohol per transaksi di Iowa, Amerika Serikat."
   ]
  },
  {
   "cell_type": "code",
   "execution_count": null,
   "metadata": {},
   "outputs": [],
   "source": [
    "def visual_volume_sold_liters_mean():\n",
    "    series = df6.groupby(['year', 'month'])['volume_sold_liters'].mean()\n",
    "    series.index = ['{1} {0}'.format(i, j) for i, j in series.index]\n",
    "    px.bar(series).show()\n",
    "\n",
    "visual_volume_sold_liters_mean()"
   ]
  },
  {
   "cell_type": "markdown",
   "metadata": {},
   "source": [
    "### \\$89.26 (Januari 2018) dan \\$106.83 (Januari 2022) adalah rata-rata penjualan minuman beralkohol per transaksi di Iowa, Amerika Serikat."
   ]
  },
  {
   "cell_type": "code",
   "execution_count": null,
   "metadata": {},
   "outputs": [],
   "source": [
    "def visual_sale_dollars_mean():\n",
    "    series = df6.groupby(['year', 'month'])['sale_dollars'].mean()\n",
    "    series.index = ['{1} {0}'.format(i, j) for i, j in series.index]\n",
    "    px.bar(series).show()\n",
    "\n",
    "visual_sale_dollars_mean()"
   ]
  },
  {
   "cell_type": "markdown",
   "metadata": {},
   "source": [
    "### \\$16.04 million (Januari 2018) dan \\$18.09 million (Januari 2022) adalah GMV minuman beralkohol."
   ]
  },
  {
   "cell_type": "code",
   "execution_count": null,
   "metadata": {},
   "outputs": [],
   "source": [
    "def visual_sale_dollars_sum():\n",
    "    series = df6.groupby(['year', 'month'])['sale_dollars'].sum()\n",
    "    series.index = ['{1} {0}'.format(i, j) for i, j in series.index]\n",
    "    px.bar(series).show()\n",
    "\n",
    "visual_sale_dollars_sum()"
   ]
  },
  {
   "cell_type": "markdown",
   "metadata": {},
   "source": [
    "## Statistik Inferensial\n",
    "\n",
    "Terdapat banyak faktor yang berbeda (hari libur, pandemi, dan lain-lain) dalam masing-masing data (2018 dan 2022). Faktor ini menyebabkan kita tidak dapat membandingkan kedua data secara adil.\n",
    "\n",
    "Oleh karena itu, kita menggunakan hypothesis testing two sample untuk menguji apakah kedua data tersebut sama atau berbeda dari sisi:\n",
    "\n",
    "1. rata-rata penjualan dalam volume, total harga pada bulan Januari 2018 dan 2021.\n",
    "2. rata-rata harga minuman pada bulan Januari 2018 dan 2021."
   ]
  },
  {
   "cell_type": "markdown",
   "metadata": {},
   "source": [
    "### Rata-rata penjualan minuman beralkohol dalam volume pada bulan Januari 2018 dan 2022 berbeda.\n",
    "\n",
    "H0: μ(2018, volume_sold_liters) = μ(2022, volume_sold_liters)\n",
    "\n",
    "H1: μ(2018, volume_sold_liters) != μ(2022, volume_sold_liters)\n",
    "\n",
    "We will reject null hypothesis if p-value is below 1%.\n",
    "\n",
    "Since our p-value is less than 0.5%, so we reject the null hypothesis and we can conclude with 99% confidence that, the average sales in terms of volume sold liters in January 2018 and January 2022 is different."
   ]
  },
  {
   "cell_type": "code",
   "execution_count": null,
   "metadata": {},
   "outputs": [],
   "source": [
    "def hypothesis_testing_two_sample_volume_sold_liters_unequal():\n",
    "    series_1_2018 = df6.loc[(df6['year'] == 2018) & (df6['month'] == 1),'volume_sold_liters']\n",
    "    series_1_2022 = df6.loc[(df6['year'] == 2022) & (df6['month'] == 1),'volume_sold_liters']\n",
    "\n",
    "    t_stat, p_val = stats.ttest_ind(series_1_2018, series_1_2022)\n",
    "    print(\"p-value {:.2f}\".format(p_val))\n",
    "\n",
    "hypothesis_testing_two_sample_volume_sold_liters_unequal()"
   ]
  },
  {
   "cell_type": "markdown",
   "metadata": {},
   "source": [
    "#### Rata-rata penjualan minuman beralkohol dalam volume pada bulan Januari 2018 lebih besar daripada Januari 2022\n",
    "\n",
    "H0: μ(2018, volume_sold_liters) >= μ(2022, volume_sold_liters)\n",
    "\n",
    "H1: μ(2018, volume_sold_liters) < μ(2022, volume_sold_liters)\n",
    "\n",
    "We will reject null hypothesis if p-value is below 0.5%.\n",
    "\n",
    "Based on the result below, we can conclude with 99% confidence that we fail to reject the null hypothesis which means the average sales in terms of volume sold liters in January 2018 is more than equal compared to January 2022."
   ]
  },
  {
   "cell_type": "code",
   "execution_count": null,
   "metadata": {},
   "outputs": [],
   "source": [
    "def hypothesis_testing_two_sample_volume_sold_liters_less():\n",
    "    series_1_2018 = df6.loc[(df6['year'] == 2018) & (df6['month'] == 1),'volume_sold_liters']\n",
    "    series_1_2022 = df6.loc[(df6['year'] == 2022) & (df6['month'] == 1),'volume_sold_liters']\n",
    "\n",
    "    t_stat, p_val = stats.ttest_ind(series_1_2018, series_1_2022, alternative=\"less\")\n",
    "    print(\"p-value {:.2f}\".format(p_val))\n",
    "\n",
    "hypothesis_testing_two_sample_volume_sold_liters_less()"
   ]
  },
  {
   "cell_type": "markdown",
   "metadata": {},
   "source": [
    "### Rata-rata penjualan minuman beralkohol per transaksi pada bulan Januari 2018 dan 2022 berbeda\n",
    "\n",
    "H0: μ(2018, sale_dollars) = μ(2022, sale_dollars)\n",
    "\n",
    "H1: μ(2018, sale_dollars) != μ(2022, sale_dollars)\n",
    "\n",
    "We will reject null hypothesis if p-value is below 0.5%.\n",
    "\n",
    "Since our p-value is less than 0.5%, so we reject the null hypothesis and we can conclude with 99% confidence that, the average sales in terms of dollars in January 2018 and January 2022 is different."
   ]
  },
  {
   "cell_type": "code",
   "execution_count": null,
   "metadata": {},
   "outputs": [],
   "source": [
    "def hypothesis_testing_two_sample_sale_dollars_unequal():\n",
    "    series_1_2018 = df6.loc[(df6['year'] == 2018) & (df6['month'] == 1),'sale_dollars']\n",
    "    series_1_2022 = df6.loc[(df6['year'] == 2022) & (df6['month'] == 1),'sale_dollars']\n",
    "\n",
    "    t_stat, p_val = stats.ttest_ind(series_1_2018, series_1_2022)\n",
    "    print(\"p-value {:.2f}\".format(p_val))\n",
    "\n",
    "hypothesis_testing_two_sample_sale_dollars_unequal()"
   ]
  },
  {
   "cell_type": "markdown",
   "metadata": {},
   "source": [
    "#### Rata-rata penjualan minuman beralkohol per transaksi pada bulan Januari 2018 lebih kecil daripada 2022.\n",
    "\n",
    "H0: μ(2018, sale_dollars) <= μ(2022, sale_dollars)\n",
    "\n",
    "H1: μ(2018, sale_dollars) > μ(2022, sale_dollars)\n",
    "\n",
    "We will reject null hypothesis if p-value is below 0.5%.\n",
    "\n",
    "Based on the result below, we can conclude with 99% confidence that we fail to reject the null hypothesis which means the average sales in terms of dollars in January 2018 is less than equal compared to January 2022."
   ]
  },
  {
   "cell_type": "code",
   "execution_count": null,
   "metadata": {},
   "outputs": [],
   "source": [
    "def hypothesis_testing_two_sample_sale_dollars_greater():\n",
    "    series_1_2018 = df6.loc[(df6['year'] == 2018) & (df6['month'] == 1),'sale_dollars']\n",
    "    series_1_2022 = df6.loc[(df6['year'] == 2022) & (df6['month'] == 1),'sale_dollars']\n",
    "\n",
    "    t_stat, p_val = stats.ttest_ind(series_1_2018, series_1_2022, alternative=\"greater\")\n",
    "    print(\"p-value {:.2f}\".format(p_val))\n",
    "\n",
    "hypothesis_testing_two_sample_sale_dollars_greater()"
   ]
  },
  {
   "cell_type": "markdown",
   "metadata": {},
   "source": [
    "### Rata-rata harga minuman beralkohol pada bulan Januari 2018 dan 2022 berbeda\n",
    "\n",
    "H0: μ(2018, state_bottle_retail) = μ(2022, state_bottle_retail)\n",
    "\n",
    "H1: μ(2018, state_bottle_retail) != μ(2022, state_bottle_retail)\n",
    "\n",
    "We will reject null hypothesis if p-value is below 1%.\n",
    "\n",
    "Since our p-value is less than 1%, so we reject the null hypothesis and we can conclude with 99% confidence that, the average bottle retail price in January 2018 and January 2022 is different."
   ]
  },
  {
   "cell_type": "code",
   "execution_count": null,
   "metadata": {},
   "outputs": [],
   "source": [
    "def hypothesis_testing_two_sample_state_bottle_retail_unequal():\n",
    "    series_1_2018 = df6.loc[(df6['year'] == 2018) & (df6['month'] == 1), 'state_bottle_retail']\n",
    "    series_1_2022 = df6.loc[(df6['year'] == 2022) & (df6['month'] == 1), 'state_bottle_retail']\n",
    "\n",
    "    t_stat, p_val = stats.ttest_ind(series_1_2018, series_1_2022)\n",
    "    print(\"p-value {:.2f}\".format(p_val))\n",
    "\n",
    "hypothesis_testing_two_sample_state_bottle_retail_unequal()"
   ]
  },
  {
   "cell_type": "markdown",
   "metadata": {},
   "source": [
    "#### Rata-rata harga minuman beralkohol pada bulan Januari 2018 lebih rendah daripada 2022\n",
    "\n",
    "H0: μ(2018, state_bottle_retail) >= μ(2022, state_bottle_retail)\n",
    "\n",
    "H1: μ(2018, state_bottle_retail) < μ(2022, state_bottle_retail)\n",
    "\n",
    "We will reject null hypothesis if p-value is below 0.5%.\n",
    "\n",
    "Since our p-value is less than 0.5, so we reject the null hypothesis and we can conclude with 99% confidence that, the average bottle retail price in January 2018 is less than equal compared to January 2022."
   ]
  },
  {
   "cell_type": "code",
   "execution_count": null,
   "metadata": {},
   "outputs": [],
   "source": [
    "def hypothesis_testing_two_sample_state_bottle_retail_less():\n",
    "    series_1_2018 = df6.loc[(df6['year'] == 2018) & (df6['month'] == 1), 'state_bottle_retail']\n",
    "    series_1_2022 = df6.loc[(df6['year'] == 2022) & (df6['month'] == 1), 'state_bottle_retail']\n",
    "\n",
    "    t_stat, p_val = stats.ttest_ind(series_1_2018, series_1_2022, alternative='less')\n",
    "    print(\"p-value {:.2f}\".format(p_val))\n",
    "\n",
    "hypothesis_testing_two_sample_state_bottle_retail_unequal()"
   ]
  },
  {
   "cell_type": "markdown",
   "metadata": {},
   "source": [
    "# Pengambilan Keputusan"
   ]
  },
  {
   "cell_type": "markdown",
   "metadata": {},
   "source": [
    "## The Insights\n",
    "\n",
    "1. Des Mones adalah kota dengan penjualan tertinggi minuman beralkohol di Iowa, Amerika Serikat pada bulan Januari 2018 dan 2022\n",
    "2. 750 ml (2018, 2022) adalah ukuran botol minuman beralkohol yang paling banyak terjual pada masing-masing tahun.\n",
    "   1. 91.95% (Januari 2018) dan 89.23% (Januari 2022) pasar dapat dilayani dengan hanya menyediakan ukuran botol minuman beralkohol 750 ml, 1750 ml, 375 ml, dan 1000 ml.\n",
    "3. American Vodkas (Januari 2018 & 2022) adalah kategori minuman beralkohol yang paling banyak terjual.\n",
    "   1. 48.5% (Januari 2018) dan 49.2% (Januari 2022) pasar dapat dilayani dengan hanya 5 kategori minuman, yaitu American Vodkas, Canadian Whiskies, Spiced Rum, Straight Bourbon Whiskies, dan Whiskey Liquer.\n",
    "4. 6.15L (Januari 2018) dan 6.08L (Januari 2022) adalah rata-rata penjualan minuman beralkohol per transaksi di Iowa, Amerika Serikat (teruji dengan hypothesis testing two sample independent).\n",
    "5. \\$89.26 (Januari 2018) dan \\$106.83 (Januari 2022) adalah rata-rata penjualan minuman beralkohol per transaksi di Iowa, Amerika Serikat (teruji dengan hypothesis testing two sample independent).\n",
    "6. \\$16.04 million (Januari 2018) dan \\$18.09 million (Januari 2022) adalah GMV minuman beralkohol di Iowa, Amerika Serikat.\n",
    "7. Rata-rata harga minuman beralkohol pada bulan Januari 2018 lebih rendah daripada 2022 di Iowa, Amerika Serikat (teruji dengan hypothesis testing two sample independent)."
   ]
  },
  {
   "cell_type": "markdown",
   "metadata": {},
   "source": [
    "## Benang merah\n",
    "\n",
    "Seandainya terjadi krisis, perusahaan tidak perlu khawatir terjadi perubahan permintaan dalam pasar. Baik pangsa pasar yang dilayani per kota (Top 1-3), per ukuran botol (Top 1-5), per kategori minuman beralkohol (Top 1-5) tidak berubah. Bahkan, rata-rata nilai transaksi meningkat pada puncak krisis.\n",
    "\n",
    "Selain itu, jika keadaan mengharuskan perusahaan melakukan downsizing inventory, hanya dengan fokus pada Top 1-5 ukuran botol, Top 1-5 kategori minuman beralkohol, perusahaan dapat melayani 43% pasar (Januari 2022)."
   ]
  },
  {
   "cell_type": "markdown",
   "metadata": {},
   "source": [
    "## Rekomendasi\n",
    "\n",
    "Jika perusahaan mengikuti rekomendasi Data Analyst, maka perusahaan dapat melayani pasar dengan nilai sebesar \\$679,000 pada bulan Januari 2022.\n",
    "\n",
    "Nilai pasar dihitung sebagai berikut:\n",
    "```\n",
    "GMV minuman beralkohol di Iowa, Amerika Serikat \n",
    "* pangsa pasar yang dilayani, yaitu kota Des Moines \n",
    "* pangsa pasar yang dilayani berdasarkan ukuran botol minuman beralkohol \n",
    "* pangsa pasar yang dilayani berdasarkan kategori minuman beralkohol\n",
    "```\n",
    "\n",
    "Rekomendasi Data Analyst adalah sebagai berikut:\n",
    "\n",
    "Disclaimer: perusahaan membuka toko pada tahun 2022 (bukan tahun 2023, prediksi bukan scope dari Data Analyst saat ini)\n",
    "\n",
    "1. Kota yang perusahaan harus pilih adalah Des Moines jika ingin berada pada 8.55% pasar.\n",
    "2. Ukuran botol minuman beralkohol yang harus disediakan perusahaan adalah 750 ml, 1750 ml, 375 ml dan 1000 ml jika ingin melayani 89.23% pasar.\n",
    "3. Kategori minuman beralkohol yang harus disediakan perusahaan adalah American Vodkas, Canadian Whiskies, Spiced Rum, Straight Bourbon Whiskies, dan Whiskey Liquer jika ingin melayani 49.2% pasar.\n",
    "4. Promo yang harus dijalankan untuk menarik pelanggan dari kompetitor adalah \"Min. Belanja \\$100\" atau \"Min. Volume 6 Liter\""
   ]
  }
 ],
 "metadata": {
  "kernelspec": {
   "display_name": "Python 3.10.8 64-bit",
   "language": "python",
   "name": "python3"
  },
  "language_info": {
   "codemirror_mode": {
    "name": "ipython",
    "version": 3
   },
   "file_extension": ".py",
   "mimetype": "text/x-python",
   "name": "python",
   "nbconvert_exporter": "python",
   "pygments_lexer": "ipython3",
   "version": "3.10.8"
  },
  "orig_nbformat": 4,
  "vscode": {
   "interpreter": {
    "hash": "aee8b7b246df8f9039afb4144a1f6fd8d2ca17a180786b69acc140d282b71a49"
   }
  }
 },
 "nbformat": 4,
 "nbformat_minor": 2
}
