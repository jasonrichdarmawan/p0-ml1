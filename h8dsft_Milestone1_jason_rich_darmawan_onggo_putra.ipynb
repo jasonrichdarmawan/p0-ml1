{
 "cells": [
  {
   "cell_type": "markdown",
   "metadata": {},
   "source": [
    "#TODO URL dashboard:"
   ]
  },
  {
   "cell_type": "markdown",
   "metadata": {},
   "source": [
    "# Perkenalan\n",
    "\n",
    "Nama : Jason Rich Darmawan Onggo Putra\n",
    "\n",
    "Batch : 016 RMT"
   ]
  },
  {
   "cell_type": "markdown",
   "metadata": {},
   "source": [
    "# Identifikasi Masalah"
   ]
  },
  {
   "cell_type": "markdown",
   "metadata": {},
   "source": [
    "## Topik Permasalahan\n",
    "\n",
    "Perbandingan Pembelian Alkohol di Iowa, Amerika Serikat sebelum Pandemi Covid-19 dan puncak (kasus baru per hari) Pandemi Covid-19\n",
    "\n",
    "Data sebelum Pandemi Covid-19 yang digunakan adalah bulan Janauri 2018.\n",
    "\n",
    "Data Puncak Pandemi Covid-19 yang digunakan adalah bulan Januari 2021."
   ]
  },
  {
   "cell_type": "markdown",
   "metadata": {},
   "source": [
    "## Problem Statement\n",
    "\n",
    "Membuktikan Dampak (Meningkat/Berkurang/Tidak Berdampak) Pandemi Covid-19 terhadap Konsumsi Alkohol di Iowa, Amerika Serikat."
   ]
  },
  {
   "cell_type": "markdown",
   "metadata": {},
   "source": [
    "## Latar Belakang\n",
    "\n",
    "Sebagai Data Analyst yang mungkin akan bekerja di e-commerce atau franchisor convenience store, saya perlu intuisi untuk \"apa perlu menambah stok minuman beralkohol ketika terjadi krisis seperti Pandemi Covid-19\""
   ]
  },
  {
   "cell_type": "markdown",
   "metadata": {},
   "source": [
    "## Penjabaran Masalah\n",
    "\n",
    "#TODO penjabaran masalah\n",
    "\n",
    "### Hypothesis Testing 1\n",
    "\n",
    "- [ ] Apa rata-rata penjualan minuman beralkohol (dalam volume / column `volume_sold_liters`) di Iowa, Amerika Serikat pada bulan Januari 2018 dan 2021 sama/berbeda (lebih kecil/lebih besar)?\n",
    "- [ ] Apa rata-rata penjualan minuman beralkohol (dalam total harga / column `sale_dollars`) di Iowa, Amerika Serikat pada bulan Januari 2018 dan 2021 sama/berbeda?\n",
    "\n",
    "### Visualisasi\n",
    "\n",
    "- [ ] Di kota (column `city`) mana penjualan tertinggi (dalam volume / column `volume_sold_liters`) minuman beralkohol di Iowa, Amerika Serikat pada bulan Januari 2018 dan 2021?\n",
    "- [ ] Di kota (column `city`) mana penjualan tertinggi (dalam total harga / column `sale_dollars`) di Iowa, Amerika Serikat pada bulan Januari 2018 dan 2021?\n",
    "\n",
    "### Hypothesis Testing 2\n",
    "\n",
    "- [ ] Apa rata-rata harga minuman beralkohol (column `state_bottle_retail`) di Iowa, Amerika Serikat pada bulan Januari 2018 dan 2021 sama/berbeda?\n",
    "\n",
    "### Dugaan Penyebab Perbedaan Rata-rata Penjualan Minuman Beralkohol pada bulan Januari 2018 dan 2021\n",
    "\n",
    "- [ ] Apa korelasi harga minimuman beralkohol (column `state_bottle_retail`) dengan jumlah botol terjual (column `bottles_sold`) di Iowa Amerika Serikat pada bulan Januari 2018 dan 2021?\n",
    "- [ ] Apa minuman beralkohol dijual (column `state_bottle_retail`) dibawah biaya produksi (`state_bottle_cost`) di Iowa Amerika Serikat pada bulan Januari 2018 dan 2021?\n",
    "\n",
    "### Informasi Lainnya\n",
    "\n",
    "- [ ] Apa ukuran botol (column `bottle_volume_ml`) yang paling banyak terjual (column `bottles_sold`) di Iowa, Amerika Serikat pada bulan Januari 2018 dan 2021?\n",
    "- [ ] Apa kategori minuman beralkohol yang paling banyak terjual (column `bottles_sold`) di Iowa, Amerika Serikat pada bulan Januari 2018 dan 2021?"
   ]
  },
  {
   "cell_type": "markdown",
   "metadata": {},
   "source": [
    "# Data Loading\n",
    "\n",
    "## Import Library"
   ]
  },
  {
   "cell_type": "code",
   "execution_count": 31,
   "metadata": {},
   "outputs": [],
   "source": [
    "import pandas as pd\n",
    "import matplotlib.pyplot as plt"
   ]
  },
  {
   "cell_type": "markdown",
   "metadata": {},
   "source": [
    "## Reference\n",
    "\n",
    "project: bigquery-public-data\n",
    "\n",
    "dataset: iowa_liquor_sales\n",
    "\n",
    "table: sales\n",
    "\n",
    "## Query\n",
    "\n",
    "advantage: sub-query agar lebih clean dan lebih mudah ganti tahun dan bulan.\n",
    "\n",
    "disadvantage: result sub-query-nya boros (diload hanya untuk difilter di query berikutnya).\n",
    "\n",
    "```\n",
    "SELECT *,\n",
    "FROM (\n",
    "  SELECT *, \n",
    "         EXTRACT(YEAR FROM date) as year,\n",
    "         EXTRACT(MONTH FROM date) as month\n",
    "  FROM `bigquery-public-data.iowa_liquor_sales.sales`\n",
    "  WHERE date BETWEEN \"2018-01-01\" AND \"2022-01-31\"\n",
    ")\n",
    "WHERE year IN (2018, 2022) \n",
    " AND month=1\n",
    "```"
   ]
  },
  {
   "cell_type": "code",
   "execution_count": 2,
   "metadata": {},
   "outputs": [],
   "source": [
    "df = pd.read_csv(\"./bigquery-public-data_iowa_liquor_sales_year_2018_and_year_2022_month_1.csv\")"
   ]
  },
  {
   "cell_type": "markdown",
   "metadata": {},
   "source": [
    "## DataFrame.head()\n",
    "\n",
    "#TODO drop columns\n",
    "- [x] can't be visualized nor answer 'Penjabaran Masalah'\n",
    "  `store_number`, `store_name`, `address`, `store_location`, `vendor_number`, `vendor_name`, `item_number`, `item_description`\n",
    "- too big to derive conclusion from\n",
    "  `county_number`, `county`\n",
    "- duplicated columns\n",
    "  `volume_sold_gallons`\n",
    "\n",
    "#TODO DataFrame.sort_values() \n",
    "- [x] by column `date`"
   ]
  },
  {
   "cell_type": "code",
   "execution_count": 3,
   "metadata": {},
   "outputs": [
    {
     "data": {
      "text/html": [
       "<div>\n",
       "<style scoped>\n",
       "    .dataframe tbody tr th:only-of-type {\n",
       "        vertical-align: middle;\n",
       "    }\n",
       "\n",
       "    .dataframe tbody tr th {\n",
       "        vertical-align: top;\n",
       "    }\n",
       "\n",
       "    .dataframe thead th {\n",
       "        text-align: right;\n",
       "    }\n",
       "</style>\n",
       "<table border=\"1\" class=\"dataframe\">\n",
       "  <thead>\n",
       "    <tr style=\"text-align: right;\">\n",
       "      <th></th>\n",
       "      <th>invoice_and_item_number</th>\n",
       "      <th>date</th>\n",
       "      <th>store_number</th>\n",
       "      <th>store_name</th>\n",
       "      <th>address</th>\n",
       "      <th>city</th>\n",
       "      <th>zip_code</th>\n",
       "      <th>store_location</th>\n",
       "      <th>county_number</th>\n",
       "      <th>county</th>\n",
       "      <th>category</th>\n",
       "      <th>category_name</th>\n",
       "      <th>vendor_number</th>\n",
       "      <th>vendor_name</th>\n",
       "      <th>item_number</th>\n",
       "      <th>item_description</th>\n",
       "      <th>pack</th>\n",
       "      <th>bottle_volume_ml</th>\n",
       "      <th>state_bottle_cost</th>\n",
       "      <th>state_bottle_retail</th>\n",
       "      <th>bottles_sold</th>\n",
       "      <th>sale_dollars</th>\n",
       "      <th>volume_sold_liters</th>\n",
       "      <th>volume_sold_gallons</th>\n",
       "      <th>year</th>\n",
       "      <th>month</th>\n",
       "    </tr>\n",
       "  </thead>\n",
       "  <tbody>\n",
       "    <tr>\n",
       "      <th>0</th>\n",
       "      <td>INV-10095200050</td>\n",
       "      <td>2018-01-30</td>\n",
       "      <td>4167</td>\n",
       "      <td>Iowa Street Market, Inc.</td>\n",
       "      <td>1256 Iowa St</td>\n",
       "      <td>Dubuque</td>\n",
       "      <td>52001.0</td>\n",
       "      <td>POINT (-90.668138 42.504959)</td>\n",
       "      <td>31.0</td>\n",
       "      <td>DUBUQUE</td>\n",
       "      <td>1092100.0</td>\n",
       "      <td>Imported Distilled Spirit Specialty</td>\n",
       "      <td>55.0</td>\n",
       "      <td>SAZERAC NORTH AMERICA</td>\n",
       "      <td>76227</td>\n",
       "      <td>Montezuma Blue</td>\n",
       "      <td>12</td>\n",
       "      <td>1000</td>\n",
       "      <td>4.66</td>\n",
       "      <td>6.99</td>\n",
       "      <td>60</td>\n",
       "      <td>419.40</td>\n",
       "      <td>60.00</td>\n",
       "      <td>15.85</td>\n",
       "      <td>2018</td>\n",
       "      <td>1</td>\n",
       "    </tr>\n",
       "    <tr>\n",
       "      <th>1</th>\n",
       "      <td>INV-09780600017</td>\n",
       "      <td>2018-01-15</td>\n",
       "      <td>4669</td>\n",
       "      <td>Vom Fass / Des Moines</td>\n",
       "      <td>833, 42nd St</td>\n",
       "      <td>Des Moines</td>\n",
       "      <td>50312.0</td>\n",
       "      <td>POINT (-93.674384 41.59343100000001)</td>\n",
       "      <td>77.0</td>\n",
       "      <td>POLK</td>\n",
       "      <td>1901200.0</td>\n",
       "      <td>Special Order Items</td>\n",
       "      <td>885.0</td>\n",
       "      <td>YAHARA BAY DISTILLERS INC</td>\n",
       "      <td>905081</td>\n",
       "      <td>Yahara Bay Apple Crisp(Apple Pie)</td>\n",
       "      <td>6</td>\n",
       "      <td>200</td>\n",
       "      <td>7.98</td>\n",
       "      <td>11.97</td>\n",
       "      <td>6</td>\n",
       "      <td>71.82</td>\n",
       "      <td>1.20</td>\n",
       "      <td>0.32</td>\n",
       "      <td>2018</td>\n",
       "      <td>1</td>\n",
       "    </tr>\n",
       "    <tr>\n",
       "      <th>2</th>\n",
       "      <td>INV-43674300036</td>\n",
       "      <td>2022-01-11</td>\n",
       "      <td>4843</td>\n",
       "      <td>Stewart Road Fast Break</td>\n",
       "      <td>2418 Stewart Rd</td>\n",
       "      <td>Muscatine</td>\n",
       "      <td>52761.0</td>\n",
       "      <td>POINT (-91.072733 41.390826)</td>\n",
       "      <td>70.0</td>\n",
       "      <td>MUSCATINE</td>\n",
       "      <td>1091300.0</td>\n",
       "      <td>Neutral Grain Spirits Flavored</td>\n",
       "      <td>346.0</td>\n",
       "      <td>OLE SMOKY DISTILLERY LLC</td>\n",
       "      <td>86739</td>\n",
       "      <td>Ole Smoky Apple Pie Moonshine 70prf Mini</td>\n",
       "      <td>8</td>\n",
       "      <td>50</td>\n",
       "      <td>8.75</td>\n",
       "      <td>13.13</td>\n",
       "      <td>3</td>\n",
       "      <td>39.39</td>\n",
       "      <td>0.15</td>\n",
       "      <td>0.03</td>\n",
       "      <td>2022</td>\n",
       "      <td>1</td>\n",
       "    </tr>\n",
       "    <tr>\n",
       "      <th>3</th>\n",
       "      <td>INV-43538900011</td>\n",
       "      <td>2022-01-05</td>\n",
       "      <td>5750</td>\n",
       "      <td>Casey's General Store #2920 / Ankeny</td>\n",
       "      <td>1010 SE National Dr</td>\n",
       "      <td>Ankeny</td>\n",
       "      <td>50021.0</td>\n",
       "      <td>POINT (-93.582179 41.70486400000001)</td>\n",
       "      <td>77.0</td>\n",
       "      <td>POLK</td>\n",
       "      <td>1091300.0</td>\n",
       "      <td>Neutral Grain Spirits Flavored</td>\n",
       "      <td>346.0</td>\n",
       "      <td>OLE SMOKY DISTILLERY LLC</td>\n",
       "      <td>986845</td>\n",
       "      <td>SOOH Ole Smoky Blackberry Moonshine Mini</td>\n",
       "      <td>8</td>\n",
       "      <td>50</td>\n",
       "      <td>8.75</td>\n",
       "      <td>13.13</td>\n",
       "      <td>4</td>\n",
       "      <td>52.52</td>\n",
       "      <td>0.20</td>\n",
       "      <td>0.05</td>\n",
       "      <td>2022</td>\n",
       "      <td>1</td>\n",
       "    </tr>\n",
       "    <tr>\n",
       "      <th>4</th>\n",
       "      <td>INV-43515200004</td>\n",
       "      <td>2022-01-04</td>\n",
       "      <td>9047</td>\n",
       "      <td>Revelton Distilling Company</td>\n",
       "      <td>1400 W Clay St</td>\n",
       "      <td>Osceola</td>\n",
       "      <td>50213.0</td>\n",
       "      <td>POINT (-93.787233 41.041472)</td>\n",
       "      <td>20.0</td>\n",
       "      <td>CLARKE</td>\n",
       "      <td>1011700.0</td>\n",
       "      <td>Corn Whiskies</td>\n",
       "      <td>654.0</td>\n",
       "      <td>Revelton Distilling Company</td>\n",
       "      <td>26294</td>\n",
       "      <td>Revelton Shine White Whiskey Mini</td>\n",
       "      <td>6</td>\n",
       "      <td>50</td>\n",
       "      <td>14.40</td>\n",
       "      <td>21.60</td>\n",
       "      <td>6</td>\n",
       "      <td>129.60</td>\n",
       "      <td>0.30</td>\n",
       "      <td>0.07</td>\n",
       "      <td>2022</td>\n",
       "      <td>1</td>\n",
       "    </tr>\n",
       "  </tbody>\n",
       "</table>\n",
       "</div>"
      ],
      "text/plain": [
       "  invoice_and_item_number        date  store_number  \\\n",
       "0         INV-10095200050  2018-01-30          4167   \n",
       "1         INV-09780600017  2018-01-15          4669   \n",
       "2         INV-43674300036  2022-01-11          4843   \n",
       "3         INV-43538900011  2022-01-05          5750   \n",
       "4         INV-43515200004  2022-01-04          9047   \n",
       "\n",
       "                             store_name              address        city  \\\n",
       "0              Iowa Street Market, Inc.         1256 Iowa St     Dubuque   \n",
       "1                 Vom Fass / Des Moines         833, 42nd St  Des Moines   \n",
       "2               Stewart Road Fast Break      2418 Stewart Rd   Muscatine   \n",
       "3  Casey's General Store #2920 / Ankeny  1010 SE National Dr      Ankeny   \n",
       "4           Revelton Distilling Company       1400 W Clay St     Osceola   \n",
       "\n",
       "   zip_code                        store_location  county_number     county  \\\n",
       "0   52001.0          POINT (-90.668138 42.504959)           31.0    DUBUQUE   \n",
       "1   50312.0  POINT (-93.674384 41.59343100000001)           77.0       POLK   \n",
       "2   52761.0          POINT (-91.072733 41.390826)           70.0  MUSCATINE   \n",
       "3   50021.0  POINT (-93.582179 41.70486400000001)           77.0       POLK   \n",
       "4   50213.0          POINT (-93.787233 41.041472)           20.0     CLARKE   \n",
       "\n",
       "    category                        category_name  vendor_number  \\\n",
       "0  1092100.0  Imported Distilled Spirit Specialty           55.0   \n",
       "1  1901200.0                  Special Order Items          885.0   \n",
       "2  1091300.0       Neutral Grain Spirits Flavored          346.0   \n",
       "3  1091300.0       Neutral Grain Spirits Flavored          346.0   \n",
       "4  1011700.0                        Corn Whiskies          654.0   \n",
       "\n",
       "                   vendor_name  item_number  \\\n",
       "0        SAZERAC NORTH AMERICA        76227   \n",
       "1    YAHARA BAY DISTILLERS INC       905081   \n",
       "2     OLE SMOKY DISTILLERY LLC        86739   \n",
       "3     OLE SMOKY DISTILLERY LLC       986845   \n",
       "4  Revelton Distilling Company        26294   \n",
       "\n",
       "                           item_description  pack  bottle_volume_ml  \\\n",
       "0                            Montezuma Blue    12              1000   \n",
       "1         Yahara Bay Apple Crisp(Apple Pie)     6               200   \n",
       "2  Ole Smoky Apple Pie Moonshine 70prf Mini     8                50   \n",
       "3  SOOH Ole Smoky Blackberry Moonshine Mini     8                50   \n",
       "4         Revelton Shine White Whiskey Mini     6                50   \n",
       "\n",
       "   state_bottle_cost  state_bottle_retail  bottles_sold  sale_dollars  \\\n",
       "0               4.66                 6.99            60        419.40   \n",
       "1               7.98                11.97             6         71.82   \n",
       "2               8.75                13.13             3         39.39   \n",
       "3               8.75                13.13             4         52.52   \n",
       "4              14.40                21.60             6        129.60   \n",
       "\n",
       "   volume_sold_liters  volume_sold_gallons  year  month  \n",
       "0               60.00                15.85  2018      1  \n",
       "1                1.20                 0.32  2018      1  \n",
       "2                0.15                 0.03  2022      1  \n",
       "3                0.20                 0.05  2022      1  \n",
       "4                0.30                 0.07  2022      1  "
      ]
     },
     "execution_count": 3,
     "metadata": {},
     "output_type": "execute_result"
    }
   ],
   "source": [
    "pd.options.display.max_columns = None\n",
    "df.head()"
   ]
  },
  {
   "cell_type": "code",
   "execution_count": 4,
   "metadata": {},
   "outputs": [
    {
     "data": {
      "text/html": [
       "<div>\n",
       "<style scoped>\n",
       "    .dataframe tbody tr th:only-of-type {\n",
       "        vertical-align: middle;\n",
       "    }\n",
       "\n",
       "    .dataframe tbody tr th {\n",
       "        vertical-align: top;\n",
       "    }\n",
       "\n",
       "    .dataframe thead th {\n",
       "        text-align: right;\n",
       "    }\n",
       "</style>\n",
       "<table border=\"1\" class=\"dataframe\">\n",
       "  <thead>\n",
       "    <tr style=\"text-align: right;\">\n",
       "      <th></th>\n",
       "      <th>invoice_and_item_number</th>\n",
       "      <th>date</th>\n",
       "      <th>store_number</th>\n",
       "      <th>store_name</th>\n",
       "      <th>address</th>\n",
       "      <th>city</th>\n",
       "      <th>zip_code</th>\n",
       "      <th>store_location</th>\n",
       "      <th>county_number</th>\n",
       "      <th>county</th>\n",
       "      <th>category</th>\n",
       "      <th>category_name</th>\n",
       "      <th>vendor_number</th>\n",
       "      <th>vendor_name</th>\n",
       "      <th>item_number</th>\n",
       "      <th>item_description</th>\n",
       "      <th>pack</th>\n",
       "      <th>bottle_volume_ml</th>\n",
       "      <th>state_bottle_cost</th>\n",
       "      <th>state_bottle_retail</th>\n",
       "      <th>bottles_sold</th>\n",
       "      <th>sale_dollars</th>\n",
       "      <th>volume_sold_liters</th>\n",
       "      <th>volume_sold_gallons</th>\n",
       "      <th>year</th>\n",
       "      <th>month</th>\n",
       "    </tr>\n",
       "  </thead>\n",
       "  <tbody>\n",
       "  </tbody>\n",
       "</table>\n",
       "</div>"
      ],
      "text/plain": [
       "Empty DataFrame\n",
       "Columns: [invoice_and_item_number, date, store_number, store_name, address, city, zip_code, store_location, county_number, county, category, category_name, vendor_number, vendor_name, item_number, item_description, pack, bottle_volume_ml, state_bottle_cost, state_bottle_retail, bottles_sold, sale_dollars, volume_sold_liters, volume_sold_gallons, year, month]\n",
       "Index: []"
      ]
     },
     "execution_count": 4,
     "metadata": {},
     "output_type": "execute_result"
    }
   ],
   "source": [
    "# Is column invoice_and_item_number value unique?\n",
    "df.loc[df['invoice_and_item_number'].map(df['invoice_and_item_number'].value_counts()) > 1]\n",
    "# alternative method:\n",
    "# df.loc[df['invoice_and_item_number'].duplicated()]"
   ]
  },
  {
   "cell_type": "markdown",
   "metadata": {},
   "source": [
    "## DataFrame.columns"
   ]
  },
  {
   "cell_type": "code",
   "execution_count": 5,
   "metadata": {},
   "outputs": [
    {
     "data": {
      "text/plain": [
       "Index(['invoice_and_item_number', 'date', 'store_number', 'store_name',\n",
       "       'address', 'city', 'zip_code', 'store_location', 'county_number',\n",
       "       'county', 'category', 'category_name', 'vendor_number', 'vendor_name',\n",
       "       'item_number', 'item_description', 'pack', 'bottle_volume_ml',\n",
       "       'state_bottle_cost', 'state_bottle_retail', 'bottles_sold',\n",
       "       'sale_dollars', 'volume_sold_liters', 'volume_sold_gallons', 'year',\n",
       "       'month'],\n",
       "      dtype='object')"
      ]
     },
     "execution_count": 5,
     "metadata": {},
     "output_type": "execute_result"
    }
   ],
   "source": [
    "df.columns"
   ]
  },
  {
   "cell_type": "markdown",
   "metadata": {},
   "source": [
    "## Column `category_name` Values"
   ]
  },
  {
   "cell_type": "code",
   "execution_count": 6,
   "metadata": {},
   "outputs": [
    {
     "data": {
      "text/plain": [
       "Float64Index([1031100.0, 1012100.0, 1011200.0, 1081600.0, 1062400.0, 1031200.0,\n",
       "              1011100.0, 1081400.0, 1051100.0, 1032100.0, 1022200.0, 1011400.0,\n",
       "              1081200.0, 1081300.0, 1071100.0, 1062200.0, 1062500.0, 1082000.0,\n",
       "              1022100.0, 1032200.0, 1082200.0, 1041100.0, 1012200.0, 1052100.0,\n",
       "              1701100.0, 1012400.0, 1042100.0, 1012300.0, 1011600.0, 1081100.0,\n",
       "              1062100.0, 1091300.0, 1062300.0, 1081500.0, 1091100.0, 1011300.0,\n",
       "              1091200.0, 1011500.0, 1901200.0, 1092100.0, 1082100.0, 1011700.0,\n",
       "              1700000.0, 1041200.0, 1022300.0, 1041300.0, 1091400.0, 1031000.0,\n",
       "              1090000.0, 1091000.0, 1092000.0, 1042000.0, 1032000.0, 1070000.0,\n",
       "              1081000.0],\n",
       "             dtype='float64')"
      ]
     },
     "execution_count": 6,
     "metadata": {},
     "output_type": "execute_result"
    }
   ],
   "source": [
    "df['category'].value_counts().index"
   ]
  },
  {
   "cell_type": "markdown",
   "metadata": {},
   "source": [
    "## Column `city` Values"
   ]
  },
  {
   "cell_type": "code",
   "execution_count": 7,
   "metadata": {},
   "outputs": [
    {
     "data": {
      "text/plain": [
       "Index(['Des Moines', 'Cedar Rapids', 'Davenport', 'Waterloo', 'Sioux City',\n",
       "       'West Des Moines', 'Ames', 'Council Bluffs', 'Dubuque', 'Iowa City',\n",
       "       ...\n",
       "       'Casey', 'Roland', 'Ossian', 'Melbourne', 'Bussey', 'Stanwood',\n",
       "       'Fontanelle', 'Blairstown', 'Earling', 'Colorado Springs'],\n",
       "      dtype='object', length=444)"
      ]
     },
     "execution_count": 7,
     "metadata": {},
     "output_type": "execute_result"
    }
   ],
   "source": [
    "df['city'].value_counts().index"
   ]
  },
  {
   "cell_type": "markdown",
   "metadata": {},
   "source": [
    "## Column `bottle_volume_ml` Values"
   ]
  },
  {
   "cell_type": "code",
   "execution_count": 8,
   "metadata": {},
   "outputs": [
    {
     "data": {
      "text/plain": [
       "Int64Index([  20,   50,  100,  200,  300,  375,  400,  500,  600,  700,  750,\n",
       "             800,  850,  900,  950, 1000, 1200, 1750, 1800, 1950, 2250, 2400,\n",
       "            3000, 3500, 4500, 5250, 6000],\n",
       "           dtype='int64')"
      ]
     },
     "execution_count": 8,
     "metadata": {},
     "output_type": "execute_result"
    }
   ],
   "source": [
    "df['bottle_volume_ml'].value_counts().index.sort_values()"
   ]
  },
  {
   "cell_type": "markdown",
   "metadata": {},
   "source": [
    "## DataFrame.describe()\n",
    "\n",
    "#TODO detecting and treating outliers on columns\n",
    "\n",
    "- [x] year 2018\n",
    "  - columns 'pack', 'bottle_volume_ml', 'state_bottle_cost', 'state_bottle_retail', 'bottles_sold', 'sale_dollars', 'volume_sold_liters'\n",
    "- [x] year 2022\n",
    "  - columns 'pack', 'bottle_volume_ml', 'state_bottle_cost', 'state_bottle_retail', 'bottles_sold', 'sale_dollars', 'volume_sold_liters'"
   ]
  },
  {
   "cell_type": "code",
   "execution_count": 9,
   "metadata": {},
   "outputs": [
    {
     "name": "stdout",
     "output_type": "stream",
     "text": [
      "year 2018, column pack, lower limit -12.0, min 1, upper limit 30.0, max 48\n",
      "year 2018, column bottle_volume_ml, lower limit 0.0, min 50, upper limit 1750.0, max 6000\n",
      "year 2018, column state_bottle_cost, lower limit -15.069999999999997, min 0.89, upper limit 32.879999999999995, max 1599.19\n",
      "year 2018, column state_bottle_retail, lower limit -22.619999999999997, min 1.34, upper limit 49.339999999999996, max 2398.79\n",
      "year 2018, column bottles_sold, lower limit -28.0, min 1, upper limit 42.0, max 1980\n",
      "year 2018, column sale_dollars, lower limit -285.0, min 0.0, upper limit 450.0, max 36154.8\n",
      "year 2018, column volume_sold_liters, lower limit -25.5, min 0.05, upper limit 37.5, max 2100.0\n",
      "year 2022, column pack, lower limit -12.0, min 1, upper limit 30.0, max 60\n",
      "year 2022, column bottle_volume_ml, lower limit -562.5, min 20, upper limit 1937.5, max 5250\n",
      "year 2022, column state_bottle_cost, lower limit -18.28, min 0.89, upper limit 38.21, max 1949.02\n",
      "year 2022, column state_bottle_retail, lower limit -27.4, min 1.34, upper limit 57.3, max 2923.53\n",
      "year 2022, column bottles_sold, lower limit -24.0, min 1, upper limit 39.0, max 13200\n",
      "year 2022, column sale_dollars, lower limit -321.24, min 1.34, upper limit 526.32, max 250932.0\n",
      "year 2022, column volume_sold_liters, lower limit -22.799999999999997, min 0.02, upper limit 33.9, max 13200.0\n"
     ]
    }
   ],
   "source": [
    "def calculateLowerLimitUpperLimit(series: pd.Series):\n",
    "    skew = series.skew()\n",
    "\n",
    "    # extreme skewed distribution\n",
    "    if skew < -1 or skew > 1:\n",
    "        q1, q3 = series.quantile([.25,.75])\n",
    "        iqr = q3 - q1\n",
    "        return q1 - iqr * 3, q3 + iqr * 3\n",
    "        \n",
    "    # skewed distribution\n",
    "    elif skew < -0.5 or skew > 0.5:\n",
    "        q1, q3 = series.quantile([.25,.75])\n",
    "        iqr = q3 - q1\n",
    "        return q1 - iqr * 1.5, q3 + iqr * 1.5\n",
    "\n",
    "    # normal distribution\n",
    "    else:\n",
    "        mean, std = series.agg(['mean', 'std'])\n",
    "        return mean - 3 * std, mean + 3 * std\n",
    "\n",
    "for year in [2018, 2022]:\n",
    "    for index, value in df.loc[(df['year'] == year) & (df['month'] == 1), \n",
    "                               ['pack', 'bottle_volume_ml', 'state_bottle_cost', \n",
    "                                'state_bottle_retail', 'bottles_sold', 'sale_dollars', \n",
    "                                'volume_sold_liters']] \\\n",
    "                          .items():\n",
    "        lowerLimit, upperLimit = calculateLowerLimitUpperLimit(value)\n",
    "\n",
    "        min, max = value.agg(['min', 'max'])\n",
    "        if lowerLimit > min or upperLimit < max:\n",
    "            print(\"year {0}, column {1}, lower limit {2}, min {3}, upper limit {4}, max {5}\" \\\n",
    "                    .format(year, index, lowerLimit, min, upperLimit, max))"
   ]
  },
  {
   "cell_type": "markdown",
   "metadata": {},
   "source": [
    "## DataFrame.info()\n",
    "\n",
    "#TODO handle null rows on columns\n",
    "\n",
    "range index: 373231 entries\n",
    "- [x] remove null due to categorical data\n",
    "  - `city`            372256\n",
    "  - `zip_code`        372256\n",
    "  - `category`        373094\n",
    "  - `category_name`   373094"
   ]
  },
  {
   "cell_type": "code",
   "execution_count": 10,
   "metadata": {},
   "outputs": [
    {
     "name": "stdout",
     "output_type": "stream",
     "text": [
      "<class 'pandas.core.frame.DataFrame'>\n",
      "RangeIndex: 373231 entries, 0 to 373230\n",
      "Data columns (total 26 columns):\n",
      " #   Column                   Non-Null Count   Dtype  \n",
      "---  ------                   --------------   -----  \n",
      " 0   invoice_and_item_number  373231 non-null  object \n",
      " 1   date                     373231 non-null  object \n",
      " 2   store_number             373231 non-null  int64  \n",
      " 3   store_name               373231 non-null  object \n",
      " 4   address                  372256 non-null  object \n",
      " 5   city                     372256 non-null  object \n",
      " 6   zip_code                 372256 non-null  float64\n",
      " 7   store_location           335493 non-null  object \n",
      " 8   county_number            372254 non-null  float64\n",
      " 9   county                   372256 non-null  object \n",
      " 10  category                 373094 non-null  float64\n",
      " 11  category_name            373094 non-null  object \n",
      " 12  vendor_number            373231 non-null  float64\n",
      " 13  vendor_name              373231 non-null  object \n",
      " 14  item_number              373231 non-null  int64  \n",
      " 15  item_description         373231 non-null  object \n",
      " 16  pack                     373231 non-null  int64  \n",
      " 17  bottle_volume_ml         373231 non-null  int64  \n",
      " 18  state_bottle_cost        373231 non-null  float64\n",
      " 19  state_bottle_retail      373231 non-null  float64\n",
      " 20  bottles_sold             373231 non-null  int64  \n",
      " 21  sale_dollars             373231 non-null  float64\n",
      " 22  volume_sold_liters       373231 non-null  float64\n",
      " 23  volume_sold_gallons      373231 non-null  float64\n",
      " 24  year                     373231 non-null  int64  \n",
      " 25  month                    373231 non-null  int64  \n",
      "dtypes: float64(9), int64(7), object(10)\n",
      "memory usage: 74.0+ MB\n"
     ]
    }
   ],
   "source": [
    "df.info()"
   ]
  },
  {
   "cell_type": "markdown",
   "metadata": {},
   "source": [
    "# Data Cleaning"
   ]
  },
  {
   "cell_type": "code",
   "execution_count": 11,
   "metadata": {},
   "outputs": [],
   "source": [
    "df2 = df.sort_values('date').reset_index(drop=True).copy()"
   ]
  },
  {
   "cell_type": "code",
   "execution_count": 12,
   "metadata": {},
   "outputs": [],
   "source": [
    "df3 = df2.drop(['store_number', 'store_name', 'address', 'store_location', \n",
    "                'vendor_number', 'vendor_name', 'item_number', 'item_description', \n",
    "                'county_number', 'county', 'volume_sold_gallons'], \n",
    "                axis='columns') \\\n",
    "         .copy()"
   ]
  },
  {
   "cell_type": "markdown",
   "metadata": {},
   "source": [
    "## Outliers Detection and Treatment"
   ]
  },
  {
   "cell_type": "code",
   "execution_count": 13,
   "metadata": {},
   "outputs": [],
   "source": [
    "def detectOutliers(series: pd.Series):\n",
    "    lowerLimit, upperLimit = calculateLowerLimitUpperLimit(series)\n",
    "    outliersPercentage = len(series.loc[(series < lowerLimit) | (series > upperLimit)]) \\\n",
    "                        / len(series)\n",
    "    print(\"year {0}, column {1}, skew {2:.2f}, outliers percentage {3:.2f}%\".format(year, series.name, series.skew(), outliersPercentage * 100))\n",
    "    print(\"lower limit {0[0]}, upper limit {0[1]}\".format(calculateLowerLimitUpperLimit(series)))\n",
    "    display(series.value_counts().sort_index(ascending=False))"
   ]
  },
  {
   "cell_type": "markdown",
   "metadata": {},
   "source": [
    "- [x] year 2018\n",
    "  - natural outliers\n",
    "    - under 5%\n",
    "      - 'pack', 'bottle_volume'\n",
    "  - not natural outliers\n",
    "    - under 5%\n",
    "      - 'state_bottle_cost', 'state_bottle_retail', 'bottles_sold', 'sale_dollars', 'volume_sold_liters'\n",
    "- [x] year 2022\n",
    "  - natural outliers\n",
    "    - under 5%\n",
    "      - 'pack', 'bottle_volume_ml'\n",
    "  - not natural outliers\n",
    "    - under 5%\n",
    "      - 'state_bottle_cost', 'state_bottle_retail', 'bottles_sold', 'sale_dollars', 'volume_sold_liters'"
   ]
  },
  {
   "cell_type": "code",
   "execution_count": 14,
   "metadata": {},
   "outputs": [
    {
     "name": "stdout",
     "output_type": "stream",
     "text": [
      "year 2018, column pack, skew 2.71, outliers percentage 3.02%\n",
      "lower limit -12.0, upper limit 30.0\n"
     ]
    },
    {
     "data": {
      "text/plain": [
       "48      5318\n",
       "44       438\n",
       "24     19538\n",
       "20         1\n",
       "15        34\n",
       "12    109625\n",
       "10      4312\n",
       "8        112\n",
       "6      48771\n",
       "5        399\n",
       "4        246\n",
       "3        151\n",
       "2          1\n",
       "1       1690\n",
       "Name: pack, dtype: int64"
      ]
     },
     "metadata": {},
     "output_type": "display_data"
    },
    {
     "name": "stdout",
     "output_type": "stream",
     "text": [
      "year 2018, column bottle_volume_ml, skew 1.29, outliers percentage 0.94%\n",
      "lower limit 0.0, upper limit 1750.0\n"
     ]
    },
    {
     "data": {
      "text/plain": [
       "6000       16\n",
       "3500       21\n",
       "3000     1643\n",
       "2400       80\n",
       "2250        3\n",
       "1950        8\n",
       "1800       12\n",
       "1750    35698\n",
       "1200      172\n",
       "1000    24205\n",
       "900         2\n",
       "850         2\n",
       "800       175\n",
       "750     84797\n",
       "600      3197\n",
       "500      9092\n",
       "400        34\n",
       "375     21225\n",
       "300      1301\n",
       "200      7311\n",
       "100      1359\n",
       "50        283\n",
       "Name: bottle_volume_ml, dtype: int64"
      ]
     },
     "metadata": {},
     "output_type": "display_data"
    },
    {
     "name": "stdout",
     "output_type": "stream",
     "text": [
      "year 2018, column state_bottle_cost, skew 66.67, outliers percentage 0.75%\n",
      "lower limit -15.069999999999997, upper limit 32.879999999999995\n"
     ]
    },
    {
     "data": {
      "text/plain": [
       "1599.19      3\n",
       "419.99       1\n",
       "390.00       7\n",
       "314.99       2\n",
       "262.46       3\n",
       "          ... \n",
       "1.12         1\n",
       "1.00        98\n",
       "0.97        73\n",
       "0.90       740\n",
       "0.89       158\n",
       "Name: state_bottle_cost, Length: 837, dtype: int64"
      ]
     },
     "metadata": {},
     "output_type": "display_data"
    },
    {
     "name": "stdout",
     "output_type": "stream",
     "text": [
      "year 2018, column state_bottle_retail, skew 66.67, outliers percentage 0.75%\n",
      "lower limit -22.619999999999997, upper limit 49.339999999999996\n"
     ]
    },
    {
     "data": {
      "text/plain": [
       "2398.79      3\n",
       "629.99       1\n",
       "585.00       7\n",
       "472.49       2\n",
       "393.69       3\n",
       "          ... \n",
       "1.68         1\n",
       "1.50        98\n",
       "1.46        73\n",
       "1.35       740\n",
       "1.34       158\n",
       "Name: state_bottle_retail, Length: 838, dtype: int64"
      ]
     },
     "metadata": {},
     "output_type": "display_data"
    },
    {
     "name": "stdout",
     "output_type": "stream",
     "text": [
      "year 2018, column bottles_sold, skew 21.18, outliers percentage 2.88%\n",
      "lower limit -28.0, upper limit 42.0\n"
     ]
    },
    {
     "data": {
      "text/plain": [
       "1980        1\n",
       "1320        1\n",
       "1200        1\n",
       "960         1\n",
       "900         3\n",
       "        ...  \n",
       "5        2573\n",
       "4       10183\n",
       "3       19603\n",
       "2       28011\n",
       "1       23132\n",
       "Name: bottles_sold, Length: 110, dtype: int64"
      ]
     },
     "metadata": {},
     "output_type": "display_data"
    },
    {
     "name": "stdout",
     "output_type": "stream",
     "text": [
      "year 2018, column sale_dollars, skew 30.04, outliers percentage 2.53%\n",
      "lower limit -285.0, upper limit 450.0\n"
     ]
    },
    {
     "data": {
      "text/plain": [
       "36154.80     1\n",
       "20498.40     1\n",
       "18816.00     1\n",
       "17529.60     1\n",
       "17496.00     1\n",
       "            ..\n",
       "1.70         9\n",
       "1.50         3\n",
       "1.46         4\n",
       "1.35         6\n",
       "0.00        79\n",
       "Name: sale_dollars, Length: 4797, dtype: int64"
      ]
     },
     "metadata": {},
     "output_type": "display_data"
    },
    {
     "name": "stdout",
     "output_type": "stream",
     "text": [
      "year 2018, column volume_sold_liters, skew 31.56, outliers percentage 1.59%\n",
      "lower limit -25.5, upper limit 37.5\n"
     ]
    },
    {
     "data": {
      "text/plain": [
       "2100.00      1\n",
       "1980.00      1\n",
       "1417.50      1\n",
       "1320.00      1\n",
       "1260.00      1\n",
       "          ... \n",
       "0.25         3\n",
       "0.20       442\n",
       "0.15        12\n",
       "0.10        73\n",
       "0.05       158\n",
       "Name: volume_sold_liters, Length: 212, dtype: int64"
      ]
     },
     "metadata": {},
     "output_type": "display_data"
    },
    {
     "name": "stdout",
     "output_type": "stream",
     "text": [
      "year 2022, column pack, skew 2.73, outliers percentage 2.72%\n",
      "lower limit -12.0, upper limit 30.0\n"
     ]
    },
    {
     "data": {
      "text/plain": [
       "60       18\n",
       "48     4575\n",
       "44      369\n",
       "30        6\n",
       "28        1\n",
       "24    17167\n",
       "20        3\n",
       "15       20\n",
       "12    95173\n",
       "10     3788\n",
       "9        33\n",
       "8      1525\n",
       "6     56455\n",
       "5       203\n",
       "4       454\n",
       "3       297\n",
       "1      2508\n",
       "Name: pack, dtype: int64"
      ]
     },
     "metadata": {},
     "output_type": "display_data"
    },
    {
     "name": "stdout",
     "output_type": "stream",
     "text": [
      "year 2022, column bottle_volume_ml, skew 0.64, outliers percentage 0.08%\n",
      "lower limit -562.5, upper limit 1937.5\n"
     ]
    },
    {
     "data": {
      "text/plain": [
       "5250        1\n",
       "4500       26\n",
       "3500       24\n",
       "2400       52\n",
       "2250       35\n",
       "1800       95\n",
       "1750    33970\n",
       "1200       22\n",
       "1000    17199\n",
       "950        14\n",
       "900        39\n",
       "850         4\n",
       "800        88\n",
       "750     83668\n",
       "700         1\n",
       "600        16\n",
       "375     20221\n",
       "200      5568\n",
       "100      2464\n",
       "50      19058\n",
       "20         30\n",
       "Name: bottle_volume_ml, dtype: int64"
      ]
     },
     "metadata": {},
     "output_type": "display_data"
    },
    {
     "name": "stdout",
     "output_type": "stream",
     "text": [
      "year 2022, column state_bottle_cost, skew 35.20, outliers percentage 1.60%\n",
      "lower limit -18.28, upper limit 38.21\n"
     ]
    },
    {
     "data": {
      "text/plain": [
       "1949.02       1\n",
       "228.66        1\n",
       "200.00       12\n",
       "175.27       16\n",
       "150.00        2\n",
       "           ... \n",
       "1.13        559\n",
       "1.00        129\n",
       "0.95        245\n",
       "0.90       1316\n",
       "0.89        211\n",
       "Name: state_bottle_cost, Length: 764, dtype: int64"
      ]
     },
     "metadata": {},
     "output_type": "display_data"
    },
    {
     "name": "stdout",
     "output_type": "stream",
     "text": [
      "year 2022, column state_bottle_retail, skew 35.20, outliers percentage 1.60%\n",
      "lower limit -27.4, upper limit 57.3\n"
     ]
    },
    {
     "data": {
      "text/plain": [
       "2923.53       1\n",
       "342.99        1\n",
       "300.00       12\n",
       "262.91       16\n",
       "225.00        2\n",
       "           ... \n",
       "1.70        559\n",
       "1.50        129\n",
       "1.43        245\n",
       "1.35       1316\n",
       "1.34        211\n",
       "Name: state_bottle_retail, Length: 765, dtype: int64"
      ]
     },
     "metadata": {},
     "output_type": "display_data"
    },
    {
     "name": "stdout",
     "output_type": "stream",
     "text": [
      "year 2022, column bottles_sold, skew 189.68, outliers percentage 4.00%\n",
      "lower limit -24.0, upper limit 39.0\n"
     ]
    },
    {
     "data": {
      "text/plain": [
       "13200        1\n",
       "2430         1\n",
       "2304         1\n",
       "2100         1\n",
       "1536         1\n",
       "         ...  \n",
       "5         2460\n",
       "4         9598\n",
       "3        15259\n",
       "2        20094\n",
       "1        19262\n",
       "Name: bottles_sold, Length: 136, dtype: int64"
      ]
     },
     "metadata": {},
     "output_type": "display_data"
    },
    {
     "name": "stdout",
     "output_type": "stream",
     "text": [
      "year 2022, column sale_dollars, skew 239.69, outliers percentage 2.94%\n",
      "lower limit -321.24, upper limit 526.32\n"
     ]
    },
    {
     "data": {
      "text/plain": [
       "250932.00     1\n",
       "30399.30      1\n",
       "27181.44      2\n",
       "26271.00      1\n",
       "25067.52      1\n",
       "             ..\n",
       "1.80          1\n",
       "1.70         10\n",
       "1.50          1\n",
       "1.35          7\n",
       "1.34          3\n",
       "Name: sale_dollars, Length: 4579, dtype: int64"
      ]
     },
     "metadata": {},
     "output_type": "display_data"
    },
    {
     "name": "stdout",
     "output_type": "stream",
     "text": [
      "year 2022, column volume_sold_liters, skew 167.35, outliers percentage 2.36%\n",
      "lower limit -22.799999999999997, upper limit 33.9\n"
     ]
    },
    {
     "data": {
      "text/plain": [
       "13200.00       1\n",
       "4252.50        1\n",
       "4032.00        1\n",
       "3675.00        1\n",
       "2688.00        1\n",
       "            ... \n",
       "0.08           1\n",
       "0.06           2\n",
       "0.05        6378\n",
       "0.04           8\n",
       "0.02           6\n",
       "Name: volume_sold_liters, Length: 266, dtype: int64"
      ]
     },
     "metadata": {},
     "output_type": "display_data"
    }
   ],
   "source": [
    "for year in [2018, 2022]:\n",
    "    for index, value in df3.loc[(df3['year'] == year) & (df3['month'] == 1), \n",
    "                                ['pack', 'bottle_volume_ml', 'state_bottle_cost', \n",
    "                                 'state_bottle_retail', 'bottles_sold', 'sale_dollars', \n",
    "                                 'volume_sold_liters']] \\\n",
    "                           .items():\n",
    "        detectOutliers(value)"
   ]
  },
  {
   "cell_type": "markdown",
   "metadata": {},
   "source": [
    "### Ask Instructor\n",
    "\n",
    "#TODO ask instructor\n",
    "\n",
    "reference: https://www.quora.com/Is-it-bad-to-delete-statistical-outliers\n",
    "\n",
    "- [x] Is it true in Machine Learning, it is always a requirement to remove the outliers? If so, should we remove natural outliers or do mean/median imputation in column `bottle_volume_ml`?\n",
    "  - do not alter natural outliers."
   ]
  },
  {
   "cell_type": "code",
   "execution_count": 15,
   "metadata": {},
   "outputs": [],
   "source": [
    "df4 = df3.copy()\n",
    "\n",
    "# outliers percentage under 5% and not natural outliers\n",
    "for year in [2018, 2022]:\n",
    "    #WARNING: do not edit the DataFrame per column. \n",
    "    # gather all outliers index. Then drop it with one move.\n",
    "    index = pd.Index([])\n",
    "    for column in ['state_bottle_cost', 'state_bottle_retail', \n",
    "                  'bottles_sold', 'sale_dollars', 'volume_sold_liters']:\n",
    "        value = df4.loc[(df4['year'] == year) & (df4['month'] == 1), column]\n",
    "        lowerLimit, upperLimit = calculateLowerLimitUpperLimit(value)\n",
    "        index = index.append(value[(value < lowerLimit) | (value > upperLimit)].index)\n",
    "    df4 = df4.drop(index)"
   ]
  },
  {
   "cell_type": "markdown",
   "metadata": {},
   "source": [
    "### Ask Instructor\n",
    "\n",
    "#TODO ask instructor\n",
    "- [x] after 1st outliers treatment, what should we do if the outliers percentage still above 0.3%?\n",
    "  - it's okay."
   ]
  },
  {
   "cell_type": "code",
   "execution_count": 16,
   "metadata": {},
   "outputs": [
    {
     "name": "stdout",
     "output_type": "stream",
     "text": [
      "year 2018, column pack, skew 2.66, outliers percentage 1.80%\n",
      "lower limit -12.0, upper limit 30.0\n"
     ]
    },
    {
     "data": {
      "text/plain": [
       "48      2892\n",
       "44       369\n",
       "24     18885\n",
       "20         1\n",
       "15        31\n",
       "12    105914\n",
       "10      4304\n",
       "8         68\n",
       "6      45950\n",
       "5        399\n",
       "4        231\n",
       "3         80\n",
       "1       1616\n",
       "Name: pack, dtype: int64"
      ]
     },
     "metadata": {},
     "output_type": "display_data"
    },
    {
     "name": "stdout",
     "output_type": "stream",
     "text": [
      "year 2018, column bottle_volume_ml, skew 1.27, outliers percentage 0.95%\n",
      "lower limit 0.0, upper limit 1750.0\n"
     ]
    },
    {
     "data": {
      "text/plain": [
       "3500       15\n",
       "3000     1607\n",
       "2400       71\n",
       "2250        3\n",
       "1950        7\n",
       "1800       12\n",
       "1750    33913\n",
       "1200      128\n",
       "1000    22022\n",
       "900         2\n",
       "850         2\n",
       "800       174\n",
       "750     82327\n",
       "600      3193\n",
       "500      9082\n",
       "400        31\n",
       "375     20598\n",
       "300      1297\n",
       "200      5711\n",
       "100       263\n",
       "50        282\n",
       "Name: bottle_volume_ml, dtype: int64"
      ]
     },
     "metadata": {},
     "output_type": "display_data"
    },
    {
     "name": "stdout",
     "output_type": "stream",
     "text": [
      "year 2018, column state_bottle_cost, skew 1.45, outliers percentage 0.53%\n",
      "lower limit -13.880000000000003, upper limit 31.340000000000003\n"
     ]
    },
    {
     "data": {
      "text/plain": [
       "32.67      1\n",
       "32.66      1\n",
       "32.51     37\n",
       "32.50     92\n",
       "32.49     49\n",
       "        ... \n",
       "1.13     281\n",
       "1.00      19\n",
       "0.97      16\n",
       "0.90      35\n",
       "0.89      35\n",
       "Name: state_bottle_cost, Length: 721, dtype: int64"
      ]
     },
     "metadata": {},
     "output_type": "display_data"
    },
    {
     "name": "stdout",
     "output_type": "stream",
     "text": [
      "year 2018, column state_bottle_retail, skew 1.45, outliers percentage 0.53%\n",
      "lower limit -20.820000000000004, upper limit 47.010000000000005\n"
     ]
    },
    {
     "data": {
      "text/plain": [
       "49.01      1\n",
       "48.99      1\n",
       "48.77     37\n",
       "48.75     92\n",
       "48.74     49\n",
       "        ... \n",
       "1.70     281\n",
       "1.50      19\n",
       "1.46      16\n",
       "1.35      35\n",
       "1.34      35\n",
       "Name: state_bottle_retail, Length: 722, dtype: int64"
      ]
     },
     "metadata": {},
     "output_type": "display_data"
    },
    {
     "name": "stdout",
     "output_type": "stream",
     "text": [
      "year 2018, column bottles_sold, skew 1.44, outliers percentage 0.00%\n",
      "lower limit -28.0, upper limit 42.0\n"
     ]
    },
    {
     "data": {
      "text/plain": [
       "40        6\n",
       "36      536\n",
       "35        1\n",
       "34        1\n",
       "31        1\n",
       "30        9\n",
       "27        1\n",
       "25        3\n",
       "24     9612\n",
       "22        2\n",
       "21        2\n",
       "20       64\n",
       "19        1\n",
       "18      867\n",
       "17        4\n",
       "16       43\n",
       "15       71\n",
       "14       18\n",
       "13        6\n",
       "12    48036\n",
       "11       16\n",
       "10     1530\n",
       "9       148\n",
       "8      1084\n",
       "7       297\n",
       "6     36054\n",
       "5      2572\n",
       "4     10153\n",
       "3     19484\n",
       "2     27629\n",
       "1     22489\n",
       "Name: bottles_sold, dtype: int64"
      ]
     },
     "metadata": {},
     "output_type": "display_data"
    },
    {
     "name": "stdout",
     "output_type": "stream",
     "text": [
      "year 2018, column sale_dollars, skew 1.49, outliers percentage 0.26%\n",
      "lower limit -261.84, upper limit 416.88\n"
     ]
    },
    {
     "data": {
      "text/plain": [
       "450.00    99\n",
       "449.88    25\n",
       "449.76     7\n",
       "447.12     1\n",
       "446.04     2\n",
       "          ..\n",
       "1.70       9\n",
       "1.50       3\n",
       "1.46       4\n",
       "1.35       6\n",
       "0.00      79\n",
       "Name: sale_dollars, Length: 3573, dtype: int64"
      ]
     },
     "metadata": {},
     "output_type": "display_data"
    },
    {
     "name": "stdout",
     "output_type": "stream",
     "text": [
      "year 2018, column volume_sold_liters, skew 1.47, outliers percentage 0.18%\n",
      "lower limit -21.0, upper limit 31.5\n"
     ]
    },
    {
     "data": {
      "text/plain": [
       "36.00    324\n",
       "33.25      1\n",
       "31.50    797\n",
       "30.00     45\n",
       "27.00    186\n",
       "        ... \n",
       "0.25       3\n",
       "0.20     442\n",
       "0.15      12\n",
       "0.10      73\n",
       "0.05     157\n",
       "Name: volume_sold_liters, Length: 90, dtype: int64"
      ]
     },
     "metadata": {},
     "output_type": "display_data"
    },
    {
     "name": "stdout",
     "output_type": "stream",
     "text": [
      "year 2022, column pack, skew 2.49, outliers percentage 0.99%\n",
      "lower limit -12.0, upper limit 30.0\n"
     ]
    },
    {
     "data": {
      "text/plain": [
       "60       10\n",
       "48     1478\n",
       "44      182\n",
       "30        6\n",
       "28        1\n",
       "24    16335\n",
       "20        2\n",
       "15       20\n",
       "12    91177\n",
       "10     3776\n",
       "9        33\n",
       "8      1487\n",
       "6     52947\n",
       "5       203\n",
       "4       333\n",
       "3       167\n",
       "1      1249\n",
       "Name: pack, dtype: int64"
      ]
     },
     "metadata": {},
     "output_type": "display_data"
    },
    {
     "name": "stdout",
     "output_type": "stream",
     "text": [
      "year 2022, column bottle_volume_ml, skew 0.60, outliers percentage 32.13%\n",
      "lower limit 375.0, upper limit 1375.0\n"
     ]
    },
    {
     "data": {
      "text/plain": [
       "3500       24\n",
       "1750    32103\n",
       "1000    15007\n",
       "950        11\n",
       "900        39\n",
       "850         4\n",
       "800        88\n",
       "750     80362\n",
       "700         1\n",
       "600        14\n",
       "375     19445\n",
       "200      4035\n",
       "100       500\n",
       "50      17743\n",
       "20         30\n",
       "Name: bottle_volume_ml, dtype: int64"
      ]
     },
     "metadata": {},
     "output_type": "display_data"
    },
    {
     "name": "stdout",
     "output_type": "stream",
     "text": [
      "year 2022, column state_bottle_cost, skew 1.40, outliers percentage 0.20%\n",
      "lower limit -16.5, upper limit 36.0\n"
     ]
    },
    {
     "data": {
      "text/plain": [
       "38.16      1\n",
       "38.00    144\n",
       "37.50    130\n",
       "36.83      5\n",
       "36.57      1\n",
       "        ... \n",
       "1.13     208\n",
       "1.00      18\n",
       "0.95      30\n",
       "0.90      50\n",
       "0.89      23\n",
       "Name: state_bottle_cost, Length: 656, dtype: int64"
      ]
     },
     "metadata": {},
     "output_type": "display_data"
    },
    {
     "name": "stdout",
     "output_type": "stream",
     "text": [
      "year 2022, column state_bottle_retail, skew 1.40, outliers percentage 0.20%\n",
      "lower limit -24.75, upper limit 54.0\n"
     ]
    },
    {
     "data": {
      "text/plain": [
       "57.24      1\n",
       "57.00    144\n",
       "56.25    130\n",
       "55.25      5\n",
       "54.86      1\n",
       "        ... \n",
       "1.70     208\n",
       "1.50      18\n",
       "1.43      30\n",
       "1.35      50\n",
       "1.34      23\n",
       "Name: state_bottle_retail, Length: 657, dtype: int64"
      ]
     },
     "metadata": {},
     "output_type": "display_data"
    },
    {
     "name": "stdout",
     "output_type": "stream",
     "text": [
      "year 2022, column bottles_sold, skew 1.33, outliers percentage 0.00%\n",
      "lower limit -24.0, upper limit 39.0\n"
     ]
    },
    {
     "data": {
      "text/plain": [
       "36      393\n",
       "32       10\n",
       "31        1\n",
       "30       45\n",
       "28        2\n",
       "24    10795\n",
       "23        3\n",
       "22        4\n",
       "21        3\n",
       "20      115\n",
       "19        3\n",
       "18      967\n",
       "17        5\n",
       "16      107\n",
       "15       69\n",
       "14       22\n",
       "13       10\n",
       "12    47243\n",
       "11       35\n",
       "10     1861\n",
       "9       152\n",
       "8      1607\n",
       "7       266\n",
       "6     41407\n",
       "5      2445\n",
       "4      9508\n",
       "3     15051\n",
       "2     19681\n",
       "1     17596\n",
       "Name: bottles_sold, dtype: int64"
      ]
     },
     "metadata": {},
     "output_type": "display_data"
    },
    {
     "name": "stdout",
     "output_type": "stream",
     "text": [
      "year 2022, column sale_dollars, skew 1.38, outliers percentage 0.28%\n",
      "lower limit -298.44000000000005, upper limit 488.22\n"
     ]
    },
    {
     "data": {
      "text/plain": [
       "522.48    11\n",
       "522.00    20\n",
       "521.76     3\n",
       "519.84     1\n",
       "513.72     1\n",
       "          ..\n",
       "1.80       1\n",
       "1.70      10\n",
       "1.50       1\n",
       "1.35       7\n",
       "1.34       3\n",
       "Name: sale_dollars, Length: 3293, dtype: int64"
      ]
     },
     "metadata": {},
     "output_type": "display_data"
    },
    {
     "name": "stdout",
     "output_type": "stream",
     "text": [
      "year 2022, column volume_sold_liters, skew 1.24, outliers percentage 0.00%\n",
      "lower limit -21.0, upper limit 31.5\n"
     ]
    },
    {
     "data": {
      "text/plain": [
       "31.50     739\n",
       "27.00     223\n",
       "24.00    1112\n",
       "22.80       1\n",
       "22.50      24\n",
       "         ... \n",
       "0.08        1\n",
       "0.06        2\n",
       "0.05     5633\n",
       "0.04        8\n",
       "0.02        6\n",
       "Name: volume_sold_liters, Length: 106, dtype: int64"
      ]
     },
     "metadata": {},
     "output_type": "display_data"
    }
   ],
   "source": [
    "for year in [2018, 2022]:\n",
    "    for index, value in df4.loc[(df4['year'] == year) & (df4['month'] == 1), \n",
    "                                ['pack', 'bottle_volume_ml', 'state_bottle_cost', \n",
    "                                 'state_bottle_retail', 'bottles_sold', 'sale_dollars', \n",
    "                                 'volume_sold_liters']] \\\n",
    "                           .items():\n",
    "        detectOutliers(value)"
   ]
  },
  {
   "cell_type": "markdown",
   "metadata": {},
   "source": [
    "## Null Treatment"
   ]
  },
  {
   "cell_type": "markdown",
   "metadata": {},
   "source": [
    "### Ask Instructor\n",
    "\n",
    "#TODO ask instructor\n",
    "\n",
    "- [x] should we remove rows based on condition (a column with categorical data is null)?\n",
    "  - it's okay to drop it."
   ]
  },
  {
   "cell_type": "code",
   "execution_count": 17,
   "metadata": {},
   "outputs": [
    {
     "name": "stdout",
     "output_type": "stream",
     "text": [
      "column city, null percentage 0.25%\n",
      "column zip_code, null percentage 0.25%\n",
      "column category, null percentage 0.03%\n",
      "column category_name, null percentage 0.03%\n"
     ]
    }
   ],
   "source": [
    "for index, value in df4.loc[:,['city','zip_code','category','category_name']].items():\n",
    "    print(\"column {0}, null percentage {1:.2f}%\".format(index, len(value.loc[value.isna()]) / len(value) * 100))"
   ]
  },
  {
   "cell_type": "code",
   "execution_count": 18,
   "metadata": {},
   "outputs": [],
   "source": [
    "df5 = df4.copy()\n",
    "\n",
    "# categorical data, we will drop them.\n",
    "for index, value in df5.loc[:, ['city', 'zip_code', 'category', 'category_name']].items():\n",
    "    df5 = df5.drop(df5.loc[value.isna()].index)"
   ]
  },
  {
   "cell_type": "code",
   "execution_count": 19,
   "metadata": {},
   "outputs": [
    {
     "name": "stdout",
     "output_type": "stream",
     "text": [
      "<class 'pandas.core.frame.DataFrame'>\n",
      "Int64Index: 349153 entries, 0 to 373229\n",
      "Data columns (total 15 columns):\n",
      " #   Column                   Non-Null Count   Dtype  \n",
      "---  ------                   --------------   -----  \n",
      " 0   invoice_and_item_number  349153 non-null  object \n",
      " 1   date                     349153 non-null  object \n",
      " 2   city                     349153 non-null  object \n",
      " 3   zip_code                 349153 non-null  float64\n",
      " 4   category                 349153 non-null  float64\n",
      " 5   category_name            349153 non-null  object \n",
      " 6   pack                     349153 non-null  int64  \n",
      " 7   bottle_volume_ml         349153 non-null  int64  \n",
      " 8   state_bottle_cost        349153 non-null  float64\n",
      " 9   state_bottle_retail      349153 non-null  float64\n",
      " 10  bottles_sold             349153 non-null  int64  \n",
      " 11  sale_dollars             349153 non-null  float64\n",
      " 12  volume_sold_liters       349153 non-null  float64\n",
      " 13  year                     349153 non-null  int64  \n",
      " 14  month                    349153 non-null  int64  \n",
      "dtypes: float64(6), int64(5), object(4)\n",
      "memory usage: 42.6+ MB\n"
     ]
    }
   ],
   "source": [
    "df5.info()"
   ]
  },
  {
   "cell_type": "code",
   "execution_count": 20,
   "metadata": {},
   "outputs": [],
   "source": [
    "df6 = df5.reset_index()"
   ]
  },
  {
   "cell_type": "markdown",
   "metadata": {},
   "source": [
    "# Analisis dan Perhitungan"
   ]
  },
  {
   "cell_type": "markdown",
   "metadata": {},
   "source": [
    "## Visualisasi Data"
   ]
  },
  {
   "cell_type": "markdown",
   "metadata": {},
   "source": [
    "### Di kota (column `city`) mana penjualan tertinggi (dalam volume / column `volume_sold_liters`, dalam total harga / column `sale_dollars`) minuman beralkohol di Iowa, Amerika Serikat pada bulan Januari 2018 dan 2021?"
   ]
  },
  {
   "cell_type": "code",
   "execution_count": 32,
   "metadata": {},
   "outputs": [],
   "source": [
    "df6_volume_sold_liters_city_other = df6.groupby('city')['volume_sold_liters'] \\\n",
    "                    .sum() \\\n",
    "                    .sort_values(ascending=False).index[5:]\n",
    "\n",
    "df6_volume_sold_liters_city = df6.replace(df6_volume_sold_liters_city_other, 'Other') \\\n",
    "              .groupby('city')['volume_sold_liters'] \\\n",
    "              .sum()\n",
    "\n",
    "df6_sale_dollars_city_other = df6.groupby('city')['sale_dollars'] \\\n",
    "                    .sum() \\\n",
    "                    .sort_values(ascending=False).index[5:]\n",
    "\n",
    "df6_sale_dollars_city = df6.replace(df6_sale_dollars_city_other, 'Other') \\\n",
    "              .groupby('city')['sale_dollars'] \\\n",
    "              .sum()"
   ]
  },
  {
   "cell_type": "code",
   "execution_count": 52,
   "metadata": {},
   "outputs": [
    {
     "name": "stderr",
     "output_type": "stream",
     "text": [
      "No artists with labels found to put in legend.  Note that artists whose label start with an underscore are ignored when legend() is called with no argument.\n"
     ]
    },
    {
     "data": {
      "text/plain": [
       "<matplotlib.legend.Legend at 0x2c4044220>"
      ]
     },
     "execution_count": 52,
     "metadata": {},
     "output_type": "execute_result"
    },
    {
     "data": {
      "image/png": "[encoded data removed]",
      "text/plain": [
       "<Figure size 800x400 with 2 Axes>"
      ]
     },
     "metadata": {},
     "output_type": "display_data"
    }
   ],
   "source": [
    "fig, ax = plt.subplots(ncols=2, figsize=(8,4))\n",
    "ax[0].pie(df6_volume_sold_liters_city, autopct=\"%.1f%%\")\n",
    "ax[0].set_title('Top 5 city by volume sold liters')\n",
    "\n",
    "ax[1].pie(df6_sale_dollars_city, autopct=\"%.1f%%\")\n",
    "ax[1].set_title('Top 5 city by sale dollars')\n"
   ]
  },
  {
   "cell_type": "code",
   "execution_count": 33,
   "metadata": {},
   "outputs": [
    {
     "data": {
      "text/plain": [
       "<AxesSubplot: ylabel='volume_sold_liters'>"
      ]
     },
     "execution_count": 33,
     "metadata": {},
     "output_type": "execute_result"
    },
    {
     "data": {
      "image/png": "[encoded data removed]",
      "text/plain": [
       "<Figure size 640x480 with 1 Axes>"
      ]
     },
     "metadata": {},
     "output_type": "display_data"
    }
   ],
   "source": [
    "\n",
    "df6_volume_sold_liters_city.plot(kind='pie', autopct='%1.1f%%')"
   ]
  },
  {
   "cell_type": "code",
   "execution_count": 30,
   "metadata": {},
   "outputs": [
    {
     "data": {
      "text/plain": [
       "<AxesSubplot: ylabel='sale_dollars'>"
      ]
     },
     "execution_count": 30,
     "metadata": {},
     "output_type": "execute_result"
    },
    {
     "data": {
      "image/png": "[encoded data removed]",
      "text/plain": [
       "<Figure size 640x480 with 1 Axes>"
      ]
     },
     "metadata": {},
     "output_type": "display_data"
    }
   ],
   "source": [
    "df6_sale_dollars_city.plot(kind='pie', autopct='%1.1f%%')"
   ]
  },
  {
   "cell_type": "markdown",
   "metadata": {},
   "source": [
    "## Statistik Deskriptif"
   ]
  },
  {
   "cell_type": "markdown",
   "metadata": {},
   "source": [
    "## Statistik Inferensial"
   ]
  },
  {
   "cell_type": "markdown",
   "metadata": {},
   "source": [
    "# Pengambilan Keputusan"
   ]
  }
 ],
 "metadata": {
  "kernelspec": {
   "display_name": "Python 3.10.8 64-bit",
   "language": "python",
   "name": "python3"
  },
  "language_info": {
   "codemirror_mode": {
    "name": "ipython",
    "version": 3
   },
   "file_extension": ".py",
   "mimetype": "text/x-python",
   "name": "python",
   "nbconvert_exporter": "python",
   "pygments_lexer": "ipython3",
   "version": "3.10.8"
  },
  "orig_nbformat": 4,
  "vscode": {
   "interpreter": {
    "hash": "aee8b7b246df8f9039afb4144a1f6fd8d2ca17a180786b69acc140d282b71a49"
   }
  }
 },
 "nbformat": 4,
 "nbformat_minor": 2
}
