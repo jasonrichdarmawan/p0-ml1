{
 "cells": [
  {
   "cell_type": "markdown",
   "metadata": {},
   "source": [
    "#TODO URL dashboard:"
   ]
  },
  {
   "cell_type": "markdown",
   "metadata": {},
   "source": [
    "# Perkenalan\n",
    "\n",
    "Nama : Jason Rich Darmawan Onggo Putra\n",
    "\n",
    "Batch : 016 RMT"
   ]
  },
  {
   "cell_type": "markdown",
   "metadata": {},
   "source": [
    "# Identifikasi Masalah"
   ]
  },
  {
   "cell_type": "markdown",
   "metadata": {},
   "source": [
    "## Topik Permasalahan\n",
    "\n",
    "Perbandingan Pembelian Alkohol di Iowa, Amerika Serikat sebelum Pandemi Covid-19 dan puncak (kasus baru per hari) Pandemi Covid-19\n",
    "\n",
    "Data sebelum Pandemi Covid-19 yang digunakan adalah bulan Janauri 2018.\n",
    "\n",
    "Data Puncak Pandemi Covid-19 yang digunakan adalah bulan Januari 2021."
   ]
  },
  {
   "cell_type": "markdown",
   "metadata": {},
   "source": [
    "## Problem Statement\n",
    "\n",
    "Membuktikan Dampak (Meningkat/Berkurang/Tidak Berdampak) Pandemi Covid-19 terhadap Konsumsi Alkohol di Iowa, Amerika Serikat."
   ]
  },
  {
   "cell_type": "markdown",
   "metadata": {},
   "source": [
    "## Latar Belakang\n",
    "\n",
    "Saya ingin belajar Hypothesis Testing Two Sample Independent."
   ]
  },
  {
   "cell_type": "markdown",
   "metadata": {},
   "source": [
    "## Penjabaran Masalah\n",
    "\n",
    "#TODO penjabaran masalah\n",
    "\n",
    "### Hypothesis Testing 1\n",
    "\n",
    "- [ ] Apa rata-rata penjualan minuman beralkohol (dalam volume / column `volume_sold_liters`) di Iowa, Amerika Serikat pada bulan Januari 2018 dan 2021 sama/berbeda (lebih kecil/lebih besar)?\n",
    "- [ ] Apa rata-rata penjualan minuman beralkohol (dalam total harga / column `sale_dollars`) di Iowa, Amerika Serikat pada bulan Januari 2018 dan 2021 sama/berbeda?\n",
    "\n",
    "### Visualisasi\n",
    "\n",
    "- [ ] Di kota (column `city`) mana penjualan tertinggi (dalam volume / column `volume_sold_liters`) minuman beralkohol di Iowa, Amerika Serikat pada bulan Januari 2018 dan 2021?\n",
    "- [ ] Di kota (column `city`) mana penjualan tertinggi (dalam total harga / column `sale_dollars`) di Iowa, Amerika Serikat pada bulan Januari 2018 dan 2021?\n",
    "\n",
    "### Hypothesis Testing 2\n",
    "\n",
    "- [ ] Apa rata-rata harga minuman beralkohol (column `state_bottle_retail`) di Iowa, Amerika Serikat pada bulan Januari 2018 dan 2021 sama/berbeda?\n",
    "\n",
    "### Dugaan Penyebab Perbedaan Rata-rata Penjualan Minuman Beralkohol pada bulan Januari 2018 dan 2021\n",
    "\n",
    "- [ ] Apa korelasi harga minimuman beralkohol (column `state_bottle_retail`) dengan jumlah botol terjual (column `bottles_sold`) di Iowa Amerika Serikat pada bulan Januari 2018 dan 2021?\n",
    "- [ ] Apa minuman beralkohol dijual (column `state_bottle_retail`) dibawah biaya produksi (`state_bottle_cost`) di Iowa Amerika Serikat pada bulan Januari 2018 dan 2021?\n",
    "\n",
    "### Informasi Lainnya\n",
    "\n",
    "- [ ] Apa ukuran botol (column `bottle_volume_ml`) yang paling banyak terjual (column `bottles_sold`) di Iowa, Amerika Serikat pada bulan Januari 2018 dan 2021?\n",
    "- [ ] Apa kategori minuman beralkohol yang paling banyak terjual (column `bottles_sold`) di Iowa, Amerika Serikat pada bulan Januari 2018 dan 2021?"
   ]
  },
  {
   "cell_type": "markdown",
   "metadata": {},
   "source": [
    "# Data Loading\n",
    "\n",
    "## Import Library"
   ]
  },
  {
   "cell_type": "code",
   "execution_count": 13,
   "metadata": {},
   "outputs": [],
   "source": [
    "import pandas as pd"
   ]
  },
  {
   "cell_type": "markdown",
   "metadata": {},
   "source": [
    "## Reference\n",
    "\n",
    "project: bigquery-public-data\n",
    "\n",
    "dataset: iowa_liquor_sales\n",
    "\n",
    "table: sales\n",
    "\n",
    "## Query\n",
    "\n",
    "advantage: sub-query agar lebih clean dan lebih mudah ganti tahun dan bulan.\n",
    "\n",
    "disadvantage: result sub-query-nya boros (diload hanya untuk difilter di query berikutnya).\n",
    "\n",
    "```\n",
    "SELECT *,\n",
    "FROM (\n",
    "  SELECT *, \n",
    "         EXTRACT(YEAR FROM date) as year,\n",
    "         EXTRACT(MONTH FROM date) as month\n",
    "  FROM `bigquery-public-data.iowa_liquor_sales.sales`\n",
    "  WHERE date BETWEEN \"2018-01-01\" AND \"2022-01-31\"\n",
    ")\n",
    "WHERE year IN (2018, 2022) \n",
    " AND month=1\n",
    "```"
   ]
  },
  {
   "cell_type": "code",
   "execution_count": 14,
   "metadata": {},
   "outputs": [],
   "source": [
    "df = pd.read_csv(\"./bigquery-public-data_iowa_liquor_sales_year_2018_and_year_2022_month_1.csv\")"
   ]
  },
  {
   "cell_type": "markdown",
   "metadata": {},
   "source": [
    "## DataFrame.head()\n",
    "\n",
    "#TODO drop columns\n",
    "- [x] can't be visualized nor answer 'Penjabaran Masalah'\n",
    "  `store_number`, `store_name`, `address`, `store_location`, `vendor_number`, `vendor_name`, `item_number`, `item_description`\n",
    "- too big to derive conclusion from\n",
    "  `county_number`, `county`\n",
    "- duplicated columns\n",
    "  `volume_sold_gallons`, `year`, `month`\n",
    "\n",
    "#TODO DataFrame.sort_values() \n",
    "- [x] by column `date`"
   ]
  },
  {
   "cell_type": "code",
   "execution_count": 15,
   "metadata": {},
   "outputs": [
    {
     "data": {
      "text/html": [
       "<div>\n",
       "<style scoped>\n",
       "    .dataframe tbody tr th:only-of-type {\n",
       "        vertical-align: middle;\n",
       "    }\n",
       "\n",
       "    .dataframe tbody tr th {\n",
       "        vertical-align: top;\n",
       "    }\n",
       "\n",
       "    .dataframe thead th {\n",
       "        text-align: right;\n",
       "    }\n",
       "</style>\n",
       "<table border=\"1\" class=\"dataframe\">\n",
       "  <thead>\n",
       "    <tr style=\"text-align: right;\">\n",
       "      <th></th>\n",
       "      <th>invoice_and_item_number</th>\n",
       "      <th>date</th>\n",
       "      <th>store_number</th>\n",
       "      <th>store_name</th>\n",
       "      <th>address</th>\n",
       "      <th>city</th>\n",
       "      <th>zip_code</th>\n",
       "      <th>store_location</th>\n",
       "      <th>county_number</th>\n",
       "      <th>county</th>\n",
       "      <th>category</th>\n",
       "      <th>category_name</th>\n",
       "      <th>vendor_number</th>\n",
       "      <th>vendor_name</th>\n",
       "      <th>item_number</th>\n",
       "      <th>item_description</th>\n",
       "      <th>pack</th>\n",
       "      <th>bottle_volume_ml</th>\n",
       "      <th>state_bottle_cost</th>\n",
       "      <th>state_bottle_retail</th>\n",
       "      <th>bottles_sold</th>\n",
       "      <th>sale_dollars</th>\n",
       "      <th>volume_sold_liters</th>\n",
       "      <th>volume_sold_gallons</th>\n",
       "      <th>year</th>\n",
       "      <th>month</th>\n",
       "    </tr>\n",
       "  </thead>\n",
       "  <tbody>\n",
       "    <tr>\n",
       "      <th>0</th>\n",
       "      <td>INV-10095200050</td>\n",
       "      <td>2018-01-30</td>\n",
       "      <td>4167</td>\n",
       "      <td>Iowa Street Market, Inc.</td>\n",
       "      <td>1256 Iowa St</td>\n",
       "      <td>Dubuque</td>\n",
       "      <td>52001.0</td>\n",
       "      <td>POINT (-90.668138 42.504959)</td>\n",
       "      <td>31.0</td>\n",
       "      <td>DUBUQUE</td>\n",
       "      <td>1092100.0</td>\n",
       "      <td>Imported Distilled Spirit Specialty</td>\n",
       "      <td>55.0</td>\n",
       "      <td>SAZERAC NORTH AMERICA</td>\n",
       "      <td>76227</td>\n",
       "      <td>Montezuma Blue</td>\n",
       "      <td>12</td>\n",
       "      <td>1000</td>\n",
       "      <td>4.66</td>\n",
       "      <td>6.99</td>\n",
       "      <td>60</td>\n",
       "      <td>419.40</td>\n",
       "      <td>60.00</td>\n",
       "      <td>15.85</td>\n",
       "      <td>2018</td>\n",
       "      <td>1</td>\n",
       "    </tr>\n",
       "    <tr>\n",
       "      <th>1</th>\n",
       "      <td>INV-09780600017</td>\n",
       "      <td>2018-01-15</td>\n",
       "      <td>4669</td>\n",
       "      <td>Vom Fass / Des Moines</td>\n",
       "      <td>833, 42nd St</td>\n",
       "      <td>Des Moines</td>\n",
       "      <td>50312.0</td>\n",
       "      <td>POINT (-93.674384 41.59343100000001)</td>\n",
       "      <td>77.0</td>\n",
       "      <td>POLK</td>\n",
       "      <td>1901200.0</td>\n",
       "      <td>Special Order Items</td>\n",
       "      <td>885.0</td>\n",
       "      <td>YAHARA BAY DISTILLERS INC</td>\n",
       "      <td>905081</td>\n",
       "      <td>Yahara Bay Apple Crisp(Apple Pie)</td>\n",
       "      <td>6</td>\n",
       "      <td>200</td>\n",
       "      <td>7.98</td>\n",
       "      <td>11.97</td>\n",
       "      <td>6</td>\n",
       "      <td>71.82</td>\n",
       "      <td>1.20</td>\n",
       "      <td>0.32</td>\n",
       "      <td>2018</td>\n",
       "      <td>1</td>\n",
       "    </tr>\n",
       "    <tr>\n",
       "      <th>2</th>\n",
       "      <td>INV-43674300036</td>\n",
       "      <td>2022-01-11</td>\n",
       "      <td>4843</td>\n",
       "      <td>Stewart Road Fast Break</td>\n",
       "      <td>2418 Stewart Rd</td>\n",
       "      <td>Muscatine</td>\n",
       "      <td>52761.0</td>\n",
       "      <td>POINT (-91.072733 41.390826)</td>\n",
       "      <td>70.0</td>\n",
       "      <td>MUSCATINE</td>\n",
       "      <td>1091300.0</td>\n",
       "      <td>Neutral Grain Spirits Flavored</td>\n",
       "      <td>346.0</td>\n",
       "      <td>OLE SMOKY DISTILLERY LLC</td>\n",
       "      <td>86739</td>\n",
       "      <td>Ole Smoky Apple Pie Moonshine 70prf Mini</td>\n",
       "      <td>8</td>\n",
       "      <td>50</td>\n",
       "      <td>8.75</td>\n",
       "      <td>13.13</td>\n",
       "      <td>3</td>\n",
       "      <td>39.39</td>\n",
       "      <td>0.15</td>\n",
       "      <td>0.03</td>\n",
       "      <td>2022</td>\n",
       "      <td>1</td>\n",
       "    </tr>\n",
       "    <tr>\n",
       "      <th>3</th>\n",
       "      <td>INV-43538900011</td>\n",
       "      <td>2022-01-05</td>\n",
       "      <td>5750</td>\n",
       "      <td>Casey's General Store #2920 / Ankeny</td>\n",
       "      <td>1010 SE National Dr</td>\n",
       "      <td>Ankeny</td>\n",
       "      <td>50021.0</td>\n",
       "      <td>POINT (-93.582179 41.70486400000001)</td>\n",
       "      <td>77.0</td>\n",
       "      <td>POLK</td>\n",
       "      <td>1091300.0</td>\n",
       "      <td>Neutral Grain Spirits Flavored</td>\n",
       "      <td>346.0</td>\n",
       "      <td>OLE SMOKY DISTILLERY LLC</td>\n",
       "      <td>986845</td>\n",
       "      <td>SOOH Ole Smoky Blackberry Moonshine Mini</td>\n",
       "      <td>8</td>\n",
       "      <td>50</td>\n",
       "      <td>8.75</td>\n",
       "      <td>13.13</td>\n",
       "      <td>4</td>\n",
       "      <td>52.52</td>\n",
       "      <td>0.20</td>\n",
       "      <td>0.05</td>\n",
       "      <td>2022</td>\n",
       "      <td>1</td>\n",
       "    </tr>\n",
       "    <tr>\n",
       "      <th>4</th>\n",
       "      <td>INV-43515200004</td>\n",
       "      <td>2022-01-04</td>\n",
       "      <td>9047</td>\n",
       "      <td>Revelton Distilling Company</td>\n",
       "      <td>1400 W Clay St</td>\n",
       "      <td>Osceola</td>\n",
       "      <td>50213.0</td>\n",
       "      <td>POINT (-93.787233 41.041472)</td>\n",
       "      <td>20.0</td>\n",
       "      <td>CLARKE</td>\n",
       "      <td>1011700.0</td>\n",
       "      <td>Corn Whiskies</td>\n",
       "      <td>654.0</td>\n",
       "      <td>Revelton Distilling Company</td>\n",
       "      <td>26294</td>\n",
       "      <td>Revelton Shine White Whiskey Mini</td>\n",
       "      <td>6</td>\n",
       "      <td>50</td>\n",
       "      <td>14.40</td>\n",
       "      <td>21.60</td>\n",
       "      <td>6</td>\n",
       "      <td>129.60</td>\n",
       "      <td>0.30</td>\n",
       "      <td>0.07</td>\n",
       "      <td>2022</td>\n",
       "      <td>1</td>\n",
       "    </tr>\n",
       "  </tbody>\n",
       "</table>\n",
       "</div>"
      ],
      "text/plain": [
       "  invoice_and_item_number        date  store_number  \\\n",
       "0         INV-10095200050  2018-01-30          4167   \n",
       "1         INV-09780600017  2018-01-15          4669   \n",
       "2         INV-43674300036  2022-01-11          4843   \n",
       "3         INV-43538900011  2022-01-05          5750   \n",
       "4         INV-43515200004  2022-01-04          9047   \n",
       "\n",
       "                             store_name              address        city  \\\n",
       "0              Iowa Street Market, Inc.         1256 Iowa St     Dubuque   \n",
       "1                 Vom Fass / Des Moines         833, 42nd St  Des Moines   \n",
       "2               Stewart Road Fast Break      2418 Stewart Rd   Muscatine   \n",
       "3  Casey's General Store #2920 / Ankeny  1010 SE National Dr      Ankeny   \n",
       "4           Revelton Distilling Company       1400 W Clay St     Osceola   \n",
       "\n",
       "   zip_code                        store_location  county_number     county  \\\n",
       "0   52001.0          POINT (-90.668138 42.504959)           31.0    DUBUQUE   \n",
       "1   50312.0  POINT (-93.674384 41.59343100000001)           77.0       POLK   \n",
       "2   52761.0          POINT (-91.072733 41.390826)           70.0  MUSCATINE   \n",
       "3   50021.0  POINT (-93.582179 41.70486400000001)           77.0       POLK   \n",
       "4   50213.0          POINT (-93.787233 41.041472)           20.0     CLARKE   \n",
       "\n",
       "    category                        category_name  vendor_number  \\\n",
       "0  1092100.0  Imported Distilled Spirit Specialty           55.0   \n",
       "1  1901200.0                  Special Order Items          885.0   \n",
       "2  1091300.0       Neutral Grain Spirits Flavored          346.0   \n",
       "3  1091300.0       Neutral Grain Spirits Flavored          346.0   \n",
       "4  1011700.0                        Corn Whiskies          654.0   \n",
       "\n",
       "                   vendor_name  item_number  \\\n",
       "0        SAZERAC NORTH AMERICA        76227   \n",
       "1    YAHARA BAY DISTILLERS INC       905081   \n",
       "2     OLE SMOKY DISTILLERY LLC        86739   \n",
       "3     OLE SMOKY DISTILLERY LLC       986845   \n",
       "4  Revelton Distilling Company        26294   \n",
       "\n",
       "                           item_description  pack  bottle_volume_ml  \\\n",
       "0                            Montezuma Blue    12              1000   \n",
       "1         Yahara Bay Apple Crisp(Apple Pie)     6               200   \n",
       "2  Ole Smoky Apple Pie Moonshine 70prf Mini     8                50   \n",
       "3  SOOH Ole Smoky Blackberry Moonshine Mini     8                50   \n",
       "4         Revelton Shine White Whiskey Mini     6                50   \n",
       "\n",
       "   state_bottle_cost  state_bottle_retail  bottles_sold  sale_dollars  \\\n",
       "0               4.66                 6.99            60        419.40   \n",
       "1               7.98                11.97             6         71.82   \n",
       "2               8.75                13.13             3         39.39   \n",
       "3               8.75                13.13             4         52.52   \n",
       "4              14.40                21.60             6        129.60   \n",
       "\n",
       "   volume_sold_liters  volume_sold_gallons  year  month  \n",
       "0               60.00                15.85  2018      1  \n",
       "1                1.20                 0.32  2018      1  \n",
       "2                0.15                 0.03  2022      1  \n",
       "3                0.20                 0.05  2022      1  \n",
       "4                0.30                 0.07  2022      1  "
      ]
     },
     "execution_count": 15,
     "metadata": {},
     "output_type": "execute_result"
    }
   ],
   "source": [
    "pd.options.display.max_columns = None\n",
    "df.head()"
   ]
  },
  {
   "cell_type": "code",
   "execution_count": 16,
   "metadata": {},
   "outputs": [
    {
     "data": {
      "text/html": [
       "<div>\n",
       "<style scoped>\n",
       "    .dataframe tbody tr th:only-of-type {\n",
       "        vertical-align: middle;\n",
       "    }\n",
       "\n",
       "    .dataframe tbody tr th {\n",
       "        vertical-align: top;\n",
       "    }\n",
       "\n",
       "    .dataframe thead th {\n",
       "        text-align: right;\n",
       "    }\n",
       "</style>\n",
       "<table border=\"1\" class=\"dataframe\">\n",
       "  <thead>\n",
       "    <tr style=\"text-align: right;\">\n",
       "      <th></th>\n",
       "      <th>invoice_and_item_number</th>\n",
       "      <th>date</th>\n",
       "      <th>store_number</th>\n",
       "      <th>store_name</th>\n",
       "      <th>address</th>\n",
       "      <th>city</th>\n",
       "      <th>zip_code</th>\n",
       "      <th>store_location</th>\n",
       "      <th>county_number</th>\n",
       "      <th>county</th>\n",
       "      <th>category</th>\n",
       "      <th>category_name</th>\n",
       "      <th>vendor_number</th>\n",
       "      <th>vendor_name</th>\n",
       "      <th>item_number</th>\n",
       "      <th>item_description</th>\n",
       "      <th>pack</th>\n",
       "      <th>bottle_volume_ml</th>\n",
       "      <th>state_bottle_cost</th>\n",
       "      <th>state_bottle_retail</th>\n",
       "      <th>bottles_sold</th>\n",
       "      <th>sale_dollars</th>\n",
       "      <th>volume_sold_liters</th>\n",
       "      <th>volume_sold_gallons</th>\n",
       "      <th>year</th>\n",
       "      <th>month</th>\n",
       "    </tr>\n",
       "  </thead>\n",
       "  <tbody>\n",
       "  </tbody>\n",
       "</table>\n",
       "</div>"
      ],
      "text/plain": [
       "Empty DataFrame\n",
       "Columns: [invoice_and_item_number, date, store_number, store_name, address, city, zip_code, store_location, county_number, county, category, category_name, vendor_number, vendor_name, item_number, item_description, pack, bottle_volume_ml, state_bottle_cost, state_bottle_retail, bottles_sold, sale_dollars, volume_sold_liters, volume_sold_gallons, year, month]\n",
       "Index: []"
      ]
     },
     "execution_count": 16,
     "metadata": {},
     "output_type": "execute_result"
    }
   ],
   "source": [
    "# Is column invoice_and_item_number value unique?\n",
    "df.loc[df['invoice_and_item_number'].map(df['invoice_and_item_number'].value_counts()) > 1]\n",
    "# alternative method:\n",
    "# df.loc[df['invoice_and_item_number'].duplicated()]"
   ]
  },
  {
   "cell_type": "markdown",
   "metadata": {},
   "source": [
    "## DataFrame.columns"
   ]
  },
  {
   "cell_type": "code",
   "execution_count": 17,
   "metadata": {},
   "outputs": [
    {
     "data": {
      "text/plain": [
       "Index(['invoice_and_item_number', 'date', 'store_number', 'store_name',\n",
       "       'address', 'city', 'zip_code', 'store_location', 'county_number',\n",
       "       'county', 'category', 'category_name', 'vendor_number', 'vendor_name',\n",
       "       'item_number', 'item_description', 'pack', 'bottle_volume_ml',\n",
       "       'state_bottle_cost', 'state_bottle_retail', 'bottles_sold',\n",
       "       'sale_dollars', 'volume_sold_liters', 'volume_sold_gallons', 'year',\n",
       "       'month'],\n",
       "      dtype='object')"
      ]
     },
     "execution_count": 17,
     "metadata": {},
     "output_type": "execute_result"
    }
   ],
   "source": [
    "df.columns"
   ]
  },
  {
   "cell_type": "markdown",
   "metadata": {},
   "source": [
    "## Column `category_name` Values"
   ]
  },
  {
   "cell_type": "code",
   "execution_count": 32,
   "metadata": {},
   "outputs": [
    {
     "data": {
      "text/plain": [
       "Float64Index([1031100.0, 1012100.0, 1011200.0, 1081600.0, 1062400.0, 1031200.0,\n",
       "              1011100.0, 1081400.0, 1051100.0, 1032100.0, 1022200.0, 1011400.0,\n",
       "              1081200.0, 1081300.0, 1071100.0, 1062200.0, 1062500.0, 1082000.0,\n",
       "              1022100.0, 1032200.0, 1082200.0, 1041100.0, 1012200.0, 1052100.0,\n",
       "              1701100.0, 1012400.0, 1042100.0, 1012300.0, 1011600.0, 1081100.0,\n",
       "              1062100.0, 1091300.0, 1062300.0, 1081500.0, 1091100.0, 1011300.0,\n",
       "              1091200.0, 1011500.0, 1901200.0, 1092100.0, 1082100.0, 1011700.0,\n",
       "              1700000.0, 1041200.0, 1022300.0, 1041300.0, 1091400.0, 1031000.0,\n",
       "              1090000.0, 1091000.0, 1092000.0, 1042000.0, 1032000.0, 1070000.0,\n",
       "              1081000.0],\n",
       "             dtype='float64')"
      ]
     },
     "execution_count": 32,
     "metadata": {},
     "output_type": "execute_result"
    }
   ],
   "source": [
    "df['category'].value_counts().index"
   ]
  },
  {
   "cell_type": "markdown",
   "metadata": {},
   "source": [
    "## Column `city` Values"
   ]
  },
  {
   "cell_type": "code",
   "execution_count": 51,
   "metadata": {},
   "outputs": [
    {
     "data": {
      "text/plain": [
       "Index(['Des Moines', 'Cedar Rapids', 'Davenport', 'Waterloo', 'Sioux City',\n",
       "       'West Des Moines', 'Ames', 'Council Bluffs', 'Dubuque', 'Iowa City',\n",
       "       ...\n",
       "       'Casey', 'Roland', 'Ossian', 'Melbourne', 'Bussey', 'Stanwood',\n",
       "       'Fontanelle', 'Blairstown', 'Earling', 'Colorado Springs'],\n",
       "      dtype='object', length=444)"
      ]
     },
     "execution_count": 51,
     "metadata": {},
     "output_type": "execute_result"
    }
   ],
   "source": [
    "df['city'].value_counts().index"
   ]
  },
  {
   "cell_type": "markdown",
   "metadata": {},
   "source": [
    "## Column `bottle_volume_ml` Values"
   ]
  },
  {
   "cell_type": "code",
   "execution_count": 19,
   "metadata": {},
   "outputs": [
    {
     "data": {
      "text/plain": [
       "Int64Index([  20,   50,  100,  200,  300,  375,  400,  500,  600,  700,  750,\n",
       "             800,  850,  900,  950, 1000, 1200, 1750, 1800, 1950, 2250, 2400,\n",
       "            3000, 3500, 4500, 5250, 6000],\n",
       "           dtype='int64')"
      ]
     },
     "execution_count": 19,
     "metadata": {},
     "output_type": "execute_result"
    }
   ],
   "source": [
    "df['bottle_volume_ml'].value_counts().index.sort_values()"
   ]
  },
  {
   "cell_type": "markdown",
   "metadata": {},
   "source": [
    "## DataFrame.describe()\n",
    "\n",
    "#TODO detecting and treating outliers on columns\n",
    "\n",
    "- [ ] `pack`\n",
    "- [ ] `bottle_volume_ml`\n",
    "- [ ] `state_bottle_cost`\n",
    "- [ ] `state_bottle_retail`,\n",
    "- [ ] `bottles_sold`\n",
    "- [ ] `sale_dollars`, \n",
    "- [ ] `volume_sold_liters`"
   ]
  },
  {
   "cell_type": "code",
   "execution_count": 85,
   "metadata": {},
   "outputs": [
    {
     "name": "stdout",
     "output_type": "stream",
     "text": [
      "column pack, lower limit -12.0 > min 1, upper limit 30.0 < max 60\n",
      "column bottle_volume_ml, lower limit 375.0 > min 20, upper limit 1375.0 < max 6000\n",
      "column state_bottle_cost, lower limit -17.0 > min 0.89, upper limit 35.5 < max 1949.02\n",
      "column state_bottle_retail, lower limit -25.5 > min 1.34, upper limit 53.25 < max 2923.53\n",
      "column bottles_sold, lower limit -24.0 > min 1, upper limit 39.0 < max 13200\n",
      "column sale_dollars, lower limit -307.68 > min 0.0, upper limit 490.74 < max 250932.0\n",
      "column volume_sold_liters, lower limit -25.5 > min 0.02, upper limit 37.5 < max 13200.0\n"
     ]
    }
   ],
   "source": [
    "def calculateLowerLimitUpperLimit(strategy: int, column: str):\n",
    "    match strategy:\n",
    "        # normal distribution\n",
    "        case 0:\n",
    "            mean, std = df.loc[:, column].agg(['mean', 'std'])\n",
    "            return mean - 3 * std, mean + 3 * std\n",
    "        # skewed distribution\n",
    "        case 1:\n",
    "            q1, q3 = df.loc[:, column].quantile([.25,.75])\n",
    "            iqr = q3 - q1\n",
    "            return q1 - iqr * 1.5, q3 + iqr * 1.5\n",
    "        # extreme skewed distribution\n",
    "        case 2:\n",
    "            q1, q3 = df.loc[:, column].quantile([.25, .75])\n",
    "            iqr = q3 - q1\n",
    "            return q1 - iqr * 3, q3 + iqr * 3\n",
    "        case _:\n",
    "            raise NotImplementedError\n",
    "\n",
    "\n",
    "for index, value in df.loc[:,['pack', 'bottle_volume_ml', 'state_bottle_cost', 'state_bottle_retail', \n",
    "    'bottles_sold', 'sale_dollars', 'volume_sold_liters']].skew().items():\n",
    "    # skewed distribution\n",
    "    if value < -0.5 or value > 0.5:\n",
    "        if value < -1 or value > 1:\n",
    "            lowerLimit, upperLimit = calculateLowerLimitUpperLimit(2, index)\n",
    "        else:\n",
    "            lowerLimit, upperLimit = calculateLowerLimitUpperLimit(1, index)\n",
    "    # normal distribution\n",
    "    else:\n",
    "        lowerLimit, upperLimit = calculateLowerLimitUpperLimit(0, index)\n",
    "\n",
    "    min, max = df.loc[:, index].agg(['min', 'max'])\n",
    "    if lowerLimit > min or upperLimit < max:\n",
    "        print(\"column {0}, lower limit {1} > min {2}, upper limit {3} < max {4}\" \\\n",
    "                .format(index, lowerLimit, min, upperLimit, max))"
   ]
  },
  {
   "cell_type": "code",
   "execution_count": 57,
   "metadata": {},
   "outputs": [
    {
     "data": {
      "text/html": [
       "<div>\n",
       "<style scoped>\n",
       "    .dataframe tbody tr th:only-of-type {\n",
       "        vertical-align: middle;\n",
       "    }\n",
       "\n",
       "    .dataframe tbody tr th {\n",
       "        vertical-align: top;\n",
       "    }\n",
       "\n",
       "    .dataframe thead th {\n",
       "        text-align: right;\n",
       "    }\n",
       "</style>\n",
       "<table border=\"1\" class=\"dataframe\">\n",
       "  <thead>\n",
       "    <tr style=\"text-align: right;\">\n",
       "      <th></th>\n",
       "      <th>pack</th>\n",
       "      <th>bottle_volume_ml</th>\n",
       "      <th>state_bottle_cost</th>\n",
       "      <th>state_bottle_retail</th>\n",
       "      <th>bottles_sold</th>\n",
       "      <th>sale_dollars</th>\n",
       "      <th>volume_sold_liters</th>\n",
       "    </tr>\n",
       "  </thead>\n",
       "  <tbody>\n",
       "    <tr>\n",
       "      <th>count</th>\n",
       "      <td>373231.000000</td>\n",
       "      <td>373231.000000</td>\n",
       "      <td>373231.000000</td>\n",
       "      <td>373231.000000</td>\n",
       "      <td>373231.000000</td>\n",
       "      <td>373231.000000</td>\n",
       "      <td>373231.000000</td>\n",
       "    </tr>\n",
       "    <tr>\n",
       "      <th>mean</th>\n",
       "      <td>12.293054</td>\n",
       "      <td>863.893674</td>\n",
       "      <td>10.675001</td>\n",
       "      <td>16.014474</td>\n",
       "      <td>10.418441</td>\n",
       "      <td>134.513251</td>\n",
       "      <td>8.260086</td>\n",
       "    </tr>\n",
       "    <tr>\n",
       "      <th>std</th>\n",
       "      <td>7.919978</td>\n",
       "      <td>515.690884</td>\n",
       "      <td>10.460707</td>\n",
       "      <td>15.691036</td>\n",
       "      <td>32.321439</td>\n",
       "      <td>546.079015</td>\n",
       "      <td>34.168744</td>\n",
       "    </tr>\n",
       "    <tr>\n",
       "      <th>min</th>\n",
       "      <td>1.000000</td>\n",
       "      <td>20.000000</td>\n",
       "      <td>0.890000</td>\n",
       "      <td>1.340000</td>\n",
       "      <td>1.000000</td>\n",
       "      <td>0.000000</td>\n",
       "      <td>0.020000</td>\n",
       "    </tr>\n",
       "    <tr>\n",
       "      <th>25%</th>\n",
       "      <td>6.000000</td>\n",
       "      <td>750.000000</td>\n",
       "      <td>5.500000</td>\n",
       "      <td>8.250000</td>\n",
       "      <td>3.000000</td>\n",
       "      <td>34.500000</td>\n",
       "      <td>1.500000</td>\n",
       "    </tr>\n",
       "    <tr>\n",
       "      <th>50%</th>\n",
       "      <td>12.000000</td>\n",
       "      <td>750.000000</td>\n",
       "      <td>8.500000</td>\n",
       "      <td>12.750000</td>\n",
       "      <td>6.000000</td>\n",
       "      <td>76.560000</td>\n",
       "      <td>4.500000</td>\n",
       "    </tr>\n",
       "    <tr>\n",
       "      <th>75%</th>\n",
       "      <td>12.000000</td>\n",
       "      <td>1000.000000</td>\n",
       "      <td>13.000000</td>\n",
       "      <td>19.500000</td>\n",
       "      <td>12.000000</td>\n",
       "      <td>148.560000</td>\n",
       "      <td>10.500000</td>\n",
       "    </tr>\n",
       "    <tr>\n",
       "      <th>max</th>\n",
       "      <td>60.000000</td>\n",
       "      <td>6000.000000</td>\n",
       "      <td>1949.020000</td>\n",
       "      <td>2923.530000</td>\n",
       "      <td>13200.000000</td>\n",
       "      <td>250932.000000</td>\n",
       "      <td>13200.000000</td>\n",
       "    </tr>\n",
       "  </tbody>\n",
       "</table>\n",
       "</div>"
      ],
      "text/plain": [
       "                pack  bottle_volume_ml  state_bottle_cost  \\\n",
       "count  373231.000000     373231.000000      373231.000000   \n",
       "mean       12.293054        863.893674          10.675001   \n",
       "std         7.919978        515.690884          10.460707   \n",
       "min         1.000000         20.000000           0.890000   \n",
       "25%         6.000000        750.000000           5.500000   \n",
       "50%        12.000000        750.000000           8.500000   \n",
       "75%        12.000000       1000.000000          13.000000   \n",
       "max        60.000000       6000.000000        1949.020000   \n",
       "\n",
       "       state_bottle_retail   bottles_sold   sale_dollars  volume_sold_liters  \n",
       "count        373231.000000  373231.000000  373231.000000       373231.000000  \n",
       "mean             16.014474      10.418441     134.513251            8.260086  \n",
       "std              15.691036      32.321439     546.079015           34.168744  \n",
       "min               1.340000       1.000000       0.000000            0.020000  \n",
       "25%               8.250000       3.000000      34.500000            1.500000  \n",
       "50%              12.750000       6.000000      76.560000            4.500000  \n",
       "75%              19.500000      12.000000     148.560000           10.500000  \n",
       "max            2923.530000   13200.000000  250932.000000        13200.000000  "
      ]
     },
     "execution_count": 57,
     "metadata": {},
     "output_type": "execute_result"
    }
   ],
   "source": [
    "df[['pack','bottle_volume_ml', 'state_bottle_cost', 'state_bottle_retail', 'bottles_sold', 'sale_dollars', 'volume_sold_liters']].describe()"
   ]
  },
  {
   "cell_type": "markdown",
   "metadata": {},
   "source": [
    "## DataFrame.info()\n",
    "\n",
    "#TODO handle null rows on columns\n",
    "\n",
    "range index: 373231 entries\n",
    "\n",
    "- [ ] `city`            372256\n",
    "- [ ] `zip_code`        372256\n",
    "- [ ] `category`        373094\n",
    "- [ ] `category_name`   373094"
   ]
  },
  {
   "cell_type": "code",
   "execution_count": 21,
   "metadata": {},
   "outputs": [
    {
     "name": "stdout",
     "output_type": "stream",
     "text": [
      "<class 'pandas.core.frame.DataFrame'>\n",
      "RangeIndex: 373231 entries, 0 to 373230\n",
      "Data columns (total 26 columns):\n",
      " #   Column                   Non-Null Count   Dtype  \n",
      "---  ------                   --------------   -----  \n",
      " 0   invoice_and_item_number  373231 non-null  object \n",
      " 1   date                     373231 non-null  object \n",
      " 2   store_number             373231 non-null  int64  \n",
      " 3   store_name               373231 non-null  object \n",
      " 4   address                  372256 non-null  object \n",
      " 5   city                     372256 non-null  object \n",
      " 6   zip_code                 372256 non-null  float64\n",
      " 7   store_location           335493 non-null  object \n",
      " 8   county_number            372254 non-null  float64\n",
      " 9   county                   372256 non-null  object \n",
      " 10  category                 373094 non-null  float64\n",
      " 11  category_name            373094 non-null  object \n",
      " 12  vendor_number            373231 non-null  float64\n",
      " 13  vendor_name              373231 non-null  object \n",
      " 14  item_number              373231 non-null  int64  \n",
      " 15  item_description         373231 non-null  object \n",
      " 16  pack                     373231 non-null  int64  \n",
      " 17  bottle_volume_ml         373231 non-null  int64  \n",
      " 18  state_bottle_cost        373231 non-null  float64\n",
      " 19  state_bottle_retail      373231 non-null  float64\n",
      " 20  bottles_sold             373231 non-null  int64  \n",
      " 21  sale_dollars             373231 non-null  float64\n",
      " 22  volume_sold_liters       373231 non-null  float64\n",
      " 23  volume_sold_gallons      373231 non-null  float64\n",
      " 24  year                     373231 non-null  int64  \n",
      " 25  month                    373231 non-null  int64  \n",
      "dtypes: float64(9), int64(7), object(10)\n",
      "memory usage: 74.0+ MB\n"
     ]
    }
   ],
   "source": [
    "df.info()"
   ]
  },
  {
   "cell_type": "markdown",
   "metadata": {},
   "source": [
    "# Data Cleaning"
   ]
  },
  {
   "cell_type": "code",
   "execution_count": 47,
   "metadata": {},
   "outputs": [],
   "source": [
    "df2 = df.sort_values('date').reset_index(drop=True).copy()"
   ]
  },
  {
   "cell_type": "code",
   "execution_count": 48,
   "metadata": {},
   "outputs": [],
   "source": [
    "df3 = df2.drop(['store_number', 'store_name', 'address', 'store_location', \n",
    "                'vendor_number', 'vendor_name', 'item_number', 'item_description', \n",
    "                'county_number', 'county', 'volume_sold_gallons', 'year', 'month'], \n",
    "                axis='columns') \\\n",
    "         .copy()"
   ]
  },
  {
   "cell_type": "markdown",
   "metadata": {},
   "source": [
    "## Outliers Detection and Treatment"
   ]
  },
  {
   "cell_type": "code",
   "execution_count": null,
   "metadata": {},
   "outputs": [],
   "source": []
  },
  {
   "cell_type": "markdown",
   "metadata": {},
   "source": [
    "# Analisis dan Perhitungan"
   ]
  },
  {
   "cell_type": "markdown",
   "metadata": {},
   "source": [
    "## Statistik Deskriptif"
   ]
  },
  {
   "cell_type": "markdown",
   "metadata": {},
   "source": [
    "## Statistik Inferensial"
   ]
  },
  {
   "cell_type": "markdown",
   "metadata": {},
   "source": [
    "# Pengambilan Keputusan"
   ]
  }
 ],
 "metadata": {
  "kernelspec": {
   "display_name": "Python 3.10.8 64-bit",
   "language": "python",
   "name": "python3"
  },
  "language_info": {
   "codemirror_mode": {
    "name": "ipython",
    "version": 3
   },
   "file_extension": ".py",
   "mimetype": "text/x-python",
   "name": "python",
   "nbconvert_exporter": "python",
   "pygments_lexer": "ipython3",
   "version": "3.10.8"
  },
  "orig_nbformat": 4,
  "vscode": {
   "interpreter": {
    "hash": "aee8b7b246df8f9039afb4144a1f6fd8d2ca17a180786b69acc140d282b71a49"
   }
  }
 },
 "nbformat": 4,
 "nbformat_minor": 2
}
